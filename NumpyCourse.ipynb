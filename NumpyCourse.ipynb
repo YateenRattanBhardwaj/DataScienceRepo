{
 "cells": [
  {
   "cell_type": "code",
   "execution_count": 1,
   "id": "floppy-committee",
   "metadata": {},
   "outputs": [
    {
     "name": "stdout",
     "output_type": "stream",
     "text": [
      "Requirement already satisfied: numpy in /srv/conda/envs/notebook/lib/python3.7/site-packages (1.20.2)\n"
     ]
    }
   ],
   "source": [
    "!pip install numpy"
   ]
  },
  {
   "cell_type": "code",
   "execution_count": 2,
   "id": "floating-fountain",
   "metadata": {},
   "outputs": [],
   "source": [
    "import numpy as np"
   ]
  },
  {
   "cell_type": "code",
   "execution_count": 3,
   "id": "greater-ensemble",
   "metadata": {},
   "outputs": [
    {
     "data": {
      "text/plain": [
       "array([1, 2, 3, 4, 5])"
      ]
     },
     "execution_count": 3,
     "metadata": {},
     "output_type": "execute_result"
    }
   ],
   "source": [
    "#creating a numpy array\n",
    "#numpy.array(object,dtype=None,copy=True,order=None,subok=False,ndim=0)\n",
    "#object=list,tuple,dict,set\n",
    "#dtype=float, int,etc, default is none\n",
    "#copy=option object is copied default is true\n",
    "#order=col,row,any\n",
    "#subok= array witll be base classes\n",
    "#ndim= minimum dimension\n",
    "\n",
    "a=np.array([1,2,3,4,5])\n",
    "a"
   ]
  },
  {
   "cell_type": "code",
   "execution_count": 15,
   "id": "antique-gallery",
   "metadata": {},
   "outputs": [
    {
     "data": {
      "text/plain": [
       "array([[1.+0.j, 2.+0.j, 3.+0.j],\n",
       "       [4.+0.j, 5.+0.j, 6.+0.j]])"
      ]
     },
     "execution_count": 15,
     "metadata": {},
     "output_type": "execute_result"
    }
   ],
   "source": [
    "a=np.array([[1,2,3],[4,5,6]],dtype='complex')\n",
    "a"
   ]
  },
  {
   "cell_type": "code",
   "execution_count": 19,
   "id": "social-format",
   "metadata": {},
   "outputs": [
    {
     "name": "stdout",
     "output_type": "stream",
     "text": [
      "2\n",
      "16\n",
      "complex128\n",
      "(2, 3)\n",
      "6\n"
     ]
    }
   ],
   "source": [
    "print(a.ndim) #no of dimensions\n",
    "print(a.itemsize) #size of each value\n",
    "print(a.dtype) #data type of each value\n",
    "print(a.shape) #shape of array\n",
    "print(a.size) #size of array - total elements"
   ]
  },
  {
   "cell_type": "code",
   "execution_count": 23,
   "id": "blocked-break",
   "metadata": {},
   "outputs": [
    {
     "name": "stdout",
     "output_type": "stream",
     "text": [
      "(2, 3)\n",
      "(3, 2)\n"
     ]
    }
   ],
   "source": [
    "#reshaping array objects\n",
    "#changing the rows and columns\n",
    "#reshape function in ndarray allows us to do so\n",
    "print(a.shape) #current shape\n",
    "a=a.reshape((3,2))\n",
    "print(a.shape) #changed shape"
   ]
  },
  {
   "cell_type": "code",
   "execution_count": 29,
   "id": "south-membership",
   "metadata": {},
   "outputs": [
    {
     "name": "stdout",
     "output_type": "stream",
     "text": [
      "[[ 1  2  3  4  5  6  7  8  9 10]\n",
      " [11 12 13 14 15 16 17 18 19 20]\n",
      " [21 22 23 24 25 26 27 28 29 30]\n",
      " [31 32 33 34 35 36 37 38 39 40]\n",
      " [41 42 43 44 45 46 47 48 49 50]]\n",
      "2\n",
      "[[15 16]\n",
      " [25 26]]\n"
     ]
    }
   ],
   "source": [
    "#array slicing \n",
    "#it is similar to list slicing\n",
    "#used to access values between indices\n",
    "a=np.arange(1,51).reshape(5,10)\n",
    "print(a) #our array\n",
    "print(a[0,1]) #accessing value as 0th row and 1st column\n",
    "print(a[1:3,4:6]) #accessing value as between 1st and 3rd (Exluded) rows and 4th and 6th(Excluded) columns"
   ]
  },
  {
   "cell_type": "code",
   "execution_count": 30,
   "id": "proprietary-friend",
   "metadata": {},
   "outputs": [
    {
     "name": "stdout",
     "output_type": "stream",
     "text": [
      "[ 5.          6.11111111  7.22222222  8.33333333  9.44444444 10.55555556\n",
      " 11.66666667 12.77777778 13.88888889 15.        ]\n"
     ]
    }
   ],
   "source": [
    "#linspace function in numpy\n",
    "#this function returns an array with evenly space values in a given interval\n",
    "a=np.linspace(5,15,10) #start is 5 , end is 15 and diff 1is 10\n",
    "print(a)"
   ]
  },
  {
   "cell_type": "code",
   "execution_count": 33,
   "id": "innocent-endorsement",
   "metadata": {},
   "outputs": [
    {
     "name": "stdout",
     "output_type": "stream",
     "text": [
      "5.0\n",
      "15.0\n",
      "100.0\n"
     ]
    }
   ],
   "source": [
    "#min, max in numpy array\n",
    "print(a.min()) #get minimum value in an array\n",
    "print(a.max())  #get max value in an array\n",
    "print(a.sum())  #get sum of array elements"
   ]
  },
  {
   "cell_type": "code",
   "execution_count": 40,
   "id": "ideal-deviation",
   "metadata": {},
   "outputs": [
    {
     "name": "stdout",
     "output_type": "stream",
     "text": [
      "[2.23606798 2.47206616 2.68741925 2.88675135 3.07318149 3.24893145\n",
      " 3.41565026 3.57460176 3.72677996 3.87298335]\n",
      "3.191423692521127\n"
     ]
    }
   ],
   "source": [
    "#square root and standar deviation in numpy array\n",
    "print(np.sqrt(a)) #to get the square root \n",
    "print(np.std(a)) #to get standard deviation"
   ]
  },
  {
   "cell_type": "code",
   "execution_count": 49,
   "id": "entitled-uruguay",
   "metadata": {},
   "outputs": [
    {
     "name": "stdout",
     "output_type": "stream",
     "text": [
      "[[22 24 26 28 30]\n",
      " [32 34 36 38 40]\n",
      " [42 44 46 48 50]\n",
      " [52 54 56 58 60]]\n",
      "[[-20 -20 -20 -20 -20]\n",
      " [-20 -20 -20 -20 -20]\n",
      " [-20 -20 -20 -20 -20]\n",
      " [-20 -20 -20 -20 -20]]\n",
      "[[0.04761905 0.09090909 0.13043478 0.16666667 0.2       ]\n",
      " [0.23076923 0.25925926 0.28571429 0.31034483 0.33333333]\n",
      " [0.35483871 0.375      0.39393939 0.41176471 0.42857143]\n",
      " [0.44444444 0.45945946 0.47368421 0.48717949 0.5       ]]\n"
     ]
    }
   ],
   "source": [
    "#arthimetic operation on arrays\n",
    "a=np.arange(1,21).reshape(4,5)\n",
    "b=np.arange(21,41).reshape(4,5)\n",
    "print(a+b) #sum of arrays\n",
    "print(a-b) #differnce of arrays\n",
    "print(a/b) #division of arrays"
   ]
  },
  {
   "cell_type": "code",
   "execution_count": 53,
   "id": "determined-confirmation",
   "metadata": {},
   "outputs": [
    {
     "name": "stdout",
     "output_type": "stream",
     "text": [
      "[[ 1  2  3  4  5 21 22 23 24 25]\n",
      " [ 6  7  8  9 10 26 27 28 29 30]\n",
      " [11 12 13 14 15 31 32 33 34 35]\n",
      " [16 17 18 19 20 36 37 38 39 40]]\n",
      "[[ 1  2  3  4  5]\n",
      " [ 6  7  8  9 10]\n",
      " [11 12 13 14 15]\n",
      " [16 17 18 19 20]\n",
      " [21 22 23 24 25]\n",
      " [26 27 28 29 30]\n",
      " [31 32 33 34 35]\n",
      " [36 37 38 39 40]]\n"
     ]
    }
   ],
   "source": [
    "#array concatenation in numpy\n",
    "#can be done by using hstack and vstack\n",
    "print(np.hstack((a,b))) #horizontal concatenation of array\n",
    "print(np.vstack((a,b))) #vertical concatenation of array"
   ]
  },
  {
   "cell_type": "code",
   "execution_count": null,
   "id": "sized-raleigh",
   "metadata": {},
   "outputs": [],
   "source": [
    "#data types in numpy library"
   ]
  }
 ],
 "metadata": {
  "kernelspec": {
   "display_name": "Python 3",
   "language": "python",
   "name": "python3"
  },
  "language_info": {
   "codemirror_mode": {
    "name": "ipython",
    "version": 3
   },
   "file_extension": ".py",
   "mimetype": "text/x-python",
   "name": "python",
   "nbconvert_exporter": "python",
   "pygments_lexer": "ipython3",
   "version": "3.7.8"
  }
 },
 "nbformat": 4,
 "nbformat_minor": 5
}
