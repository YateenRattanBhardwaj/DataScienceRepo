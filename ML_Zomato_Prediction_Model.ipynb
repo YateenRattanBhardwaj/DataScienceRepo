{
 "metadata": {
  "language_info": {
   "codemirror_mode": {
    "name": "ipython",
    "version": 3
   },
   "file_extension": ".py",
   "mimetype": "text/x-python",
   "name": "python",
   "nbconvert_exporter": "python",
   "pygments_lexer": "ipython3",
   "version": "3.8.3"
  },
  "orig_nbformat": 2,
  "kernelspec": {
   "name": "python383jvsc74a57bd02db524e06e9f5f4ffedc911c917cb75e12dbc923643829bf417064a77eb14d37",
   "display_name": "Python 3.8.3 64-bit"
  },
  "metadata": {
   "interpreter": {
    "hash": "2db524e06e9f5f4ffedc911c917cb75e12dbc923643829bf417064a77eb14d37"
   }
  }
 },
 "nbformat": 4,
 "nbformat_minor": 2,
 "cells": [
  {
   "cell_type": "code",
   "execution_count": 1,
   "metadata": {},
   "outputs": [],
   "source": [
    "#real world\n",
    "#raw data(csv, json, databases,  etc)\n",
    "#read data\n",
    "#clean data\n",
    "#feature engineering"
   ]
  },
  {
   "cell_type": "code",
   "execution_count": 2,
   "metadata": {},
   "outputs": [],
   "source": [
    "import numpy as np\n",
    "import pandas as pd\n",
    "import matplotlib.pyplot as plt\n",
    "import seaborn as sns"
   ]
  },
  {
   "cell_type": "code",
   "execution_count": 4,
   "metadata": {},
   "outputs": [
    {
     "output_type": "execute_result",
     "data": {
      "text/plain": [
       "                                                 url  \\\n",
       "0  https://www.zomato.com/bangalore/jalsa-banasha...   \n",
       "1  https://www.zomato.com/bangalore/spice-elephan...   \n",
       "2  https://www.zomato.com/SanchurroBangalore?cont...   \n",
       "3  https://www.zomato.com/bangalore/addhuri-udupi...   \n",
       "4  https://www.zomato.com/bangalore/grand-village...   \n",
       "\n",
       "                                             address                   name  \\\n",
       "0  942, 21st Main Road, 2nd Stage, Banashankari, ...                  Jalsa   \n",
       "1  2nd Floor, 80 Feet Road, Near Big Bazaar, 6th ...         Spice Elephant   \n",
       "2  1112, Next to KIMS Medical College, 17th Cross...        San Churro Cafe   \n",
       "3  1st Floor, Annakuteera, 3rd Stage, Banashankar...  Addhuri Udupi Bhojana   \n",
       "4  10, 3rd Floor, Lakshmi Associates, Gandhi Baza...          Grand Village   \n",
       "\n",
       "  online_order book_table   rate  votes                             phone  \\\n",
       "0          Yes        Yes  4.1/5    775    080 42297555\\r\\n+91 9743772233   \n",
       "1          Yes         No  4.1/5    787                      080 41714161   \n",
       "2          Yes         No  3.8/5    918                    +91 9663487993   \n",
       "3           No         No  3.7/5     88                    +91 9620009302   \n",
       "4           No         No  3.8/5    166  +91 8026612447\\r\\n+91 9901210005   \n",
       "\n",
       "       location            rest_type  \\\n",
       "0  Banashankari        Casual Dining   \n",
       "1  Banashankari        Casual Dining   \n",
       "2  Banashankari  Cafe, Casual Dining   \n",
       "3  Banashankari          Quick Bites   \n",
       "4  Basavanagudi        Casual Dining   \n",
       "\n",
       "                                          dish_liked  \\\n",
       "0  Pasta, Lunch Buffet, Masala Papad, Paneer Laja...   \n",
       "1  Momos, Lunch Buffet, Chocolate Nirvana, Thai G...   \n",
       "2  Churros, Cannelloni, Minestrone Soup, Hot Choc...   \n",
       "3                                        Masala Dosa   \n",
       "4                                Panipuri, Gol Gappe   \n",
       "\n",
       "                         cuisines approx_cost(for two people)  \\\n",
       "0  North Indian, Mughlai, Chinese                         800   \n",
       "1     Chinese, North Indian, Thai                         800   \n",
       "2          Cafe, Mexican, Italian                         800   \n",
       "3      South Indian, North Indian                         300   \n",
       "4        North Indian, Rajasthani                         600   \n",
       "\n",
       "                                        reviews_list menu_item  \\\n",
       "0  [('Rated 4.0', 'RATED\\n  A beautiful place to ...        []   \n",
       "1  [('Rated 4.0', 'RATED\\n  Had been here for din...        []   \n",
       "2  [('Rated 3.0', \"RATED\\n  Ambience is not that ...        []   \n",
       "3  [('Rated 4.0', \"RATED\\n  Great food and proper...        []   \n",
       "4  [('Rated 4.0', 'RATED\\n  Very good restaurant ...        []   \n",
       "\n",
       "  listed_in(type) listed_in(city)  \n",
       "0          Buffet    Banashankari  \n",
       "1          Buffet    Banashankari  \n",
       "2          Buffet    Banashankari  \n",
       "3          Buffet    Banashankari  \n",
       "4          Buffet    Banashankari  "
      ],
      "text/html": "<div>\n<style scoped>\n    .dataframe tbody tr th:only-of-type {\n        vertical-align: middle;\n    }\n\n    .dataframe tbody tr th {\n        vertical-align: top;\n    }\n\n    .dataframe thead th {\n        text-align: right;\n    }\n</style>\n<table border=\"1\" class=\"dataframe\">\n  <thead>\n    <tr style=\"text-align: right;\">\n      <th></th>\n      <th>url</th>\n      <th>address</th>\n      <th>name</th>\n      <th>online_order</th>\n      <th>book_table</th>\n      <th>rate</th>\n      <th>votes</th>\n      <th>phone</th>\n      <th>location</th>\n      <th>rest_type</th>\n      <th>dish_liked</th>\n      <th>cuisines</th>\n      <th>approx_cost(for two people)</th>\n      <th>reviews_list</th>\n      <th>menu_item</th>\n      <th>listed_in(type)</th>\n      <th>listed_in(city)</th>\n    </tr>\n  </thead>\n  <tbody>\n    <tr>\n      <th>0</th>\n      <td>https://www.zomato.com/bangalore/jalsa-banasha...</td>\n      <td>942, 21st Main Road, 2nd Stage, Banashankari, ...</td>\n      <td>Jalsa</td>\n      <td>Yes</td>\n      <td>Yes</td>\n      <td>4.1/5</td>\n      <td>775</td>\n      <td>080 42297555\\r\\n+91 9743772233</td>\n      <td>Banashankari</td>\n      <td>Casual Dining</td>\n      <td>Pasta, Lunch Buffet, Masala Papad, Paneer Laja...</td>\n      <td>North Indian, Mughlai, Chinese</td>\n      <td>800</td>\n      <td>[('Rated 4.0', 'RATED\\n  A beautiful place to ...</td>\n      <td>[]</td>\n      <td>Buffet</td>\n      <td>Banashankari</td>\n    </tr>\n    <tr>\n      <th>1</th>\n      <td>https://www.zomato.com/bangalore/spice-elephan...</td>\n      <td>2nd Floor, 80 Feet Road, Near Big Bazaar, 6th ...</td>\n      <td>Spice Elephant</td>\n      <td>Yes</td>\n      <td>No</td>\n      <td>4.1/5</td>\n      <td>787</td>\n      <td>080 41714161</td>\n      <td>Banashankari</td>\n      <td>Casual Dining</td>\n      <td>Momos, Lunch Buffet, Chocolate Nirvana, Thai G...</td>\n      <td>Chinese, North Indian, Thai</td>\n      <td>800</td>\n      <td>[('Rated 4.0', 'RATED\\n  Had been here for din...</td>\n      <td>[]</td>\n      <td>Buffet</td>\n      <td>Banashankari</td>\n    </tr>\n    <tr>\n      <th>2</th>\n      <td>https://www.zomato.com/SanchurroBangalore?cont...</td>\n      <td>1112, Next to KIMS Medical College, 17th Cross...</td>\n      <td>San Churro Cafe</td>\n      <td>Yes</td>\n      <td>No</td>\n      <td>3.8/5</td>\n      <td>918</td>\n      <td>+91 9663487993</td>\n      <td>Banashankari</td>\n      <td>Cafe, Casual Dining</td>\n      <td>Churros, Cannelloni, Minestrone Soup, Hot Choc...</td>\n      <td>Cafe, Mexican, Italian</td>\n      <td>800</td>\n      <td>[('Rated 3.0', \"RATED\\n  Ambience is not that ...</td>\n      <td>[]</td>\n      <td>Buffet</td>\n      <td>Banashankari</td>\n    </tr>\n    <tr>\n      <th>3</th>\n      <td>https://www.zomato.com/bangalore/addhuri-udupi...</td>\n      <td>1st Floor, Annakuteera, 3rd Stage, Banashankar...</td>\n      <td>Addhuri Udupi Bhojana</td>\n      <td>No</td>\n      <td>No</td>\n      <td>3.7/5</td>\n      <td>88</td>\n      <td>+91 9620009302</td>\n      <td>Banashankari</td>\n      <td>Quick Bites</td>\n      <td>Masala Dosa</td>\n      <td>South Indian, North Indian</td>\n      <td>300</td>\n      <td>[('Rated 4.0', \"RATED\\n  Great food and proper...</td>\n      <td>[]</td>\n      <td>Buffet</td>\n      <td>Banashankari</td>\n    </tr>\n    <tr>\n      <th>4</th>\n      <td>https://www.zomato.com/bangalore/grand-village...</td>\n      <td>10, 3rd Floor, Lakshmi Associates, Gandhi Baza...</td>\n      <td>Grand Village</td>\n      <td>No</td>\n      <td>No</td>\n      <td>3.8/5</td>\n      <td>166</td>\n      <td>+91 8026612447\\r\\n+91 9901210005</td>\n      <td>Basavanagudi</td>\n      <td>Casual Dining</td>\n      <td>Panipuri, Gol Gappe</td>\n      <td>North Indian, Rajasthani</td>\n      <td>600</td>\n      <td>[('Rated 4.0', 'RATED\\n  Very good restaurant ...</td>\n      <td>[]</td>\n      <td>Buffet</td>\n      <td>Banashankari</td>\n    </tr>\n  </tbody>\n</table>\n</div>"
     },
     "metadata": {},
     "execution_count": 4
    }
   ],
   "source": [
    "df=pd.read_csv('zomato.csv')\n",
    "df.head()"
   ]
  },
  {
   "cell_type": "code",
   "execution_count": 5,
   "metadata": {},
   "outputs": [
    {
     "output_type": "execute_result",
     "data": {
      "text/plain": [
       "(51717, 17)"
      ]
     },
     "metadata": {},
     "execution_count": 5
    }
   ],
   "source": [
    "df.shape"
   ]
  },
  {
   "cell_type": "code",
   "execution_count": 6,
   "metadata": {},
   "outputs": [
    {
     "output_type": "execute_result",
     "data": {
      "text/plain": [
       "Index(['url', 'address', 'name', 'online_order', 'book_table', 'rate', 'votes',\n",
       "       'phone', 'location', 'rest_type', 'dish_liked', 'cuisines',\n",
       "       'approx_cost(for two people)', 'reviews_list', 'menu_item',\n",
       "       'listed_in(type)', 'listed_in(city)'],\n",
       "      dtype='object')"
      ]
     },
     "metadata": {},
     "execution_count": 6
    }
   ],
   "source": [
    "df.columns"
   ]
  },
  {
   "cell_type": "code",
   "execution_count": 7,
   "metadata": {},
   "outputs": [
    {
     "output_type": "execute_result",
     "data": {
      "text/plain": [
       "url                                0\n",
       "address                            0\n",
       "name                               0\n",
       "online_order                       0\n",
       "book_table                         0\n",
       "rate                            7775\n",
       "votes                              0\n",
       "phone                           1208\n",
       "location                          21\n",
       "rest_type                        227\n",
       "dish_liked                     28078\n",
       "cuisines                          45\n",
       "approx_cost(for two people)      346\n",
       "reviews_list                       0\n",
       "menu_item                          0\n",
       "listed_in(type)                    0\n",
       "listed_in(city)                    0\n",
       "dtype: int64"
      ]
     },
     "metadata": {},
     "execution_count": 7
    }
   ],
   "source": [
    "#challanges -1\n",
    "#   1. get all NaN values from DF\n",
    "#   2. Get datatypes of features & its overview\n",
    "df.isnull().sum()"
   ]
  },
  {
   "cell_type": "code",
   "execution_count": 8,
   "metadata": {},
   "outputs": [
    {
     "output_type": "execute_result",
     "data": {
      "text/plain": [
       "['rate',\n",
       " 'phone',\n",
       " 'location',\n",
       " 'rest_type',\n",
       " 'dish_liked',\n",
       " 'cuisines',\n",
       " 'approx_cost(for two people)']"
      ]
     },
     "metadata": {},
     "execution_count": 8
    }
   ],
   "source": [
    "#get all columns with some missing values so that we can deal with them\n",
    "features_na=[feature for feature in df.columns if df[feature].isnull().sum()>1]\n",
    "features_na"
   ]
  },
  {
   "cell_type": "code",
   "execution_count": 9,
   "metadata": {},
   "outputs": [
    {
     "output_type": "execute_result",
     "data": {
      "text/plain": [
       "15.033741322969234"
      ]
     },
     "metadata": {},
     "execution_count": 9
    }
   ],
   "source": [
    "df.rate.isnull().sum()/len(df)*100  "
   ]
  },
  {
   "cell_type": "code",
   "execution_count": 10,
   "metadata": {},
   "outputs": [
    {
     "output_type": "stream",
     "name": "stdout",
     "text": [
      "rate has 15.03% missing values\nphone has 2.34% missing values\nlocation has 0.04% missing values\nrest_type has 0.44% missing values\ndish_liked has 54.29% missing values\ncuisines has 0.09% missing values\napprox_cost(for two people) has 0.67% missing values\n"
     ]
    }
   ],
   "source": [
    "for feature in features_na:\n",
    "    print(\"{} has {}% missing values\".format(feature,np.round(df[feature].isnull().sum()/len(df)*100 ,2)))"
   ]
  },
  {
   "cell_type": "code",
   "execution_count": 11,
   "metadata": {},
   "outputs": [
    {
     "output_type": "stream",
     "name": "stdout",
     "text": [
      "<class 'pandas.core.frame.DataFrame'>\nRangeIndex: 51717 entries, 0 to 51716\nData columns (total 17 columns):\n #   Column                       Non-Null Count  Dtype \n---  ------                       --------------  ----- \n 0   url                          51717 non-null  object\n 1   address                      51717 non-null  object\n 2   name                         51717 non-null  object\n 3   online_order                 51717 non-null  object\n 4   book_table                   51717 non-null  object\n 5   rate                         43942 non-null  object\n 6   votes                        51717 non-null  int64 \n 7   phone                        50509 non-null  object\n 8   location                     51696 non-null  object\n 9   rest_type                    51490 non-null  object\n 10  dish_liked                   23639 non-null  object\n 11  cuisines                     51672 non-null  object\n 12  approx_cost(for two people)  51371 non-null  object\n 13  reviews_list                 51717 non-null  object\n 14  menu_item                    51717 non-null  object\n 15  listed_in(type)              51717 non-null  object\n 16  listed_in(city)              51717 non-null  object\ndtypes: int64(1), object(16)\nmemory usage: 6.7+ MB\n"
     ]
    }
   ],
   "source": [
    "df.info()"
   ]
  },
  {
   "cell_type": "code",
   "execution_count": 12,
   "metadata": {},
   "outputs": [],
   "source": [
    "#challanges -2\n",
    "#   1. perform data cleaning on approx cost feature\n",
    "#   2. clean rate_num column"
   ]
  },
  {
   "cell_type": "code",
   "execution_count": 13,
   "metadata": {},
   "outputs": [
    {
     "output_type": "execute_result",
     "data": {
      "text/plain": [
       "dtype('O')"
      ]
     },
     "metadata": {},
     "execution_count": 13
    }
   ],
   "source": [
    "df['approx_cost(for two people)'].dtype"
   ]
  },
  {
   "cell_type": "code",
   "execution_count": 14,
   "metadata": {},
   "outputs": [
    {
     "output_type": "execute_result",
     "data": {
      "text/plain": [
       "                                                     url  \\\n",
       "1662   https://www.zomato.com/bangalore/papa-khan-ras...   \n",
       "1768   https://www.zomato.com/bangalore/innate-jp-nag...   \n",
       "1795   https://www.zomato.com/bangalore/super-chefs-b...   \n",
       "3069   https://www.zomato.com/bangalore/super-chefs-b...   \n",
       "3774   https://www.zomato.com/bangalore/the-hub-ibis-...   \n",
       "...                                                  ...   \n",
       "50940  https://www.zomato.com/bangalore/cinnabon-whit...   \n",
       "51233  https://www.zomato.com/bangalore/mayas-kitchen...   \n",
       "51247  https://www.zomato.com/bangalore/mast-kalandar...   \n",
       "51271  https://www.zomato.com/bangalore/karavalli-foo...   \n",
       "51641  https://www.zomato.com/bangalore/andhra-spices...   \n",
       "\n",
       "                                                 address  \\\n",
       "1662   6, Abbiah Layout KC Halli Main Road, Bommanaha...   \n",
       "1768   45, 14th Main, 7th phase, Puttehahalli Palya, ...   \n",
       "1795   8/3, Opposite Suryadhoya Convention hall, Bann...   \n",
       "3069   8/3, Opposite Suryadhoya Convention hall, Bann...   \n",
       "3774   Ibis Bengaluru, Opposite RMZ Ecospace Business...   \n",
       "...                                                  ...   \n",
       "50940  Ground Floor, The Forum Neighborhood Mall, Pre...   \n",
       "51233  43/9, Borewell Rd, Palm Meadows, Nallurhalli, ...   \n",
       "51247  D64, 33, 1st Floor, Sundari Armadale, Next To ...   \n",
       "51271  N254-107, 1st Main Road, Near ITPL Gate 3, KIA...   \n",
       "51641  188, ITPL Main Road, Brookefields, Bangalore, ...   \n",
       "\n",
       "                                 name online_order book_table    rate  votes  \\\n",
       "1662                  Papa Khan Rasoi           No         No     NaN      0   \n",
       "1768                           Innate           No         No     NaN      0   \n",
       "1795   Super Chef's (New Royal treat)           No         No     NaN      0   \n",
       "3069   Super Chef's (New Royal treat)           No         No       -      0   \n",
       "3774         The Hub - Ibis Bengaluru           No         No   3.9/5    237   \n",
       "...                               ...          ...        ...     ...    ...   \n",
       "50940                        Cinnabon           No         No  4.0 /5     80   \n",
       "51233                   Mayas kitchen           No         No     NaN      0   \n",
       "51247                   Mast Kalandar           No         No  2.6 /5     76   \n",
       "51271            Karavalli Food Court           No         No  3.2 /5      4   \n",
       "51641                   Andhra Spices           No         No  3.2 /5      4   \n",
       "\n",
       "      phone           location      rest_type  \\\n",
       "1662    NaN                NaN            NaN   \n",
       "1768    NaN           JP Nagar       Delivery   \n",
       "1795    NaN  Bannerghatta Road    Quick Bites   \n",
       "3069    NaN  Bannerghatta Road    Quick Bites   \n",
       "3774    NaN       Marathahalli            Bar   \n",
       "...     ...                ...            ...   \n",
       "50940   NaN         Whitefield    Quick Bites   \n",
       "51233   NaN         Whitefield  Casual Dining   \n",
       "51247   NaN         Whitefield  Casual Dining   \n",
       "51271   NaN         Whitefield  Casual Dining   \n",
       "51641   NaN        Brookefield    Quick Bites   \n",
       "\n",
       "                                              dish_liked  \\\n",
       "1662                                                 NaN   \n",
       "1768                                                 NaN   \n",
       "1795                                                 NaN   \n",
       "3069                                                 NaN   \n",
       "3774   Dal Makhani, Cocktails, Lunch Buffet, Breakfas...   \n",
       "...                                                  ...   \n",
       "50940                 Rolls, Cinnamon Roll, Cinnamon Bun   \n",
       "51233                                                NaN   \n",
       "51247  Gulab Jamun, Lassi, Dal Makhani, Buttermilk, T...   \n",
       "51271                                                NaN   \n",
       "51641                                                NaN   \n",
       "\n",
       "                                  cuisines approx_cost(for two people)  \\\n",
       "1662                                   NaN                         NaN   \n",
       "1768                             Beverages                         NaN   \n",
       "1795   North Indian, Chinese, South Indian                         NaN   \n",
       "3069   North Indian, Chinese, South Indian                         NaN   \n",
       "3774                           Finger Food                         NaN   \n",
       "...                                    ...                         ...   \n",
       "50940          Beverages, American, Bakery                         NaN   \n",
       "51233     South Indian, Chinese, Chettinad                         NaN   \n",
       "51247                         North Indian                         NaN   \n",
       "51271                         South Indian                         NaN   \n",
       "51641        Andhra, Chinese, South Indian                         NaN   \n",
       "\n",
       "                                            reviews_list menu_item  \\\n",
       "1662                                                  []        []   \n",
       "1768                                                  []        []   \n",
       "1795   [('Rated 1.0', 'RATED\\n  Many items were missi...        []   \n",
       "3069   [('Rated 1.0', 'RATED\\n  Many items were missi...        []   \n",
       "3774   [('Rated 4.0', 'RATED\\n  The Hub is a small ba...        []   \n",
       "...                                                  ...       ...   \n",
       "50940  [('Rated 4.0', \"RATED\\n  Who else is a Cinnabo...        []   \n",
       "51233  [('Rated 4.0', \"RATED\\n  Food was pretty good,...        []   \n",
       "51247  [('Rated 1.0', 'RATED\\n  Terrible food in this...        []   \n",
       "51271  [('Rated 1.0', 'RATED\\n  i was a regular custo...        []   \n",
       "51641  [('Rated 2.0', \"RATED\\n  Food is not upto the ...        []   \n",
       "\n",
       "      listed_in(type)    listed_in(city)  \n",
       "1662         Delivery  Bannerghatta Road  \n",
       "1768         Delivery  Bannerghatta Road  \n",
       "1795         Delivery  Bannerghatta Road  \n",
       "3069         Delivery       Basavanagudi  \n",
       "3774           Buffet          Bellandur  \n",
       "...               ...                ...  \n",
       "50940        Desserts         Whitefield  \n",
       "51233        Dine-out         Whitefield  \n",
       "51247        Dine-out         Whitefield  \n",
       "51271        Dine-out         Whitefield  \n",
       "51641        Dine-out         Whitefield  \n",
       "\n",
       "[346 rows x 17 columns]"
      ],
      "text/html": "<div>\n<style scoped>\n    .dataframe tbody tr th:only-of-type {\n        vertical-align: middle;\n    }\n\n    .dataframe tbody tr th {\n        vertical-align: top;\n    }\n\n    .dataframe thead th {\n        text-align: right;\n    }\n</style>\n<table border=\"1\" class=\"dataframe\">\n  <thead>\n    <tr style=\"text-align: right;\">\n      <th></th>\n      <th>url</th>\n      <th>address</th>\n      <th>name</th>\n      <th>online_order</th>\n      <th>book_table</th>\n      <th>rate</th>\n      <th>votes</th>\n      <th>phone</th>\n      <th>location</th>\n      <th>rest_type</th>\n      <th>dish_liked</th>\n      <th>cuisines</th>\n      <th>approx_cost(for two people)</th>\n      <th>reviews_list</th>\n      <th>menu_item</th>\n      <th>listed_in(type)</th>\n      <th>listed_in(city)</th>\n    </tr>\n  </thead>\n  <tbody>\n    <tr>\n      <th>1662</th>\n      <td>https://www.zomato.com/bangalore/papa-khan-ras...</td>\n      <td>6, Abbiah Layout KC Halli Main Road, Bommanaha...</td>\n      <td>Papa Khan Rasoi</td>\n      <td>No</td>\n      <td>No</td>\n      <td>NaN</td>\n      <td>0</td>\n      <td>NaN</td>\n      <td>NaN</td>\n      <td>NaN</td>\n      <td>NaN</td>\n      <td>NaN</td>\n      <td>NaN</td>\n      <td>[]</td>\n      <td>[]</td>\n      <td>Delivery</td>\n      <td>Bannerghatta Road</td>\n    </tr>\n    <tr>\n      <th>1768</th>\n      <td>https://www.zomato.com/bangalore/innate-jp-nag...</td>\n      <td>45, 14th Main, 7th phase, Puttehahalli Palya, ...</td>\n      <td>Innate</td>\n      <td>No</td>\n      <td>No</td>\n      <td>NaN</td>\n      <td>0</td>\n      <td>NaN</td>\n      <td>JP Nagar</td>\n      <td>Delivery</td>\n      <td>NaN</td>\n      <td>Beverages</td>\n      <td>NaN</td>\n      <td>[]</td>\n      <td>[]</td>\n      <td>Delivery</td>\n      <td>Bannerghatta Road</td>\n    </tr>\n    <tr>\n      <th>1795</th>\n      <td>https://www.zomato.com/bangalore/super-chefs-b...</td>\n      <td>8/3, Opposite Suryadhoya Convention hall, Bann...</td>\n      <td>Super Chef's (New Royal treat)</td>\n      <td>No</td>\n      <td>No</td>\n      <td>NaN</td>\n      <td>0</td>\n      <td>NaN</td>\n      <td>Bannerghatta Road</td>\n      <td>Quick Bites</td>\n      <td>NaN</td>\n      <td>North Indian, Chinese, South Indian</td>\n      <td>NaN</td>\n      <td>[('Rated 1.0', 'RATED\\n  Many items were missi...</td>\n      <td>[]</td>\n      <td>Delivery</td>\n      <td>Bannerghatta Road</td>\n    </tr>\n    <tr>\n      <th>3069</th>\n      <td>https://www.zomato.com/bangalore/super-chefs-b...</td>\n      <td>8/3, Opposite Suryadhoya Convention hall, Bann...</td>\n      <td>Super Chef's (New Royal treat)</td>\n      <td>No</td>\n      <td>No</td>\n      <td>-</td>\n      <td>0</td>\n      <td>NaN</td>\n      <td>Bannerghatta Road</td>\n      <td>Quick Bites</td>\n      <td>NaN</td>\n      <td>North Indian, Chinese, South Indian</td>\n      <td>NaN</td>\n      <td>[('Rated 1.0', 'RATED\\n  Many items were missi...</td>\n      <td>[]</td>\n      <td>Delivery</td>\n      <td>Basavanagudi</td>\n    </tr>\n    <tr>\n      <th>3774</th>\n      <td>https://www.zomato.com/bangalore/the-hub-ibis-...</td>\n      <td>Ibis Bengaluru, Opposite RMZ Ecospace Business...</td>\n      <td>The Hub - Ibis Bengaluru</td>\n      <td>No</td>\n      <td>No</td>\n      <td>3.9/5</td>\n      <td>237</td>\n      <td>NaN</td>\n      <td>Marathahalli</td>\n      <td>Bar</td>\n      <td>Dal Makhani, Cocktails, Lunch Buffet, Breakfas...</td>\n      <td>Finger Food</td>\n      <td>NaN</td>\n      <td>[('Rated 4.0', 'RATED\\n  The Hub is a small ba...</td>\n      <td>[]</td>\n      <td>Buffet</td>\n      <td>Bellandur</td>\n    </tr>\n    <tr>\n      <th>...</th>\n      <td>...</td>\n      <td>...</td>\n      <td>...</td>\n      <td>...</td>\n      <td>...</td>\n      <td>...</td>\n      <td>...</td>\n      <td>...</td>\n      <td>...</td>\n      <td>...</td>\n      <td>...</td>\n      <td>...</td>\n      <td>...</td>\n      <td>...</td>\n      <td>...</td>\n      <td>...</td>\n      <td>...</td>\n    </tr>\n    <tr>\n      <th>50940</th>\n      <td>https://www.zomato.com/bangalore/cinnabon-whit...</td>\n      <td>Ground Floor, The Forum Neighborhood Mall, Pre...</td>\n      <td>Cinnabon</td>\n      <td>No</td>\n      <td>No</td>\n      <td>4.0 /5</td>\n      <td>80</td>\n      <td>NaN</td>\n      <td>Whitefield</td>\n      <td>Quick Bites</td>\n      <td>Rolls, Cinnamon Roll, Cinnamon Bun</td>\n      <td>Beverages, American, Bakery</td>\n      <td>NaN</td>\n      <td>[('Rated 4.0', \"RATED\\n  Who else is a Cinnabo...</td>\n      <td>[]</td>\n      <td>Desserts</td>\n      <td>Whitefield</td>\n    </tr>\n    <tr>\n      <th>51233</th>\n      <td>https://www.zomato.com/bangalore/mayas-kitchen...</td>\n      <td>43/9, Borewell Rd, Palm Meadows, Nallurhalli, ...</td>\n      <td>Mayas kitchen</td>\n      <td>No</td>\n      <td>No</td>\n      <td>NaN</td>\n      <td>0</td>\n      <td>NaN</td>\n      <td>Whitefield</td>\n      <td>Casual Dining</td>\n      <td>NaN</td>\n      <td>South Indian, Chinese, Chettinad</td>\n      <td>NaN</td>\n      <td>[('Rated 4.0', \"RATED\\n  Food was pretty good,...</td>\n      <td>[]</td>\n      <td>Dine-out</td>\n      <td>Whitefield</td>\n    </tr>\n    <tr>\n      <th>51247</th>\n      <td>https://www.zomato.com/bangalore/mast-kalandar...</td>\n      <td>D64, 33, 1st Floor, Sundari Armadale, Next To ...</td>\n      <td>Mast Kalandar</td>\n      <td>No</td>\n      <td>No</td>\n      <td>2.6 /5</td>\n      <td>76</td>\n      <td>NaN</td>\n      <td>Whitefield</td>\n      <td>Casual Dining</td>\n      <td>Gulab Jamun, Lassi, Dal Makhani, Buttermilk, T...</td>\n      <td>North Indian</td>\n      <td>NaN</td>\n      <td>[('Rated 1.0', 'RATED\\n  Terrible food in this...</td>\n      <td>[]</td>\n      <td>Dine-out</td>\n      <td>Whitefield</td>\n    </tr>\n    <tr>\n      <th>51271</th>\n      <td>https://www.zomato.com/bangalore/karavalli-foo...</td>\n      <td>N254-107, 1st Main Road, Near ITPL Gate 3, KIA...</td>\n      <td>Karavalli Food Court</td>\n      <td>No</td>\n      <td>No</td>\n      <td>3.2 /5</td>\n      <td>4</td>\n      <td>NaN</td>\n      <td>Whitefield</td>\n      <td>Casual Dining</td>\n      <td>NaN</td>\n      <td>South Indian</td>\n      <td>NaN</td>\n      <td>[('Rated 1.0', 'RATED\\n  i was a regular custo...</td>\n      <td>[]</td>\n      <td>Dine-out</td>\n      <td>Whitefield</td>\n    </tr>\n    <tr>\n      <th>51641</th>\n      <td>https://www.zomato.com/bangalore/andhra-spices...</td>\n      <td>188, ITPL Main Road, Brookefields, Bangalore, ...</td>\n      <td>Andhra Spices</td>\n      <td>No</td>\n      <td>No</td>\n      <td>3.2 /5</td>\n      <td>4</td>\n      <td>NaN</td>\n      <td>Brookefield</td>\n      <td>Quick Bites</td>\n      <td>NaN</td>\n      <td>Andhra, Chinese, South Indian</td>\n      <td>NaN</td>\n      <td>[('Rated 2.0', \"RATED\\n  Food is not upto the ...</td>\n      <td>[]</td>\n      <td>Dine-out</td>\n      <td>Whitefield</td>\n    </tr>\n  </tbody>\n</table>\n<p>346 rows × 17 columns</p>\n</div>"
     },
     "metadata": {},
     "execution_count": 14
    }
   ],
   "source": [
    "df[df['approx_cost(for two people)'].isnull()]\n"
   ]
  },
  {
   "cell_type": "code",
   "execution_count": 15,
   "metadata": {},
   "outputs": [
    {
     "output_type": "execute_result",
     "data": {
      "text/plain": [
       "array(['800', '300', '600', '700', '550', '500', '450', '650', '400',\n",
       "       '900', '200', '750', '150', '850', '100', '1,200', '350', '250',\n",
       "       '950', '1,000', '1,500', '1,300', '199', '80', '1,100', '160',\n",
       "       '1,600', '230', '130', '50', '190', '1,700', nan, '1,400', '180',\n",
       "       '1,350', '2,200', '2,000', '1,800', '1,900', '330', '2,500',\n",
       "       '2,100', '3,000', '2,800', '3,400', '40', '1,250', '3,500',\n",
       "       '4,000', '2,400', '2,600', '120', '1,450', '469', '70', '3,200',\n",
       "       '60', '560', '240', '360', '6,000', '1,050', '2,300', '4,100',\n",
       "       '5,000', '3,700', '1,650', '2,700', '4,500', '140'], dtype=object)"
      ]
     },
     "metadata": {},
     "execution_count": 15
    }
   ],
   "source": [
    "df['approx_cost(for two people)'].unique()"
   ]
  },
  {
   "cell_type": "code",
   "execution_count": 16,
   "metadata": {},
   "outputs": [],
   "source": [
    "### using lambda function to replace special characters in approx_cost(for two people) column\n",
    "df['approx_cost(for two people)']=df['approx_cost(for two people)'].astype(str).apply(lambda x:x.replace(',',''))"
   ]
  },
  {
   "cell_type": "code",
   "execution_count": 17,
   "metadata": {},
   "outputs": [],
   "source": [
    "#replace special character using custom function\n",
    "def removeComma(x):\n",
    "    return x.replace(',','')\n"
   ]
  },
  {
   "cell_type": "code",
   "execution_count": 18,
   "metadata": {},
   "outputs": [
    {
     "output_type": "execute_result",
     "data": {
      "text/plain": [
       "0         800\n",
       "1         800\n",
       "2         800\n",
       "3         300\n",
       "4         600\n",
       "         ... \n",
       "51712    1500\n",
       "51713     600\n",
       "51714    2000\n",
       "51715    2500\n",
       "51716    1500\n",
       "Name: approx_cost(for two people), Length: 51717, dtype: object"
      ]
     },
     "metadata": {},
     "execution_count": 18
    }
   ],
   "source": [
    "df['approx_cost(for two people)'].astype(str).apply(removeComma)"
   ]
  },
  {
   "cell_type": "code",
   "execution_count": 19,
   "metadata": {},
   "outputs": [
    {
     "output_type": "execute_result",
     "data": {
      "text/plain": [
       "array(['800', '300', '600', '700', '550', '500', '450', '650', '400',\n",
       "       '900', '200', '750', '150', '850', '100', '1200', '350', '250',\n",
       "       '950', '1000', '1500', '1300', '199', '80', '1100', '160', '1600',\n",
       "       '230', '130', '50', '190', '1700', 'nan', '1400', '180', '1350',\n",
       "       '2200', '2000', '1800', '1900', '330', '2500', '2100', '3000',\n",
       "       '2800', '3400', '40', '1250', '3500', '4000', '2400', '2600',\n",
       "       '120', '1450', '469', '70', '3200', '60', '560', '240', '360',\n",
       "       '6000', '1050', '2300', '4100', '5000', '3700', '1650', '2700',\n",
       "       '4500', '140'], dtype=object)"
      ]
     },
     "metadata": {},
     "execution_count": 19
    }
   ],
   "source": [
    "df['approx_cost(for two people)'].unique() #check if our previous logic worked successfully"
   ]
  },
  {
   "cell_type": "code",
   "execution_count": 20,
   "metadata": {},
   "outputs": [
    {
     "output_type": "execute_result",
     "data": {
      "text/plain": [
       "dtype('float64')"
      ]
     },
     "metadata": {},
     "execution_count": 20
    }
   ],
   "source": [
    "df['approx_cost(for two people)']=df['approx_cost(for two people)'].astype(float) #converting dtype to float\n",
    "df['approx_cost(for two people)'].dtype #check new dtype"
   ]
  },
  {
   "cell_type": "code",
   "execution_count": 21,
   "metadata": {},
   "outputs": [],
   "source": [
    "df['rate']=df['rate'].astype(str).apply(lambda x: x.split('/')[0]) #removing / from rate feature"
   ]
  },
  {
   "cell_type": "code",
   "execution_count": 22,
   "metadata": {},
   "outputs": [],
   "source": [
    "#even after this we have - and NEW keyword in our data and that needs to be removed\n",
    "df['rate'].replace('-',0,inplace=True)\n",
    "df['rate'].replace('NEW',0,inplace=True)"
   ]
  },
  {
   "cell_type": "code",
   "execution_count": 23,
   "metadata": {},
   "outputs": [
    {
     "output_type": "execute_result",
     "data": {
      "text/plain": [
       "array([4.1, 3.8, 3.7, 3.6, 4.6, 4. , 4.2, 3.9, 3.1, 3. , 3.2, 3.3, 2.8,\n",
       "       4.4, 4.3, 0. , 2.9, 3.5, nan, 2.6, 3.4, 4.5, 2.5, 2.7, 4.7, 2.4,\n",
       "       2.2, 2.3, 4.8, 4.9, 2.1, 2. , 1.8])"
      ]
     },
     "metadata": {},
     "execution_count": 23
    }
   ],
   "source": [
    "df['rate']=df['rate'].astype(float)\n",
    "df['rate'].unique()"
   ]
  },
  {
   "cell_type": "code",
   "execution_count": 24,
   "metadata": {},
   "outputs": [
    {
     "output_type": "execute_result",
     "data": {
      "text/plain": [
       "<AxesSubplot:>"
      ]
     },
     "metadata": {},
     "execution_count": 24
    },
    {
     "output_type": "display_data",
     "data": {
      "text/plain": "<Figure size 1440x864 with 1 Axes>",
      "image/svg+xml": "<?xml version=\"1.0\" encoding=\"utf-8\" standalone=\"no\"?>\r\n<!DOCTYPE svg PUBLIC \"-//W3C//DTD SVG 1.1//EN\"\r\n  \"http://www.w3.org/Graphics/SVG/1.1/DTD/svg11.dtd\">\r\n<!-- Created with matplotlib (https://matplotlib.org/) -->\r\n<svg height=\"813.532811pt\" version=\"1.1\" viewBox=\"0 0 1169.2125 813.532811\" width=\"1169.2125pt\" xmlns=\"http://www.w3.org/2000/svg\" xmlns:xlink=\"http://www.w3.org/1999/xlink\">\r\n <metadata>\r\n  <rdf:RDF xmlns:cc=\"http://creativecommons.org/ns#\" xmlns:dc=\"http://purl.org/dc/elements/1.1/\" xmlns:rdf=\"http://www.w3.org/1999/02/22-rdf-syntax-ns#\">\r\n   <cc:Work>\r\n    <dc:type rdf:resource=\"http://purl.org/dc/dcmitype/StillImage\"/>\r\n    <dc:date>2021-04-23T19:24:32.062409</dc:date>\r\n    <dc:format>image/svg+xml</dc:format>\r\n    <dc:creator>\r\n     <cc:Agent>\r\n      <dc:title>Matplotlib v3.3.3, https://matplotlib.org/</dc:title>\r\n     </cc:Agent>\r\n    </dc:creator>\r\n   </cc:Work>\r\n  </rdf:RDF>\r\n </metadata>\r\n <defs>\r\n  <style type=\"text/css\">*{stroke-linecap:butt;stroke-linejoin:round;}</style>\r\n </defs>\r\n <g id=\"figure_1\">\r\n  <g id=\"patch_1\">\r\n   <path d=\"M 0 813.532811 \r\nL 1169.2125 813.532811 \r\nL 1169.2125 0 \r\nL 0 0 \r\nz\r\n\" style=\"fill:none;\"/>\r\n  </g>\r\n  <g id=\"axes_1\">\r\n   <g id=\"patch_2\">\r\n    <path d=\"M 46.0125 660.442186 \r\nL 1162.0125 660.442186 \r\nL 1162.0125 8.122186 \r\nL 46.0125 8.122186 \r\nz\r\n\" style=\"fill:#ffffff;\"/>\r\n   </g>\r\n   <g id=\"patch_3\">\r\n    <path clip-path=\"url(#pb2ae25a50a)\" d=\"M 59.9625 660.442186 \r\nL 87.8625 660.442186 \r\nL 87.8625 39.185044 \r\nL 59.9625 39.185044 \r\nz\r\n\" style=\"fill:#008000;\"/>\r\n   </g>\r\n   <g id=\"patch_4\">\r\n    <path clip-path=\"url(#pb2ae25a50a)\" d=\"M 115.7625 660.442186 \r\nL 143.6625 660.442186 \r\nL 143.6625 325.004894 \r\nL 115.7625 325.004894 \r\nz\r\n\" style=\"fill:#008000;\"/>\r\n   </g>\r\n   <g id=\"patch_5\">\r\n    <path clip-path=\"url(#pb2ae25a50a)\" d=\"M 171.5625 660.442186 \r\nL 199.4625 660.442186 \r\nL 199.4625 539.256129 \r\nL 171.5625 539.256129 \r\nz\r\n\" style=\"fill:#008000;\"/>\r\n   </g>\r\n   <g id=\"patch_6\">\r\n    <path clip-path=\"url(#pb2ae25a50a)\" d=\"M 227.3625 660.442186 \r\nL 255.2625 660.442186 \r\nL 255.2625 575.884712 \r\nL 227.3625 575.884712 \r\nz\r\n\" style=\"fill:#008000;\"/>\r\n   </g>\r\n   <g id=\"patch_7\">\r\n    <path clip-path=\"url(#pb2ae25a50a)\" d=\"M 283.1625 660.442186 \r\nL 311.0625 660.442186 \r\nL 311.0625 586.957715 \r\nL 283.1625 586.957715 \r\nz\r\n\" style=\"fill:#008000;\"/>\r\n   </g>\r\n   <g id=\"patch_8\">\r\n    <path clip-path=\"url(#pb2ae25a50a)\" d=\"M 338.9625 660.442186 \r\nL 366.8625 660.442186 \r\nL 366.8625 594.29642 \r\nL 338.9625 594.29642 \r\nz\r\n\" style=\"fill:#008000;\"/>\r\n   </g>\r\n   <g id=\"patch_9\">\r\n    <path clip-path=\"url(#pb2ae25a50a)\" d=\"M 394.7625 660.442186 \r\nL 422.6625 660.442186 \r\nL 422.6625 622.969327 \r\nL 394.7625 622.969327 \r\nz\r\n\" style=\"fill:#008000;\"/>\r\n   </g>\r\n   <g id=\"patch_10\">\r\n    <path clip-path=\"url(#pb2ae25a50a)\" d=\"M 450.5625 660.442186 \r\nL 478.4625 660.442186 \r\nL 478.4625 623.391465 \r\nL 450.5625 623.391465 \r\nz\r\n\" style=\"fill:#008000;\"/>\r\n   </g>\r\n   <g id=\"patch_11\">\r\n    <path clip-path=\"url(#pb2ae25a50a)\" d=\"M 506.3625 660.442186 \r\nL 534.2625 660.442186 \r\nL 534.2625 632.288834 \r\nL 506.3625 632.288834 \r\nz\r\n\" style=\"fill:#008000;\"/>\r\n   </g>\r\n   <g id=\"patch_12\">\r\n    <path clip-path=\"url(#pb2ae25a50a)\" d=\"M 562.1625 660.442186 \r\nL 590.0625 660.442186 \r\nL 590.0625 637.809099 \r\nL 562.1625 637.809099 \r\nz\r\n\" style=\"fill:#008000;\"/>\r\n   </g>\r\n   <g id=\"patch_13\">\r\n    <path clip-path=\"url(#pb2ae25a50a)\" d=\"M 617.9625 660.442186 \r\nL 645.8625 660.442186 \r\nL 645.8625 640.179566 \r\nL 617.9625 640.179566 \r\nz\r\n\" style=\"fill:#008000;\"/>\r\n   </g>\r\n   <g id=\"patch_14\">\r\n    <path clip-path=\"url(#pb2ae25a50a)\" d=\"M 673.7625 660.442186 \r\nL 701.6625 660.442186 \r\nL 701.6625 645.245221 \r\nL 673.7625 645.245221 \r\nz\r\n\" style=\"fill:#008000;\"/>\r\n   </g>\r\n   <g id=\"patch_15\">\r\n    <path clip-path=\"url(#pb2ae25a50a)\" d=\"M 729.5625 660.442186 \r\nL 757.4625 660.442186 \r\nL 757.4625 646.641523 \r\nL 729.5625 646.641523 \r\nz\r\n\" style=\"fill:#008000;\"/>\r\n   </g>\r\n   <g id=\"patch_16\">\r\n    <path clip-path=\"url(#pb2ae25a50a)\" d=\"M 785.3625 660.442186 \r\nL 813.2625 660.442186 \r\nL 813.2625 647.583216 \r\nL 785.3625 647.583216 \r\nz\r\n\" style=\"fill:#008000;\"/>\r\n   </g>\r\n   <g id=\"patch_17\">\r\n    <path clip-path=\"url(#pb2ae25a50a)\" d=\"M 841.1625 660.442186 \r\nL 869.0625 660.442186 \r\nL 869.0625 648.849629 \r\nL 841.1625 648.849629 \r\nz\r\n\" style=\"fill:#008000;\"/>\r\n   </g>\r\n   <g id=\"patch_18\">\r\n    <path clip-path=\"url(#pb2ae25a50a)\" d=\"M 896.9625 660.442186 \r\nL 924.8625 660.442186 \r\nL 924.8625 649.206823 \r\nL 896.9625 649.206823 \r\nz\r\n\" style=\"fill:#008000;\"/>\r\n   </g>\r\n   <g id=\"patch_19\">\r\n    <path clip-path=\"url(#pb2ae25a50a)\" d=\"M 952.7625 660.442186 \r\nL 980.6625 660.442186 \r\nL 980.6625 650.083571 \r\nL 952.7625 650.083571 \r\nz\r\n\" style=\"fill:#008000;\"/>\r\n   </g>\r\n   <g id=\"patch_20\">\r\n    <path clip-path=\"url(#pb2ae25a50a)\" d=\"M 1008.5625 660.442186 \r\nL 1036.4625 660.442186 \r\nL 1036.4625 650.765486 \r\nL 1008.5625 650.765486 \r\nz\r\n\" style=\"fill:#008000;\"/>\r\n   </g>\r\n   <g id=\"patch_21\">\r\n    <path clip-path=\"url(#pb2ae25a50a)\" d=\"M 1064.3625 660.442186 \r\nL 1092.2625 660.442186 \r\nL 1092.2625 651.057736 \r\nL 1064.3625 651.057736 \r\nz\r\n\" style=\"fill:#008000;\"/>\r\n   </g>\r\n   <g id=\"patch_22\">\r\n    <path clip-path=\"url(#pb2ae25a50a)\" d=\"M 1120.1625 660.442186 \r\nL 1148.0625 660.442186 \r\nL 1148.0625 651.772123 \r\nL 1120.1625 651.772123 \r\nz\r\n\" style=\"fill:#008000;\"/>\r\n   </g>\r\n   <g id=\"matplotlib.axis_1\">\r\n    <g id=\"xtick_1\">\r\n     <g id=\"line2d_1\">\r\n      <defs>\r\n       <path d=\"M 0 0 \r\nL 0 3.5 \r\n\" id=\"m7cc2638124\" style=\"stroke:#000000;stroke-width:0.8;\"/>\r\n      </defs>\r\n      <g>\r\n       <use style=\"stroke:#000000;stroke-width:0.8;\" x=\"73.9125\" xlink:href=\"#m7cc2638124\" y=\"660.442186\"/>\r\n      </g>\r\n     </g>\r\n     <g id=\"text_1\">\r\n      <!-- Quick Bites -->\r\n      <g transform=\"translate(76.671875 723.818749)rotate(-90)scale(0.1 -0.1)\">\r\n       <defs>\r\n        <path d=\"M 39.40625 66.21875 \r\nQ 28.65625 66.21875 22.328125 58.203125 \r\nQ 16.015625 50.203125 16.015625 36.375 \r\nQ 16.015625 22.609375 22.328125 14.59375 \r\nQ 28.65625 6.59375 39.40625 6.59375 \r\nQ 50.140625 6.59375 56.421875 14.59375 \r\nQ 62.703125 22.609375 62.703125 36.375 \r\nQ 62.703125 50.203125 56.421875 58.203125 \r\nQ 50.140625 66.21875 39.40625 66.21875 \r\nz\r\nM 53.21875 1.3125 \r\nL 66.21875 -12.890625 \r\nL 54.296875 -12.890625 \r\nL 43.5 -1.21875 \r\nQ 41.890625 -1.3125 41.03125 -1.359375 \r\nQ 40.1875 -1.421875 39.40625 -1.421875 \r\nQ 24.03125 -1.421875 14.8125 8.859375 \r\nQ 5.609375 19.140625 5.609375 36.375 \r\nQ 5.609375 53.65625 14.8125 63.9375 \r\nQ 24.03125 74.21875 39.40625 74.21875 \r\nQ 54.734375 74.21875 63.90625 63.9375 \r\nQ 73.09375 53.65625 73.09375 36.375 \r\nQ 73.09375 23.6875 67.984375 14.640625 \r\nQ 62.890625 5.609375 53.21875 1.3125 \r\nz\r\n\" id=\"DejaVuSans-81\"/>\r\n        <path d=\"M 8.5 21.578125 \r\nL 8.5 54.6875 \r\nL 17.484375 54.6875 \r\nL 17.484375 21.921875 \r\nQ 17.484375 14.15625 20.5 10.265625 \r\nQ 23.53125 6.390625 29.59375 6.390625 \r\nQ 36.859375 6.390625 41.078125 11.03125 \r\nQ 45.3125 15.671875 45.3125 23.6875 \r\nL 45.3125 54.6875 \r\nL 54.296875 54.6875 \r\nL 54.296875 0 \r\nL 45.3125 0 \r\nL 45.3125 8.40625 \r\nQ 42.046875 3.421875 37.71875 1 \r\nQ 33.40625 -1.421875 27.6875 -1.421875 \r\nQ 18.265625 -1.421875 13.375 4.4375 \r\nQ 8.5 10.296875 8.5 21.578125 \r\nz\r\nM 31.109375 56 \r\nz\r\n\" id=\"DejaVuSans-117\"/>\r\n        <path d=\"M 9.421875 54.6875 \r\nL 18.40625 54.6875 \r\nL 18.40625 0 \r\nL 9.421875 0 \r\nz\r\nM 9.421875 75.984375 \r\nL 18.40625 75.984375 \r\nL 18.40625 64.59375 \r\nL 9.421875 64.59375 \r\nz\r\n\" id=\"DejaVuSans-105\"/>\r\n        <path d=\"M 48.78125 52.59375 \r\nL 48.78125 44.1875 \r\nQ 44.96875 46.296875 41.140625 47.34375 \r\nQ 37.3125 48.390625 33.40625 48.390625 \r\nQ 24.65625 48.390625 19.8125 42.84375 \r\nQ 14.984375 37.3125 14.984375 27.296875 \r\nQ 14.984375 17.28125 19.8125 11.734375 \r\nQ 24.65625 6.203125 33.40625 6.203125 \r\nQ 37.3125 6.203125 41.140625 7.25 \r\nQ 44.96875 8.296875 48.78125 10.40625 \r\nL 48.78125 2.09375 \r\nQ 45.015625 0.34375 40.984375 -0.53125 \r\nQ 36.96875 -1.421875 32.421875 -1.421875 \r\nQ 20.0625 -1.421875 12.78125 6.34375 \r\nQ 5.515625 14.109375 5.515625 27.296875 \r\nQ 5.515625 40.671875 12.859375 48.328125 \r\nQ 20.21875 56 33.015625 56 \r\nQ 37.15625 56 41.109375 55.140625 \r\nQ 45.0625 54.296875 48.78125 52.59375 \r\nz\r\n\" id=\"DejaVuSans-99\"/>\r\n        <path d=\"M 9.078125 75.984375 \r\nL 18.109375 75.984375 \r\nL 18.109375 31.109375 \r\nL 44.921875 54.6875 \r\nL 56.390625 54.6875 \r\nL 27.390625 29.109375 \r\nL 57.625 0 \r\nL 45.90625 0 \r\nL 18.109375 26.703125 \r\nL 18.109375 0 \r\nL 9.078125 0 \r\nz\r\n\" id=\"DejaVuSans-107\"/>\r\n        <path id=\"DejaVuSans-32\"/>\r\n        <path d=\"M 19.671875 34.8125 \r\nL 19.671875 8.109375 \r\nL 35.5 8.109375 \r\nQ 43.453125 8.109375 47.28125 11.40625 \r\nQ 51.125 14.703125 51.125 21.484375 \r\nQ 51.125 28.328125 47.28125 31.5625 \r\nQ 43.453125 34.8125 35.5 34.8125 \r\nz\r\nM 19.671875 64.796875 \r\nL 19.671875 42.828125 \r\nL 34.28125 42.828125 \r\nQ 41.5 42.828125 45.03125 45.53125 \r\nQ 48.578125 48.25 48.578125 53.8125 \r\nQ 48.578125 59.328125 45.03125 62.0625 \r\nQ 41.5 64.796875 34.28125 64.796875 \r\nz\r\nM 9.8125 72.90625 \r\nL 35.015625 72.90625 \r\nQ 46.296875 72.90625 52.390625 68.21875 \r\nQ 58.5 63.53125 58.5 54.890625 \r\nQ 58.5 48.1875 55.375 44.234375 \r\nQ 52.25 40.28125 46.1875 39.3125 \r\nQ 53.46875 37.75 57.5 32.78125 \r\nQ 61.53125 27.828125 61.53125 20.40625 \r\nQ 61.53125 10.640625 54.890625 5.3125 \r\nQ 48.25 0 35.984375 0 \r\nL 9.8125 0 \r\nz\r\n\" id=\"DejaVuSans-66\"/>\r\n        <path d=\"M 18.3125 70.21875 \r\nL 18.3125 54.6875 \r\nL 36.8125 54.6875 \r\nL 36.8125 47.703125 \r\nL 18.3125 47.703125 \r\nL 18.3125 18.015625 \r\nQ 18.3125 11.328125 20.140625 9.421875 \r\nQ 21.96875 7.515625 27.59375 7.515625 \r\nL 36.8125 7.515625 \r\nL 36.8125 0 \r\nL 27.59375 0 \r\nQ 17.1875 0 13.234375 3.875 \r\nQ 9.28125 7.765625 9.28125 18.015625 \r\nL 9.28125 47.703125 \r\nL 2.6875 47.703125 \r\nL 2.6875 54.6875 \r\nL 9.28125 54.6875 \r\nL 9.28125 70.21875 \r\nz\r\n\" id=\"DejaVuSans-116\"/>\r\n        <path d=\"M 56.203125 29.59375 \r\nL 56.203125 25.203125 \r\nL 14.890625 25.203125 \r\nQ 15.484375 15.921875 20.484375 11.0625 \r\nQ 25.484375 6.203125 34.421875 6.203125 \r\nQ 39.59375 6.203125 44.453125 7.46875 \r\nQ 49.3125 8.734375 54.109375 11.28125 \r\nL 54.109375 2.78125 \r\nQ 49.265625 0.734375 44.1875 -0.34375 \r\nQ 39.109375 -1.421875 33.890625 -1.421875 \r\nQ 20.796875 -1.421875 13.15625 6.1875 \r\nQ 5.515625 13.8125 5.515625 26.8125 \r\nQ 5.515625 40.234375 12.765625 48.109375 \r\nQ 20.015625 56 32.328125 56 \r\nQ 43.359375 56 49.78125 48.890625 \r\nQ 56.203125 41.796875 56.203125 29.59375 \r\nz\r\nM 47.21875 32.234375 \r\nQ 47.125 39.59375 43.09375 43.984375 \r\nQ 39.0625 48.390625 32.421875 48.390625 \r\nQ 24.90625 48.390625 20.390625 44.140625 \r\nQ 15.875 39.890625 15.1875 32.171875 \r\nz\r\n\" id=\"DejaVuSans-101\"/>\r\n        <path d=\"M 44.28125 53.078125 \r\nL 44.28125 44.578125 \r\nQ 40.484375 46.53125 36.375 47.5 \r\nQ 32.28125 48.484375 27.875 48.484375 \r\nQ 21.1875 48.484375 17.84375 46.4375 \r\nQ 14.5 44.390625 14.5 40.28125 \r\nQ 14.5 37.15625 16.890625 35.375 \r\nQ 19.28125 33.59375 26.515625 31.984375 \r\nL 29.59375 31.296875 \r\nQ 39.15625 29.25 43.1875 25.515625 \r\nQ 47.21875 21.78125 47.21875 15.09375 \r\nQ 47.21875 7.46875 41.1875 3.015625 \r\nQ 35.15625 -1.421875 24.609375 -1.421875 \r\nQ 20.21875 -1.421875 15.453125 -0.5625 \r\nQ 10.6875 0.296875 5.421875 2 \r\nL 5.421875 11.28125 \r\nQ 10.40625 8.6875 15.234375 7.390625 \r\nQ 20.0625 6.109375 24.8125 6.109375 \r\nQ 31.15625 6.109375 34.5625 8.28125 \r\nQ 37.984375 10.453125 37.984375 14.40625 \r\nQ 37.984375 18.0625 35.515625 20.015625 \r\nQ 33.0625 21.96875 24.703125 23.78125 \r\nL 21.578125 24.515625 \r\nQ 13.234375 26.265625 9.515625 29.90625 \r\nQ 5.8125 33.546875 5.8125 39.890625 \r\nQ 5.8125 47.609375 11.28125 51.796875 \r\nQ 16.75 56 26.8125 56 \r\nQ 31.78125 56 36.171875 55.265625 \r\nQ 40.578125 54.546875 44.28125 53.078125 \r\nz\r\n\" id=\"DejaVuSans-115\"/>\r\n       </defs>\r\n       <use xlink:href=\"#DejaVuSans-81\"/>\r\n       <use x=\"78.710938\" xlink:href=\"#DejaVuSans-117\"/>\r\n       <use x=\"142.089844\" xlink:href=\"#DejaVuSans-105\"/>\r\n       <use x=\"169.873047\" xlink:href=\"#DejaVuSans-99\"/>\r\n       <use x=\"224.853516\" xlink:href=\"#DejaVuSans-107\"/>\r\n       <use x=\"282.763672\" xlink:href=\"#DejaVuSans-32\"/>\r\n       <use x=\"314.550781\" xlink:href=\"#DejaVuSans-66\"/>\r\n       <use x=\"383.154297\" xlink:href=\"#DejaVuSans-105\"/>\r\n       <use x=\"410.9375\" xlink:href=\"#DejaVuSans-116\"/>\r\n       <use x=\"450.146484\" xlink:href=\"#DejaVuSans-101\"/>\r\n       <use x=\"511.669922\" xlink:href=\"#DejaVuSans-115\"/>\r\n      </g>\r\n     </g>\r\n    </g>\r\n    <g id=\"xtick_2\">\r\n     <g id=\"line2d_2\">\r\n      <g>\r\n       <use style=\"stroke:#000000;stroke-width:0.8;\" x=\"129.7125\" xlink:href=\"#m7cc2638124\" y=\"660.442186\"/>\r\n      </g>\r\n     </g>\r\n     <g id=\"text_2\">\r\n      <!-- Casual Dining -->\r\n      <g transform=\"translate(132.471875 736.464061)rotate(-90)scale(0.1 -0.1)\">\r\n       <defs>\r\n        <path d=\"M 64.40625 67.28125 \r\nL 64.40625 56.890625 \r\nQ 59.421875 61.53125 53.78125 63.8125 \r\nQ 48.140625 66.109375 41.796875 66.109375 \r\nQ 29.296875 66.109375 22.65625 58.46875 \r\nQ 16.015625 50.828125 16.015625 36.375 \r\nQ 16.015625 21.96875 22.65625 14.328125 \r\nQ 29.296875 6.6875 41.796875 6.6875 \r\nQ 48.140625 6.6875 53.78125 8.984375 \r\nQ 59.421875 11.28125 64.40625 15.921875 \r\nL 64.40625 5.609375 \r\nQ 59.234375 2.09375 53.4375 0.328125 \r\nQ 47.65625 -1.421875 41.21875 -1.421875 \r\nQ 24.65625 -1.421875 15.125 8.703125 \r\nQ 5.609375 18.84375 5.609375 36.375 \r\nQ 5.609375 53.953125 15.125 64.078125 \r\nQ 24.65625 74.21875 41.21875 74.21875 \r\nQ 47.75 74.21875 53.53125 72.484375 \r\nQ 59.328125 70.75 64.40625 67.28125 \r\nz\r\n\" id=\"DejaVuSans-67\"/>\r\n        <path d=\"M 34.28125 27.484375 \r\nQ 23.390625 27.484375 19.1875 25 \r\nQ 14.984375 22.515625 14.984375 16.5 \r\nQ 14.984375 11.71875 18.140625 8.90625 \r\nQ 21.296875 6.109375 26.703125 6.109375 \r\nQ 34.1875 6.109375 38.703125 11.40625 \r\nQ 43.21875 16.703125 43.21875 25.484375 \r\nL 43.21875 27.484375 \r\nz\r\nM 52.203125 31.203125 \r\nL 52.203125 0 \r\nL 43.21875 0 \r\nL 43.21875 8.296875 \r\nQ 40.140625 3.328125 35.546875 0.953125 \r\nQ 30.953125 -1.421875 24.3125 -1.421875 \r\nQ 15.921875 -1.421875 10.953125 3.296875 \r\nQ 6 8.015625 6 15.921875 \r\nQ 6 25.140625 12.171875 29.828125 \r\nQ 18.359375 34.515625 30.609375 34.515625 \r\nL 43.21875 34.515625 \r\nL 43.21875 35.40625 \r\nQ 43.21875 41.609375 39.140625 45 \r\nQ 35.0625 48.390625 27.6875 48.390625 \r\nQ 23 48.390625 18.546875 47.265625 \r\nQ 14.109375 46.140625 10.015625 43.890625 \r\nL 10.015625 52.203125 \r\nQ 14.9375 54.109375 19.578125 55.046875 \r\nQ 24.21875 56 28.609375 56 \r\nQ 40.484375 56 46.34375 49.84375 \r\nQ 52.203125 43.703125 52.203125 31.203125 \r\nz\r\n\" id=\"DejaVuSans-97\"/>\r\n        <path d=\"M 9.421875 75.984375 \r\nL 18.40625 75.984375 \r\nL 18.40625 0 \r\nL 9.421875 0 \r\nz\r\n\" id=\"DejaVuSans-108\"/>\r\n        <path d=\"M 19.671875 64.796875 \r\nL 19.671875 8.109375 \r\nL 31.59375 8.109375 \r\nQ 46.6875 8.109375 53.6875 14.9375 \r\nQ 60.6875 21.78125 60.6875 36.53125 \r\nQ 60.6875 51.171875 53.6875 57.984375 \r\nQ 46.6875 64.796875 31.59375 64.796875 \r\nz\r\nM 9.8125 72.90625 \r\nL 30.078125 72.90625 \r\nQ 51.265625 72.90625 61.171875 64.09375 \r\nQ 71.09375 55.28125 71.09375 36.53125 \r\nQ 71.09375 17.671875 61.125 8.828125 \r\nQ 51.171875 0 30.078125 0 \r\nL 9.8125 0 \r\nz\r\n\" id=\"DejaVuSans-68\"/>\r\n        <path d=\"M 54.890625 33.015625 \r\nL 54.890625 0 \r\nL 45.90625 0 \r\nL 45.90625 32.71875 \r\nQ 45.90625 40.484375 42.875 44.328125 \r\nQ 39.84375 48.1875 33.796875 48.1875 \r\nQ 26.515625 48.1875 22.3125 43.546875 \r\nQ 18.109375 38.921875 18.109375 30.90625 \r\nL 18.109375 0 \r\nL 9.078125 0 \r\nL 9.078125 54.6875 \r\nL 18.109375 54.6875 \r\nL 18.109375 46.1875 \r\nQ 21.34375 51.125 25.703125 53.5625 \r\nQ 30.078125 56 35.796875 56 \r\nQ 45.21875 56 50.046875 50.171875 \r\nQ 54.890625 44.34375 54.890625 33.015625 \r\nz\r\n\" id=\"DejaVuSans-110\"/>\r\n        <path d=\"M 45.40625 27.984375 \r\nQ 45.40625 37.75 41.375 43.109375 \r\nQ 37.359375 48.484375 30.078125 48.484375 \r\nQ 22.859375 48.484375 18.828125 43.109375 \r\nQ 14.796875 37.75 14.796875 27.984375 \r\nQ 14.796875 18.265625 18.828125 12.890625 \r\nQ 22.859375 7.515625 30.078125 7.515625 \r\nQ 37.359375 7.515625 41.375 12.890625 \r\nQ 45.40625 18.265625 45.40625 27.984375 \r\nz\r\nM 54.390625 6.78125 \r\nQ 54.390625 -7.171875 48.1875 -13.984375 \r\nQ 42 -20.796875 29.203125 -20.796875 \r\nQ 24.46875 -20.796875 20.265625 -20.09375 \r\nQ 16.0625 -19.390625 12.109375 -17.921875 \r\nL 12.109375 -9.1875 \r\nQ 16.0625 -11.328125 19.921875 -12.34375 \r\nQ 23.78125 -13.375 27.78125 -13.375 \r\nQ 36.625 -13.375 41.015625 -8.765625 \r\nQ 45.40625 -4.15625 45.40625 5.171875 \r\nL 45.40625 9.625 \r\nQ 42.625 4.78125 38.28125 2.390625 \r\nQ 33.9375 0 27.875 0 \r\nQ 17.828125 0 11.671875 7.65625 \r\nQ 5.515625 15.328125 5.515625 27.984375 \r\nQ 5.515625 40.671875 11.671875 48.328125 \r\nQ 17.828125 56 27.875 56 \r\nQ 33.9375 56 38.28125 53.609375 \r\nQ 42.625 51.21875 45.40625 46.390625 \r\nL 45.40625 54.6875 \r\nL 54.390625 54.6875 \r\nz\r\n\" id=\"DejaVuSans-103\"/>\r\n       </defs>\r\n       <use xlink:href=\"#DejaVuSans-67\"/>\r\n       <use x=\"69.824219\" xlink:href=\"#DejaVuSans-97\"/>\r\n       <use x=\"131.103516\" xlink:href=\"#DejaVuSans-115\"/>\r\n       <use x=\"183.203125\" xlink:href=\"#DejaVuSans-117\"/>\r\n       <use x=\"246.582031\" xlink:href=\"#DejaVuSans-97\"/>\r\n       <use x=\"307.861328\" xlink:href=\"#DejaVuSans-108\"/>\r\n       <use x=\"335.644531\" xlink:href=\"#DejaVuSans-32\"/>\r\n       <use x=\"367.431641\" xlink:href=\"#DejaVuSans-68\"/>\r\n       <use x=\"444.433594\" xlink:href=\"#DejaVuSans-105\"/>\r\n       <use x=\"472.216797\" xlink:href=\"#DejaVuSans-110\"/>\r\n       <use x=\"535.595703\" xlink:href=\"#DejaVuSans-105\"/>\r\n       <use x=\"563.378906\" xlink:href=\"#DejaVuSans-110\"/>\r\n       <use x=\"626.757812\" xlink:href=\"#DejaVuSans-103\"/>\r\n      </g>\r\n     </g>\r\n    </g>\r\n    <g id=\"xtick_3\">\r\n     <g id=\"line2d_3\">\r\n      <g>\r\n       <use style=\"stroke:#000000;stroke-width:0.8;\" x=\"185.5125\" xlink:href=\"#m7cc2638124\" y=\"660.442186\"/>\r\n      </g>\r\n     </g>\r\n     <g id=\"text_3\">\r\n      <!-- Cafe -->\r\n      <g transform=\"translate(188.271875 690.226561)rotate(-90)scale(0.1 -0.1)\">\r\n       <defs>\r\n        <path d=\"M 37.109375 75.984375 \r\nL 37.109375 68.5 \r\nL 28.515625 68.5 \r\nQ 23.6875 68.5 21.796875 66.546875 \r\nQ 19.921875 64.59375 19.921875 59.515625 \r\nL 19.921875 54.6875 \r\nL 34.71875 54.6875 \r\nL 34.71875 47.703125 \r\nL 19.921875 47.703125 \r\nL 19.921875 0 \r\nL 10.890625 0 \r\nL 10.890625 47.703125 \r\nL 2.296875 47.703125 \r\nL 2.296875 54.6875 \r\nL 10.890625 54.6875 \r\nL 10.890625 58.5 \r\nQ 10.890625 67.625 15.140625 71.796875 \r\nQ 19.390625 75.984375 28.609375 75.984375 \r\nz\r\n\" id=\"DejaVuSans-102\"/>\r\n       </defs>\r\n       <use xlink:href=\"#DejaVuSans-67\"/>\r\n       <use x=\"69.824219\" xlink:href=\"#DejaVuSans-97\"/>\r\n       <use x=\"131.103516\" xlink:href=\"#DejaVuSans-102\"/>\r\n       <use x=\"166.308594\" xlink:href=\"#DejaVuSans-101\"/>\r\n      </g>\r\n     </g>\r\n    </g>\r\n    <g id=\"xtick_4\">\r\n     <g id=\"line2d_4\">\r\n      <g>\r\n       <use style=\"stroke:#000000;stroke-width:0.8;\" x=\"241.3125\" xlink:href=\"#m7cc2638124\" y=\"660.442186\"/>\r\n      </g>\r\n     </g>\r\n     <g id=\"text_4\">\r\n      <!-- Delivery -->\r\n      <g transform=\"translate(244.071875 708.953124)rotate(-90)scale(0.1 -0.1)\">\r\n       <defs>\r\n        <path d=\"M 2.984375 54.6875 \r\nL 12.5 54.6875 \r\nL 29.59375 8.796875 \r\nL 46.6875 54.6875 \r\nL 56.203125 54.6875 \r\nL 35.6875 0 \r\nL 23.484375 0 \r\nz\r\n\" id=\"DejaVuSans-118\"/>\r\n        <path d=\"M 41.109375 46.296875 \r\nQ 39.59375 47.171875 37.8125 47.578125 \r\nQ 36.03125 48 33.890625 48 \r\nQ 26.265625 48 22.1875 43.046875 \r\nQ 18.109375 38.09375 18.109375 28.8125 \r\nL 18.109375 0 \r\nL 9.078125 0 \r\nL 9.078125 54.6875 \r\nL 18.109375 54.6875 \r\nL 18.109375 46.1875 \r\nQ 20.953125 51.171875 25.484375 53.578125 \r\nQ 30.03125 56 36.53125 56 \r\nQ 37.453125 56 38.578125 55.875 \r\nQ 39.703125 55.765625 41.0625 55.515625 \r\nz\r\n\" id=\"DejaVuSans-114\"/>\r\n        <path d=\"M 32.171875 -5.078125 \r\nQ 28.375 -14.84375 24.75 -17.8125 \r\nQ 21.140625 -20.796875 15.09375 -20.796875 \r\nL 7.90625 -20.796875 \r\nL 7.90625 -13.28125 \r\nL 13.1875 -13.28125 \r\nQ 16.890625 -13.28125 18.9375 -11.515625 \r\nQ 21 -9.765625 23.484375 -3.21875 \r\nL 25.09375 0.875 \r\nL 2.984375 54.6875 \r\nL 12.5 54.6875 \r\nL 29.59375 11.921875 \r\nL 46.6875 54.6875 \r\nL 56.203125 54.6875 \r\nz\r\n\" id=\"DejaVuSans-121\"/>\r\n       </defs>\r\n       <use xlink:href=\"#DejaVuSans-68\"/>\r\n       <use x=\"77.001953\" xlink:href=\"#DejaVuSans-101\"/>\r\n       <use x=\"138.525391\" xlink:href=\"#DejaVuSans-108\"/>\r\n       <use x=\"166.308594\" xlink:href=\"#DejaVuSans-105\"/>\r\n       <use x=\"194.091797\" xlink:href=\"#DejaVuSans-118\"/>\r\n       <use x=\"253.271484\" xlink:href=\"#DejaVuSans-101\"/>\r\n       <use x=\"314.794922\" xlink:href=\"#DejaVuSans-114\"/>\r\n       <use x=\"355.908203\" xlink:href=\"#DejaVuSans-121\"/>\r\n      </g>\r\n     </g>\r\n    </g>\r\n    <g id=\"xtick_5\">\r\n     <g id=\"line2d_5\">\r\n      <g>\r\n       <use style=\"stroke:#000000;stroke-width:0.8;\" x=\"297.1125\" xlink:href=\"#m7cc2638124\" y=\"660.442186\"/>\r\n      </g>\r\n     </g>\r\n     <g id=\"text_5\">\r\n      <!-- Dessert Parlor -->\r\n      <g transform=\"translate(299.871875 737.903124)rotate(-90)scale(0.1 -0.1)\">\r\n       <defs>\r\n        <path d=\"M 19.671875 64.796875 \r\nL 19.671875 37.40625 \r\nL 32.078125 37.40625 \r\nQ 38.96875 37.40625 42.71875 40.96875 \r\nQ 46.484375 44.53125 46.484375 51.125 \r\nQ 46.484375 57.671875 42.71875 61.234375 \r\nQ 38.96875 64.796875 32.078125 64.796875 \r\nz\r\nM 9.8125 72.90625 \r\nL 32.078125 72.90625 \r\nQ 44.34375 72.90625 50.609375 67.359375 \r\nQ 56.890625 61.8125 56.890625 51.125 \r\nQ 56.890625 40.328125 50.609375 34.8125 \r\nQ 44.34375 29.296875 32.078125 29.296875 \r\nL 19.671875 29.296875 \r\nL 19.671875 0 \r\nL 9.8125 0 \r\nz\r\n\" id=\"DejaVuSans-80\"/>\r\n        <path d=\"M 30.609375 48.390625 \r\nQ 23.390625 48.390625 19.1875 42.75 \r\nQ 14.984375 37.109375 14.984375 27.296875 \r\nQ 14.984375 17.484375 19.15625 11.84375 \r\nQ 23.34375 6.203125 30.609375 6.203125 \r\nQ 37.796875 6.203125 41.984375 11.859375 \r\nQ 46.1875 17.53125 46.1875 27.296875 \r\nQ 46.1875 37.015625 41.984375 42.703125 \r\nQ 37.796875 48.390625 30.609375 48.390625 \r\nz\r\nM 30.609375 56 \r\nQ 42.328125 56 49.015625 48.375 \r\nQ 55.71875 40.765625 55.71875 27.296875 \r\nQ 55.71875 13.875 49.015625 6.21875 \r\nQ 42.328125 -1.421875 30.609375 -1.421875 \r\nQ 18.84375 -1.421875 12.171875 6.21875 \r\nQ 5.515625 13.875 5.515625 27.296875 \r\nQ 5.515625 40.765625 12.171875 48.375 \r\nQ 18.84375 56 30.609375 56 \r\nz\r\n\" id=\"DejaVuSans-111\"/>\r\n       </defs>\r\n       <use xlink:href=\"#DejaVuSans-68\"/>\r\n       <use x=\"77.001953\" xlink:href=\"#DejaVuSans-101\"/>\r\n       <use x=\"138.525391\" xlink:href=\"#DejaVuSans-115\"/>\r\n       <use x=\"190.625\" xlink:href=\"#DejaVuSans-115\"/>\r\n       <use x=\"242.724609\" xlink:href=\"#DejaVuSans-101\"/>\r\n       <use x=\"304.248047\" xlink:href=\"#DejaVuSans-114\"/>\r\n       <use x=\"345.361328\" xlink:href=\"#DejaVuSans-116\"/>\r\n       <use x=\"384.570312\" xlink:href=\"#DejaVuSans-32\"/>\r\n       <use x=\"416.357422\" xlink:href=\"#DejaVuSans-80\"/>\r\n       <use x=\"472.160156\" xlink:href=\"#DejaVuSans-97\"/>\r\n       <use x=\"533.439453\" xlink:href=\"#DejaVuSans-114\"/>\r\n       <use x=\"574.552734\" xlink:href=\"#DejaVuSans-108\"/>\r\n       <use x=\"602.335938\" xlink:href=\"#DejaVuSans-111\"/>\r\n       <use x=\"663.517578\" xlink:href=\"#DejaVuSans-114\"/>\r\n      </g>\r\n     </g>\r\n    </g>\r\n    <g id=\"xtick_6\">\r\n     <g id=\"line2d_6\">\r\n      <g>\r\n       <use style=\"stroke:#000000;stroke-width:0.8;\" x=\"352.9125\" xlink:href=\"#m7cc2638124\" y=\"660.442186\"/>\r\n      </g>\r\n     </g>\r\n     <g id=\"text_6\">\r\n      <!-- Takeaway, Delivery -->\r\n      <g transform=\"translate(355.671875 763.829686)rotate(-90)scale(0.1 -0.1)\">\r\n       <defs>\r\n        <path d=\"M -0.296875 72.90625 \r\nL 61.375 72.90625 \r\nL 61.375 64.59375 \r\nL 35.5 64.59375 \r\nL 35.5 0 \r\nL 25.59375 0 \r\nL 25.59375 64.59375 \r\nL -0.296875 64.59375 \r\nz\r\n\" id=\"DejaVuSans-84\"/>\r\n        <path d=\"M 4.203125 54.6875 \r\nL 13.1875 54.6875 \r\nL 24.421875 12.015625 \r\nL 35.59375 54.6875 \r\nL 46.1875 54.6875 \r\nL 57.421875 12.015625 \r\nL 68.609375 54.6875 \r\nL 77.59375 54.6875 \r\nL 63.28125 0 \r\nL 52.6875 0 \r\nL 40.921875 44.828125 \r\nL 29.109375 0 \r\nL 18.5 0 \r\nz\r\n\" id=\"DejaVuSans-119\"/>\r\n        <path d=\"M 11.71875 12.40625 \r\nL 22.015625 12.40625 \r\nL 22.015625 4 \r\nL 14.015625 -11.625 \r\nL 7.71875 -11.625 \r\nL 11.71875 4 \r\nz\r\n\" id=\"DejaVuSans-44\"/>\r\n       </defs>\r\n       <use xlink:href=\"#DejaVuSans-84\"/>\r\n       <use x=\"44.583984\" xlink:href=\"#DejaVuSans-97\"/>\r\n       <use x=\"105.863281\" xlink:href=\"#DejaVuSans-107\"/>\r\n       <use x=\"160.148438\" xlink:href=\"#DejaVuSans-101\"/>\r\n       <use x=\"221.671875\" xlink:href=\"#DejaVuSans-97\"/>\r\n       <use x=\"282.951172\" xlink:href=\"#DejaVuSans-119\"/>\r\n       <use x=\"364.738281\" xlink:href=\"#DejaVuSans-97\"/>\r\n       <use x=\"426.017578\" xlink:href=\"#DejaVuSans-121\"/>\r\n       <use x=\"485.197266\" xlink:href=\"#DejaVuSans-44\"/>\r\n       <use x=\"516.984375\" xlink:href=\"#DejaVuSans-32\"/>\r\n       <use x=\"548.771484\" xlink:href=\"#DejaVuSans-68\"/>\r\n       <use x=\"625.773438\" xlink:href=\"#DejaVuSans-101\"/>\r\n       <use x=\"687.296875\" xlink:href=\"#DejaVuSans-108\"/>\r\n       <use x=\"715.080078\" xlink:href=\"#DejaVuSans-105\"/>\r\n       <use x=\"742.863281\" xlink:href=\"#DejaVuSans-118\"/>\r\n       <use x=\"802.042969\" xlink:href=\"#DejaVuSans-101\"/>\r\n       <use x=\"863.566406\" xlink:href=\"#DejaVuSans-114\"/>\r\n       <use x=\"904.679688\" xlink:href=\"#DejaVuSans-121\"/>\r\n      </g>\r\n     </g>\r\n    </g>\r\n    <g id=\"xtick_7\">\r\n     <g id=\"line2d_7\">\r\n      <g>\r\n       <use style=\"stroke:#000000;stroke-width:0.8;\" x=\"408.7125\" xlink:href=\"#m7cc2638124\" y=\"660.442186\"/>\r\n      </g>\r\n     </g>\r\n     <g id=\"text_7\">\r\n      <!-- Casual Dining, Bar -->\r\n      <g transform=\"translate(411.471875 759.920311)rotate(-90)scale(0.1 -0.1)\">\r\n       <use xlink:href=\"#DejaVuSans-67\"/>\r\n       <use x=\"69.824219\" xlink:href=\"#DejaVuSans-97\"/>\r\n       <use x=\"131.103516\" xlink:href=\"#DejaVuSans-115\"/>\r\n       <use x=\"183.203125\" xlink:href=\"#DejaVuSans-117\"/>\r\n       <use x=\"246.582031\" xlink:href=\"#DejaVuSans-97\"/>\r\n       <use x=\"307.861328\" xlink:href=\"#DejaVuSans-108\"/>\r\n       <use x=\"335.644531\" xlink:href=\"#DejaVuSans-32\"/>\r\n       <use x=\"367.431641\" xlink:href=\"#DejaVuSans-68\"/>\r\n       <use x=\"444.433594\" xlink:href=\"#DejaVuSans-105\"/>\r\n       <use x=\"472.216797\" xlink:href=\"#DejaVuSans-110\"/>\r\n       <use x=\"535.595703\" xlink:href=\"#DejaVuSans-105\"/>\r\n       <use x=\"563.378906\" xlink:href=\"#DejaVuSans-110\"/>\r\n       <use x=\"626.757812\" xlink:href=\"#DejaVuSans-103\"/>\r\n       <use x=\"690.234375\" xlink:href=\"#DejaVuSans-44\"/>\r\n       <use x=\"722.021484\" xlink:href=\"#DejaVuSans-32\"/>\r\n       <use x=\"753.808594\" xlink:href=\"#DejaVuSans-66\"/>\r\n       <use x=\"822.412109\" xlink:href=\"#DejaVuSans-97\"/>\r\n       <use x=\"883.691406\" xlink:href=\"#DejaVuSans-114\"/>\r\n      </g>\r\n     </g>\r\n    </g>\r\n    <g id=\"xtick_8\">\r\n     <g id=\"line2d_8\">\r\n      <g>\r\n       <use style=\"stroke:#000000;stroke-width:0.8;\" x=\"464.5125\" xlink:href=\"#m7cc2638124\" y=\"660.442186\"/>\r\n      </g>\r\n     </g>\r\n     <g id=\"text_8\">\r\n      <!-- Bakery -->\r\n      <g transform=\"translate(467.271875 702.042186)rotate(-90)scale(0.1 -0.1)\">\r\n       <use xlink:href=\"#DejaVuSans-66\"/>\r\n       <use x=\"68.603516\" xlink:href=\"#DejaVuSans-97\"/>\r\n       <use x=\"129.882812\" xlink:href=\"#DejaVuSans-107\"/>\r\n       <use x=\"184.167969\" xlink:href=\"#DejaVuSans-101\"/>\r\n       <use x=\"245.691406\" xlink:href=\"#DejaVuSans-114\"/>\r\n       <use x=\"286.804688\" xlink:href=\"#DejaVuSans-121\"/>\r\n      </g>\r\n     </g>\r\n    </g>\r\n    <g id=\"xtick_9\">\r\n     <g id=\"line2d_9\">\r\n      <g>\r\n       <use style=\"stroke:#000000;stroke-width:0.8;\" x=\"520.3125\" xlink:href=\"#m7cc2638124\" y=\"660.442186\"/>\r\n      </g>\r\n     </g>\r\n     <g id=\"text_9\">\r\n      <!-- Beverage Shop -->\r\n      <g transform=\"translate(523.071875 743.599999)rotate(-90)scale(0.1 -0.1)\">\r\n       <defs>\r\n        <path d=\"M 53.515625 70.515625 \r\nL 53.515625 60.890625 \r\nQ 47.90625 63.578125 42.921875 64.890625 \r\nQ 37.9375 66.21875 33.296875 66.21875 \r\nQ 25.25 66.21875 20.875 63.09375 \r\nQ 16.5 59.96875 16.5 54.203125 \r\nQ 16.5 49.359375 19.40625 46.890625 \r\nQ 22.3125 44.4375 30.421875 42.921875 \r\nL 36.375 41.703125 \r\nQ 47.40625 39.59375 52.65625 34.296875 \r\nQ 57.90625 29 57.90625 20.125 \r\nQ 57.90625 9.515625 50.796875 4.046875 \r\nQ 43.703125 -1.421875 29.984375 -1.421875 \r\nQ 24.8125 -1.421875 18.96875 -0.25 \r\nQ 13.140625 0.921875 6.890625 3.21875 \r\nL 6.890625 13.375 \r\nQ 12.890625 10.015625 18.65625 8.296875 \r\nQ 24.421875 6.59375 29.984375 6.59375 \r\nQ 38.421875 6.59375 43.015625 9.90625 \r\nQ 47.609375 13.234375 47.609375 19.390625 \r\nQ 47.609375 24.75 44.3125 27.78125 \r\nQ 41.015625 30.8125 33.5 32.328125 \r\nL 27.484375 33.5 \r\nQ 16.453125 35.6875 11.515625 40.375 \r\nQ 6.59375 45.0625 6.59375 53.421875 \r\nQ 6.59375 63.09375 13.40625 68.65625 \r\nQ 20.21875 74.21875 32.171875 74.21875 \r\nQ 37.3125 74.21875 42.625 73.28125 \r\nQ 47.953125 72.359375 53.515625 70.515625 \r\nz\r\n\" id=\"DejaVuSans-83\"/>\r\n        <path d=\"M 54.890625 33.015625 \r\nL 54.890625 0 \r\nL 45.90625 0 \r\nL 45.90625 32.71875 \r\nQ 45.90625 40.484375 42.875 44.328125 \r\nQ 39.84375 48.1875 33.796875 48.1875 \r\nQ 26.515625 48.1875 22.3125 43.546875 \r\nQ 18.109375 38.921875 18.109375 30.90625 \r\nL 18.109375 0 \r\nL 9.078125 0 \r\nL 9.078125 75.984375 \r\nL 18.109375 75.984375 \r\nL 18.109375 46.1875 \r\nQ 21.34375 51.125 25.703125 53.5625 \r\nQ 30.078125 56 35.796875 56 \r\nQ 45.21875 56 50.046875 50.171875 \r\nQ 54.890625 44.34375 54.890625 33.015625 \r\nz\r\n\" id=\"DejaVuSans-104\"/>\r\n        <path d=\"M 18.109375 8.203125 \r\nL 18.109375 -20.796875 \r\nL 9.078125 -20.796875 \r\nL 9.078125 54.6875 \r\nL 18.109375 54.6875 \r\nL 18.109375 46.390625 \r\nQ 20.953125 51.265625 25.265625 53.625 \r\nQ 29.59375 56 35.59375 56 \r\nQ 45.5625 56 51.78125 48.09375 \r\nQ 58.015625 40.1875 58.015625 27.296875 \r\nQ 58.015625 14.40625 51.78125 6.484375 \r\nQ 45.5625 -1.421875 35.59375 -1.421875 \r\nQ 29.59375 -1.421875 25.265625 0.953125 \r\nQ 20.953125 3.328125 18.109375 8.203125 \r\nz\r\nM 48.6875 27.296875 \r\nQ 48.6875 37.203125 44.609375 42.84375 \r\nQ 40.53125 48.484375 33.40625 48.484375 \r\nQ 26.265625 48.484375 22.1875 42.84375 \r\nQ 18.109375 37.203125 18.109375 27.296875 \r\nQ 18.109375 17.390625 22.1875 11.75 \r\nQ 26.265625 6.109375 33.40625 6.109375 \r\nQ 40.53125 6.109375 44.609375 11.75 \r\nQ 48.6875 17.390625 48.6875 27.296875 \r\nz\r\n\" id=\"DejaVuSans-112\"/>\r\n       </defs>\r\n       <use xlink:href=\"#DejaVuSans-66\"/>\r\n       <use x=\"68.603516\" xlink:href=\"#DejaVuSans-101\"/>\r\n       <use x=\"130.126953\" xlink:href=\"#DejaVuSans-118\"/>\r\n       <use x=\"189.306641\" xlink:href=\"#DejaVuSans-101\"/>\r\n       <use x=\"250.830078\" xlink:href=\"#DejaVuSans-114\"/>\r\n       <use x=\"291.943359\" xlink:href=\"#DejaVuSans-97\"/>\r\n       <use x=\"353.222656\" xlink:href=\"#DejaVuSans-103\"/>\r\n       <use x=\"416.699219\" xlink:href=\"#DejaVuSans-101\"/>\r\n       <use x=\"478.222656\" xlink:href=\"#DejaVuSans-32\"/>\r\n       <use x=\"510.009766\" xlink:href=\"#DejaVuSans-83\"/>\r\n       <use x=\"573.486328\" xlink:href=\"#DejaVuSans-104\"/>\r\n       <use x=\"636.865234\" xlink:href=\"#DejaVuSans-111\"/>\r\n       <use x=\"698.046875\" xlink:href=\"#DejaVuSans-112\"/>\r\n      </g>\r\n     </g>\r\n    </g>\r\n    <g id=\"xtick_10\">\r\n     <g id=\"line2d_10\">\r\n      <g>\r\n       <use style=\"stroke:#000000;stroke-width:0.8;\" x=\"576.1125\" xlink:href=\"#m7cc2638124\" y=\"660.442186\"/>\r\n      </g>\r\n     </g>\r\n     <g id=\"text_10\">\r\n      <!-- Bar -->\r\n      <g transform=\"translate(578.871875 684.542186)rotate(-90)scale(0.1 -0.1)\">\r\n       <use xlink:href=\"#DejaVuSans-66\"/>\r\n       <use x=\"68.603516\" xlink:href=\"#DejaVuSans-97\"/>\r\n       <use x=\"129.882812\" xlink:href=\"#DejaVuSans-114\"/>\r\n      </g>\r\n     </g>\r\n    </g>\r\n    <g id=\"xtick_11\">\r\n     <g id=\"line2d_11\">\r\n      <g>\r\n       <use style=\"stroke:#000000;stroke-width:0.8;\" x=\"631.9125\" xlink:href=\"#m7cc2638124\" y=\"660.442186\"/>\r\n      </g>\r\n     </g>\r\n     <g id=\"text_11\">\r\n      <!-- Food Court -->\r\n      <g transform=\"translate(634.671875 722.065624)rotate(-90)scale(0.1 -0.1)\">\r\n       <defs>\r\n        <path d=\"M 9.8125 72.90625 \r\nL 51.703125 72.90625 \r\nL 51.703125 64.59375 \r\nL 19.671875 64.59375 \r\nL 19.671875 43.109375 \r\nL 48.578125 43.109375 \r\nL 48.578125 34.8125 \r\nL 19.671875 34.8125 \r\nL 19.671875 0 \r\nL 9.8125 0 \r\nz\r\n\" id=\"DejaVuSans-70\"/>\r\n        <path d=\"M 45.40625 46.390625 \r\nL 45.40625 75.984375 \r\nL 54.390625 75.984375 \r\nL 54.390625 0 \r\nL 45.40625 0 \r\nL 45.40625 8.203125 \r\nQ 42.578125 3.328125 38.25 0.953125 \r\nQ 33.9375 -1.421875 27.875 -1.421875 \r\nQ 17.96875 -1.421875 11.734375 6.484375 \r\nQ 5.515625 14.40625 5.515625 27.296875 \r\nQ 5.515625 40.1875 11.734375 48.09375 \r\nQ 17.96875 56 27.875 56 \r\nQ 33.9375 56 38.25 53.625 \r\nQ 42.578125 51.265625 45.40625 46.390625 \r\nz\r\nM 14.796875 27.296875 \r\nQ 14.796875 17.390625 18.875 11.75 \r\nQ 22.953125 6.109375 30.078125 6.109375 \r\nQ 37.203125 6.109375 41.296875 11.75 \r\nQ 45.40625 17.390625 45.40625 27.296875 \r\nQ 45.40625 37.203125 41.296875 42.84375 \r\nQ 37.203125 48.484375 30.078125 48.484375 \r\nQ 22.953125 48.484375 18.875 42.84375 \r\nQ 14.796875 37.203125 14.796875 27.296875 \r\nz\r\n\" id=\"DejaVuSans-100\"/>\r\n       </defs>\r\n       <use xlink:href=\"#DejaVuSans-70\"/>\r\n       <use x=\"53.894531\" xlink:href=\"#DejaVuSans-111\"/>\r\n       <use x=\"115.076172\" xlink:href=\"#DejaVuSans-111\"/>\r\n       <use x=\"176.257812\" xlink:href=\"#DejaVuSans-100\"/>\r\n       <use x=\"239.734375\" xlink:href=\"#DejaVuSans-32\"/>\r\n       <use x=\"271.521484\" xlink:href=\"#DejaVuSans-67\"/>\r\n       <use x=\"341.345703\" xlink:href=\"#DejaVuSans-111\"/>\r\n       <use x=\"402.527344\" xlink:href=\"#DejaVuSans-117\"/>\r\n       <use x=\"465.90625\" xlink:href=\"#DejaVuSans-114\"/>\r\n       <use x=\"507.019531\" xlink:href=\"#DejaVuSans-116\"/>\r\n      </g>\r\n     </g>\r\n    </g>\r\n    <g id=\"xtick_12\">\r\n     <g id=\"line2d_12\">\r\n      <g>\r\n       <use style=\"stroke:#000000;stroke-width:0.8;\" x=\"687.7125\" xlink:href=\"#m7cc2638124\" y=\"660.442186\"/>\r\n      </g>\r\n     </g>\r\n     <g id=\"text_12\">\r\n      <!-- Sweet Shop -->\r\n      <g transform=\"translate(690.471875 726.526561)rotate(-90)scale(0.1 -0.1)\">\r\n       <use xlink:href=\"#DejaVuSans-83\"/>\r\n       <use x=\"63.476562\" xlink:href=\"#DejaVuSans-119\"/>\r\n       <use x=\"145.263672\" xlink:href=\"#DejaVuSans-101\"/>\r\n       <use x=\"206.787109\" xlink:href=\"#DejaVuSans-101\"/>\r\n       <use x=\"268.310547\" xlink:href=\"#DejaVuSans-116\"/>\r\n       <use x=\"307.519531\" xlink:href=\"#DejaVuSans-32\"/>\r\n       <use x=\"339.306641\" xlink:href=\"#DejaVuSans-83\"/>\r\n       <use x=\"402.783203\" xlink:href=\"#DejaVuSans-104\"/>\r\n       <use x=\"466.162109\" xlink:href=\"#DejaVuSans-111\"/>\r\n       <use x=\"527.34375\" xlink:href=\"#DejaVuSans-112\"/>\r\n      </g>\r\n     </g>\r\n    </g>\r\n    <g id=\"xtick_13\">\r\n     <g id=\"line2d_13\">\r\n      <g>\r\n       <use style=\"stroke:#000000;stroke-width:0.8;\" x=\"743.5125\" xlink:href=\"#m7cc2638124\" y=\"660.442186\"/>\r\n      </g>\r\n     </g>\r\n     <g id=\"text_13\">\r\n      <!-- Bar, Casual Dining -->\r\n      <g transform=\"translate(746.271875 759.920311)rotate(-90)scale(0.1 -0.1)\">\r\n       <use xlink:href=\"#DejaVuSans-66\"/>\r\n       <use x=\"68.603516\" xlink:href=\"#DejaVuSans-97\"/>\r\n       <use x=\"129.882812\" xlink:href=\"#DejaVuSans-114\"/>\r\n       <use x=\"170.996094\" xlink:href=\"#DejaVuSans-44\"/>\r\n       <use x=\"202.783203\" xlink:href=\"#DejaVuSans-32\"/>\r\n       <use x=\"234.570312\" xlink:href=\"#DejaVuSans-67\"/>\r\n       <use x=\"304.394531\" xlink:href=\"#DejaVuSans-97\"/>\r\n       <use x=\"365.673828\" xlink:href=\"#DejaVuSans-115\"/>\r\n       <use x=\"417.773438\" xlink:href=\"#DejaVuSans-117\"/>\r\n       <use x=\"481.152344\" xlink:href=\"#DejaVuSans-97\"/>\r\n       <use x=\"542.431641\" xlink:href=\"#DejaVuSans-108\"/>\r\n       <use x=\"570.214844\" xlink:href=\"#DejaVuSans-32\"/>\r\n       <use x=\"602.001953\" xlink:href=\"#DejaVuSans-68\"/>\r\n       <use x=\"679.003906\" xlink:href=\"#DejaVuSans-105\"/>\r\n       <use x=\"706.787109\" xlink:href=\"#DejaVuSans-110\"/>\r\n       <use x=\"770.166016\" xlink:href=\"#DejaVuSans-105\"/>\r\n       <use x=\"797.949219\" xlink:href=\"#DejaVuSans-110\"/>\r\n       <use x=\"861.328125\" xlink:href=\"#DejaVuSans-103\"/>\r\n      </g>\r\n     </g>\r\n    </g>\r\n    <g id=\"xtick_14\">\r\n     <g id=\"line2d_14\">\r\n      <g>\r\n       <use style=\"stroke:#000000;stroke-width:0.8;\" x=\"799.3125\" xlink:href=\"#m7cc2638124\" y=\"660.442186\"/>\r\n      </g>\r\n     </g>\r\n     <g id=\"text_14\">\r\n      <!-- Lounge -->\r\n      <g transform=\"translate(802.071875 704.134374)rotate(-90)scale(0.1 -0.1)\">\r\n       <defs>\r\n        <path d=\"M 9.8125 72.90625 \r\nL 19.671875 72.90625 \r\nL 19.671875 8.296875 \r\nL 55.171875 8.296875 \r\nL 55.171875 0 \r\nL 9.8125 0 \r\nz\r\n\" id=\"DejaVuSans-76\"/>\r\n       </defs>\r\n       <use xlink:href=\"#DejaVuSans-76\"/>\r\n       <use x=\"53.962891\" xlink:href=\"#DejaVuSans-111\"/>\r\n       <use x=\"115.144531\" xlink:href=\"#DejaVuSans-117\"/>\r\n       <use x=\"178.523438\" xlink:href=\"#DejaVuSans-110\"/>\r\n       <use x=\"241.902344\" xlink:href=\"#DejaVuSans-103\"/>\r\n       <use x=\"305.378906\" xlink:href=\"#DejaVuSans-101\"/>\r\n      </g>\r\n     </g>\r\n    </g>\r\n    <g id=\"xtick_15\">\r\n     <g id=\"line2d_15\">\r\n      <g>\r\n       <use style=\"stroke:#000000;stroke-width:0.8;\" x=\"855.1125\" xlink:href=\"#m7cc2638124\" y=\"660.442186\"/>\r\n      </g>\r\n     </g>\r\n     <g id=\"text_15\">\r\n      <!-- Pub -->\r\n      <g transform=\"translate(857.871875 685.982811)rotate(-90)scale(0.1 -0.1)\">\r\n       <defs>\r\n        <path d=\"M 48.6875 27.296875 \r\nQ 48.6875 37.203125 44.609375 42.84375 \r\nQ 40.53125 48.484375 33.40625 48.484375 \r\nQ 26.265625 48.484375 22.1875 42.84375 \r\nQ 18.109375 37.203125 18.109375 27.296875 \r\nQ 18.109375 17.390625 22.1875 11.75 \r\nQ 26.265625 6.109375 33.40625 6.109375 \r\nQ 40.53125 6.109375 44.609375 11.75 \r\nQ 48.6875 17.390625 48.6875 27.296875 \r\nz\r\nM 18.109375 46.390625 \r\nQ 20.953125 51.265625 25.265625 53.625 \r\nQ 29.59375 56 35.59375 56 \r\nQ 45.5625 56 51.78125 48.09375 \r\nQ 58.015625 40.1875 58.015625 27.296875 \r\nQ 58.015625 14.40625 51.78125 6.484375 \r\nQ 45.5625 -1.421875 35.59375 -1.421875 \r\nQ 29.59375 -1.421875 25.265625 0.953125 \r\nQ 20.953125 3.328125 18.109375 8.203125 \r\nL 18.109375 0 \r\nL 9.078125 0 \r\nL 9.078125 75.984375 \r\nL 18.109375 75.984375 \r\nz\r\n\" id=\"DejaVuSans-98\"/>\r\n       </defs>\r\n       <use xlink:href=\"#DejaVuSans-80\"/>\r\n       <use x=\"58.552734\" xlink:href=\"#DejaVuSans-117\"/>\r\n       <use x=\"121.931641\" xlink:href=\"#DejaVuSans-98\"/>\r\n      </g>\r\n     </g>\r\n    </g>\r\n    <g id=\"xtick_16\">\r\n     <g id=\"line2d_16\">\r\n      <g>\r\n       <use style=\"stroke:#000000;stroke-width:0.8;\" x=\"910.9125\" xlink:href=\"#m7cc2638124\" y=\"660.442186\"/>\r\n      </g>\r\n     </g>\r\n     <g id=\"text_16\">\r\n      <!-- Fine Dining -->\r\n      <g transform=\"translate(913.671875 723.195311)rotate(-90)scale(0.1 -0.1)\">\r\n       <use xlink:href=\"#DejaVuSans-70\"/>\r\n       <use x=\"50.269531\" xlink:href=\"#DejaVuSans-105\"/>\r\n       <use x=\"78.052734\" xlink:href=\"#DejaVuSans-110\"/>\r\n       <use x=\"141.431641\" xlink:href=\"#DejaVuSans-101\"/>\r\n       <use x=\"202.955078\" xlink:href=\"#DejaVuSans-32\"/>\r\n       <use x=\"234.742188\" xlink:href=\"#DejaVuSans-68\"/>\r\n       <use x=\"311.744141\" xlink:href=\"#DejaVuSans-105\"/>\r\n       <use x=\"339.527344\" xlink:href=\"#DejaVuSans-110\"/>\r\n       <use x=\"402.90625\" xlink:href=\"#DejaVuSans-105\"/>\r\n       <use x=\"430.689453\" xlink:href=\"#DejaVuSans-110\"/>\r\n       <use x=\"494.068359\" xlink:href=\"#DejaVuSans-103\"/>\r\n      </g>\r\n     </g>\r\n    </g>\r\n    <g id=\"xtick_17\">\r\n     <g id=\"line2d_17\">\r\n      <g>\r\n       <use style=\"stroke:#000000;stroke-width:0.8;\" x=\"966.7125\" xlink:href=\"#m7cc2638124\" y=\"660.442186\"/>\r\n      </g>\r\n     </g>\r\n     <g id=\"text_17\">\r\n      <!-- Casual Dining, Cafe -->\r\n      <g transform=\"translate(969.471875 765.604686)rotate(-90)scale(0.1 -0.1)\">\r\n       <use xlink:href=\"#DejaVuSans-67\"/>\r\n       <use x=\"69.824219\" xlink:href=\"#DejaVuSans-97\"/>\r\n       <use x=\"131.103516\" xlink:href=\"#DejaVuSans-115\"/>\r\n       <use x=\"183.203125\" xlink:href=\"#DejaVuSans-117\"/>\r\n       <use x=\"246.582031\" xlink:href=\"#DejaVuSans-97\"/>\r\n       <use x=\"307.861328\" xlink:href=\"#DejaVuSans-108\"/>\r\n       <use x=\"335.644531\" xlink:href=\"#DejaVuSans-32\"/>\r\n       <use x=\"367.431641\" xlink:href=\"#DejaVuSans-68\"/>\r\n       <use x=\"444.433594\" xlink:href=\"#DejaVuSans-105\"/>\r\n       <use x=\"472.216797\" xlink:href=\"#DejaVuSans-110\"/>\r\n       <use x=\"535.595703\" xlink:href=\"#DejaVuSans-105\"/>\r\n       <use x=\"563.378906\" xlink:href=\"#DejaVuSans-110\"/>\r\n       <use x=\"626.757812\" xlink:href=\"#DejaVuSans-103\"/>\r\n       <use x=\"690.234375\" xlink:href=\"#DejaVuSans-44\"/>\r\n       <use x=\"722.021484\" xlink:href=\"#DejaVuSans-32\"/>\r\n       <use x=\"753.808594\" xlink:href=\"#DejaVuSans-67\"/>\r\n       <use x=\"823.632812\" xlink:href=\"#DejaVuSans-97\"/>\r\n       <use x=\"884.912109\" xlink:href=\"#DejaVuSans-102\"/>\r\n       <use x=\"920.117188\" xlink:href=\"#DejaVuSans-101\"/>\r\n      </g>\r\n     </g>\r\n    </g>\r\n    <g id=\"xtick_18\">\r\n     <g id=\"line2d_18\">\r\n      <g>\r\n       <use style=\"stroke:#000000;stroke-width:0.8;\" x=\"1022.5125\" xlink:href=\"#m7cc2638124\" y=\"660.442186\"/>\r\n      </g>\r\n     </g>\r\n     <g id=\"text_18\">\r\n      <!-- Beverage Shop, Quick Bites -->\r\n      <g transform=\"translate(1025.271875 806.332811)rotate(-90)scale(0.1 -0.1)\">\r\n       <use xlink:href=\"#DejaVuSans-66\"/>\r\n       <use x=\"68.603516\" xlink:href=\"#DejaVuSans-101\"/>\r\n       <use x=\"130.126953\" xlink:href=\"#DejaVuSans-118\"/>\r\n       <use x=\"189.306641\" xlink:href=\"#DejaVuSans-101\"/>\r\n       <use x=\"250.830078\" xlink:href=\"#DejaVuSans-114\"/>\r\n       <use x=\"291.943359\" xlink:href=\"#DejaVuSans-97\"/>\r\n       <use x=\"353.222656\" xlink:href=\"#DejaVuSans-103\"/>\r\n       <use x=\"416.699219\" xlink:href=\"#DejaVuSans-101\"/>\r\n       <use x=\"478.222656\" xlink:href=\"#DejaVuSans-32\"/>\r\n       <use x=\"510.009766\" xlink:href=\"#DejaVuSans-83\"/>\r\n       <use x=\"573.486328\" xlink:href=\"#DejaVuSans-104\"/>\r\n       <use x=\"636.865234\" xlink:href=\"#DejaVuSans-111\"/>\r\n       <use x=\"698.046875\" xlink:href=\"#DejaVuSans-112\"/>\r\n       <use x=\"761.523438\" xlink:href=\"#DejaVuSans-44\"/>\r\n       <use x=\"793.310547\" xlink:href=\"#DejaVuSans-32\"/>\r\n       <use x=\"825.097656\" xlink:href=\"#DejaVuSans-81\"/>\r\n       <use x=\"903.808594\" xlink:href=\"#DejaVuSans-117\"/>\r\n       <use x=\"967.1875\" xlink:href=\"#DejaVuSans-105\"/>\r\n       <use x=\"994.970703\" xlink:href=\"#DejaVuSans-99\"/>\r\n       <use x=\"1049.951172\" xlink:href=\"#DejaVuSans-107\"/>\r\n       <use x=\"1107.861328\" xlink:href=\"#DejaVuSans-32\"/>\r\n       <use x=\"1139.648438\" xlink:href=\"#DejaVuSans-66\"/>\r\n       <use x=\"1208.251953\" xlink:href=\"#DejaVuSans-105\"/>\r\n       <use x=\"1236.035156\" xlink:href=\"#DejaVuSans-116\"/>\r\n       <use x=\"1275.244141\" xlink:href=\"#DejaVuSans-101\"/>\r\n       <use x=\"1336.767578\" xlink:href=\"#DejaVuSans-115\"/>\r\n      </g>\r\n     </g>\r\n    </g>\r\n    <g id=\"xtick_19\">\r\n     <g id=\"line2d_19\">\r\n      <g>\r\n       <use style=\"stroke:#000000;stroke-width:0.8;\" x=\"1078.3125\" xlink:href=\"#m7cc2638124\" y=\"660.442186\"/>\r\n      </g>\r\n     </g>\r\n     <g id=\"text_19\">\r\n      <!-- Bakery, Quick Bites -->\r\n      <g transform=\"translate(1081.071875 764.774999)rotate(-90)scale(0.1 -0.1)\">\r\n       <use xlink:href=\"#DejaVuSans-66\"/>\r\n       <use x=\"68.603516\" xlink:href=\"#DejaVuSans-97\"/>\r\n       <use x=\"129.882812\" xlink:href=\"#DejaVuSans-107\"/>\r\n       <use x=\"184.167969\" xlink:href=\"#DejaVuSans-101\"/>\r\n       <use x=\"245.691406\" xlink:href=\"#DejaVuSans-114\"/>\r\n       <use x=\"286.804688\" xlink:href=\"#DejaVuSans-121\"/>\r\n       <use x=\"345.984375\" xlink:href=\"#DejaVuSans-44\"/>\r\n       <use x=\"377.771484\" xlink:href=\"#DejaVuSans-32\"/>\r\n       <use x=\"409.558594\" xlink:href=\"#DejaVuSans-81\"/>\r\n       <use x=\"488.269531\" xlink:href=\"#DejaVuSans-117\"/>\r\n       <use x=\"551.648438\" xlink:href=\"#DejaVuSans-105\"/>\r\n       <use x=\"579.431641\" xlink:href=\"#DejaVuSans-99\"/>\r\n       <use x=\"634.412109\" xlink:href=\"#DejaVuSans-107\"/>\r\n       <use x=\"692.322266\" xlink:href=\"#DejaVuSans-32\"/>\r\n       <use x=\"724.109375\" xlink:href=\"#DejaVuSans-66\"/>\r\n       <use x=\"792.712891\" xlink:href=\"#DejaVuSans-105\"/>\r\n       <use x=\"820.496094\" xlink:href=\"#DejaVuSans-116\"/>\r\n       <use x=\"859.705078\" xlink:href=\"#DejaVuSans-101\"/>\r\n       <use x=\"921.228516\" xlink:href=\"#DejaVuSans-115\"/>\r\n      </g>\r\n     </g>\r\n    </g>\r\n    <g id=\"xtick_20\">\r\n     <g id=\"line2d_20\">\r\n      <g>\r\n       <use style=\"stroke:#000000;stroke-width:0.8;\" x=\"1134.1125\" xlink:href=\"#m7cc2638124\" y=\"660.442186\"/>\r\n      </g>\r\n     </g>\r\n     <g id=\"text_20\">\r\n      <!-- Mess -->\r\n      <g transform=\"translate(1136.871875 692.642186)rotate(-90)scale(0.1 -0.1)\">\r\n       <defs>\r\n        <path d=\"M 9.8125 72.90625 \r\nL 24.515625 72.90625 \r\nL 43.109375 23.296875 \r\nL 61.8125 72.90625 \r\nL 76.515625 72.90625 \r\nL 76.515625 0 \r\nL 66.890625 0 \r\nL 66.890625 64.015625 \r\nL 48.09375 14.015625 \r\nL 38.1875 14.015625 \r\nL 19.390625 64.015625 \r\nL 19.390625 0 \r\nL 9.8125 0 \r\nz\r\n\" id=\"DejaVuSans-77\"/>\r\n       </defs>\r\n       <use xlink:href=\"#DejaVuSans-77\"/>\r\n       <use x=\"86.279297\" xlink:href=\"#DejaVuSans-101\"/>\r\n       <use x=\"147.802734\" xlink:href=\"#DejaVuSans-115\"/>\r\n       <use x=\"199.902344\" xlink:href=\"#DejaVuSans-115\"/>\r\n      </g>\r\n     </g>\r\n    </g>\r\n   </g>\r\n   <g id=\"matplotlib.axis_2\">\r\n    <g id=\"ytick_1\">\r\n     <g id=\"line2d_21\">\r\n      <defs>\r\n       <path d=\"M 0 0 \r\nL -3.5 0 \r\n\" id=\"m2ddfad95f5\" style=\"stroke:#000000;stroke-width:0.8;\"/>\r\n      </defs>\r\n      <g>\r\n       <use style=\"stroke:#000000;stroke-width:0.8;\" x=\"46.0125\" xlink:href=\"#m2ddfad95f5\" y=\"660.442186\"/>\r\n      </g>\r\n     </g>\r\n     <g id=\"text_21\">\r\n      <!-- 0 -->\r\n      <g transform=\"translate(32.65 664.241405)scale(0.1 -0.1)\">\r\n       <defs>\r\n        <path d=\"M 31.78125 66.40625 \r\nQ 24.171875 66.40625 20.328125 58.90625 \r\nQ 16.5 51.421875 16.5 36.375 \r\nQ 16.5 21.390625 20.328125 13.890625 \r\nQ 24.171875 6.390625 31.78125 6.390625 \r\nQ 39.453125 6.390625 43.28125 13.890625 \r\nQ 47.125 21.390625 47.125 36.375 \r\nQ 47.125 51.421875 43.28125 58.90625 \r\nQ 39.453125 66.40625 31.78125 66.40625 \r\nz\r\nM 31.78125 74.21875 \r\nQ 44.046875 74.21875 50.515625 64.515625 \r\nQ 56.984375 54.828125 56.984375 36.375 \r\nQ 56.984375 17.96875 50.515625 8.265625 \r\nQ 44.046875 -1.421875 31.78125 -1.421875 \r\nQ 19.53125 -1.421875 13.0625 8.265625 \r\nQ 6.59375 17.96875 6.59375 36.375 \r\nQ 6.59375 54.828125 13.0625 64.515625 \r\nQ 19.53125 74.21875 31.78125 74.21875 \r\nz\r\n\" id=\"DejaVuSans-48\"/>\r\n       </defs>\r\n       <use xlink:href=\"#DejaVuSans-48\"/>\r\n      </g>\r\n     </g>\r\n    </g>\r\n    <g id=\"ytick_2\">\r\n     <g id=\"line2d_22\">\r\n      <g>\r\n       <use style=\"stroke:#000000;stroke-width:0.8;\" x=\"46.0125\" xlink:href=\"#m2ddfad95f5\" y=\"579.261815\"/>\r\n      </g>\r\n     </g>\r\n     <g id=\"text_22\">\r\n      <!-- 2500 -->\r\n      <g transform=\"translate(13.5625 583.061034)scale(0.1 -0.1)\">\r\n       <defs>\r\n        <path d=\"M 19.1875 8.296875 \r\nL 53.609375 8.296875 \r\nL 53.609375 0 \r\nL 7.328125 0 \r\nL 7.328125 8.296875 \r\nQ 12.9375 14.109375 22.625 23.890625 \r\nQ 32.328125 33.6875 34.8125 36.53125 \r\nQ 39.546875 41.84375 41.421875 45.53125 \r\nQ 43.3125 49.21875 43.3125 52.78125 \r\nQ 43.3125 58.59375 39.234375 62.25 \r\nQ 35.15625 65.921875 28.609375 65.921875 \r\nQ 23.96875 65.921875 18.8125 64.3125 \r\nQ 13.671875 62.703125 7.8125 59.421875 \r\nL 7.8125 69.390625 \r\nQ 13.765625 71.78125 18.9375 73 \r\nQ 24.125 74.21875 28.421875 74.21875 \r\nQ 39.75 74.21875 46.484375 68.546875 \r\nQ 53.21875 62.890625 53.21875 53.421875 \r\nQ 53.21875 48.921875 51.53125 44.890625 \r\nQ 49.859375 40.875 45.40625 35.40625 \r\nQ 44.1875 33.984375 37.640625 27.21875 \r\nQ 31.109375 20.453125 19.1875 8.296875 \r\nz\r\n\" id=\"DejaVuSans-50\"/>\r\n        <path d=\"M 10.796875 72.90625 \r\nL 49.515625 72.90625 \r\nL 49.515625 64.59375 \r\nL 19.828125 64.59375 \r\nL 19.828125 46.734375 \r\nQ 21.96875 47.46875 24.109375 47.828125 \r\nQ 26.265625 48.1875 28.421875 48.1875 \r\nQ 40.625 48.1875 47.75 41.5 \r\nQ 54.890625 34.8125 54.890625 23.390625 \r\nQ 54.890625 11.625 47.5625 5.09375 \r\nQ 40.234375 -1.421875 26.90625 -1.421875 \r\nQ 22.3125 -1.421875 17.546875 -0.640625 \r\nQ 12.796875 0.140625 7.71875 1.703125 \r\nL 7.71875 11.625 \r\nQ 12.109375 9.234375 16.796875 8.0625 \r\nQ 21.484375 6.890625 26.703125 6.890625 \r\nQ 35.15625 6.890625 40.078125 11.328125 \r\nQ 45.015625 15.765625 45.015625 23.390625 \r\nQ 45.015625 31 40.078125 35.4375 \r\nQ 35.15625 39.890625 26.703125 39.890625 \r\nQ 22.75 39.890625 18.8125 39.015625 \r\nQ 14.890625 38.140625 10.796875 36.28125 \r\nz\r\n\" id=\"DejaVuSans-53\"/>\r\n       </defs>\r\n       <use xlink:href=\"#DejaVuSans-50\"/>\r\n       <use x=\"63.623047\" xlink:href=\"#DejaVuSans-53\"/>\r\n       <use x=\"127.246094\" xlink:href=\"#DejaVuSans-48\"/>\r\n       <use x=\"190.869141\" xlink:href=\"#DejaVuSans-48\"/>\r\n      </g>\r\n     </g>\r\n    </g>\r\n    <g id=\"ytick_3\">\r\n     <g id=\"line2d_23\">\r\n      <g>\r\n       <use style=\"stroke:#000000;stroke-width:0.8;\" x=\"46.0125\" xlink:href=\"#m2ddfad95f5\" y=\"498.081444\"/>\r\n      </g>\r\n     </g>\r\n     <g id=\"text_23\">\r\n      <!-- 5000 -->\r\n      <g transform=\"translate(13.5625 501.880663)scale(0.1 -0.1)\">\r\n       <use xlink:href=\"#DejaVuSans-53\"/>\r\n       <use x=\"63.623047\" xlink:href=\"#DejaVuSans-48\"/>\r\n       <use x=\"127.246094\" xlink:href=\"#DejaVuSans-48\"/>\r\n       <use x=\"190.869141\" xlink:href=\"#DejaVuSans-48\"/>\r\n      </g>\r\n     </g>\r\n    </g>\r\n    <g id=\"ytick_4\">\r\n     <g id=\"line2d_24\">\r\n      <g>\r\n       <use style=\"stroke:#000000;stroke-width:0.8;\" x=\"46.0125\" xlink:href=\"#m2ddfad95f5\" y=\"416.901074\"/>\r\n      </g>\r\n     </g>\r\n     <g id=\"text_24\">\r\n      <!-- 7500 -->\r\n      <g transform=\"translate(13.5625 420.700292)scale(0.1 -0.1)\">\r\n       <defs>\r\n        <path d=\"M 8.203125 72.90625 \r\nL 55.078125 72.90625 \r\nL 55.078125 68.703125 \r\nL 28.609375 0 \r\nL 18.3125 0 \r\nL 43.21875 64.59375 \r\nL 8.203125 64.59375 \r\nz\r\n\" id=\"DejaVuSans-55\"/>\r\n       </defs>\r\n       <use xlink:href=\"#DejaVuSans-55\"/>\r\n       <use x=\"63.623047\" xlink:href=\"#DejaVuSans-53\"/>\r\n       <use x=\"127.246094\" xlink:href=\"#DejaVuSans-48\"/>\r\n       <use x=\"190.869141\" xlink:href=\"#DejaVuSans-48\"/>\r\n      </g>\r\n     </g>\r\n    </g>\r\n    <g id=\"ytick_5\">\r\n     <g id=\"line2d_25\">\r\n      <g>\r\n       <use style=\"stroke:#000000;stroke-width:0.8;\" x=\"46.0125\" xlink:href=\"#m2ddfad95f5\" y=\"335.720703\"/>\r\n      </g>\r\n     </g>\r\n     <g id=\"text_25\">\r\n      <!-- 10000 -->\r\n      <g transform=\"translate(7.2 339.519921)scale(0.1 -0.1)\">\r\n       <defs>\r\n        <path d=\"M 12.40625 8.296875 \r\nL 28.515625 8.296875 \r\nL 28.515625 63.921875 \r\nL 10.984375 60.40625 \r\nL 10.984375 69.390625 \r\nL 28.421875 72.90625 \r\nL 38.28125 72.90625 \r\nL 38.28125 8.296875 \r\nL 54.390625 8.296875 \r\nL 54.390625 0 \r\nL 12.40625 0 \r\nz\r\n\" id=\"DejaVuSans-49\"/>\r\n       </defs>\r\n       <use xlink:href=\"#DejaVuSans-49\"/>\r\n       <use x=\"63.623047\" xlink:href=\"#DejaVuSans-48\"/>\r\n       <use x=\"127.246094\" xlink:href=\"#DejaVuSans-48\"/>\r\n       <use x=\"190.869141\" xlink:href=\"#DejaVuSans-48\"/>\r\n       <use x=\"254.492188\" xlink:href=\"#DejaVuSans-48\"/>\r\n      </g>\r\n     </g>\r\n    </g>\r\n    <g id=\"ytick_6\">\r\n     <g id=\"line2d_26\">\r\n      <g>\r\n       <use style=\"stroke:#000000;stroke-width:0.8;\" x=\"46.0125\" xlink:href=\"#m2ddfad95f5\" y=\"254.540332\"/>\r\n      </g>\r\n     </g>\r\n     <g id=\"text_26\">\r\n      <!-- 12500 -->\r\n      <g transform=\"translate(7.2 258.33955)scale(0.1 -0.1)\">\r\n       <use xlink:href=\"#DejaVuSans-49\"/>\r\n       <use x=\"63.623047\" xlink:href=\"#DejaVuSans-50\"/>\r\n       <use x=\"127.246094\" xlink:href=\"#DejaVuSans-53\"/>\r\n       <use x=\"190.869141\" xlink:href=\"#DejaVuSans-48\"/>\r\n       <use x=\"254.492188\" xlink:href=\"#DejaVuSans-48\"/>\r\n      </g>\r\n     </g>\r\n    </g>\r\n    <g id=\"ytick_7\">\r\n     <g id=\"line2d_27\">\r\n      <g>\r\n       <use style=\"stroke:#000000;stroke-width:0.8;\" x=\"46.0125\" xlink:href=\"#m2ddfad95f5\" y=\"173.359961\"/>\r\n      </g>\r\n     </g>\r\n     <g id=\"text_27\">\r\n      <!-- 15000 -->\r\n      <g transform=\"translate(7.2 177.159179)scale(0.1 -0.1)\">\r\n       <use xlink:href=\"#DejaVuSans-49\"/>\r\n       <use x=\"63.623047\" xlink:href=\"#DejaVuSans-53\"/>\r\n       <use x=\"127.246094\" xlink:href=\"#DejaVuSans-48\"/>\r\n       <use x=\"190.869141\" xlink:href=\"#DejaVuSans-48\"/>\r\n       <use x=\"254.492188\" xlink:href=\"#DejaVuSans-48\"/>\r\n      </g>\r\n     </g>\r\n    </g>\r\n    <g id=\"ytick_8\">\r\n     <g id=\"line2d_28\">\r\n      <g>\r\n       <use style=\"stroke:#000000;stroke-width:0.8;\" x=\"46.0125\" xlink:href=\"#m2ddfad95f5\" y=\"92.17959\"/>\r\n      </g>\r\n     </g>\r\n     <g id=\"text_28\">\r\n      <!-- 17500 -->\r\n      <g transform=\"translate(7.2 95.978808)scale(0.1 -0.1)\">\r\n       <use xlink:href=\"#DejaVuSans-49\"/>\r\n       <use x=\"63.623047\" xlink:href=\"#DejaVuSans-55\"/>\r\n       <use x=\"127.246094\" xlink:href=\"#DejaVuSans-53\"/>\r\n       <use x=\"190.869141\" xlink:href=\"#DejaVuSans-48\"/>\r\n       <use x=\"254.492188\" xlink:href=\"#DejaVuSans-48\"/>\r\n      </g>\r\n     </g>\r\n    </g>\r\n    <g id=\"ytick_9\">\r\n     <g id=\"line2d_29\">\r\n      <g>\r\n       <use style=\"stroke:#000000;stroke-width:0.8;\" x=\"46.0125\" xlink:href=\"#m2ddfad95f5\" y=\"10.999219\"/>\r\n      </g>\r\n     </g>\r\n     <g id=\"text_29\">\r\n      <!-- 20000 -->\r\n      <g transform=\"translate(7.2 14.798437)scale(0.1 -0.1)\">\r\n       <use xlink:href=\"#DejaVuSans-50\"/>\r\n       <use x=\"63.623047\" xlink:href=\"#DejaVuSans-48\"/>\r\n       <use x=\"127.246094\" xlink:href=\"#DejaVuSans-48\"/>\r\n       <use x=\"190.869141\" xlink:href=\"#DejaVuSans-48\"/>\r\n       <use x=\"254.492188\" xlink:href=\"#DejaVuSans-48\"/>\r\n      </g>\r\n     </g>\r\n    </g>\r\n   </g>\r\n   <g id=\"patch_23\">\r\n    <path d=\"M 46.0125 660.442186 \r\nL 46.0125 8.122186 \r\n\" style=\"fill:none;stroke:#000000;stroke-linecap:square;stroke-linejoin:miter;stroke-width:0.8;\"/>\r\n   </g>\r\n   <g id=\"patch_24\">\r\n    <path d=\"M 1162.0125 660.442186 \r\nL 1162.0125 8.122186 \r\n\" style=\"fill:none;stroke:#000000;stroke-linecap:square;stroke-linejoin:miter;stroke-width:0.8;\"/>\r\n   </g>\r\n   <g id=\"patch_25\">\r\n    <path d=\"M 46.0125 660.442186 \r\nL 1162.0125 660.442186 \r\n\" style=\"fill:none;stroke:#000000;stroke-linecap:square;stroke-linejoin:miter;stroke-width:0.8;\"/>\r\n   </g>\r\n   <g id=\"patch_26\">\r\n    <path d=\"M 46.0125 8.122186 \r\nL 1162.0125 8.122186 \r\n\" style=\"fill:none;stroke:#000000;stroke-linecap:square;stroke-linejoin:miter;stroke-width:0.8;\"/>\r\n   </g>\r\n  </g>\r\n </g>\r\n <defs>\r\n  <clipPath id=\"pb2ae25a50a\">\r\n   <rect height=\"652.32\" width=\"1116\" x=\"46.0125\" y=\"8.122186\"/>\r\n  </clipPath>\r\n </defs>\r\n</svg>\r\n",
      "image/png": "[encoded data removed]"
     },
     "metadata": {
      "needs_background": "light"
     }
    }
   ],
   "source": [
    "#challange 3-\n",
    "#   How many types of restaurants we have?\n",
    "plt.figure(figsize=(20,12))\n",
    "df.rest_type.value_counts().nlargest(20).plot.bar(color='g')"
   ]
  },
  {
   "cell_type": "code",
   "execution_count": 25,
   "metadata": {},
   "outputs": [],
   "source": [
    "def mark(x):\n",
    "    if x in ('Quick Bites','Casual Dining'):\n",
    "        return  'Quick Bites + Casual Dining'\n",
    "    else:\n",
    "        return 'others'"
   ]
  },
  {
   "cell_type": "code",
   "execution_count": 26,
   "metadata": {},
   "outputs": [],
   "source": [
    "df['top_types']=df['rest_type'].apply(mark)"
   ]
  },
  {
   "cell_type": "code",
   "execution_count": 27,
   "metadata": {},
   "outputs": [
    {
     "output_type": "execute_result",
     "data": {
      "text/plain": [
       "                                                 url  \\\n",
       "0  https://www.zomato.com/bangalore/jalsa-banasha...   \n",
       "1  https://www.zomato.com/bangalore/spice-elephan...   \n",
       "2  https://www.zomato.com/SanchurroBangalore?cont...   \n",
       "3  https://www.zomato.com/bangalore/addhuri-udupi...   \n",
       "4  https://www.zomato.com/bangalore/grand-village...   \n",
       "\n",
       "                                             address                   name  \\\n",
       "0  942, 21st Main Road, 2nd Stage, Banashankari, ...                  Jalsa   \n",
       "1  2nd Floor, 80 Feet Road, Near Big Bazaar, 6th ...         Spice Elephant   \n",
       "2  1112, Next to KIMS Medical College, 17th Cross...        San Churro Cafe   \n",
       "3  1st Floor, Annakuteera, 3rd Stage, Banashankar...  Addhuri Udupi Bhojana   \n",
       "4  10, 3rd Floor, Lakshmi Associates, Gandhi Baza...          Grand Village   \n",
       "\n",
       "  online_order book_table  rate  votes                             phone  \\\n",
       "0          Yes        Yes   4.1    775    080 42297555\\r\\n+91 9743772233   \n",
       "1          Yes         No   4.1    787                      080 41714161   \n",
       "2          Yes         No   3.8    918                    +91 9663487993   \n",
       "3           No         No   3.7     88                    +91 9620009302   \n",
       "4           No         No   3.8    166  +91 8026612447\\r\\n+91 9901210005   \n",
       "\n",
       "       location            rest_type  \\\n",
       "0  Banashankari        Casual Dining   \n",
       "1  Banashankari        Casual Dining   \n",
       "2  Banashankari  Cafe, Casual Dining   \n",
       "3  Banashankari          Quick Bites   \n",
       "4  Basavanagudi        Casual Dining   \n",
       "\n",
       "                                          dish_liked  \\\n",
       "0  Pasta, Lunch Buffet, Masala Papad, Paneer Laja...   \n",
       "1  Momos, Lunch Buffet, Chocolate Nirvana, Thai G...   \n",
       "2  Churros, Cannelloni, Minestrone Soup, Hot Choc...   \n",
       "3                                        Masala Dosa   \n",
       "4                                Panipuri, Gol Gappe   \n",
       "\n",
       "                         cuisines  approx_cost(for two people)  \\\n",
       "0  North Indian, Mughlai, Chinese                        800.0   \n",
       "1     Chinese, North Indian, Thai                        800.0   \n",
       "2          Cafe, Mexican, Italian                        800.0   \n",
       "3      South Indian, North Indian                        300.0   \n",
       "4        North Indian, Rajasthani                        600.0   \n",
       "\n",
       "                                        reviews_list menu_item  \\\n",
       "0  [('Rated 4.0', 'RATED\\n  A beautiful place to ...        []   \n",
       "1  [('Rated 4.0', 'RATED\\n  Had been here for din...        []   \n",
       "2  [('Rated 3.0', \"RATED\\n  Ambience is not that ...        []   \n",
       "3  [('Rated 4.0', \"RATED\\n  Great food and proper...        []   \n",
       "4  [('Rated 4.0', 'RATED\\n  Very good restaurant ...        []   \n",
       "\n",
       "  listed_in(type) listed_in(city)                    top_types  \n",
       "0          Buffet    Banashankari  Quick Bites + Casual Dining  \n",
       "1          Buffet    Banashankari  Quick Bites + Casual Dining  \n",
       "2          Buffet    Banashankari                       others  \n",
       "3          Buffet    Banashankari  Quick Bites + Casual Dining  \n",
       "4          Buffet    Banashankari  Quick Bites + Casual Dining  "
      ],
      "text/html": "<div>\n<style scoped>\n    .dataframe tbody tr th:only-of-type {\n        vertical-align: middle;\n    }\n\n    .dataframe tbody tr th {\n        vertical-align: top;\n    }\n\n    .dataframe thead th {\n        text-align: right;\n    }\n</style>\n<table border=\"1\" class=\"dataframe\">\n  <thead>\n    <tr style=\"text-align: right;\">\n      <th></th>\n      <th>url</th>\n      <th>address</th>\n      <th>name</th>\n      <th>online_order</th>\n      <th>book_table</th>\n      <th>rate</th>\n      <th>votes</th>\n      <th>phone</th>\n      <th>location</th>\n      <th>rest_type</th>\n      <th>dish_liked</th>\n      <th>cuisines</th>\n      <th>approx_cost(for two people)</th>\n      <th>reviews_list</th>\n      <th>menu_item</th>\n      <th>listed_in(type)</th>\n      <th>listed_in(city)</th>\n      <th>top_types</th>\n    </tr>\n  </thead>\n  <tbody>\n    <tr>\n      <th>0</th>\n      <td>https://www.zomato.com/bangalore/jalsa-banasha...</td>\n      <td>942, 21st Main Road, 2nd Stage, Banashankari, ...</td>\n      <td>Jalsa</td>\n      <td>Yes</td>\n      <td>Yes</td>\n      <td>4.1</td>\n      <td>775</td>\n      <td>080 42297555\\r\\n+91 9743772233</td>\n      <td>Banashankari</td>\n      <td>Casual Dining</td>\n      <td>Pasta, Lunch Buffet, Masala Papad, Paneer Laja...</td>\n      <td>North Indian, Mughlai, Chinese</td>\n      <td>800.0</td>\n      <td>[('Rated 4.0', 'RATED\\n  A beautiful place to ...</td>\n      <td>[]</td>\n      <td>Buffet</td>\n      <td>Banashankari</td>\n      <td>Quick Bites + Casual Dining</td>\n    </tr>\n    <tr>\n      <th>1</th>\n      <td>https://www.zomato.com/bangalore/spice-elephan...</td>\n      <td>2nd Floor, 80 Feet Road, Near Big Bazaar, 6th ...</td>\n      <td>Spice Elephant</td>\n      <td>Yes</td>\n      <td>No</td>\n      <td>4.1</td>\n      <td>787</td>\n      <td>080 41714161</td>\n      <td>Banashankari</td>\n      <td>Casual Dining</td>\n      <td>Momos, Lunch Buffet, Chocolate Nirvana, Thai G...</td>\n      <td>Chinese, North Indian, Thai</td>\n      <td>800.0</td>\n      <td>[('Rated 4.0', 'RATED\\n  Had been here for din...</td>\n      <td>[]</td>\n      <td>Buffet</td>\n      <td>Banashankari</td>\n      <td>Quick Bites + Casual Dining</td>\n    </tr>\n    <tr>\n      <th>2</th>\n      <td>https://www.zomato.com/SanchurroBangalore?cont...</td>\n      <td>1112, Next to KIMS Medical College, 17th Cross...</td>\n      <td>San Churro Cafe</td>\n      <td>Yes</td>\n      <td>No</td>\n      <td>3.8</td>\n      <td>918</td>\n      <td>+91 9663487993</td>\n      <td>Banashankari</td>\n      <td>Cafe, Casual Dining</td>\n      <td>Churros, Cannelloni, Minestrone Soup, Hot Choc...</td>\n      <td>Cafe, Mexican, Italian</td>\n      <td>800.0</td>\n      <td>[('Rated 3.0', \"RATED\\n  Ambience is not that ...</td>\n      <td>[]</td>\n      <td>Buffet</td>\n      <td>Banashankari</td>\n      <td>others</td>\n    </tr>\n    <tr>\n      <th>3</th>\n      <td>https://www.zomato.com/bangalore/addhuri-udupi...</td>\n      <td>1st Floor, Annakuteera, 3rd Stage, Banashankar...</td>\n      <td>Addhuri Udupi Bhojana</td>\n      <td>No</td>\n      <td>No</td>\n      <td>3.7</td>\n      <td>88</td>\n      <td>+91 9620009302</td>\n      <td>Banashankari</td>\n      <td>Quick Bites</td>\n      <td>Masala Dosa</td>\n      <td>South Indian, North Indian</td>\n      <td>300.0</td>\n      <td>[('Rated 4.0', \"RATED\\n  Great food and proper...</td>\n      <td>[]</td>\n      <td>Buffet</td>\n      <td>Banashankari</td>\n      <td>Quick Bites + Casual Dining</td>\n    </tr>\n    <tr>\n      <th>4</th>\n      <td>https://www.zomato.com/bangalore/grand-village...</td>\n      <td>10, 3rd Floor, Lakshmi Associates, Gandhi Baza...</td>\n      <td>Grand Village</td>\n      <td>No</td>\n      <td>No</td>\n      <td>3.8</td>\n      <td>166</td>\n      <td>+91 8026612447\\r\\n+91 9901210005</td>\n      <td>Basavanagudi</td>\n      <td>Casual Dining</td>\n      <td>Panipuri, Gol Gappe</td>\n      <td>North Indian, Rajasthani</td>\n      <td>600.0</td>\n      <td>[('Rated 4.0', 'RATED\\n  Very good restaurant ...</td>\n      <td>[]</td>\n      <td>Buffet</td>\n      <td>Banashankari</td>\n      <td>Quick Bites + Casual Dining</td>\n    </tr>\n  </tbody>\n</table>\n</div>"
     },
     "metadata": {},
     "execution_count": 27
    }
   ],
   "source": [
    "df.head()"
   ]
  },
  {
   "cell_type": "code",
   "execution_count": 28,
   "metadata": {},
   "outputs": [],
   "source": [
    "import plotly.express as px"
   ]
  },
  {
   "cell_type": "code",
   "execution_count": 29,
   "metadata": {},
   "outputs": [
    {
     "output_type": "display_data",
     "data": {
      "application/vnd.plotly.v1+json": {
       "config": {
        "plotlyServerURL": "https://plot.ly"
       },
       "data": [
        {
         "domain": {
          "x": [
           0,
           1
          ],
          "y": [
           0,
           1
          ]
         },
         "hovertemplate": "label=%{label}<br>value=%{value}<extra></extra>",
         "labels": [
          "Quick Bites + Casual Dining",
          "others"
         ],
         "legendgroup": "",
         "name": "",
         "showlegend": true,
         "type": "pie",
         "values": [
          29462,
          22255
         ]
        }
       ],
       "layout": {
        "legend": {
         "tracegroupgap": 0
        },
        "margin": {
         "t": 60
        },
        "template": {
         "data": {
          "bar": [
           {
            "error_x": {
             "color": "#2a3f5f"
            },
            "error_y": {
             "color": "#2a3f5f"
            },
            "marker": {
             "line": {
              "color": "#E5ECF6",
              "width": 0.5
             }
            },
            "type": "bar"
           }
          ],
          "barpolar": [
           {
            "marker": {
             "line": {
              "color": "#E5ECF6",
              "width": 0.5
             }
            },
            "type": "barpolar"
           }
          ],
          "carpet": [
           {
            "aaxis": {
             "endlinecolor": "#2a3f5f",
             "gridcolor": "white",
             "linecolor": "white",
             "minorgridcolor": "white",
             "startlinecolor": "#2a3f5f"
            },
            "baxis": {
             "endlinecolor": "#2a3f5f",
             "gridcolor": "white",
             "linecolor": "white",
             "minorgridcolor": "white",
             "startlinecolor": "#2a3f5f"
            },
            "type": "carpet"
           }
          ],
          "choropleth": [
           {
            "colorbar": {
             "outlinewidth": 0,
             "ticks": ""
            },
            "type": "choropleth"
           }
          ],
          "contour": [
           {
            "colorbar": {
             "outlinewidth": 0,
             "ticks": ""
            },
            "colorscale": [
             [
              0,
              "#0d0887"
             ],
             [
              0.1111111111111111,
              "#46039f"
             ],
             [
              0.2222222222222222,
              "#7201a8"
             ],
             [
              0.3333333333333333,
              "#9c179e"
             ],
             [
              0.4444444444444444,
              "#bd3786"
             ],
             [
              0.5555555555555556,
              "#d8576b"
             ],
             [
              0.6666666666666666,
              "#ed7953"
             ],
             [
              0.7777777777777778,
              "#fb9f3a"
             ],
             [
              0.8888888888888888,
              "#fdca26"
             ],
             [
              1,
              "#f0f921"
             ]
            ],
            "type": "contour"
           }
          ],
          "contourcarpet": [
           {
            "colorbar": {
             "outlinewidth": 0,
             "ticks": ""
            },
            "type": "contourcarpet"
           }
          ],
          "heatmap": [
           {
            "colorbar": {
             "outlinewidth": 0,
             "ticks": ""
            },
            "colorscale": [
             [
              0,
              "#0d0887"
             ],
             [
              0.1111111111111111,
              "#46039f"
             ],
             [
              0.2222222222222222,
              "#7201a8"
             ],
             [
              0.3333333333333333,
              "#9c179e"
             ],
             [
              0.4444444444444444,
              "#bd3786"
             ],
             [
              0.5555555555555556,
              "#d8576b"
             ],
             [
              0.6666666666666666,
              "#ed7953"
             ],
             [
              0.7777777777777778,
              "#fb9f3a"
             ],
             [
              0.8888888888888888,
              "#fdca26"
             ],
             [
              1,
              "#f0f921"
             ]
            ],
            "type": "heatmap"
           }
          ],
          "heatmapgl": [
           {
            "colorbar": {
             "outlinewidth": 0,
             "ticks": ""
            },
            "colorscale": [
             [
              0,
              "#0d0887"
             ],
             [
              0.1111111111111111,
              "#46039f"
             ],
             [
              0.2222222222222222,
              "#7201a8"
             ],
             [
              0.3333333333333333,
              "#9c179e"
             ],
             [
              0.4444444444444444,
              "#bd3786"
             ],
             [
              0.5555555555555556,
              "#d8576b"
             ],
             [
              0.6666666666666666,
              "#ed7953"
             ],
             [
              0.7777777777777778,
              "#fb9f3a"
             ],
             [
              0.8888888888888888,
              "#fdca26"
             ],
             [
              1,
              "#f0f921"
             ]
            ],
            "type": "heatmapgl"
           }
          ],
          "histogram": [
           {
            "marker": {
             "colorbar": {
              "outlinewidth": 0,
              "ticks": ""
             }
            },
            "type": "histogram"
           }
          ],
          "histogram2d": [
           {
            "colorbar": {
             "outlinewidth": 0,
             "ticks": ""
            },
            "colorscale": [
             [
              0,
              "#0d0887"
             ],
             [
              0.1111111111111111,
              "#46039f"
             ],
             [
              0.2222222222222222,
              "#7201a8"
             ],
             [
              0.3333333333333333,
              "#9c179e"
             ],
             [
              0.4444444444444444,
              "#bd3786"
             ],
             [
              0.5555555555555556,
              "#d8576b"
             ],
             [
              0.6666666666666666,
              "#ed7953"
             ],
             [
              0.7777777777777778,
              "#fb9f3a"
             ],
             [
              0.8888888888888888,
              "#fdca26"
             ],
             [
              1,
              "#f0f921"
             ]
            ],
            "type": "histogram2d"
           }
          ],
          "histogram2dcontour": [
           {
            "colorbar": {
             "outlinewidth": 0,
             "ticks": ""
            },
            "colorscale": [
             [
              0,
              "#0d0887"
             ],
             [
              0.1111111111111111,
              "#46039f"
             ],
             [
              0.2222222222222222,
              "#7201a8"
             ],
             [
              0.3333333333333333,
              "#9c179e"
             ],
             [
              0.4444444444444444,
              "#bd3786"
             ],
             [
              0.5555555555555556,
              "#d8576b"
             ],
             [
              0.6666666666666666,
              "#ed7953"
             ],
             [
              0.7777777777777778,
              "#fb9f3a"
             ],
             [
              0.8888888888888888,
              "#fdca26"
             ],
             [
              1,
              "#f0f921"
             ]
            ],
            "type": "histogram2dcontour"
           }
          ],
          "mesh3d": [
           {
            "colorbar": {
             "outlinewidth": 0,
             "ticks": ""
            },
            "type": "mesh3d"
           }
          ],
          "parcoords": [
           {
            "line": {
             "colorbar": {
              "outlinewidth": 0,
              "ticks": ""
             }
            },
            "type": "parcoords"
           }
          ],
          "pie": [
           {
            "automargin": true,
            "type": "pie"
           }
          ],
          "scatter": [
           {
            "marker": {
             "colorbar": {
              "outlinewidth": 0,
              "ticks": ""
             }
            },
            "type": "scatter"
           }
          ],
          "scatter3d": [
           {
            "line": {
             "colorbar": {
              "outlinewidth": 0,
              "ticks": ""
             }
            },
            "marker": {
             "colorbar": {
              "outlinewidth": 0,
              "ticks": ""
             }
            },
            "type": "scatter3d"
           }
          ],
          "scattercarpet": [
           {
            "marker": {
             "colorbar": {
              "outlinewidth": 0,
              "ticks": ""
             }
            },
            "type": "scattercarpet"
           }
          ],
          "scattergeo": [
           {
            "marker": {
             "colorbar": {
              "outlinewidth": 0,
              "ticks": ""
             }
            },
            "type": "scattergeo"
           }
          ],
          "scattergl": [
           {
            "marker": {
             "colorbar": {
              "outlinewidth": 0,
              "ticks": ""
             }
            },
            "type": "scattergl"
           }
          ],
          "scattermapbox": [
           {
            "marker": {
             "colorbar": {
              "outlinewidth": 0,
              "ticks": ""
             }
            },
            "type": "scattermapbox"
           }
          ],
          "scatterpolar": [
           {
            "marker": {
             "colorbar": {
              "outlinewidth": 0,
              "ticks": ""
             }
            },
            "type": "scatterpolar"
           }
          ],
          "scatterpolargl": [
           {
            "marker": {
             "colorbar": {
              "outlinewidth": 0,
              "ticks": ""
             }
            },
            "type": "scatterpolargl"
           }
          ],
          "scatterternary": [
           {
            "marker": {
             "colorbar": {
              "outlinewidth": 0,
              "ticks": ""
             }
            },
            "type": "scatterternary"
           }
          ],
          "surface": [
           {
            "colorbar": {
             "outlinewidth": 0,
             "ticks": ""
            },
            "colorscale": [
             [
              0,
              "#0d0887"
             ],
             [
              0.1111111111111111,
              "#46039f"
             ],
             [
              0.2222222222222222,
              "#7201a8"
             ],
             [
              0.3333333333333333,
              "#9c179e"
             ],
             [
              0.4444444444444444,
              "#bd3786"
             ],
             [
              0.5555555555555556,
              "#d8576b"
             ],
             [
              0.6666666666666666,
              "#ed7953"
             ],
             [
              0.7777777777777778,
              "#fb9f3a"
             ],
             [
              0.8888888888888888,
              "#fdca26"
             ],
             [
              1,
              "#f0f921"
             ]
            ],
            "type": "surface"
           }
          ],
          "table": [
           {
            "cells": {
             "fill": {
              "color": "#EBF0F8"
             },
             "line": {
              "color": "white"
             }
            },
            "header": {
             "fill": {
              "color": "#C8D4E3"
             },
             "line": {
              "color": "white"
             }
            },
            "type": "table"
           }
          ]
         },
         "layout": {
          "annotationdefaults": {
           "arrowcolor": "#2a3f5f",
           "arrowhead": 0,
           "arrowwidth": 1
          },
          "autotypenumbers": "strict",
          "coloraxis": {
           "colorbar": {
            "outlinewidth": 0,
            "ticks": ""
           }
          },
          "colorscale": {
           "diverging": [
            [
             0,
             "#8e0152"
            ],
            [
             0.1,
             "#c51b7d"
            ],
            [
             0.2,
             "#de77ae"
            ],
            [
             0.3,
             "#f1b6da"
            ],
            [
             0.4,
             "#fde0ef"
            ],
            [
             0.5,
             "#f7f7f7"
            ],
            [
             0.6,
             "#e6f5d0"
            ],
            [
             0.7,
             "#b8e186"
            ],
            [
             0.8,
             "#7fbc41"
            ],
            [
             0.9,
             "#4d9221"
            ],
            [
             1,
             "#276419"
            ]
           ],
           "sequential": [
            [
             0,
             "#0d0887"
            ],
            [
             0.1111111111111111,
             "#46039f"
            ],
            [
             0.2222222222222222,
             "#7201a8"
            ],
            [
             0.3333333333333333,
             "#9c179e"
            ],
            [
             0.4444444444444444,
             "#bd3786"
            ],
            [
             0.5555555555555556,
             "#d8576b"
            ],
            [
             0.6666666666666666,
             "#ed7953"
            ],
            [
             0.7777777777777778,
             "#fb9f3a"
            ],
            [
             0.8888888888888888,
             "#fdca26"
            ],
            [
             1,
             "#f0f921"
            ]
           ],
           "sequentialminus": [
            [
             0,
             "#0d0887"
            ],
            [
             0.1111111111111111,
             "#46039f"
            ],
            [
             0.2222222222222222,
             "#7201a8"
            ],
            [
             0.3333333333333333,
             "#9c179e"
            ],
            [
             0.4444444444444444,
             "#bd3786"
            ],
            [
             0.5555555555555556,
             "#d8576b"
            ],
            [
             0.6666666666666666,
             "#ed7953"
            ],
            [
             0.7777777777777778,
             "#fb9f3a"
            ],
            [
             0.8888888888888888,
             "#fdca26"
            ],
            [
             1,
             "#f0f921"
            ]
           ]
          },
          "colorway": [
           "#636efa",
           "#EF553B",
           "#00cc96",
           "#ab63fa",
           "#FFA15A",
           "#19d3f3",
           "#FF6692",
           "#B6E880",
           "#FF97FF",
           "#FECB52"
          ],
          "font": {
           "color": "#2a3f5f"
          },
          "geo": {
           "bgcolor": "white",
           "lakecolor": "white",
           "landcolor": "#E5ECF6",
           "showlakes": true,
           "showland": true,
           "subunitcolor": "white"
          },
          "hoverlabel": {
           "align": "left"
          },
          "hovermode": "closest",
          "mapbox": {
           "style": "light"
          },
          "paper_bgcolor": "white",
          "plot_bgcolor": "#E5ECF6",
          "polar": {
           "angularaxis": {
            "gridcolor": "white",
            "linecolor": "white",
            "ticks": ""
           },
           "bgcolor": "#E5ECF6",
           "radialaxis": {
            "gridcolor": "white",
            "linecolor": "white",
            "ticks": ""
           }
          },
          "scene": {
           "xaxis": {
            "backgroundcolor": "#E5ECF6",
            "gridcolor": "white",
            "gridwidth": 2,
            "linecolor": "white",
            "showbackground": true,
            "ticks": "",
            "zerolinecolor": "white"
           },
           "yaxis": {
            "backgroundcolor": "#E5ECF6",
            "gridcolor": "white",
            "gridwidth": 2,
            "linecolor": "white",
            "showbackground": true,
            "ticks": "",
            "zerolinecolor": "white"
           },
           "zaxis": {
            "backgroundcolor": "#E5ECF6",
            "gridcolor": "white",
            "gridwidth": 2,
            "linecolor": "white",
            "showbackground": true,
            "ticks": "",
            "zerolinecolor": "white"
           }
          },
          "shapedefaults": {
           "line": {
            "color": "#2a3f5f"
           }
          },
          "ternary": {
           "aaxis": {
            "gridcolor": "white",
            "linecolor": "white",
            "ticks": ""
           },
           "baxis": {
            "gridcolor": "white",
            "linecolor": "white",
            "ticks": ""
           },
           "bgcolor": "#E5ECF6",
           "caxis": {
            "gridcolor": "white",
            "linecolor": "white",
            "ticks": ""
           }
          },
          "title": {
           "x": 0.05
          },
          "xaxis": {
           "automargin": true,
           "gridcolor": "white",
           "linecolor": "white",
           "ticks": "",
           "title": {
            "standoff": 15
           },
           "zerolinecolor": "white",
           "zerolinewidth": 2
          },
          "yaxis": {
           "automargin": true,
           "gridcolor": "white",
           "linecolor": "white",
           "ticks": "",
           "title": {
            "standoff": 15
           },
           "zerolinecolor": "white",
           "zerolinewidth": 2
          }
         }
        }
       }
      }
     },
     "metadata": {}
    }
   ],
   "source": [
    "fig=px.pie(df,\n",
    "names=df['top_types'].value_counts().index,\n",
    "values=df['top_types'].value_counts().values)\n",
    "fig.show()"
   ]
  },
  {
   "cell_type": "code",
   "execution_count": 30,
   "metadata": {},
   "outputs": [
    {
     "output_type": "execute_result",
     "data": {
      "text/plain": [
       "Index(['url', 'address', 'name', 'online_order', 'book_table', 'rate', 'votes',\n",
       "       'phone', 'location', 'rest_type', 'dish_liked', 'cuisines',\n",
       "       'approx_cost(for two people)', 'reviews_list', 'menu_item',\n",
       "       'listed_in(type)', 'listed_in(city)', 'top_types'],\n",
       "      dtype='object')"
      ]
     },
     "metadata": {},
     "execution_count": 30
    }
   ],
   "source": [
    "#challange 4 \n",
    "#a) create a df with cost,votes & rating of each restaurants\n",
    "#b) restaurants overview analysis\n",
    "#to solve this challange we need to group our current df by restaurants\n",
    "df.columns"
   ]
  },
  {
   "cell_type": "code",
   "execution_count": 31,
   "metadata": {},
   "outputs": [
    {
     "output_type": "execute_result",
     "data": {
      "text/plain": [
       "                     name  votes  url  approx_cost(for two people)  rate\n",
       "0            #FeelTheROLL     14    2                        200.0   3.4\n",
       "1              #L-81 Cafe    432    9                        400.0   3.9\n",
       "2           #Vibes Restro      0    3                        700.0   NaN\n",
       "3                 #refuel    111    3                        400.0   3.7\n",
       "4  'Brahmins' Thatte Idli      0    1                        100.0   NaN"
      ],
      "text/html": "<div>\n<style scoped>\n    .dataframe tbody tr th:only-of-type {\n        vertical-align: middle;\n    }\n\n    .dataframe tbody tr th {\n        vertical-align: top;\n    }\n\n    .dataframe thead th {\n        text-align: right;\n    }\n</style>\n<table border=\"1\" class=\"dataframe\">\n  <thead>\n    <tr style=\"text-align: right;\">\n      <th></th>\n      <th>name</th>\n      <th>votes</th>\n      <th>url</th>\n      <th>approx_cost(for two people)</th>\n      <th>rate</th>\n    </tr>\n  </thead>\n  <tbody>\n    <tr>\n      <th>0</th>\n      <td>#FeelTheROLL</td>\n      <td>14</td>\n      <td>2</td>\n      <td>200.0</td>\n      <td>3.4</td>\n    </tr>\n    <tr>\n      <th>1</th>\n      <td>#L-81 Cafe</td>\n      <td>432</td>\n      <td>9</td>\n      <td>400.0</td>\n      <td>3.9</td>\n    </tr>\n    <tr>\n      <th>2</th>\n      <td>#Vibes Restro</td>\n      <td>0</td>\n      <td>3</td>\n      <td>700.0</td>\n      <td>NaN</td>\n    </tr>\n    <tr>\n      <th>3</th>\n      <td>#refuel</td>\n      <td>111</td>\n      <td>3</td>\n      <td>400.0</td>\n      <td>3.7</td>\n    </tr>\n    <tr>\n      <th>4</th>\n      <td>'Brahmins' Thatte Idli</td>\n      <td>0</td>\n      <td>1</td>\n      <td>100.0</td>\n      <td>NaN</td>\n    </tr>\n  </tbody>\n</table>\n</div>"
     },
     "metadata": {},
     "execution_count": 31
    }
   ],
   "source": [
    "rest = df.groupby('name').agg({'votes':'sum','url':'count','approx_cost(for two people)':'mean','rate':'mean'}).reset_index()\n",
    "rest.head()"
   ]
  },
  {
   "cell_type": "code",
   "execution_count": 32,
   "metadata": {},
   "outputs": [
    {
     "output_type": "execute_result",
     "data": {
      "text/plain": [
       "                     name  totalVotes  totalUnities  averageApproxCost  \\\n",
       "0            #FeelTheROLL          14             2              200.0   \n",
       "1              #L-81 Cafe         432             9              400.0   \n",
       "2           #Vibes Restro           0             3              700.0   \n",
       "3                 #refuel         111             3              400.0   \n",
       "4  'Brahmins' Thatte Idli           0             1              100.0   \n",
       "\n",
       "   meanRating  \n",
       "0         3.4  \n",
       "1         3.9  \n",
       "2         NaN  \n",
       "3         3.7  \n",
       "4         NaN  "
      ],
      "text/html": "<div>\n<style scoped>\n    .dataframe tbody tr th:only-of-type {\n        vertical-align: middle;\n    }\n\n    .dataframe tbody tr th {\n        vertical-align: top;\n    }\n\n    .dataframe thead th {\n        text-align: right;\n    }\n</style>\n<table border=\"1\" class=\"dataframe\">\n  <thead>\n    <tr style=\"text-align: right;\">\n      <th></th>\n      <th>name</th>\n      <th>totalVotes</th>\n      <th>totalUnities</th>\n      <th>averageApproxCost</th>\n      <th>meanRating</th>\n    </tr>\n  </thead>\n  <tbody>\n    <tr>\n      <th>0</th>\n      <td>#FeelTheROLL</td>\n      <td>14</td>\n      <td>2</td>\n      <td>200.0</td>\n      <td>3.4</td>\n    </tr>\n    <tr>\n      <th>1</th>\n      <td>#L-81 Cafe</td>\n      <td>432</td>\n      <td>9</td>\n      <td>400.0</td>\n      <td>3.9</td>\n    </tr>\n    <tr>\n      <th>2</th>\n      <td>#Vibes Restro</td>\n      <td>0</td>\n      <td>3</td>\n      <td>700.0</td>\n      <td>NaN</td>\n    </tr>\n    <tr>\n      <th>3</th>\n      <td>#refuel</td>\n      <td>111</td>\n      <td>3</td>\n      <td>400.0</td>\n      <td>3.7</td>\n    </tr>\n    <tr>\n      <th>4</th>\n      <td>'Brahmins' Thatte Idli</td>\n      <td>0</td>\n      <td>1</td>\n      <td>100.0</td>\n      <td>NaN</td>\n    </tr>\n  </tbody>\n</table>\n</div>"
     },
     "metadata": {},
     "execution_count": 32
    }
   ],
   "source": [
    "rest.columns=['name','totalVotes','totalUnities','averageApproxCost','meanRating']\n",
    "rest.head()"
   ]
  },
  {
   "cell_type": "code",
   "execution_count": 33,
   "metadata": {},
   "outputs": [
    {
     "output_type": "execute_result",
     "data": {
      "text/plain": [
       "                     name  totalVotes  totalUnities  averageApproxCost  \\\n",
       "0            #FeelTheROLL          14             2              200.0   \n",
       "1              #L-81 Cafe         432             9              400.0   \n",
       "2           #Vibes Restro           0             3              700.0   \n",
       "3                 #refuel         111             3              400.0   \n",
       "4  'Brahmins' Thatte Idli           0             1              100.0   \n",
       "\n",
       "   meanRating  votesPerUnit  \n",
       "0         3.4           7.0  \n",
       "1         3.9          48.0  \n",
       "2         NaN           0.0  \n",
       "3         3.7          37.0  \n",
       "4         NaN           0.0  "
      ],
      "text/html": "<div>\n<style scoped>\n    .dataframe tbody tr th:only-of-type {\n        vertical-align: middle;\n    }\n\n    .dataframe tbody tr th {\n        vertical-align: top;\n    }\n\n    .dataframe thead th {\n        text-align: right;\n    }\n</style>\n<table border=\"1\" class=\"dataframe\">\n  <thead>\n    <tr style=\"text-align: right;\">\n      <th></th>\n      <th>name</th>\n      <th>totalVotes</th>\n      <th>totalUnities</th>\n      <th>averageApproxCost</th>\n      <th>meanRating</th>\n      <th>votesPerUnit</th>\n    </tr>\n  </thead>\n  <tbody>\n    <tr>\n      <th>0</th>\n      <td>#FeelTheROLL</td>\n      <td>14</td>\n      <td>2</td>\n      <td>200.0</td>\n      <td>3.4</td>\n      <td>7.0</td>\n    </tr>\n    <tr>\n      <th>1</th>\n      <td>#L-81 Cafe</td>\n      <td>432</td>\n      <td>9</td>\n      <td>400.0</td>\n      <td>3.9</td>\n      <td>48.0</td>\n    </tr>\n    <tr>\n      <th>2</th>\n      <td>#Vibes Restro</td>\n      <td>0</td>\n      <td>3</td>\n      <td>700.0</td>\n      <td>NaN</td>\n      <td>0.0</td>\n    </tr>\n    <tr>\n      <th>3</th>\n      <td>#refuel</td>\n      <td>111</td>\n      <td>3</td>\n      <td>400.0</td>\n      <td>3.7</td>\n      <td>37.0</td>\n    </tr>\n    <tr>\n      <th>4</th>\n      <td>'Brahmins' Thatte Idli</td>\n      <td>0</td>\n      <td>1</td>\n      <td>100.0</td>\n      <td>NaN</td>\n      <td>0.0</td>\n    </tr>\n  </tbody>\n</table>\n</div>"
     },
     "metadata": {},
     "execution_count": 33
    }
   ],
   "source": [
    "rest['votesPerUnit']=rest['totalVotes']/rest['totalUnities']\n",
    "rest.head()"
   ]
  },
  {
   "cell_type": "code",
   "execution_count": 34,
   "metadata": {},
   "outputs": [
    {
     "output_type": "stream",
     "name": "stdout",
     "text": [
      "                   name  totalVotes  totalUnities  averageApproxCost  \\\n1320    Cafe Coffee Day        3089            96         844.791667   \n5549             Onesta      347520            85         600.000000   \n3788          Just Bake        2898            73         400.000000   \n2446  Empire Restaurant      229808            71         685.211268   \n2577  Five Star Chicken        3134            70         257.857143   \n\n      meanRating  votesPerUnit  \n1320    3.147191     32.177083  \n5549    4.410588   4088.470588  \n3788    3.355882     39.698630  \n2446    3.916901   3236.732394  \n2577    3.425000     44.771429  \n(8792, 6)\n8792\n"
     ]
    }
   ],
   "source": [
    "popular=rest.sort_values(by=['totalUnities'],ascending=False)\n",
    "print(popular.head())\n",
    "print(popular.shape)\n",
    "print(popular.name.nunique())\n"
   ]
  },
  {
   "cell_type": "code",
   "execution_count": 35,
   "metadata": {},
   "outputs": [],
   "source": [
    "#restaurants overview analysis\n",
    "# 1. avg votes rec by rest\n",
    "# top 5 most voted res\n",
    "# top 5 least voted rest"
   ]
  },
  {
   "cell_type": "code",
   "execution_count": 36,
   "metadata": {},
   "outputs": [
    {
     "output_type": "execute_result",
     "data": {
      "text/plain": [
       "                   name  totalVotes  totalUnities  averageApproxCost  \\\n",
       "5549             Onesta      347520            85         600.000000   \n",
       "8269           Truffles      301059            43         900.000000   \n",
       "2446  Empire Restaurant      229808            71         685.211268   \n",
       "3054           Hammered      180602            47        1272.340426   \n",
       "7751    The Black Pearl      172122            18        1427.777778   \n",
       "\n",
       "      meanRating  votesPerUnit  \n",
       "5549    4.410588   4088.470588  \n",
       "8269    4.595349   7001.372093  \n",
       "2446    3.916901   3236.732394  \n",
       "3054    4.329787   3842.595745  \n",
       "7751    4.727778   9562.333333  "
      ],
      "text/html": "<div>\n<style scoped>\n    .dataframe tbody tr th:only-of-type {\n        vertical-align: middle;\n    }\n\n    .dataframe tbody tr th {\n        vertical-align: top;\n    }\n\n    .dataframe thead th {\n        text-align: right;\n    }\n</style>\n<table border=\"1\" class=\"dataframe\">\n  <thead>\n    <tr style=\"text-align: right;\">\n      <th></th>\n      <th>name</th>\n      <th>totalVotes</th>\n      <th>totalUnities</th>\n      <th>averageApproxCost</th>\n      <th>meanRating</th>\n      <th>votesPerUnit</th>\n    </tr>\n  </thead>\n  <tbody>\n    <tr>\n      <th>5549</th>\n      <td>Onesta</td>\n      <td>347520</td>\n      <td>85</td>\n      <td>600.000000</td>\n      <td>4.410588</td>\n      <td>4088.470588</td>\n    </tr>\n    <tr>\n      <th>8269</th>\n      <td>Truffles</td>\n      <td>301059</td>\n      <td>43</td>\n      <td>900.000000</td>\n      <td>4.595349</td>\n      <td>7001.372093</td>\n    </tr>\n    <tr>\n      <th>2446</th>\n      <td>Empire Restaurant</td>\n      <td>229808</td>\n      <td>71</td>\n      <td>685.211268</td>\n      <td>3.916901</td>\n      <td>3236.732394</td>\n    </tr>\n    <tr>\n      <th>3054</th>\n      <td>Hammered</td>\n      <td>180602</td>\n      <td>47</td>\n      <td>1272.340426</td>\n      <td>4.329787</td>\n      <td>3842.595745</td>\n    </tr>\n    <tr>\n      <th>7751</th>\n      <td>The Black Pearl</td>\n      <td>172122</td>\n      <td>18</td>\n      <td>1427.777778</td>\n      <td>4.727778</td>\n      <td>9562.333333</td>\n    </tr>\n  </tbody>\n</table>\n</div>"
     },
     "metadata": {},
     "execution_count": 36
    }
   ],
   "source": [
    "popular.sort_values(by='totalVotes',ascending=False).query('totalVotes>0').head(5)"
   ]
  },
  {
   "cell_type": "code",
   "execution_count": 37,
   "metadata": {},
   "outputs": [
    {
     "output_type": "execute_result",
     "data": {
      "text/plain": [
       "Text(0.5, 1.0, 'Top 5 least voted restaurants')"
      ]
     },
     "metadata": {},
     "execution_count": 37
    },
    {
     "output_type": "display_data",
     "data": {
      "text/plain": "<Figure size 1440x2160 with 3 Axes>",
      "image/svg+xml": "<?xml version=\"1.0\" encoding=\"utf-8\" standalone=\"no\"?>\r\n<!DOCTYPE svg PUBLIC \"-//W3C//DTD SVG 1.1//EN\"\r\n  \"http://www.w3.org/Graphics/SVG/1.1/DTD/svg11.dtd\">\r\n<!-- Created with matplotlib (https://matplotlib.org/) -->\r\n<svg height=\"1675.55625pt\" version=\"1.1\" viewBox=\"0 0 1265.992188 1675.55625\" width=\"1265.992188pt\" xmlns=\"http://www.w3.org/2000/svg\" xmlns:xlink=\"http://www.w3.org/1999/xlink\">\r\n <metadata>\r\n  <rdf:RDF xmlns:cc=\"http://creativecommons.org/ns#\" xmlns:dc=\"http://purl.org/dc/elements/1.1/\" xmlns:rdf=\"http://www.w3.org/1999/02/22-rdf-syntax-ns#\">\r\n   <cc:Work>\r\n    <dc:type rdf:resource=\"http://purl.org/dc/dcmitype/StillImage\"/>\r\n    <dc:date>2021-04-23T19:25:38.217362</dc:date>\r\n    <dc:format>image/svg+xml</dc:format>\r\n    <dc:creator>\r\n     <cc:Agent>\r\n      <dc:title>Matplotlib v3.3.3, https://matplotlib.org/</dc:title>\r\n     </cc:Agent>\r\n    </dc:creator>\r\n   </cc:Work>\r\n  </rdf:RDF>\r\n </metadata>\r\n <defs>\r\n  <style type=\"text/css\">*{stroke-linecap:butt;stroke-linejoin:round;}</style>\r\n </defs>\r\n <g id=\"figure_1\">\r\n  <g id=\"patch_1\">\r\n   <path d=\"M 0 1675.55625 \r\nL 1265.992188 1675.55625 \r\nL 1265.992188 0 \r\nL 0 0 \r\nz\r\n\" style=\"fill:none;\"/>\r\n  </g>\r\n  <g id=\"axes_1\">\r\n   <g id=\"text_1\">\r\n    <!-- 1668 -->\r\n    <g transform=\"translate(643.529687 342.952941)scale(0.45 -0.45)\">\r\n     <defs>\r\n      <path d=\"M 12.40625 8.296875 \r\nL 28.515625 8.296875 \r\nL 28.515625 63.921875 \r\nL 10.984375 60.40625 \r\nL 10.984375 69.390625 \r\nL 28.421875 72.90625 \r\nL 38.28125 72.90625 \r\nL 38.28125 8.296875 \r\nL 54.390625 8.296875 \r\nL 54.390625 0 \r\nL 12.40625 0 \r\nz\r\n\" id=\"DejaVuSans-49\"/>\r\n      <path d=\"M 33.015625 40.375 \r\nQ 26.375 40.375 22.484375 35.828125 \r\nQ 18.609375 31.296875 18.609375 23.390625 \r\nQ 18.609375 15.53125 22.484375 10.953125 \r\nQ 26.375 6.390625 33.015625 6.390625 \r\nQ 39.65625 6.390625 43.53125 10.953125 \r\nQ 47.40625 15.53125 47.40625 23.390625 \r\nQ 47.40625 31.296875 43.53125 35.828125 \r\nQ 39.65625 40.375 33.015625 40.375 \r\nz\r\nM 52.59375 71.296875 \r\nL 52.59375 62.3125 \r\nQ 48.875 64.0625 45.09375 64.984375 \r\nQ 41.3125 65.921875 37.59375 65.921875 \r\nQ 27.828125 65.921875 22.671875 59.328125 \r\nQ 17.53125 52.734375 16.796875 39.40625 \r\nQ 19.671875 43.65625 24.015625 45.921875 \r\nQ 28.375 48.1875 33.59375 48.1875 \r\nQ 44.578125 48.1875 50.953125 41.515625 \r\nQ 57.328125 34.859375 57.328125 23.390625 \r\nQ 57.328125 12.15625 50.6875 5.359375 \r\nQ 44.046875 -1.421875 33.015625 -1.421875 \r\nQ 20.359375 -1.421875 13.671875 8.265625 \r\nQ 6.984375 17.96875 6.984375 36.375 \r\nQ 6.984375 53.65625 15.1875 63.9375 \r\nQ 23.390625 74.21875 37.203125 74.21875 \r\nQ 40.921875 74.21875 44.703125 73.484375 \r\nQ 48.484375 72.75 52.59375 71.296875 \r\nz\r\n\" id=\"DejaVuSans-54\"/>\r\n      <path d=\"M 31.78125 34.625 \r\nQ 24.75 34.625 20.71875 30.859375 \r\nQ 16.703125 27.09375 16.703125 20.515625 \r\nQ 16.703125 13.921875 20.71875 10.15625 \r\nQ 24.75 6.390625 31.78125 6.390625 \r\nQ 38.8125 6.390625 42.859375 10.171875 \r\nQ 46.921875 13.96875 46.921875 20.515625 \r\nQ 46.921875 27.09375 42.890625 30.859375 \r\nQ 38.875 34.625 31.78125 34.625 \r\nz\r\nM 21.921875 38.8125 \r\nQ 15.578125 40.375 12.03125 44.71875 \r\nQ 8.5 49.078125 8.5 55.328125 \r\nQ 8.5 64.0625 14.71875 69.140625 \r\nQ 20.953125 74.21875 31.78125 74.21875 \r\nQ 42.671875 74.21875 48.875 69.140625 \r\nQ 55.078125 64.0625 55.078125 55.328125 \r\nQ 55.078125 49.078125 51.53125 44.71875 \r\nQ 48 40.375 41.703125 38.8125 \r\nQ 48.828125 37.15625 52.796875 32.3125 \r\nQ 56.78125 27.484375 56.78125 20.515625 \r\nQ 56.78125 9.90625 50.3125 4.234375 \r\nQ 43.84375 -1.421875 31.78125 -1.421875 \r\nQ 19.734375 -1.421875 13.25 4.234375 \r\nQ 6.78125 9.90625 6.78125 20.515625 \r\nQ 6.78125 27.484375 10.78125 32.3125 \r\nQ 14.796875 37.15625 21.921875 38.8125 \r\nz\r\nM 18.3125 54.390625 \r\nQ 18.3125 48.734375 21.84375 45.5625 \r\nQ 25.390625 42.390625 31.78125 42.390625 \r\nQ 38.140625 42.390625 41.71875 45.5625 \r\nQ 45.3125 48.734375 45.3125 54.390625 \r\nQ 45.3125 60.0625 41.71875 63.234375 \r\nQ 38.140625 66.40625 31.78125 66.40625 \r\nQ 25.390625 66.40625 21.84375 63.234375 \r\nQ 18.3125 60.0625 18.3125 54.390625 \r\nz\r\n\" id=\"DejaVuSans-56\"/>\r\n     </defs>\r\n     <use xlink:href=\"#DejaVuSans-49\"/>\r\n     <use x=\"63.623047\" xlink:href=\"#DejaVuSans-54\"/>\r\n     <use x=\"127.246094\" xlink:href=\"#DejaVuSans-54\"/>\r\n     <use x=\"190.869141\" xlink:href=\"#DejaVuSans-56\"/>\r\n    </g>\r\n   </g>\r\n   <g id=\"text_2\">\r\n    <!-- is the average of votes -->\r\n    <g transform=\"translate(631.785625 429.289412)scale(0.12 -0.12)\">\r\n     <defs>\r\n      <path d=\"M 9.421875 54.6875 \r\nL 18.40625 54.6875 \r\nL 18.40625 0 \r\nL 9.421875 0 \r\nz\r\nM 9.421875 75.984375 \r\nL 18.40625 75.984375 \r\nL 18.40625 64.59375 \r\nL 9.421875 64.59375 \r\nz\r\n\" id=\"DejaVuSans-105\"/>\r\n      <path d=\"M 44.28125 53.078125 \r\nL 44.28125 44.578125 \r\nQ 40.484375 46.53125 36.375 47.5 \r\nQ 32.28125 48.484375 27.875 48.484375 \r\nQ 21.1875 48.484375 17.84375 46.4375 \r\nQ 14.5 44.390625 14.5 40.28125 \r\nQ 14.5 37.15625 16.890625 35.375 \r\nQ 19.28125 33.59375 26.515625 31.984375 \r\nL 29.59375 31.296875 \r\nQ 39.15625 29.25 43.1875 25.515625 \r\nQ 47.21875 21.78125 47.21875 15.09375 \r\nQ 47.21875 7.46875 41.1875 3.015625 \r\nQ 35.15625 -1.421875 24.609375 -1.421875 \r\nQ 20.21875 -1.421875 15.453125 -0.5625 \r\nQ 10.6875 0.296875 5.421875 2 \r\nL 5.421875 11.28125 \r\nQ 10.40625 8.6875 15.234375 7.390625 \r\nQ 20.0625 6.109375 24.8125 6.109375 \r\nQ 31.15625 6.109375 34.5625 8.28125 \r\nQ 37.984375 10.453125 37.984375 14.40625 \r\nQ 37.984375 18.0625 35.515625 20.015625 \r\nQ 33.0625 21.96875 24.703125 23.78125 \r\nL 21.578125 24.515625 \r\nQ 13.234375 26.265625 9.515625 29.90625 \r\nQ 5.8125 33.546875 5.8125 39.890625 \r\nQ 5.8125 47.609375 11.28125 51.796875 \r\nQ 16.75 56 26.8125 56 \r\nQ 31.78125 56 36.171875 55.265625 \r\nQ 40.578125 54.546875 44.28125 53.078125 \r\nz\r\n\" id=\"DejaVuSans-115\"/>\r\n      <path id=\"DejaVuSans-32\"/>\r\n      <path d=\"M 18.3125 70.21875 \r\nL 18.3125 54.6875 \r\nL 36.8125 54.6875 \r\nL 36.8125 47.703125 \r\nL 18.3125 47.703125 \r\nL 18.3125 18.015625 \r\nQ 18.3125 11.328125 20.140625 9.421875 \r\nQ 21.96875 7.515625 27.59375 7.515625 \r\nL 36.8125 7.515625 \r\nL 36.8125 0 \r\nL 27.59375 0 \r\nQ 17.1875 0 13.234375 3.875 \r\nQ 9.28125 7.765625 9.28125 18.015625 \r\nL 9.28125 47.703125 \r\nL 2.6875 47.703125 \r\nL 2.6875 54.6875 \r\nL 9.28125 54.6875 \r\nL 9.28125 70.21875 \r\nz\r\n\" id=\"DejaVuSans-116\"/>\r\n      <path d=\"M 54.890625 33.015625 \r\nL 54.890625 0 \r\nL 45.90625 0 \r\nL 45.90625 32.71875 \r\nQ 45.90625 40.484375 42.875 44.328125 \r\nQ 39.84375 48.1875 33.796875 48.1875 \r\nQ 26.515625 48.1875 22.3125 43.546875 \r\nQ 18.109375 38.921875 18.109375 30.90625 \r\nL 18.109375 0 \r\nL 9.078125 0 \r\nL 9.078125 75.984375 \r\nL 18.109375 75.984375 \r\nL 18.109375 46.1875 \r\nQ 21.34375 51.125 25.703125 53.5625 \r\nQ 30.078125 56 35.796875 56 \r\nQ 45.21875 56 50.046875 50.171875 \r\nQ 54.890625 44.34375 54.890625 33.015625 \r\nz\r\n\" id=\"DejaVuSans-104\"/>\r\n      <path d=\"M 56.203125 29.59375 \r\nL 56.203125 25.203125 \r\nL 14.890625 25.203125 \r\nQ 15.484375 15.921875 20.484375 11.0625 \r\nQ 25.484375 6.203125 34.421875 6.203125 \r\nQ 39.59375 6.203125 44.453125 7.46875 \r\nQ 49.3125 8.734375 54.109375 11.28125 \r\nL 54.109375 2.78125 \r\nQ 49.265625 0.734375 44.1875 -0.34375 \r\nQ 39.109375 -1.421875 33.890625 -1.421875 \r\nQ 20.796875 -1.421875 13.15625 6.1875 \r\nQ 5.515625 13.8125 5.515625 26.8125 \r\nQ 5.515625 40.234375 12.765625 48.109375 \r\nQ 20.015625 56 32.328125 56 \r\nQ 43.359375 56 49.78125 48.890625 \r\nQ 56.203125 41.796875 56.203125 29.59375 \r\nz\r\nM 47.21875 32.234375 \r\nQ 47.125 39.59375 43.09375 43.984375 \r\nQ 39.0625 48.390625 32.421875 48.390625 \r\nQ 24.90625 48.390625 20.390625 44.140625 \r\nQ 15.875 39.890625 15.1875 32.171875 \r\nz\r\n\" id=\"DejaVuSans-101\"/>\r\n      <path d=\"M 34.28125 27.484375 \r\nQ 23.390625 27.484375 19.1875 25 \r\nQ 14.984375 22.515625 14.984375 16.5 \r\nQ 14.984375 11.71875 18.140625 8.90625 \r\nQ 21.296875 6.109375 26.703125 6.109375 \r\nQ 34.1875 6.109375 38.703125 11.40625 \r\nQ 43.21875 16.703125 43.21875 25.484375 \r\nL 43.21875 27.484375 \r\nz\r\nM 52.203125 31.203125 \r\nL 52.203125 0 \r\nL 43.21875 0 \r\nL 43.21875 8.296875 \r\nQ 40.140625 3.328125 35.546875 0.953125 \r\nQ 30.953125 -1.421875 24.3125 -1.421875 \r\nQ 15.921875 -1.421875 10.953125 3.296875 \r\nQ 6 8.015625 6 15.921875 \r\nQ 6 25.140625 12.171875 29.828125 \r\nQ 18.359375 34.515625 30.609375 34.515625 \r\nL 43.21875 34.515625 \r\nL 43.21875 35.40625 \r\nQ 43.21875 41.609375 39.140625 45 \r\nQ 35.0625 48.390625 27.6875 48.390625 \r\nQ 23 48.390625 18.546875 47.265625 \r\nQ 14.109375 46.140625 10.015625 43.890625 \r\nL 10.015625 52.203125 \r\nQ 14.9375 54.109375 19.578125 55.046875 \r\nQ 24.21875 56 28.609375 56 \r\nQ 40.484375 56 46.34375 49.84375 \r\nQ 52.203125 43.703125 52.203125 31.203125 \r\nz\r\n\" id=\"DejaVuSans-97\"/>\r\n      <path d=\"M 2.984375 54.6875 \r\nL 12.5 54.6875 \r\nL 29.59375 8.796875 \r\nL 46.6875 54.6875 \r\nL 56.203125 54.6875 \r\nL 35.6875 0 \r\nL 23.484375 0 \r\nz\r\n\" id=\"DejaVuSans-118\"/>\r\n      <path d=\"M 41.109375 46.296875 \r\nQ 39.59375 47.171875 37.8125 47.578125 \r\nQ 36.03125 48 33.890625 48 \r\nQ 26.265625 48 22.1875 43.046875 \r\nQ 18.109375 38.09375 18.109375 28.8125 \r\nL 18.109375 0 \r\nL 9.078125 0 \r\nL 9.078125 54.6875 \r\nL 18.109375 54.6875 \r\nL 18.109375 46.1875 \r\nQ 20.953125 51.171875 25.484375 53.578125 \r\nQ 30.03125 56 36.53125 56 \r\nQ 37.453125 56 38.578125 55.875 \r\nQ 39.703125 55.765625 41.0625 55.515625 \r\nz\r\n\" id=\"DejaVuSans-114\"/>\r\n      <path d=\"M 45.40625 27.984375 \r\nQ 45.40625 37.75 41.375 43.109375 \r\nQ 37.359375 48.484375 30.078125 48.484375 \r\nQ 22.859375 48.484375 18.828125 43.109375 \r\nQ 14.796875 37.75 14.796875 27.984375 \r\nQ 14.796875 18.265625 18.828125 12.890625 \r\nQ 22.859375 7.515625 30.078125 7.515625 \r\nQ 37.359375 7.515625 41.375 12.890625 \r\nQ 45.40625 18.265625 45.40625 27.984375 \r\nz\r\nM 54.390625 6.78125 \r\nQ 54.390625 -7.171875 48.1875 -13.984375 \r\nQ 42 -20.796875 29.203125 -20.796875 \r\nQ 24.46875 -20.796875 20.265625 -20.09375 \r\nQ 16.0625 -19.390625 12.109375 -17.921875 \r\nL 12.109375 -9.1875 \r\nQ 16.0625 -11.328125 19.921875 -12.34375 \r\nQ 23.78125 -13.375 27.78125 -13.375 \r\nQ 36.625 -13.375 41.015625 -8.765625 \r\nQ 45.40625 -4.15625 45.40625 5.171875 \r\nL 45.40625 9.625 \r\nQ 42.625 4.78125 38.28125 2.390625 \r\nQ 33.9375 0 27.875 0 \r\nQ 17.828125 0 11.671875 7.65625 \r\nQ 5.515625 15.328125 5.515625 27.984375 \r\nQ 5.515625 40.671875 11.671875 48.328125 \r\nQ 17.828125 56 27.875 56 \r\nQ 33.9375 56 38.28125 53.609375 \r\nQ 42.625 51.21875 45.40625 46.390625 \r\nL 45.40625 54.6875 \r\nL 54.390625 54.6875 \r\nz\r\n\" id=\"DejaVuSans-103\"/>\r\n      <path d=\"M 30.609375 48.390625 \r\nQ 23.390625 48.390625 19.1875 42.75 \r\nQ 14.984375 37.109375 14.984375 27.296875 \r\nQ 14.984375 17.484375 19.15625 11.84375 \r\nQ 23.34375 6.203125 30.609375 6.203125 \r\nQ 37.796875 6.203125 41.984375 11.859375 \r\nQ 46.1875 17.53125 46.1875 27.296875 \r\nQ 46.1875 37.015625 41.984375 42.703125 \r\nQ 37.796875 48.390625 30.609375 48.390625 \r\nz\r\nM 30.609375 56 \r\nQ 42.328125 56 49.015625 48.375 \r\nQ 55.71875 40.765625 55.71875 27.296875 \r\nQ 55.71875 13.875 49.015625 6.21875 \r\nQ 42.328125 -1.421875 30.609375 -1.421875 \r\nQ 18.84375 -1.421875 12.171875 6.21875 \r\nQ 5.515625 13.875 5.515625 27.296875 \r\nQ 5.515625 40.765625 12.171875 48.375 \r\nQ 18.84375 56 30.609375 56 \r\nz\r\n\" id=\"DejaVuSans-111\"/>\r\n      <path d=\"M 37.109375 75.984375 \r\nL 37.109375 68.5 \r\nL 28.515625 68.5 \r\nQ 23.6875 68.5 21.796875 66.546875 \r\nQ 19.921875 64.59375 19.921875 59.515625 \r\nL 19.921875 54.6875 \r\nL 34.71875 54.6875 \r\nL 34.71875 47.703125 \r\nL 19.921875 47.703125 \r\nL 19.921875 0 \r\nL 10.890625 0 \r\nL 10.890625 47.703125 \r\nL 2.296875 47.703125 \r\nL 2.296875 54.6875 \r\nL 10.890625 54.6875 \r\nL 10.890625 58.5 \r\nQ 10.890625 67.625 15.140625 71.796875 \r\nQ 19.390625 75.984375 28.609375 75.984375 \r\nz\r\n\" id=\"DejaVuSans-102\"/>\r\n     </defs>\r\n     <use xlink:href=\"#DejaVuSans-105\"/>\r\n     <use x=\"27.783203\" xlink:href=\"#DejaVuSans-115\"/>\r\n     <use x=\"79.882812\" xlink:href=\"#DejaVuSans-32\"/>\r\n     <use x=\"111.669922\" xlink:href=\"#DejaVuSans-116\"/>\r\n     <use x=\"150.878906\" xlink:href=\"#DejaVuSans-104\"/>\r\n     <use x=\"214.257812\" xlink:href=\"#DejaVuSans-101\"/>\r\n     <use x=\"275.78125\" xlink:href=\"#DejaVuSans-32\"/>\r\n     <use x=\"307.568359\" xlink:href=\"#DejaVuSans-97\"/>\r\n     <use x=\"368.847656\" xlink:href=\"#DejaVuSans-118\"/>\r\n     <use x=\"428.027344\" xlink:href=\"#DejaVuSans-101\"/>\r\n     <use x=\"489.550781\" xlink:href=\"#DejaVuSans-114\"/>\r\n     <use x=\"530.664062\" xlink:href=\"#DejaVuSans-97\"/>\r\n     <use x=\"591.943359\" xlink:href=\"#DejaVuSans-103\"/>\r\n     <use x=\"655.419922\" xlink:href=\"#DejaVuSans-101\"/>\r\n     <use x=\"716.943359\" xlink:href=\"#DejaVuSans-32\"/>\r\n     <use x=\"748.730469\" xlink:href=\"#DejaVuSans-111\"/>\r\n     <use x=\"809.912109\" xlink:href=\"#DejaVuSans-102\"/>\r\n     <use x=\"845.117188\" xlink:href=\"#DejaVuSans-32\"/>\r\n     <use x=\"876.904297\" xlink:href=\"#DejaVuSans-118\"/>\r\n     <use x=\"936.083984\" xlink:href=\"#DejaVuSans-111\"/>\r\n     <use x=\"997.265625\" xlink:href=\"#DejaVuSans-116\"/>\r\n     <use x=\"1036.474609\" xlink:href=\"#DejaVuSans-101\"/>\r\n     <use x=\"1097.998047\" xlink:href=\"#DejaVuSans-115\"/>\r\n    </g>\r\n   </g>\r\n   <g id=\"text_3\">\r\n    <!-- is the average of votes received by my restaurant -->\r\n    <g transform=\"translate(550.39 486.847059)scale(0.12 -0.12)\">\r\n     <defs>\r\n      <path d=\"M 48.78125 52.59375 \r\nL 48.78125 44.1875 \r\nQ 44.96875 46.296875 41.140625 47.34375 \r\nQ 37.3125 48.390625 33.40625 48.390625 \r\nQ 24.65625 48.390625 19.8125 42.84375 \r\nQ 14.984375 37.3125 14.984375 27.296875 \r\nQ 14.984375 17.28125 19.8125 11.734375 \r\nQ 24.65625 6.203125 33.40625 6.203125 \r\nQ 37.3125 6.203125 41.140625 7.25 \r\nQ 44.96875 8.296875 48.78125 10.40625 \r\nL 48.78125 2.09375 \r\nQ 45.015625 0.34375 40.984375 -0.53125 \r\nQ 36.96875 -1.421875 32.421875 -1.421875 \r\nQ 20.0625 -1.421875 12.78125 6.34375 \r\nQ 5.515625 14.109375 5.515625 27.296875 \r\nQ 5.515625 40.671875 12.859375 48.328125 \r\nQ 20.21875 56 33.015625 56 \r\nQ 37.15625 56 41.109375 55.140625 \r\nQ 45.0625 54.296875 48.78125 52.59375 \r\nz\r\n\" id=\"DejaVuSans-99\"/>\r\n      <path d=\"M 45.40625 46.390625 \r\nL 45.40625 75.984375 \r\nL 54.390625 75.984375 \r\nL 54.390625 0 \r\nL 45.40625 0 \r\nL 45.40625 8.203125 \r\nQ 42.578125 3.328125 38.25 0.953125 \r\nQ 33.9375 -1.421875 27.875 -1.421875 \r\nQ 17.96875 -1.421875 11.734375 6.484375 \r\nQ 5.515625 14.40625 5.515625 27.296875 \r\nQ 5.515625 40.1875 11.734375 48.09375 \r\nQ 17.96875 56 27.875 56 \r\nQ 33.9375 56 38.25 53.625 \r\nQ 42.578125 51.265625 45.40625 46.390625 \r\nz\r\nM 14.796875 27.296875 \r\nQ 14.796875 17.390625 18.875 11.75 \r\nQ 22.953125 6.109375 30.078125 6.109375 \r\nQ 37.203125 6.109375 41.296875 11.75 \r\nQ 45.40625 17.390625 45.40625 27.296875 \r\nQ 45.40625 37.203125 41.296875 42.84375 \r\nQ 37.203125 48.484375 30.078125 48.484375 \r\nQ 22.953125 48.484375 18.875 42.84375 \r\nQ 14.796875 37.203125 14.796875 27.296875 \r\nz\r\n\" id=\"DejaVuSans-100\"/>\r\n      <path d=\"M 48.6875 27.296875 \r\nQ 48.6875 37.203125 44.609375 42.84375 \r\nQ 40.53125 48.484375 33.40625 48.484375 \r\nQ 26.265625 48.484375 22.1875 42.84375 \r\nQ 18.109375 37.203125 18.109375 27.296875 \r\nQ 18.109375 17.390625 22.1875 11.75 \r\nQ 26.265625 6.109375 33.40625 6.109375 \r\nQ 40.53125 6.109375 44.609375 11.75 \r\nQ 48.6875 17.390625 48.6875 27.296875 \r\nz\r\nM 18.109375 46.390625 \r\nQ 20.953125 51.265625 25.265625 53.625 \r\nQ 29.59375 56 35.59375 56 \r\nQ 45.5625 56 51.78125 48.09375 \r\nQ 58.015625 40.1875 58.015625 27.296875 \r\nQ 58.015625 14.40625 51.78125 6.484375 \r\nQ 45.5625 -1.421875 35.59375 -1.421875 \r\nQ 29.59375 -1.421875 25.265625 0.953125 \r\nQ 20.953125 3.328125 18.109375 8.203125 \r\nL 18.109375 0 \r\nL 9.078125 0 \r\nL 9.078125 75.984375 \r\nL 18.109375 75.984375 \r\nz\r\n\" id=\"DejaVuSans-98\"/>\r\n      <path d=\"M 32.171875 -5.078125 \r\nQ 28.375 -14.84375 24.75 -17.8125 \r\nQ 21.140625 -20.796875 15.09375 -20.796875 \r\nL 7.90625 -20.796875 \r\nL 7.90625 -13.28125 \r\nL 13.1875 -13.28125 \r\nQ 16.890625 -13.28125 18.9375 -11.515625 \r\nQ 21 -9.765625 23.484375 -3.21875 \r\nL 25.09375 0.875 \r\nL 2.984375 54.6875 \r\nL 12.5 54.6875 \r\nL 29.59375 11.921875 \r\nL 46.6875 54.6875 \r\nL 56.203125 54.6875 \r\nz\r\n\" id=\"DejaVuSans-121\"/>\r\n      <path d=\"M 52 44.1875 \r\nQ 55.375 50.25 60.0625 53.125 \r\nQ 64.75 56 71.09375 56 \r\nQ 79.640625 56 84.28125 50.015625 \r\nQ 88.921875 44.046875 88.921875 33.015625 \r\nL 88.921875 0 \r\nL 79.890625 0 \r\nL 79.890625 32.71875 \r\nQ 79.890625 40.578125 77.09375 44.375 \r\nQ 74.3125 48.1875 68.609375 48.1875 \r\nQ 61.625 48.1875 57.5625 43.546875 \r\nQ 53.515625 38.921875 53.515625 30.90625 \r\nL 53.515625 0 \r\nL 44.484375 0 \r\nL 44.484375 32.71875 \r\nQ 44.484375 40.625 41.703125 44.40625 \r\nQ 38.921875 48.1875 33.109375 48.1875 \r\nQ 26.21875 48.1875 22.15625 43.53125 \r\nQ 18.109375 38.875 18.109375 30.90625 \r\nL 18.109375 0 \r\nL 9.078125 0 \r\nL 9.078125 54.6875 \r\nL 18.109375 54.6875 \r\nL 18.109375 46.1875 \r\nQ 21.1875 51.21875 25.484375 53.609375 \r\nQ 29.78125 56 35.6875 56 \r\nQ 41.65625 56 45.828125 52.96875 \r\nQ 50 49.953125 52 44.1875 \r\nz\r\n\" id=\"DejaVuSans-109\"/>\r\n      <path d=\"M 8.5 21.578125 \r\nL 8.5 54.6875 \r\nL 17.484375 54.6875 \r\nL 17.484375 21.921875 \r\nQ 17.484375 14.15625 20.5 10.265625 \r\nQ 23.53125 6.390625 29.59375 6.390625 \r\nQ 36.859375 6.390625 41.078125 11.03125 \r\nQ 45.3125 15.671875 45.3125 23.6875 \r\nL 45.3125 54.6875 \r\nL 54.296875 54.6875 \r\nL 54.296875 0 \r\nL 45.3125 0 \r\nL 45.3125 8.40625 \r\nQ 42.046875 3.421875 37.71875 1 \r\nQ 33.40625 -1.421875 27.6875 -1.421875 \r\nQ 18.265625 -1.421875 13.375 4.4375 \r\nQ 8.5 10.296875 8.5 21.578125 \r\nz\r\nM 31.109375 56 \r\nz\r\n\" id=\"DejaVuSans-117\"/>\r\n      <path d=\"M 54.890625 33.015625 \r\nL 54.890625 0 \r\nL 45.90625 0 \r\nL 45.90625 32.71875 \r\nQ 45.90625 40.484375 42.875 44.328125 \r\nQ 39.84375 48.1875 33.796875 48.1875 \r\nQ 26.515625 48.1875 22.3125 43.546875 \r\nQ 18.109375 38.921875 18.109375 30.90625 \r\nL 18.109375 0 \r\nL 9.078125 0 \r\nL 9.078125 54.6875 \r\nL 18.109375 54.6875 \r\nL 18.109375 46.1875 \r\nQ 21.34375 51.125 25.703125 53.5625 \r\nQ 30.078125 56 35.796875 56 \r\nQ 45.21875 56 50.046875 50.171875 \r\nQ 54.890625 44.34375 54.890625 33.015625 \r\nz\r\n\" id=\"DejaVuSans-110\"/>\r\n     </defs>\r\n     <use xlink:href=\"#DejaVuSans-105\"/>\r\n     <use x=\"27.783203\" xlink:href=\"#DejaVuSans-115\"/>\r\n     <use x=\"79.882812\" xlink:href=\"#DejaVuSans-32\"/>\r\n     <use x=\"111.669922\" xlink:href=\"#DejaVuSans-116\"/>\r\n     <use x=\"150.878906\" xlink:href=\"#DejaVuSans-104\"/>\r\n     <use x=\"214.257812\" xlink:href=\"#DejaVuSans-101\"/>\r\n     <use x=\"275.78125\" xlink:href=\"#DejaVuSans-32\"/>\r\n     <use x=\"307.568359\" xlink:href=\"#DejaVuSans-97\"/>\r\n     <use x=\"368.847656\" xlink:href=\"#DejaVuSans-118\"/>\r\n     <use x=\"428.027344\" xlink:href=\"#DejaVuSans-101\"/>\r\n     <use x=\"489.550781\" xlink:href=\"#DejaVuSans-114\"/>\r\n     <use x=\"530.664062\" xlink:href=\"#DejaVuSans-97\"/>\r\n     <use x=\"591.943359\" xlink:href=\"#DejaVuSans-103\"/>\r\n     <use x=\"655.419922\" xlink:href=\"#DejaVuSans-101\"/>\r\n     <use x=\"716.943359\" xlink:href=\"#DejaVuSans-32\"/>\r\n     <use x=\"748.730469\" xlink:href=\"#DejaVuSans-111\"/>\r\n     <use x=\"809.912109\" xlink:href=\"#DejaVuSans-102\"/>\r\n     <use x=\"845.117188\" xlink:href=\"#DejaVuSans-32\"/>\r\n     <use x=\"876.904297\" xlink:href=\"#DejaVuSans-118\"/>\r\n     <use x=\"936.083984\" xlink:href=\"#DejaVuSans-111\"/>\r\n     <use x=\"997.265625\" xlink:href=\"#DejaVuSans-116\"/>\r\n     <use x=\"1036.474609\" xlink:href=\"#DejaVuSans-101\"/>\r\n     <use x=\"1097.998047\" xlink:href=\"#DejaVuSans-115\"/>\r\n     <use x=\"1150.097656\" xlink:href=\"#DejaVuSans-32\"/>\r\n     <use x=\"1181.884766\" xlink:href=\"#DejaVuSans-114\"/>\r\n     <use x=\"1220.748047\" xlink:href=\"#DejaVuSans-101\"/>\r\n     <use x=\"1282.271484\" xlink:href=\"#DejaVuSans-99\"/>\r\n     <use x=\"1337.251953\" xlink:href=\"#DejaVuSans-101\"/>\r\n     <use x=\"1398.775391\" xlink:href=\"#DejaVuSans-105\"/>\r\n     <use x=\"1426.558594\" xlink:href=\"#DejaVuSans-118\"/>\r\n     <use x=\"1485.738281\" xlink:href=\"#DejaVuSans-101\"/>\r\n     <use x=\"1547.261719\" xlink:href=\"#DejaVuSans-100\"/>\r\n     <use x=\"1610.738281\" xlink:href=\"#DejaVuSans-32\"/>\r\n     <use x=\"1642.525391\" xlink:href=\"#DejaVuSans-98\"/>\r\n     <use x=\"1706.001953\" xlink:href=\"#DejaVuSans-121\"/>\r\n     <use x=\"1765.181641\" xlink:href=\"#DejaVuSans-32\"/>\r\n     <use x=\"1796.96875\" xlink:href=\"#DejaVuSans-109\"/>\r\n     <use x=\"1894.380859\" xlink:href=\"#DejaVuSans-121\"/>\r\n     <use x=\"1953.560547\" xlink:href=\"#DejaVuSans-32\"/>\r\n     <use x=\"1985.347656\" xlink:href=\"#DejaVuSans-114\"/>\r\n     <use x=\"2024.210938\" xlink:href=\"#DejaVuSans-101\"/>\r\n     <use x=\"2085.734375\" xlink:href=\"#DejaVuSans-115\"/>\r\n     <use x=\"2137.833984\" xlink:href=\"#DejaVuSans-116\"/>\r\n     <use x=\"2177.042969\" xlink:href=\"#DejaVuSans-97\"/>\r\n     <use x=\"2238.322266\" xlink:href=\"#DejaVuSans-117\"/>\r\n     <use x=\"2301.701172\" xlink:href=\"#DejaVuSans-114\"/>\r\n     <use x=\"2342.814453\" xlink:href=\"#DejaVuSans-97\"/>\r\n     <use x=\"2404.09375\" xlink:href=\"#DejaVuSans-110\"/>\r\n     <use x=\"2467.472656\" xlink:href=\"#DejaVuSans-116\"/>\r\n    </g>\r\n   </g>\r\n  </g>\r\n  <g id=\"axes_2\">\r\n   <g id=\"patch_2\">\r\n    <path d=\"M 142.792188 1062.423529 \r\nL 1258.792187 1062.423529 \r\nL 1258.792187 582.776471 \r\nL 142.792188 582.776471 \r\nz\r\n\" style=\"fill:#ffffff;\"/>\r\n   </g>\r\n   <g id=\"patch_3\">\r\n    <path clip-path=\"url(#p6643aeda01)\" d=\"M 142.792188 592.369412 \r\nL 1205.64933 592.369412 \r\nL 1205.64933 669.112941 \r\nL 142.792188 669.112941 \r\nz\r\n\" style=\"fill:#5a1591;\"/>\r\n   </g>\r\n   <g id=\"patch_4\">\r\n    <path clip-path=\"url(#p6643aeda01)\" d=\"M 142.792188 688.298824 \r\nL 1063.552744 688.298824 \r\nL 1063.552744 765.042353 \r\nL 142.792188 765.042353 \r\nz\r\n\" style=\"fill:#8b288d;\"/>\r\n   </g>\r\n   <g id=\"patch_5\">\r\n    <path clip-path=\"url(#p6643aeda01)\" d=\"M 142.792188 784.228235 \r\nL 845.638281 784.228235 \r\nL 845.638281 860.971765 \r\nL 142.792188 860.971765 \r\nz\r\n\" style=\"fill:#bb587c;\"/>\r\n   </g>\r\n   <g id=\"patch_6\">\r\n    <path clip-path=\"url(#p6643aeda01)\" d=\"M 142.792188 880.157647 \r\nL 695.146371 880.157647 \r\nL 695.146371 956.901176 \r\nL 142.792188 956.901176 \r\nz\r\n\" style=\"fill:#da8266;\"/>\r\n   </g>\r\n   <g id=\"patch_7\">\r\n    <path clip-path=\"url(#p6643aeda01)\" d=\"M 142.792188 976.087059 \r\nL 669.21109 976.087059 \r\nL 669.21109 1052.830588 \r\nL 142.792188 1052.830588 \r\nz\r\n\" style=\"fill:#e4ac49;\"/>\r\n   </g>\r\n   <g id=\"matplotlib.axis_1\">\r\n    <g id=\"xtick_1\">\r\n     <g id=\"line2d_1\">\r\n      <defs>\r\n       <path d=\"M 0 0 \r\nL 0 3.5 \r\n\" id=\"m0695d7a0c6\" style=\"stroke:#000000;stroke-width:0.8;\"/>\r\n      </defs>\r\n      <g>\r\n       <use style=\"stroke:#000000;stroke-width:0.8;\" x=\"142.792188\" xlink:href=\"#m0695d7a0c6\" y=\"1062.423529\"/>\r\n      </g>\r\n     </g>\r\n     <g id=\"text_4\">\r\n      <!-- 0 -->\r\n      <g transform=\"translate(139.610938 1077.021967)scale(0.1 -0.1)\">\r\n       <defs>\r\n        <path d=\"M 31.78125 66.40625 \r\nQ 24.171875 66.40625 20.328125 58.90625 \r\nQ 16.5 51.421875 16.5 36.375 \r\nQ 16.5 21.390625 20.328125 13.890625 \r\nQ 24.171875 6.390625 31.78125 6.390625 \r\nQ 39.453125 6.390625 43.28125 13.890625 \r\nQ 47.125 21.390625 47.125 36.375 \r\nQ 47.125 51.421875 43.28125 58.90625 \r\nQ 39.453125 66.40625 31.78125 66.40625 \r\nz\r\nM 31.78125 74.21875 \r\nQ 44.046875 74.21875 50.515625 64.515625 \r\nQ 56.984375 54.828125 56.984375 36.375 \r\nQ 56.984375 17.96875 50.515625 8.265625 \r\nQ 44.046875 -1.421875 31.78125 -1.421875 \r\nQ 19.53125 -1.421875 13.0625 8.265625 \r\nQ 6.59375 17.96875 6.59375 36.375 \r\nQ 6.59375 54.828125 13.0625 64.515625 \r\nQ 19.53125 74.21875 31.78125 74.21875 \r\nz\r\n\" id=\"DejaVuSans-48\"/>\r\n       </defs>\r\n       <use xlink:href=\"#DejaVuSans-48\"/>\r\n      </g>\r\n     </g>\r\n    </g>\r\n    <g id=\"xtick_2\">\r\n     <g id=\"line2d_2\">\r\n      <g>\r\n       <use style=\"stroke:#000000;stroke-width:0.8;\" x=\"295.712472\" xlink:href=\"#m0695d7a0c6\" y=\"1062.423529\"/>\r\n      </g>\r\n     </g>\r\n     <g id=\"text_5\">\r\n      <!-- 50000 -->\r\n      <g transform=\"translate(279.806222 1077.021967)scale(0.1 -0.1)\">\r\n       <defs>\r\n        <path d=\"M 10.796875 72.90625 \r\nL 49.515625 72.90625 \r\nL 49.515625 64.59375 \r\nL 19.828125 64.59375 \r\nL 19.828125 46.734375 \r\nQ 21.96875 47.46875 24.109375 47.828125 \r\nQ 26.265625 48.1875 28.421875 48.1875 \r\nQ 40.625 48.1875 47.75 41.5 \r\nQ 54.890625 34.8125 54.890625 23.390625 \r\nQ 54.890625 11.625 47.5625 5.09375 \r\nQ 40.234375 -1.421875 26.90625 -1.421875 \r\nQ 22.3125 -1.421875 17.546875 -0.640625 \r\nQ 12.796875 0.140625 7.71875 1.703125 \r\nL 7.71875 11.625 \r\nQ 12.109375 9.234375 16.796875 8.0625 \r\nQ 21.484375 6.890625 26.703125 6.890625 \r\nQ 35.15625 6.890625 40.078125 11.328125 \r\nQ 45.015625 15.765625 45.015625 23.390625 \r\nQ 45.015625 31 40.078125 35.4375 \r\nQ 35.15625 39.890625 26.703125 39.890625 \r\nQ 22.75 39.890625 18.8125 39.015625 \r\nQ 14.890625 38.140625 10.796875 36.28125 \r\nz\r\n\" id=\"DejaVuSans-53\"/>\r\n       </defs>\r\n       <use xlink:href=\"#DejaVuSans-53\"/>\r\n       <use x=\"63.623047\" xlink:href=\"#DejaVuSans-48\"/>\r\n       <use x=\"127.246094\" xlink:href=\"#DejaVuSans-48\"/>\r\n       <use x=\"190.869141\" xlink:href=\"#DejaVuSans-48\"/>\r\n       <use x=\"254.492188\" xlink:href=\"#DejaVuSans-48\"/>\r\n      </g>\r\n     </g>\r\n    </g>\r\n    <g id=\"xtick_3\">\r\n     <g id=\"line2d_3\">\r\n      <g>\r\n       <use style=\"stroke:#000000;stroke-width:0.8;\" x=\"448.632756\" xlink:href=\"#m0695d7a0c6\" y=\"1062.423529\"/>\r\n      </g>\r\n     </g>\r\n     <g id=\"text_6\">\r\n      <!-- 100000 -->\r\n      <g transform=\"translate(429.545256 1077.021967)scale(0.1 -0.1)\">\r\n       <use xlink:href=\"#DejaVuSans-49\"/>\r\n       <use x=\"63.623047\" xlink:href=\"#DejaVuSans-48\"/>\r\n       <use x=\"127.246094\" xlink:href=\"#DejaVuSans-48\"/>\r\n       <use x=\"190.869141\" xlink:href=\"#DejaVuSans-48\"/>\r\n       <use x=\"254.492188\" xlink:href=\"#DejaVuSans-48\"/>\r\n       <use x=\"318.115234\" xlink:href=\"#DejaVuSans-48\"/>\r\n      </g>\r\n     </g>\r\n    </g>\r\n    <g id=\"xtick_4\">\r\n     <g id=\"line2d_4\">\r\n      <g>\r\n       <use style=\"stroke:#000000;stroke-width:0.8;\" x=\"601.55304\" xlink:href=\"#m0695d7a0c6\" y=\"1062.423529\"/>\r\n      </g>\r\n     </g>\r\n     <g id=\"text_7\">\r\n      <!-- 150000 -->\r\n      <g transform=\"translate(582.46554 1077.021967)scale(0.1 -0.1)\">\r\n       <use xlink:href=\"#DejaVuSans-49\"/>\r\n       <use x=\"63.623047\" xlink:href=\"#DejaVuSans-53\"/>\r\n       <use x=\"127.246094\" xlink:href=\"#DejaVuSans-48\"/>\r\n       <use x=\"190.869141\" xlink:href=\"#DejaVuSans-48\"/>\r\n       <use x=\"254.492188\" xlink:href=\"#DejaVuSans-48\"/>\r\n       <use x=\"318.115234\" xlink:href=\"#DejaVuSans-48\"/>\r\n      </g>\r\n     </g>\r\n    </g>\r\n    <g id=\"xtick_5\">\r\n     <g id=\"line2d_5\">\r\n      <g>\r\n       <use style=\"stroke:#000000;stroke-width:0.8;\" x=\"754.473324\" xlink:href=\"#m0695d7a0c6\" y=\"1062.423529\"/>\r\n      </g>\r\n     </g>\r\n     <g id=\"text_8\">\r\n      <!-- 200000 -->\r\n      <g transform=\"translate(735.385824 1077.021967)scale(0.1 -0.1)\">\r\n       <defs>\r\n        <path d=\"M 19.1875 8.296875 \r\nL 53.609375 8.296875 \r\nL 53.609375 0 \r\nL 7.328125 0 \r\nL 7.328125 8.296875 \r\nQ 12.9375 14.109375 22.625 23.890625 \r\nQ 32.328125 33.6875 34.8125 36.53125 \r\nQ 39.546875 41.84375 41.421875 45.53125 \r\nQ 43.3125 49.21875 43.3125 52.78125 \r\nQ 43.3125 58.59375 39.234375 62.25 \r\nQ 35.15625 65.921875 28.609375 65.921875 \r\nQ 23.96875 65.921875 18.8125 64.3125 \r\nQ 13.671875 62.703125 7.8125 59.421875 \r\nL 7.8125 69.390625 \r\nQ 13.765625 71.78125 18.9375 73 \r\nQ 24.125 74.21875 28.421875 74.21875 \r\nQ 39.75 74.21875 46.484375 68.546875 \r\nQ 53.21875 62.890625 53.21875 53.421875 \r\nQ 53.21875 48.921875 51.53125 44.890625 \r\nQ 49.859375 40.875 45.40625 35.40625 \r\nQ 44.1875 33.984375 37.640625 27.21875 \r\nQ 31.109375 20.453125 19.1875 8.296875 \r\nz\r\n\" id=\"DejaVuSans-50\"/>\r\n       </defs>\r\n       <use xlink:href=\"#DejaVuSans-50\"/>\r\n       <use x=\"63.623047\" xlink:href=\"#DejaVuSans-48\"/>\r\n       <use x=\"127.246094\" xlink:href=\"#DejaVuSans-48\"/>\r\n       <use x=\"190.869141\" xlink:href=\"#DejaVuSans-48\"/>\r\n       <use x=\"254.492188\" xlink:href=\"#DejaVuSans-48\"/>\r\n       <use x=\"318.115234\" xlink:href=\"#DejaVuSans-48\"/>\r\n      </g>\r\n     </g>\r\n    </g>\r\n    <g id=\"xtick_6\">\r\n     <g id=\"line2d_6\">\r\n      <g>\r\n       <use style=\"stroke:#000000;stroke-width:0.8;\" x=\"907.393608\" xlink:href=\"#m0695d7a0c6\" y=\"1062.423529\"/>\r\n      </g>\r\n     </g>\r\n     <g id=\"text_9\">\r\n      <!-- 250000 -->\r\n      <g transform=\"translate(888.306108 1077.021967)scale(0.1 -0.1)\">\r\n       <use xlink:href=\"#DejaVuSans-50\"/>\r\n       <use x=\"63.623047\" xlink:href=\"#DejaVuSans-53\"/>\r\n       <use x=\"127.246094\" xlink:href=\"#DejaVuSans-48\"/>\r\n       <use x=\"190.869141\" xlink:href=\"#DejaVuSans-48\"/>\r\n       <use x=\"254.492188\" xlink:href=\"#DejaVuSans-48\"/>\r\n       <use x=\"318.115234\" xlink:href=\"#DejaVuSans-48\"/>\r\n      </g>\r\n     </g>\r\n    </g>\r\n    <g id=\"xtick_7\">\r\n     <g id=\"line2d_7\">\r\n      <g>\r\n       <use style=\"stroke:#000000;stroke-width:0.8;\" x=\"1060.313892\" xlink:href=\"#m0695d7a0c6\" y=\"1062.423529\"/>\r\n      </g>\r\n     </g>\r\n     <g id=\"text_10\">\r\n      <!-- 300000 -->\r\n      <g transform=\"translate(1041.226392 1077.021967)scale(0.1 -0.1)\">\r\n       <defs>\r\n        <path d=\"M 40.578125 39.3125 \r\nQ 47.65625 37.796875 51.625 33 \r\nQ 55.609375 28.21875 55.609375 21.1875 \r\nQ 55.609375 10.40625 48.1875 4.484375 \r\nQ 40.765625 -1.421875 27.09375 -1.421875 \r\nQ 22.515625 -1.421875 17.65625 -0.515625 \r\nQ 12.796875 0.390625 7.625 2.203125 \r\nL 7.625 11.71875 \r\nQ 11.71875 9.328125 16.59375 8.109375 \r\nQ 21.484375 6.890625 26.8125 6.890625 \r\nQ 36.078125 6.890625 40.9375 10.546875 \r\nQ 45.796875 14.203125 45.796875 21.1875 \r\nQ 45.796875 27.640625 41.28125 31.265625 \r\nQ 36.765625 34.90625 28.71875 34.90625 \r\nL 20.21875 34.90625 \r\nL 20.21875 43.015625 \r\nL 29.109375 43.015625 \r\nQ 36.375 43.015625 40.234375 45.921875 \r\nQ 44.09375 48.828125 44.09375 54.296875 \r\nQ 44.09375 59.90625 40.109375 62.90625 \r\nQ 36.140625 65.921875 28.71875 65.921875 \r\nQ 24.65625 65.921875 20.015625 65.03125 \r\nQ 15.375 64.15625 9.8125 62.3125 \r\nL 9.8125 71.09375 \r\nQ 15.4375 72.65625 20.34375 73.4375 \r\nQ 25.25 74.21875 29.59375 74.21875 \r\nQ 40.828125 74.21875 47.359375 69.109375 \r\nQ 53.90625 64.015625 53.90625 55.328125 \r\nQ 53.90625 49.265625 50.4375 45.09375 \r\nQ 46.96875 40.921875 40.578125 39.3125 \r\nz\r\n\" id=\"DejaVuSans-51\"/>\r\n       </defs>\r\n       <use xlink:href=\"#DejaVuSans-51\"/>\r\n       <use x=\"63.623047\" xlink:href=\"#DejaVuSans-48\"/>\r\n       <use x=\"127.246094\" xlink:href=\"#DejaVuSans-48\"/>\r\n       <use x=\"190.869141\" xlink:href=\"#DejaVuSans-48\"/>\r\n       <use x=\"254.492188\" xlink:href=\"#DejaVuSans-48\"/>\r\n       <use x=\"318.115234\" xlink:href=\"#DejaVuSans-48\"/>\r\n      </g>\r\n     </g>\r\n    </g>\r\n    <g id=\"xtick_8\">\r\n     <g id=\"line2d_8\">\r\n      <g>\r\n       <use style=\"stroke:#000000;stroke-width:0.8;\" x=\"1213.234176\" xlink:href=\"#m0695d7a0c6\" y=\"1062.423529\"/>\r\n      </g>\r\n     </g>\r\n     <g id=\"text_11\">\r\n      <!-- 350000 -->\r\n      <g transform=\"translate(1194.146676 1077.021967)scale(0.1 -0.1)\">\r\n       <use xlink:href=\"#DejaVuSans-51\"/>\r\n       <use x=\"63.623047\" xlink:href=\"#DejaVuSans-53\"/>\r\n       <use x=\"127.246094\" xlink:href=\"#DejaVuSans-48\"/>\r\n       <use x=\"190.869141\" xlink:href=\"#DejaVuSans-48\"/>\r\n       <use x=\"254.492188\" xlink:href=\"#DejaVuSans-48\"/>\r\n       <use x=\"318.115234\" xlink:href=\"#DejaVuSans-48\"/>\r\n      </g>\r\n     </g>\r\n    </g>\r\n    <g id=\"text_12\">\r\n     <!-- totalVotes -->\r\n     <g transform=\"translate(675.625781 1090.700092)scale(0.1 -0.1)\">\r\n      <defs>\r\n       <path d=\"M 9.421875 75.984375 \r\nL 18.40625 75.984375 \r\nL 18.40625 0 \r\nL 9.421875 0 \r\nz\r\n\" id=\"DejaVuSans-108\"/>\r\n       <path d=\"M 28.609375 0 \r\nL 0.78125 72.90625 \r\nL 11.078125 72.90625 \r\nL 34.1875 11.53125 \r\nL 57.328125 72.90625 \r\nL 67.578125 72.90625 \r\nL 39.796875 0 \r\nz\r\n\" id=\"DejaVuSans-86\"/>\r\n      </defs>\r\n      <use xlink:href=\"#DejaVuSans-116\"/>\r\n      <use x=\"39.208984\" xlink:href=\"#DejaVuSans-111\"/>\r\n      <use x=\"100.390625\" xlink:href=\"#DejaVuSans-116\"/>\r\n      <use x=\"139.599609\" xlink:href=\"#DejaVuSans-97\"/>\r\n      <use x=\"200.878906\" xlink:href=\"#DejaVuSans-108\"/>\r\n      <use x=\"228.662109\" xlink:href=\"#DejaVuSans-86\"/>\r\n      <use x=\"289.320312\" xlink:href=\"#DejaVuSans-111\"/>\r\n      <use x=\"350.501953\" xlink:href=\"#DejaVuSans-116\"/>\r\n      <use x=\"389.710938\" xlink:href=\"#DejaVuSans-101\"/>\r\n      <use x=\"451.234375\" xlink:href=\"#DejaVuSans-115\"/>\r\n     </g>\r\n    </g>\r\n   </g>\r\n   <g id=\"matplotlib.axis_2\">\r\n    <g id=\"ytick_1\">\r\n     <g id=\"line2d_9\">\r\n      <defs>\r\n       <path d=\"M 0 0 \r\nL -3.5 0 \r\n\" id=\"medc2dc4861\" style=\"stroke:#000000;stroke-width:0.8;\"/>\r\n      </defs>\r\n      <g>\r\n       <use style=\"stroke:#000000;stroke-width:0.8;\" x=\"142.792188\" xlink:href=\"#medc2dc4861\" y=\"630.741176\"/>\r\n      </g>\r\n     </g>\r\n     <g id=\"text_13\">\r\n      <!-- Onesta -->\r\n      <g transform=\"translate(100.171875 634.540395)scale(0.1 -0.1)\">\r\n       <defs>\r\n        <path d=\"M 39.40625 66.21875 \r\nQ 28.65625 66.21875 22.328125 58.203125 \r\nQ 16.015625 50.203125 16.015625 36.375 \r\nQ 16.015625 22.609375 22.328125 14.59375 \r\nQ 28.65625 6.59375 39.40625 6.59375 \r\nQ 50.140625 6.59375 56.421875 14.59375 \r\nQ 62.703125 22.609375 62.703125 36.375 \r\nQ 62.703125 50.203125 56.421875 58.203125 \r\nQ 50.140625 66.21875 39.40625 66.21875 \r\nz\r\nM 39.40625 74.21875 \r\nQ 54.734375 74.21875 63.90625 63.9375 \r\nQ 73.09375 53.65625 73.09375 36.375 \r\nQ 73.09375 19.140625 63.90625 8.859375 \r\nQ 54.734375 -1.421875 39.40625 -1.421875 \r\nQ 24.03125 -1.421875 14.8125 8.828125 \r\nQ 5.609375 19.09375 5.609375 36.375 \r\nQ 5.609375 53.65625 14.8125 63.9375 \r\nQ 24.03125 74.21875 39.40625 74.21875 \r\nz\r\n\" id=\"DejaVuSans-79\"/>\r\n       </defs>\r\n       <use xlink:href=\"#DejaVuSans-79\"/>\r\n       <use x=\"78.710938\" xlink:href=\"#DejaVuSans-110\"/>\r\n       <use x=\"142.089844\" xlink:href=\"#DejaVuSans-101\"/>\r\n       <use x=\"203.613281\" xlink:href=\"#DejaVuSans-115\"/>\r\n       <use x=\"255.712891\" xlink:href=\"#DejaVuSans-116\"/>\r\n       <use x=\"294.921875\" xlink:href=\"#DejaVuSans-97\"/>\r\n      </g>\r\n     </g>\r\n    </g>\r\n    <g id=\"ytick_2\">\r\n     <g id=\"line2d_10\">\r\n      <g>\r\n       <use style=\"stroke:#000000;stroke-width:0.8;\" x=\"142.792188\" xlink:href=\"#medc2dc4861\" y=\"726.670588\"/>\r\n      </g>\r\n     </g>\r\n     <g id=\"text_14\">\r\n      <!-- Truffles -->\r\n      <g transform=\"translate(99.529688 730.469807)scale(0.1 -0.1)\">\r\n       <defs>\r\n        <path d=\"M -0.296875 72.90625 \r\nL 61.375 72.90625 \r\nL 61.375 64.59375 \r\nL 35.5 64.59375 \r\nL 35.5 0 \r\nL 25.59375 0 \r\nL 25.59375 64.59375 \r\nL -0.296875 64.59375 \r\nz\r\n\" id=\"DejaVuSans-84\"/>\r\n       </defs>\r\n       <use xlink:href=\"#DejaVuSans-84\"/>\r\n       <use x=\"46.333984\" xlink:href=\"#DejaVuSans-114\"/>\r\n       <use x=\"87.447266\" xlink:href=\"#DejaVuSans-117\"/>\r\n       <use x=\"150.826172\" xlink:href=\"#DejaVuSans-102\"/>\r\n       <use x=\"186.03125\" xlink:href=\"#DejaVuSans-102\"/>\r\n       <use x=\"221.236328\" xlink:href=\"#DejaVuSans-108\"/>\r\n       <use x=\"249.019531\" xlink:href=\"#DejaVuSans-101\"/>\r\n       <use x=\"310.542969\" xlink:href=\"#DejaVuSans-115\"/>\r\n      </g>\r\n     </g>\r\n    </g>\r\n    <g id=\"ytick_3\">\r\n     <g id=\"line2d_11\">\r\n      <g>\r\n       <use style=\"stroke:#000000;stroke-width:0.8;\" x=\"142.792188\" xlink:href=\"#medc2dc4861\" y=\"822.6\"/>\r\n      </g>\r\n     </g>\r\n     <g id=\"text_15\">\r\n      <!-- Empire Restaurant -->\r\n      <g transform=\"translate(42.645313 826.399219)scale(0.1 -0.1)\">\r\n       <defs>\r\n        <path d=\"M 9.8125 72.90625 \r\nL 55.90625 72.90625 \r\nL 55.90625 64.59375 \r\nL 19.671875 64.59375 \r\nL 19.671875 43.015625 \r\nL 54.390625 43.015625 \r\nL 54.390625 34.71875 \r\nL 19.671875 34.71875 \r\nL 19.671875 8.296875 \r\nL 56.78125 8.296875 \r\nL 56.78125 0 \r\nL 9.8125 0 \r\nz\r\n\" id=\"DejaVuSans-69\"/>\r\n        <path d=\"M 18.109375 8.203125 \r\nL 18.109375 -20.796875 \r\nL 9.078125 -20.796875 \r\nL 9.078125 54.6875 \r\nL 18.109375 54.6875 \r\nL 18.109375 46.390625 \r\nQ 20.953125 51.265625 25.265625 53.625 \r\nQ 29.59375 56 35.59375 56 \r\nQ 45.5625 56 51.78125 48.09375 \r\nQ 58.015625 40.1875 58.015625 27.296875 \r\nQ 58.015625 14.40625 51.78125 6.484375 \r\nQ 45.5625 -1.421875 35.59375 -1.421875 \r\nQ 29.59375 -1.421875 25.265625 0.953125 \r\nQ 20.953125 3.328125 18.109375 8.203125 \r\nz\r\nM 48.6875 27.296875 \r\nQ 48.6875 37.203125 44.609375 42.84375 \r\nQ 40.53125 48.484375 33.40625 48.484375 \r\nQ 26.265625 48.484375 22.1875 42.84375 \r\nQ 18.109375 37.203125 18.109375 27.296875 \r\nQ 18.109375 17.390625 22.1875 11.75 \r\nQ 26.265625 6.109375 33.40625 6.109375 \r\nQ 40.53125 6.109375 44.609375 11.75 \r\nQ 48.6875 17.390625 48.6875 27.296875 \r\nz\r\n\" id=\"DejaVuSans-112\"/>\r\n        <path d=\"M 44.390625 34.1875 \r\nQ 47.5625 33.109375 50.5625 29.59375 \r\nQ 53.5625 26.078125 56.59375 19.921875 \r\nL 66.609375 0 \r\nL 56 0 \r\nL 46.6875 18.703125 \r\nQ 43.0625 26.03125 39.671875 28.421875 \r\nQ 36.28125 30.8125 30.421875 30.8125 \r\nL 19.671875 30.8125 \r\nL 19.671875 0 \r\nL 9.8125 0 \r\nL 9.8125 72.90625 \r\nL 32.078125 72.90625 \r\nQ 44.578125 72.90625 50.734375 67.671875 \r\nQ 56.890625 62.453125 56.890625 51.90625 \r\nQ 56.890625 45.015625 53.6875 40.46875 \r\nQ 50.484375 35.9375 44.390625 34.1875 \r\nz\r\nM 19.671875 64.796875 \r\nL 19.671875 38.921875 \r\nL 32.078125 38.921875 \r\nQ 39.203125 38.921875 42.84375 42.21875 \r\nQ 46.484375 45.515625 46.484375 51.90625 \r\nQ 46.484375 58.296875 42.84375 61.546875 \r\nQ 39.203125 64.796875 32.078125 64.796875 \r\nz\r\n\" id=\"DejaVuSans-82\"/>\r\n       </defs>\r\n       <use xlink:href=\"#DejaVuSans-69\"/>\r\n       <use x=\"63.183594\" xlink:href=\"#DejaVuSans-109\"/>\r\n       <use x=\"160.595703\" xlink:href=\"#DejaVuSans-112\"/>\r\n       <use x=\"224.072266\" xlink:href=\"#DejaVuSans-105\"/>\r\n       <use x=\"251.855469\" xlink:href=\"#DejaVuSans-114\"/>\r\n       <use x=\"290.71875\" xlink:href=\"#DejaVuSans-101\"/>\r\n       <use x=\"352.242188\" xlink:href=\"#DejaVuSans-32\"/>\r\n       <use x=\"384.029297\" xlink:href=\"#DejaVuSans-82\"/>\r\n       <use x=\"449.011719\" xlink:href=\"#DejaVuSans-101\"/>\r\n       <use x=\"510.535156\" xlink:href=\"#DejaVuSans-115\"/>\r\n       <use x=\"562.634766\" xlink:href=\"#DejaVuSans-116\"/>\r\n       <use x=\"601.84375\" xlink:href=\"#DejaVuSans-97\"/>\r\n       <use x=\"663.123047\" xlink:href=\"#DejaVuSans-117\"/>\r\n       <use x=\"726.501953\" xlink:href=\"#DejaVuSans-114\"/>\r\n       <use x=\"767.615234\" xlink:href=\"#DejaVuSans-97\"/>\r\n       <use x=\"828.894531\" xlink:href=\"#DejaVuSans-110\"/>\r\n       <use x=\"892.273438\" xlink:href=\"#DejaVuSans-116\"/>\r\n      </g>\r\n     </g>\r\n    </g>\r\n    <g id=\"ytick_4\">\r\n     <g id=\"line2d_12\">\r\n      <g>\r\n       <use style=\"stroke:#000000;stroke-width:0.8;\" x=\"142.792188\" xlink:href=\"#medc2dc4861\" y=\"918.529412\"/>\r\n      </g>\r\n     </g>\r\n     <g id=\"text_16\">\r\n      <!-- Hammered -->\r\n      <g transform=\"translate(80.121875 922.328631)scale(0.1 -0.1)\">\r\n       <defs>\r\n        <path d=\"M 9.8125 72.90625 \r\nL 19.671875 72.90625 \r\nL 19.671875 43.015625 \r\nL 55.515625 43.015625 \r\nL 55.515625 72.90625 \r\nL 65.375 72.90625 \r\nL 65.375 0 \r\nL 55.515625 0 \r\nL 55.515625 34.71875 \r\nL 19.671875 34.71875 \r\nL 19.671875 0 \r\nL 9.8125 0 \r\nz\r\n\" id=\"DejaVuSans-72\"/>\r\n       </defs>\r\n       <use xlink:href=\"#DejaVuSans-72\"/>\r\n       <use x=\"75.195312\" xlink:href=\"#DejaVuSans-97\"/>\r\n       <use x=\"136.474609\" xlink:href=\"#DejaVuSans-109\"/>\r\n       <use x=\"233.886719\" xlink:href=\"#DejaVuSans-109\"/>\r\n       <use x=\"331.298828\" xlink:href=\"#DejaVuSans-101\"/>\r\n       <use x=\"392.822266\" xlink:href=\"#DejaVuSans-114\"/>\r\n       <use x=\"431.685547\" xlink:href=\"#DejaVuSans-101\"/>\r\n       <use x=\"493.208984\" xlink:href=\"#DejaVuSans-100\"/>\r\n      </g>\r\n     </g>\r\n    </g>\r\n    <g id=\"ytick_5\">\r\n     <g id=\"line2d_13\">\r\n      <g>\r\n       <use style=\"stroke:#000000;stroke-width:0.8;\" x=\"142.792188\" xlink:href=\"#medc2dc4861\" y=\"1014.458824\"/>\r\n      </g>\r\n     </g>\r\n     <g id=\"text_17\">\r\n      <!-- The Black Pearl -->\r\n      <g transform=\"translate(58.94375 1018.258042)scale(0.1 -0.1)\">\r\n       <defs>\r\n        <path d=\"M 19.671875 34.8125 \r\nL 19.671875 8.109375 \r\nL 35.5 8.109375 \r\nQ 43.453125 8.109375 47.28125 11.40625 \r\nQ 51.125 14.703125 51.125 21.484375 \r\nQ 51.125 28.328125 47.28125 31.5625 \r\nQ 43.453125 34.8125 35.5 34.8125 \r\nz\r\nM 19.671875 64.796875 \r\nL 19.671875 42.828125 \r\nL 34.28125 42.828125 \r\nQ 41.5 42.828125 45.03125 45.53125 \r\nQ 48.578125 48.25 48.578125 53.8125 \r\nQ 48.578125 59.328125 45.03125 62.0625 \r\nQ 41.5 64.796875 34.28125 64.796875 \r\nz\r\nM 9.8125 72.90625 \r\nL 35.015625 72.90625 \r\nQ 46.296875 72.90625 52.390625 68.21875 \r\nQ 58.5 63.53125 58.5 54.890625 \r\nQ 58.5 48.1875 55.375 44.234375 \r\nQ 52.25 40.28125 46.1875 39.3125 \r\nQ 53.46875 37.75 57.5 32.78125 \r\nQ 61.53125 27.828125 61.53125 20.40625 \r\nQ 61.53125 10.640625 54.890625 5.3125 \r\nQ 48.25 0 35.984375 0 \r\nL 9.8125 0 \r\nz\r\n\" id=\"DejaVuSans-66\"/>\r\n        <path d=\"M 9.078125 75.984375 \r\nL 18.109375 75.984375 \r\nL 18.109375 31.109375 \r\nL 44.921875 54.6875 \r\nL 56.390625 54.6875 \r\nL 27.390625 29.109375 \r\nL 57.625 0 \r\nL 45.90625 0 \r\nL 18.109375 26.703125 \r\nL 18.109375 0 \r\nL 9.078125 0 \r\nz\r\n\" id=\"DejaVuSans-107\"/>\r\n        <path d=\"M 19.671875 64.796875 \r\nL 19.671875 37.40625 \r\nL 32.078125 37.40625 \r\nQ 38.96875 37.40625 42.71875 40.96875 \r\nQ 46.484375 44.53125 46.484375 51.125 \r\nQ 46.484375 57.671875 42.71875 61.234375 \r\nQ 38.96875 64.796875 32.078125 64.796875 \r\nz\r\nM 9.8125 72.90625 \r\nL 32.078125 72.90625 \r\nQ 44.34375 72.90625 50.609375 67.359375 \r\nQ 56.890625 61.8125 56.890625 51.125 \r\nQ 56.890625 40.328125 50.609375 34.8125 \r\nQ 44.34375 29.296875 32.078125 29.296875 \r\nL 19.671875 29.296875 \r\nL 19.671875 0 \r\nL 9.8125 0 \r\nz\r\n\" id=\"DejaVuSans-80\"/>\r\n       </defs>\r\n       <use xlink:href=\"#DejaVuSans-84\"/>\r\n       <use x=\"61.083984\" xlink:href=\"#DejaVuSans-104\"/>\r\n       <use x=\"124.462891\" xlink:href=\"#DejaVuSans-101\"/>\r\n       <use x=\"185.986328\" xlink:href=\"#DejaVuSans-32\"/>\r\n       <use x=\"217.773438\" xlink:href=\"#DejaVuSans-66\"/>\r\n       <use x=\"286.376953\" xlink:href=\"#DejaVuSans-108\"/>\r\n       <use x=\"314.160156\" xlink:href=\"#DejaVuSans-97\"/>\r\n       <use x=\"375.439453\" xlink:href=\"#DejaVuSans-99\"/>\r\n       <use x=\"430.419922\" xlink:href=\"#DejaVuSans-107\"/>\r\n       <use x=\"488.330078\" xlink:href=\"#DejaVuSans-32\"/>\r\n       <use x=\"520.117188\" xlink:href=\"#DejaVuSans-80\"/>\r\n       <use x=\"576.794922\" xlink:href=\"#DejaVuSans-101\"/>\r\n       <use x=\"638.318359\" xlink:href=\"#DejaVuSans-97\"/>\r\n       <use x=\"699.597656\" xlink:href=\"#DejaVuSans-114\"/>\r\n       <use x=\"740.710938\" xlink:href=\"#DejaVuSans-108\"/>\r\n      </g>\r\n     </g>\r\n    </g>\r\n    <g id=\"text_18\">\r\n     <!-- name -->\r\n     <g transform=\"translate(36.565625 836.779688)rotate(-90)scale(0.1 -0.1)\">\r\n      <use xlink:href=\"#DejaVuSans-110\"/>\r\n      <use x=\"63.378906\" xlink:href=\"#DejaVuSans-97\"/>\r\n      <use x=\"124.658203\" xlink:href=\"#DejaVuSans-109\"/>\r\n      <use x=\"222.070312\" xlink:href=\"#DejaVuSans-101\"/>\r\n     </g>\r\n    </g>\r\n   </g>\r\n   <g id=\"line2d_14\">\r\n    <path clip-path=\"url(#p6643aeda01)\" d=\"M 0 0 \r\n\" style=\"fill:none;stroke:#424242;stroke-linecap:square;stroke-width:2.7;\"/>\r\n   </g>\r\n   <g id=\"line2d_15\">\r\n    <path clip-path=\"url(#p6643aeda01)\" d=\"M 0 0 \r\n\" style=\"fill:none;stroke:#424242;stroke-linecap:square;stroke-width:2.7;\"/>\r\n   </g>\r\n   <g id=\"line2d_16\">\r\n    <path clip-path=\"url(#p6643aeda01)\" d=\"M 0 0 \r\n\" style=\"fill:none;stroke:#424242;stroke-linecap:square;stroke-width:2.7;\"/>\r\n   </g>\r\n   <g id=\"line2d_17\">\r\n    <path clip-path=\"url(#p6643aeda01)\" d=\"M 0 0 \r\n\" style=\"fill:none;stroke:#424242;stroke-linecap:square;stroke-width:2.7;\"/>\r\n   </g>\r\n   <g id=\"line2d_18\">\r\n    <path clip-path=\"url(#p6643aeda01)\" d=\"M 0 0 \r\n\" style=\"fill:none;stroke:#424242;stroke-linecap:square;stroke-width:2.7;\"/>\r\n   </g>\r\n   <g id=\"patch_8\">\r\n    <path d=\"M 142.792188 1062.423529 \r\nL 142.792188 582.776471 \r\n\" style=\"fill:none;stroke:#000000;stroke-linecap:square;stroke-linejoin:miter;stroke-width:0.8;\"/>\r\n   </g>\r\n   <g id=\"patch_9\">\r\n    <path d=\"M 1258.792187 1062.423529 \r\nL 1258.792187 582.776471 \r\n\" style=\"fill:none;stroke:#000000;stroke-linecap:square;stroke-linejoin:miter;stroke-width:0.8;\"/>\r\n   </g>\r\n   <g id=\"patch_10\">\r\n    <path d=\"M 142.792188 1062.423529 \r\nL 1258.792187 1062.423529 \r\n\" style=\"fill:none;stroke:#000000;stroke-linecap:square;stroke-linejoin:miter;stroke-width:0.8;\"/>\r\n   </g>\r\n   <g id=\"patch_11\">\r\n    <path d=\"M 142.792188 582.776471 \r\nL 1258.792187 582.776471 \r\n\" style=\"fill:none;stroke:#000000;stroke-linecap:square;stroke-linejoin:miter;stroke-width:0.8;\"/>\r\n   </g>\r\n   <g id=\"text_19\">\r\n    <!-- Top 5 most voted restaurants -->\r\n    <g transform=\"translate(612.74875 576.776471)scale(0.12 -0.12)\">\r\n     <use xlink:href=\"#DejaVuSans-84\"/>\r\n     <use x=\"44.083984\" xlink:href=\"#DejaVuSans-111\"/>\r\n     <use x=\"105.265625\" xlink:href=\"#DejaVuSans-112\"/>\r\n     <use x=\"168.742188\" xlink:href=\"#DejaVuSans-32\"/>\r\n     <use x=\"200.529297\" xlink:href=\"#DejaVuSans-53\"/>\r\n     <use x=\"264.152344\" xlink:href=\"#DejaVuSans-32\"/>\r\n     <use x=\"295.939453\" xlink:href=\"#DejaVuSans-109\"/>\r\n     <use x=\"393.351562\" xlink:href=\"#DejaVuSans-111\"/>\r\n     <use x=\"454.533203\" xlink:href=\"#DejaVuSans-115\"/>\r\n     <use x=\"506.632812\" xlink:href=\"#DejaVuSans-116\"/>\r\n     <use x=\"545.841797\" xlink:href=\"#DejaVuSans-32\"/>\r\n     <use x=\"577.628906\" xlink:href=\"#DejaVuSans-118\"/>\r\n     <use x=\"636.808594\" xlink:href=\"#DejaVuSans-111\"/>\r\n     <use x=\"697.990234\" xlink:href=\"#DejaVuSans-116\"/>\r\n     <use x=\"737.199219\" xlink:href=\"#DejaVuSans-101\"/>\r\n     <use x=\"798.722656\" xlink:href=\"#DejaVuSans-100\"/>\r\n     <use x=\"862.199219\" xlink:href=\"#DejaVuSans-32\"/>\r\n     <use x=\"893.986328\" xlink:href=\"#DejaVuSans-114\"/>\r\n     <use x=\"932.849609\" xlink:href=\"#DejaVuSans-101\"/>\r\n     <use x=\"994.373047\" xlink:href=\"#DejaVuSans-115\"/>\r\n     <use x=\"1046.472656\" xlink:href=\"#DejaVuSans-116\"/>\r\n     <use x=\"1085.681641\" xlink:href=\"#DejaVuSans-97\"/>\r\n     <use x=\"1146.960938\" xlink:href=\"#DejaVuSans-117\"/>\r\n     <use x=\"1210.339844\" xlink:href=\"#DejaVuSans-114\"/>\r\n     <use x=\"1251.453125\" xlink:href=\"#DejaVuSans-97\"/>\r\n     <use x=\"1312.732422\" xlink:href=\"#DejaVuSans-110\"/>\r\n     <use x=\"1376.111328\" xlink:href=\"#DejaVuSans-116\"/>\r\n     <use x=\"1415.320312\" xlink:href=\"#DejaVuSans-115\"/>\r\n    </g>\r\n   </g>\r\n  </g>\r\n  <g id=\"axes_3\">\r\n   <g id=\"patch_12\">\r\n    <path d=\"M 142.792188 1638 \r\nL 1258.792187 1638 \r\nL 1258.792187 1158.352941 \r\nL 142.792188 1158.352941 \r\nz\r\n\" style=\"fill:#ffffff;\"/>\r\n   </g>\r\n   <g id=\"patch_13\">\r\n    <path clip-path=\"url(#p773b03ac2c)\" d=\"M 142.792188 1167.945882 \r\nL 1205.64933 1167.945882 \r\nL 1205.64933 1244.689412 \r\nL 142.792188 1244.689412 \r\nz\r\n\" style=\"fill:#3274a1;\"/>\r\n   </g>\r\n   <g id=\"patch_14\">\r\n    <path clip-path=\"url(#p773b03ac2c)\" d=\"M 142.792188 1263.875294 \r\nL 1205.64933 1263.875294 \r\nL 1205.64933 1340.618824 \r\nL 142.792188 1340.618824 \r\nz\r\n\" style=\"fill:#e1812c;\"/>\r\n   </g>\r\n   <g id=\"patch_15\">\r\n    <path clip-path=\"url(#p773b03ac2c)\" d=\"M 142.792188 1359.804706 \r\nL 1205.64933 1359.804706 \r\nL 1205.64933 1436.548235 \r\nL 142.792188 1436.548235 \r\nz\r\n\" style=\"fill:#3a923a;\"/>\r\n   </g>\r\n   <g id=\"patch_16\">\r\n    <path clip-path=\"url(#p773b03ac2c)\" d=\"M 142.792188 1455.734118 \r\nL 1205.64933 1455.734118 \r\nL 1205.64933 1532.477647 \r\nL 142.792188 1532.477647 \r\nz\r\n\" style=\"fill:#c03d3e;\"/>\r\n   </g>\r\n   <g id=\"patch_17\">\r\n    <path clip-path=\"url(#p773b03ac2c)\" d=\"M 142.792188 1551.663529 \r\nL 1205.64933 1551.663529 \r\nL 1205.64933 1628.407059 \r\nL 142.792188 1628.407059 \r\nz\r\n\" style=\"fill:#9372b2;\"/>\r\n   </g>\r\n   <g id=\"matplotlib.axis_3\">\r\n    <g id=\"xtick_9\">\r\n     <g id=\"line2d_19\">\r\n      <g>\r\n       <use style=\"stroke:#000000;stroke-width:0.8;\" x=\"142.792188\" xlink:href=\"#m0695d7a0c6\" y=\"1638\"/>\r\n      </g>\r\n     </g>\r\n     <g id=\"text_20\">\r\n      <!-- 0.0 -->\r\n      <g transform=\"translate(134.840625 1652.598438)scale(0.1 -0.1)\">\r\n       <defs>\r\n        <path d=\"M 10.6875 12.40625 \r\nL 21 12.40625 \r\nL 21 0 \r\nL 10.6875 0 \r\nz\r\n\" id=\"DejaVuSans-46\"/>\r\n       </defs>\r\n       <use xlink:href=\"#DejaVuSans-48\"/>\r\n       <use x=\"63.623047\" xlink:href=\"#DejaVuSans-46\"/>\r\n       <use x=\"95.410156\" xlink:href=\"#DejaVuSans-48\"/>\r\n      </g>\r\n     </g>\r\n    </g>\r\n    <g id=\"xtick_10\">\r\n     <g id=\"line2d_20\">\r\n      <g>\r\n       <use style=\"stroke:#000000;stroke-width:0.8;\" x=\"275.64933\" xlink:href=\"#m0695d7a0c6\" y=\"1638\"/>\r\n      </g>\r\n     </g>\r\n     <g id=\"text_21\">\r\n      <!-- 0.5 -->\r\n      <g transform=\"translate(267.697768 1652.598438)scale(0.1 -0.1)\">\r\n       <use xlink:href=\"#DejaVuSans-48\"/>\r\n       <use x=\"63.623047\" xlink:href=\"#DejaVuSans-46\"/>\r\n       <use x=\"95.410156\" xlink:href=\"#DejaVuSans-53\"/>\r\n      </g>\r\n     </g>\r\n    </g>\r\n    <g id=\"xtick_11\">\r\n     <g id=\"line2d_21\">\r\n      <g>\r\n       <use style=\"stroke:#000000;stroke-width:0.8;\" x=\"408.506473\" xlink:href=\"#m0695d7a0c6\" y=\"1638\"/>\r\n      </g>\r\n     </g>\r\n     <g id=\"text_22\">\r\n      <!-- 1.0 -->\r\n      <g transform=\"translate(400.554911 1652.598438)scale(0.1 -0.1)\">\r\n       <use xlink:href=\"#DejaVuSans-49\"/>\r\n       <use x=\"63.623047\" xlink:href=\"#DejaVuSans-46\"/>\r\n       <use x=\"95.410156\" xlink:href=\"#DejaVuSans-48\"/>\r\n      </g>\r\n     </g>\r\n    </g>\r\n    <g id=\"xtick_12\">\r\n     <g id=\"line2d_22\">\r\n      <g>\r\n       <use style=\"stroke:#000000;stroke-width:0.8;\" x=\"541.363616\" xlink:href=\"#m0695d7a0c6\" y=\"1638\"/>\r\n      </g>\r\n     </g>\r\n     <g id=\"text_23\">\r\n      <!-- 1.5 -->\r\n      <g transform=\"translate(533.412054 1652.598438)scale(0.1 -0.1)\">\r\n       <use xlink:href=\"#DejaVuSans-49\"/>\r\n       <use x=\"63.623047\" xlink:href=\"#DejaVuSans-46\"/>\r\n       <use x=\"95.410156\" xlink:href=\"#DejaVuSans-53\"/>\r\n      </g>\r\n     </g>\r\n    </g>\r\n    <g id=\"xtick_13\">\r\n     <g id=\"line2d_23\">\r\n      <g>\r\n       <use style=\"stroke:#000000;stroke-width:0.8;\" x=\"674.220759\" xlink:href=\"#m0695d7a0c6\" y=\"1638\"/>\r\n      </g>\r\n     </g>\r\n     <g id=\"text_24\">\r\n      <!-- 2.0 -->\r\n      <g transform=\"translate(666.269196 1652.598438)scale(0.1 -0.1)\">\r\n       <use xlink:href=\"#DejaVuSans-50\"/>\r\n       <use x=\"63.623047\" xlink:href=\"#DejaVuSans-46\"/>\r\n       <use x=\"95.410156\" xlink:href=\"#DejaVuSans-48\"/>\r\n      </g>\r\n     </g>\r\n    </g>\r\n    <g id=\"xtick_14\">\r\n     <g id=\"line2d_24\">\r\n      <g>\r\n       <use style=\"stroke:#000000;stroke-width:0.8;\" x=\"807.077902\" xlink:href=\"#m0695d7a0c6\" y=\"1638\"/>\r\n      </g>\r\n     </g>\r\n     <g id=\"text_25\">\r\n      <!-- 2.5 -->\r\n      <g transform=\"translate(799.126339 1652.598438)scale(0.1 -0.1)\">\r\n       <use xlink:href=\"#DejaVuSans-50\"/>\r\n       <use x=\"63.623047\" xlink:href=\"#DejaVuSans-46\"/>\r\n       <use x=\"95.410156\" xlink:href=\"#DejaVuSans-53\"/>\r\n      </g>\r\n     </g>\r\n    </g>\r\n    <g id=\"xtick_15\">\r\n     <g id=\"line2d_25\">\r\n      <g>\r\n       <use style=\"stroke:#000000;stroke-width:0.8;\" x=\"939.935045\" xlink:href=\"#m0695d7a0c6\" y=\"1638\"/>\r\n      </g>\r\n     </g>\r\n     <g id=\"text_26\">\r\n      <!-- 3.0 -->\r\n      <g transform=\"translate(931.983482 1652.598438)scale(0.1 -0.1)\">\r\n       <use xlink:href=\"#DejaVuSans-51\"/>\r\n       <use x=\"63.623047\" xlink:href=\"#DejaVuSans-46\"/>\r\n       <use x=\"95.410156\" xlink:href=\"#DejaVuSans-48\"/>\r\n      </g>\r\n     </g>\r\n    </g>\r\n    <g id=\"xtick_16\">\r\n     <g id=\"line2d_26\">\r\n      <g>\r\n       <use style=\"stroke:#000000;stroke-width:0.8;\" x=\"1072.792187\" xlink:href=\"#m0695d7a0c6\" y=\"1638\"/>\r\n      </g>\r\n     </g>\r\n     <g id=\"text_27\">\r\n      <!-- 3.5 -->\r\n      <g transform=\"translate(1064.840625 1652.598438)scale(0.1 -0.1)\">\r\n       <use xlink:href=\"#DejaVuSans-51\"/>\r\n       <use x=\"63.623047\" xlink:href=\"#DejaVuSans-46\"/>\r\n       <use x=\"95.410156\" xlink:href=\"#DejaVuSans-53\"/>\r\n      </g>\r\n     </g>\r\n    </g>\r\n    <g id=\"xtick_17\">\r\n     <g id=\"line2d_27\">\r\n      <g>\r\n       <use style=\"stroke:#000000;stroke-width:0.8;\" x=\"1205.64933\" xlink:href=\"#m0695d7a0c6\" y=\"1638\"/>\r\n      </g>\r\n     </g>\r\n     <g id=\"text_28\">\r\n      <!-- 4.0 -->\r\n      <g transform=\"translate(1197.697768 1652.598438)scale(0.1 -0.1)\">\r\n       <defs>\r\n        <path d=\"M 37.796875 64.3125 \r\nL 12.890625 25.390625 \r\nL 37.796875 25.390625 \r\nz\r\nM 35.203125 72.90625 \r\nL 47.609375 72.90625 \r\nL 47.609375 25.390625 \r\nL 58.015625 25.390625 \r\nL 58.015625 17.1875 \r\nL 47.609375 17.1875 \r\nL 47.609375 0 \r\nL 37.796875 0 \r\nL 37.796875 17.1875 \r\nL 4.890625 17.1875 \r\nL 4.890625 26.703125 \r\nz\r\n\" id=\"DejaVuSans-52\"/>\r\n       </defs>\r\n       <use xlink:href=\"#DejaVuSans-52\"/>\r\n       <use x=\"63.623047\" xlink:href=\"#DejaVuSans-46\"/>\r\n       <use x=\"95.410156\" xlink:href=\"#DejaVuSans-48\"/>\r\n      </g>\r\n     </g>\r\n    </g>\r\n    <g id=\"text_29\">\r\n     <!-- totalVotes -->\r\n     <g transform=\"translate(675.625781 1666.276562)scale(0.1 -0.1)\">\r\n      <use xlink:href=\"#DejaVuSans-116\"/>\r\n      <use x=\"39.208984\" xlink:href=\"#DejaVuSans-111\"/>\r\n      <use x=\"100.390625\" xlink:href=\"#DejaVuSans-116\"/>\r\n      <use x=\"139.599609\" xlink:href=\"#DejaVuSans-97\"/>\r\n      <use x=\"200.878906\" xlink:href=\"#DejaVuSans-108\"/>\r\n      <use x=\"228.662109\" xlink:href=\"#DejaVuSans-86\"/>\r\n      <use x=\"289.320312\" xlink:href=\"#DejaVuSans-111\"/>\r\n      <use x=\"350.501953\" xlink:href=\"#DejaVuSans-116\"/>\r\n      <use x=\"389.710938\" xlink:href=\"#DejaVuSans-101\"/>\r\n      <use x=\"451.234375\" xlink:href=\"#DejaVuSans-115\"/>\r\n     </g>\r\n    </g>\r\n   </g>\r\n   <g id=\"matplotlib.axis_4\">\r\n    <g id=\"ytick_6\">\r\n     <g id=\"line2d_28\">\r\n      <g>\r\n       <use style=\"stroke:#000000;stroke-width:0.8;\" x=\"142.792188\" xlink:href=\"#medc2dc4861\" y=\"1206.317647\"/>\r\n      </g>\r\n     </g>\r\n     <g id=\"text_30\">\r\n      <!-- Silver Spoon -->\r\n      <g transform=\"translate(73.254688 1210.116866)scale(0.1 -0.1)\">\r\n       <defs>\r\n        <path d=\"M 53.515625 70.515625 \r\nL 53.515625 60.890625 \r\nQ 47.90625 63.578125 42.921875 64.890625 \r\nQ 37.9375 66.21875 33.296875 66.21875 \r\nQ 25.25 66.21875 20.875 63.09375 \r\nQ 16.5 59.96875 16.5 54.203125 \r\nQ 16.5 49.359375 19.40625 46.890625 \r\nQ 22.3125 44.4375 30.421875 42.921875 \r\nL 36.375 41.703125 \r\nQ 47.40625 39.59375 52.65625 34.296875 \r\nQ 57.90625 29 57.90625 20.125 \r\nQ 57.90625 9.515625 50.796875 4.046875 \r\nQ 43.703125 -1.421875 29.984375 -1.421875 \r\nQ 24.8125 -1.421875 18.96875 -0.25 \r\nQ 13.140625 0.921875 6.890625 3.21875 \r\nL 6.890625 13.375 \r\nQ 12.890625 10.015625 18.65625 8.296875 \r\nQ 24.421875 6.59375 29.984375 6.59375 \r\nQ 38.421875 6.59375 43.015625 9.90625 \r\nQ 47.609375 13.234375 47.609375 19.390625 \r\nQ 47.609375 24.75 44.3125 27.78125 \r\nQ 41.015625 30.8125 33.5 32.328125 \r\nL 27.484375 33.5 \r\nQ 16.453125 35.6875 11.515625 40.375 \r\nQ 6.59375 45.0625 6.59375 53.421875 \r\nQ 6.59375 63.09375 13.40625 68.65625 \r\nQ 20.21875 74.21875 32.171875 74.21875 \r\nQ 37.3125 74.21875 42.625 73.28125 \r\nQ 47.953125 72.359375 53.515625 70.515625 \r\nz\r\n\" id=\"DejaVuSans-83\"/>\r\n       </defs>\r\n       <use xlink:href=\"#DejaVuSans-83\"/>\r\n       <use x=\"63.476562\" xlink:href=\"#DejaVuSans-105\"/>\r\n       <use x=\"91.259766\" xlink:href=\"#DejaVuSans-108\"/>\r\n       <use x=\"119.042969\" xlink:href=\"#DejaVuSans-118\"/>\r\n       <use x=\"178.222656\" xlink:href=\"#DejaVuSans-101\"/>\r\n       <use x=\"239.746094\" xlink:href=\"#DejaVuSans-114\"/>\r\n       <use x=\"280.859375\" xlink:href=\"#DejaVuSans-32\"/>\r\n       <use x=\"312.646484\" xlink:href=\"#DejaVuSans-83\"/>\r\n       <use x=\"376.123047\" xlink:href=\"#DejaVuSans-112\"/>\r\n       <use x=\"439.599609\" xlink:href=\"#DejaVuSans-111\"/>\r\n       <use x=\"500.78125\" xlink:href=\"#DejaVuSans-111\"/>\r\n       <use x=\"561.962891\" xlink:href=\"#DejaVuSans-110\"/>\r\n      </g>\r\n     </g>\r\n    </g>\r\n    <g id=\"ytick_7\">\r\n     <g id=\"line2d_29\">\r\n      <g>\r\n       <use style=\"stroke:#000000;stroke-width:0.8;\" x=\"142.792188\" xlink:href=\"#medc2dc4861\" y=\"1302.247059\"/>\r\n      </g>\r\n     </g>\r\n     <g id=\"text_31\">\r\n      <!-- House of Mandarin -->\r\n      <g transform=\"translate(41.660938 1306.046278)scale(0.1 -0.1)\">\r\n       <defs>\r\n        <path d=\"M 9.8125 72.90625 \r\nL 24.515625 72.90625 \r\nL 43.109375 23.296875 \r\nL 61.8125 72.90625 \r\nL 76.515625 72.90625 \r\nL 76.515625 0 \r\nL 66.890625 0 \r\nL 66.890625 64.015625 \r\nL 48.09375 14.015625 \r\nL 38.1875 14.015625 \r\nL 19.390625 64.015625 \r\nL 19.390625 0 \r\nL 9.8125 0 \r\nz\r\n\" id=\"DejaVuSans-77\"/>\r\n       </defs>\r\n       <use xlink:href=\"#DejaVuSans-72\"/>\r\n       <use x=\"75.195312\" xlink:href=\"#DejaVuSans-111\"/>\r\n       <use x=\"136.376953\" xlink:href=\"#DejaVuSans-117\"/>\r\n       <use x=\"199.755859\" xlink:href=\"#DejaVuSans-115\"/>\r\n       <use x=\"251.855469\" xlink:href=\"#DejaVuSans-101\"/>\r\n       <use x=\"313.378906\" xlink:href=\"#DejaVuSans-32\"/>\r\n       <use x=\"345.166016\" xlink:href=\"#DejaVuSans-111\"/>\r\n       <use x=\"406.347656\" xlink:href=\"#DejaVuSans-102\"/>\r\n       <use x=\"441.552734\" xlink:href=\"#DejaVuSans-32\"/>\r\n       <use x=\"473.339844\" xlink:href=\"#DejaVuSans-77\"/>\r\n       <use x=\"559.619141\" xlink:href=\"#DejaVuSans-97\"/>\r\n       <use x=\"620.898438\" xlink:href=\"#DejaVuSans-110\"/>\r\n       <use x=\"684.277344\" xlink:href=\"#DejaVuSans-100\"/>\r\n       <use x=\"747.753906\" xlink:href=\"#DejaVuSans-97\"/>\r\n       <use x=\"809.033203\" xlink:href=\"#DejaVuSans-114\"/>\r\n       <use x=\"850.146484\" xlink:href=\"#DejaVuSans-105\"/>\r\n       <use x=\"877.929688\" xlink:href=\"#DejaVuSans-110\"/>\r\n      </g>\r\n     </g>\r\n    </g>\r\n    <g id=\"ytick_8\">\r\n     <g id=\"line2d_30\">\r\n      <g>\r\n       <use style=\"stroke:#000000;stroke-width:0.8;\" x=\"142.792188\" xlink:href=\"#medc2dc4861\" y=\"1398.176471\"/>\r\n      </g>\r\n     </g>\r\n     <g id=\"text_32\">\r\n      <!-- Begum's Biriyani -->\r\n      <g transform=\"translate(51.525 1401.975689)scale(0.1 -0.1)\">\r\n       <defs>\r\n        <path d=\"M 17.921875 72.90625 \r\nL 17.921875 45.796875 \r\nL 9.625 45.796875 \r\nL 9.625 72.90625 \r\nz\r\n\" id=\"DejaVuSans-39\"/>\r\n       </defs>\r\n       <use xlink:href=\"#DejaVuSans-66\"/>\r\n       <use x=\"68.603516\" xlink:href=\"#DejaVuSans-101\"/>\r\n       <use x=\"130.126953\" xlink:href=\"#DejaVuSans-103\"/>\r\n       <use x=\"193.603516\" xlink:href=\"#DejaVuSans-117\"/>\r\n       <use x=\"256.982422\" xlink:href=\"#DejaVuSans-109\"/>\r\n       <use x=\"354.394531\" xlink:href=\"#DejaVuSans-39\"/>\r\n       <use x=\"381.884766\" xlink:href=\"#DejaVuSans-115\"/>\r\n       <use x=\"433.984375\" xlink:href=\"#DejaVuSans-32\"/>\r\n       <use x=\"465.771484\" xlink:href=\"#DejaVuSans-66\"/>\r\n       <use x=\"534.375\" xlink:href=\"#DejaVuSans-105\"/>\r\n       <use x=\"562.158203\" xlink:href=\"#DejaVuSans-114\"/>\r\n       <use x=\"603.271484\" xlink:href=\"#DejaVuSans-105\"/>\r\n       <use x=\"631.054688\" xlink:href=\"#DejaVuSans-121\"/>\r\n       <use x=\"690.234375\" xlink:href=\"#DejaVuSans-97\"/>\r\n       <use x=\"751.513672\" xlink:href=\"#DejaVuSans-110\"/>\r\n       <use x=\"814.892578\" xlink:href=\"#DejaVuSans-105\"/>\r\n      </g>\r\n     </g>\r\n    </g>\r\n    <g id=\"ytick_9\">\r\n     <g id=\"line2d_31\">\r\n      <g>\r\n       <use style=\"stroke:#000000;stroke-width:0.8;\" x=\"142.792188\" xlink:href=\"#medc2dc4861\" y=\"1494.105882\"/>\r\n      </g>\r\n     </g>\r\n     <g id=\"text_33\">\r\n      <!-- Mahadwani Restaurant -->\r\n      <g transform=\"translate(20.878125 1497.905101)scale(0.1 -0.1)\">\r\n       <defs>\r\n        <path d=\"M 4.203125 54.6875 \r\nL 13.1875 54.6875 \r\nL 24.421875 12.015625 \r\nL 35.59375 54.6875 \r\nL 46.1875 54.6875 \r\nL 57.421875 12.015625 \r\nL 68.609375 54.6875 \r\nL 77.59375 54.6875 \r\nL 63.28125 0 \r\nL 52.6875 0 \r\nL 40.921875 44.828125 \r\nL 29.109375 0 \r\nL 18.5 0 \r\nz\r\n\" id=\"DejaVuSans-119\"/>\r\n       </defs>\r\n       <use xlink:href=\"#DejaVuSans-77\"/>\r\n       <use x=\"86.279297\" xlink:href=\"#DejaVuSans-97\"/>\r\n       <use x=\"147.558594\" xlink:href=\"#DejaVuSans-104\"/>\r\n       <use x=\"210.9375\" xlink:href=\"#DejaVuSans-97\"/>\r\n       <use x=\"272.216797\" xlink:href=\"#DejaVuSans-100\"/>\r\n       <use x=\"335.693359\" xlink:href=\"#DejaVuSans-119\"/>\r\n       <use x=\"417.480469\" xlink:href=\"#DejaVuSans-97\"/>\r\n       <use x=\"478.759766\" xlink:href=\"#DejaVuSans-110\"/>\r\n       <use x=\"542.138672\" xlink:href=\"#DejaVuSans-105\"/>\r\n       <use x=\"569.921875\" xlink:href=\"#DejaVuSans-32\"/>\r\n       <use x=\"601.708984\" xlink:href=\"#DejaVuSans-82\"/>\r\n       <use x=\"666.691406\" xlink:href=\"#DejaVuSans-101\"/>\r\n       <use x=\"728.214844\" xlink:href=\"#DejaVuSans-115\"/>\r\n       <use x=\"780.314453\" xlink:href=\"#DejaVuSans-116\"/>\r\n       <use x=\"819.523438\" xlink:href=\"#DejaVuSans-97\"/>\r\n       <use x=\"880.802734\" xlink:href=\"#DejaVuSans-117\"/>\r\n       <use x=\"944.181641\" xlink:href=\"#DejaVuSans-114\"/>\r\n       <use x=\"985.294922\" xlink:href=\"#DejaVuSans-97\"/>\r\n       <use x=\"1046.574219\" xlink:href=\"#DejaVuSans-110\"/>\r\n       <use x=\"1109.953125\" xlink:href=\"#DejaVuSans-116\"/>\r\n      </g>\r\n     </g>\r\n    </g>\r\n    <g id=\"ytick_10\">\r\n     <g id=\"line2d_32\">\r\n      <g>\r\n       <use style=\"stroke:#000000;stroke-width:0.8;\" x=\"142.792188\" xlink:href=\"#medc2dc4861\" y=\"1590.035294\"/>\r\n      </g>\r\n     </g>\r\n     <g id=\"text_34\">\r\n      <!-- Wood Fire Pizza -->\r\n      <g transform=\"translate(58.498438 1593.834513)scale(0.1 -0.1)\">\r\n       <defs>\r\n        <path d=\"M 3.328125 72.90625 \r\nL 13.28125 72.90625 \r\nL 28.609375 11.28125 \r\nL 43.890625 72.90625 \r\nL 54.984375 72.90625 \r\nL 70.3125 11.28125 \r\nL 85.59375 72.90625 \r\nL 95.609375 72.90625 \r\nL 77.296875 0 \r\nL 64.890625 0 \r\nL 49.515625 63.28125 \r\nL 33.984375 0 \r\nL 21.578125 0 \r\nz\r\n\" id=\"DejaVuSans-87\"/>\r\n        <path d=\"M 9.8125 72.90625 \r\nL 51.703125 72.90625 \r\nL 51.703125 64.59375 \r\nL 19.671875 64.59375 \r\nL 19.671875 43.109375 \r\nL 48.578125 43.109375 \r\nL 48.578125 34.8125 \r\nL 19.671875 34.8125 \r\nL 19.671875 0 \r\nL 9.8125 0 \r\nz\r\n\" id=\"DejaVuSans-70\"/>\r\n        <path d=\"M 5.515625 54.6875 \r\nL 48.1875 54.6875 \r\nL 48.1875 46.484375 \r\nL 14.40625 7.171875 \r\nL 48.1875 7.171875 \r\nL 48.1875 0 \r\nL 4.296875 0 \r\nL 4.296875 8.203125 \r\nL 38.09375 47.515625 \r\nL 5.515625 47.515625 \r\nz\r\n\" id=\"DejaVuSans-122\"/>\r\n       </defs>\r\n       <use xlink:href=\"#DejaVuSans-87\"/>\r\n       <use x=\"93.001953\" xlink:href=\"#DejaVuSans-111\"/>\r\n       <use x=\"154.183594\" xlink:href=\"#DejaVuSans-111\"/>\r\n       <use x=\"215.365234\" xlink:href=\"#DejaVuSans-100\"/>\r\n       <use x=\"278.841797\" xlink:href=\"#DejaVuSans-32\"/>\r\n       <use x=\"310.628906\" xlink:href=\"#DejaVuSans-70\"/>\r\n       <use x=\"360.898438\" xlink:href=\"#DejaVuSans-105\"/>\r\n       <use x=\"388.681641\" xlink:href=\"#DejaVuSans-114\"/>\r\n       <use x=\"427.544922\" xlink:href=\"#DejaVuSans-101\"/>\r\n       <use x=\"489.068359\" xlink:href=\"#DejaVuSans-32\"/>\r\n       <use x=\"520.855469\" xlink:href=\"#DejaVuSans-80\"/>\r\n       <use x=\"578.908203\" xlink:href=\"#DejaVuSans-105\"/>\r\n       <use x=\"606.691406\" xlink:href=\"#DejaVuSans-122\"/>\r\n       <use x=\"659.181641\" xlink:href=\"#DejaVuSans-122\"/>\r\n       <use x=\"711.671875\" xlink:href=\"#DejaVuSans-97\"/>\r\n      </g>\r\n     </g>\r\n    </g>\r\n    <g id=\"text_35\">\r\n     <!-- name -->\r\n     <g transform=\"translate(14.798438 1412.356158)rotate(-90)scale(0.1 -0.1)\">\r\n      <use xlink:href=\"#DejaVuSans-110\"/>\r\n      <use x=\"63.378906\" xlink:href=\"#DejaVuSans-97\"/>\r\n      <use x=\"124.658203\" xlink:href=\"#DejaVuSans-109\"/>\r\n      <use x=\"222.070312\" xlink:href=\"#DejaVuSans-101\"/>\r\n     </g>\r\n    </g>\r\n   </g>\r\n   <g id=\"line2d_33\">\r\n    <path clip-path=\"url(#p773b03ac2c)\" d=\"M 0 0 \r\n\" style=\"fill:none;stroke:#424242;stroke-linecap:square;stroke-width:2.7;\"/>\r\n   </g>\r\n   <g id=\"line2d_34\">\r\n    <path clip-path=\"url(#p773b03ac2c)\" d=\"M 0 0 \r\n\" style=\"fill:none;stroke:#424242;stroke-linecap:square;stroke-width:2.7;\"/>\r\n   </g>\r\n   <g id=\"line2d_35\">\r\n    <path clip-path=\"url(#p773b03ac2c)\" d=\"M 0 0 \r\n\" style=\"fill:none;stroke:#424242;stroke-linecap:square;stroke-width:2.7;\"/>\r\n   </g>\r\n   <g id=\"line2d_36\">\r\n    <path clip-path=\"url(#p773b03ac2c)\" d=\"M 0 0 \r\n\" style=\"fill:none;stroke:#424242;stroke-linecap:square;stroke-width:2.7;\"/>\r\n   </g>\r\n   <g id=\"line2d_37\">\r\n    <path clip-path=\"url(#p773b03ac2c)\" d=\"M 0 0 \r\n\" style=\"fill:none;stroke:#424242;stroke-linecap:square;stroke-width:2.7;\"/>\r\n   </g>\r\n   <g id=\"patch_18\">\r\n    <path d=\"M 142.792188 1638 \r\nL 142.792188 1158.352941 \r\n\" style=\"fill:none;stroke:#000000;stroke-linecap:square;stroke-linejoin:miter;stroke-width:0.8;\"/>\r\n   </g>\r\n   <g id=\"patch_19\">\r\n    <path d=\"M 1258.792187 1638 \r\nL 1258.792187 1158.352941 \r\n\" style=\"fill:none;stroke:#000000;stroke-linecap:square;stroke-linejoin:miter;stroke-width:0.8;\"/>\r\n   </g>\r\n   <g id=\"patch_20\">\r\n    <path d=\"M 142.792188 1638 \r\nL 1258.792187 1638 \r\n\" style=\"fill:none;stroke:#000000;stroke-linecap:square;stroke-linejoin:miter;stroke-width:0.8;\"/>\r\n   </g>\r\n   <g id=\"patch_21\">\r\n    <path d=\"M 142.792188 1158.352941 \r\nL 1258.792187 1158.352941 \r\n\" style=\"fill:none;stroke:#000000;stroke-linecap:square;stroke-linejoin:miter;stroke-width:0.8;\"/>\r\n   </g>\r\n   <g id=\"text_36\">\r\n    <!-- Top 5 least voted restaurants -->\r\n    <g transform=\"translate(613.22875 1152.352941)scale(0.12 -0.12)\">\r\n     <use xlink:href=\"#DejaVuSans-84\"/>\r\n     <use x=\"44.083984\" xlink:href=\"#DejaVuSans-111\"/>\r\n     <use x=\"105.265625\" xlink:href=\"#DejaVuSans-112\"/>\r\n     <use x=\"168.742188\" xlink:href=\"#DejaVuSans-32\"/>\r\n     <use x=\"200.529297\" xlink:href=\"#DejaVuSans-53\"/>\r\n     <use x=\"264.152344\" xlink:href=\"#DejaVuSans-32\"/>\r\n     <use x=\"295.939453\" xlink:href=\"#DejaVuSans-108\"/>\r\n     <use x=\"323.722656\" xlink:href=\"#DejaVuSans-101\"/>\r\n     <use x=\"385.246094\" xlink:href=\"#DejaVuSans-97\"/>\r\n     <use x=\"446.525391\" xlink:href=\"#DejaVuSans-115\"/>\r\n     <use x=\"498.625\" xlink:href=\"#DejaVuSans-116\"/>\r\n     <use x=\"537.833984\" xlink:href=\"#DejaVuSans-32\"/>\r\n     <use x=\"569.621094\" xlink:href=\"#DejaVuSans-118\"/>\r\n     <use x=\"628.800781\" xlink:href=\"#DejaVuSans-111\"/>\r\n     <use x=\"689.982422\" xlink:href=\"#DejaVuSans-116\"/>\r\n     <use x=\"729.191406\" xlink:href=\"#DejaVuSans-101\"/>\r\n     <use x=\"790.714844\" xlink:href=\"#DejaVuSans-100\"/>\r\n     <use x=\"854.191406\" xlink:href=\"#DejaVuSans-32\"/>\r\n     <use x=\"885.978516\" xlink:href=\"#DejaVuSans-114\"/>\r\n     <use x=\"924.841797\" xlink:href=\"#DejaVuSans-101\"/>\r\n     <use x=\"986.365234\" xlink:href=\"#DejaVuSans-115\"/>\r\n     <use x=\"1038.464844\" xlink:href=\"#DejaVuSans-116\"/>\r\n     <use x=\"1077.673828\" xlink:href=\"#DejaVuSans-97\"/>\r\n     <use x=\"1138.953125\" xlink:href=\"#DejaVuSans-117\"/>\r\n     <use x=\"1202.332031\" xlink:href=\"#DejaVuSans-114\"/>\r\n     <use x=\"1243.445312\" xlink:href=\"#DejaVuSans-97\"/>\r\n     <use x=\"1304.724609\" xlink:href=\"#DejaVuSans-110\"/>\r\n     <use x=\"1368.103516\" xlink:href=\"#DejaVuSans-116\"/>\r\n     <use x=\"1407.3125\" xlink:href=\"#DejaVuSans-115\"/>\r\n    </g>\r\n   </g>\r\n  </g>\r\n </g>\r\n <defs>\r\n  <clipPath id=\"p6643aeda01\">\r\n   <rect height=\"479.647059\" width=\"1116\" x=\"142.792188\" y=\"582.776471\"/>\r\n  </clipPath>\r\n  <clipPath id=\"p773b03ac2c\">\r\n   <rect height=\"479.647059\" width=\"1116\" x=\"142.792188\" y=\"1158.352941\"/>\r\n  </clipPath>\r\n </defs>\r\n</svg>\r\n",
      "image/png": "[encoded data removed]"
     },
     "metadata": {
      "needs_background": "light"
     }
    }
   ],
   "source": [
    "fig,(ax1,ax2,ax3)=plt.subplots(3,1,figsize=(20,30))\n",
    "ax1.text(0.5,0.3,int(popular['totalVotes'].mean()),fontsize=45,ha='center')\n",
    "ax1.text(0.5,0.12,'is the average of votes',fontsize=12,ha='center')\n",
    "ax1.text(0.5,0.0,'is the average of votes received by my restaurant',fontsize=12,ha='center')\n",
    "ax1.axis('off')\n",
    "sns.barplot(x='totalVotes',y='name',data=popular.sort_values(by='totalVotes',ascending=False).query('totalVotes>0').head(5),ax=ax2,palette='plasma')\n",
    "ax2.set_title('Top 5 most voted restaurants')\n",
    "sns.barplot(x='totalVotes',y='name',data=popular.sort_values(by='totalVotes',ascending=False).query('totalVotes>0').tail(5),ax=ax3)\n",
    "ax3.set_title('Top 5 least voted restaurants')\n"
   ]
  },
  {
   "cell_type": "code",
   "execution_count": 38,
   "metadata": {},
   "outputs": [
    {
     "output_type": "execute_result",
     "data": {
      "text/plain": [
       "Index(['name', 'totalVotes', 'totalUnities', 'averageApproxCost', 'meanRating',\n",
       "       'votesPerUnit'],\n",
       "      dtype='object')"
      ]
     },
     "metadata": {},
     "execution_count": 38
    }
   ],
   "source": [
    "#challange 5\n",
    "# analysing most expensive and cheapest restaurants\n",
    "# no of restaurants offer table booking service and online delivery\n",
    "# finding best budget restaurant in any location\n",
    "popular.columns"
   ]
  },
  {
   "cell_type": "code",
   "execution_count": 39,
   "metadata": {},
   "outputs": [
    {
     "output_type": "execute_result",
     "data": {
      "text/plain": [
       "Text(0.5, 1.0, 'Top 5 cheapest restaurants')"
      ]
     },
     "metadata": {},
     "execution_count": 39
    },
    {
     "output_type": "display_data",
     "data": {
      "text/plain": "<Figure size 1440x2160 with 3 Axes>",
      "image/svg+xml": "<?xml version=\"1.0\" encoding=\"utf-8\" standalone=\"no\"?>\r\n<!DOCTYPE svg PUBLIC \"-//W3C//DTD SVG 1.1//EN\"\r\n  \"http://www.w3.org/Graphics/SVG/1.1/DTD/svg11.dtd\">\r\n<!-- Created with matplotlib (https://matplotlib.org/) -->\r\n<svg height=\"1675.55625pt\" version=\"1.1\" viewBox=\"0 0 1343.551563 1675.55625\" width=\"1343.551563pt\" xmlns=\"http://www.w3.org/2000/svg\" xmlns:xlink=\"http://www.w3.org/1999/xlink\">\r\n <metadata>\r\n  <rdf:RDF xmlns:cc=\"http://creativecommons.org/ns#\" xmlns:dc=\"http://purl.org/dc/elements/1.1/\" xmlns:rdf=\"http://www.w3.org/1999/02/22-rdf-syntax-ns#\">\r\n   <cc:Work>\r\n    <dc:type rdf:resource=\"http://purl.org/dc/dcmitype/StillImage\"/>\r\n    <dc:date>2021-04-23T19:25:46.233365</dc:date>\r\n    <dc:format>image/svg+xml</dc:format>\r\n    <dc:creator>\r\n     <cc:Agent>\r\n      <dc:title>Matplotlib v3.3.3, https://matplotlib.org/</dc:title>\r\n     </cc:Agent>\r\n    </dc:creator>\r\n   </cc:Work>\r\n  </rdf:RDF>\r\n </metadata>\r\n <defs>\r\n  <style type=\"text/css\">*{stroke-linecap:butt;stroke-linejoin:round;}</style>\r\n </defs>\r\n <g id=\"figure_1\">\r\n  <g id=\"patch_1\">\r\n   <path d=\"M 0 1675.55625 \r\nL 1343.551563 1675.55625 \r\nL 1343.551563 0 \r\nL 0 0 \r\nz\r\n\" style=\"fill:none;\"/>\r\n  </g>\r\n  <g id=\"axes_1\">\r\n   <g id=\"text_1\">\r\n    <!-- 496 -->\r\n    <g transform=\"translate(735.404688 342.952941)scale(0.45 -0.45)\">\r\n     <defs>\r\n      <path d=\"M 37.796875 64.3125 \r\nL 12.890625 25.390625 \r\nL 37.796875 25.390625 \r\nz\r\nM 35.203125 72.90625 \r\nL 47.609375 72.90625 \r\nL 47.609375 25.390625 \r\nL 58.015625 25.390625 \r\nL 58.015625 17.1875 \r\nL 47.609375 17.1875 \r\nL 47.609375 0 \r\nL 37.796875 0 \r\nL 37.796875 17.1875 \r\nL 4.890625 17.1875 \r\nL 4.890625 26.703125 \r\nz\r\n\" id=\"DejaVuSans-52\"/>\r\n      <path d=\"M 10.984375 1.515625 \r\nL 10.984375 10.5 \r\nQ 14.703125 8.734375 18.5 7.8125 \r\nQ 22.3125 6.890625 25.984375 6.890625 \r\nQ 35.75 6.890625 40.890625 13.453125 \r\nQ 46.046875 20.015625 46.78125 33.40625 \r\nQ 43.953125 29.203125 39.59375 26.953125 \r\nQ 35.25 24.703125 29.984375 24.703125 \r\nQ 19.046875 24.703125 12.671875 31.3125 \r\nQ 6.296875 37.9375 6.296875 49.421875 \r\nQ 6.296875 60.640625 12.9375 67.421875 \r\nQ 19.578125 74.21875 30.609375 74.21875 \r\nQ 43.265625 74.21875 49.921875 64.515625 \r\nQ 56.59375 54.828125 56.59375 36.375 \r\nQ 56.59375 19.140625 48.40625 8.859375 \r\nQ 40.234375 -1.421875 26.421875 -1.421875 \r\nQ 22.703125 -1.421875 18.890625 -0.6875 \r\nQ 15.09375 0.046875 10.984375 1.515625 \r\nz\r\nM 30.609375 32.421875 \r\nQ 37.25 32.421875 41.125 36.953125 \r\nQ 45.015625 41.5 45.015625 49.421875 \r\nQ 45.015625 57.28125 41.125 61.84375 \r\nQ 37.25 66.40625 30.609375 66.40625 \r\nQ 23.96875 66.40625 20.09375 61.84375 \r\nQ 16.21875 57.28125 16.21875 49.421875 \r\nQ 16.21875 41.5 20.09375 36.953125 \r\nQ 23.96875 32.421875 30.609375 32.421875 \r\nz\r\n\" id=\"DejaVuSans-57\"/>\r\n      <path d=\"M 33.015625 40.375 \r\nQ 26.375 40.375 22.484375 35.828125 \r\nQ 18.609375 31.296875 18.609375 23.390625 \r\nQ 18.609375 15.53125 22.484375 10.953125 \r\nQ 26.375 6.390625 33.015625 6.390625 \r\nQ 39.65625 6.390625 43.53125 10.953125 \r\nQ 47.40625 15.53125 47.40625 23.390625 \r\nQ 47.40625 31.296875 43.53125 35.828125 \r\nQ 39.65625 40.375 33.015625 40.375 \r\nz\r\nM 52.59375 71.296875 \r\nL 52.59375 62.3125 \r\nQ 48.875 64.0625 45.09375 64.984375 \r\nQ 41.3125 65.921875 37.59375 65.921875 \r\nQ 27.828125 65.921875 22.671875 59.328125 \r\nQ 17.53125 52.734375 16.796875 39.40625 \r\nQ 19.671875 43.65625 24.015625 45.921875 \r\nQ 28.375 48.1875 33.59375 48.1875 \r\nQ 44.578125 48.1875 50.953125 41.515625 \r\nQ 57.328125 34.859375 57.328125 23.390625 \r\nQ 57.328125 12.15625 50.6875 5.359375 \r\nQ 44.046875 -1.421875 33.015625 -1.421875 \r\nQ 20.359375 -1.421875 13.671875 8.265625 \r\nQ 6.984375 17.96875 6.984375 36.375 \r\nQ 6.984375 53.65625 15.1875 63.9375 \r\nQ 23.390625 74.21875 37.203125 74.21875 \r\nQ 40.921875 74.21875 44.703125 73.484375 \r\nQ 48.484375 72.75 52.59375 71.296875 \r\nz\r\n\" id=\"DejaVuSans-54\"/>\r\n     </defs>\r\n     <use xlink:href=\"#DejaVuSans-52\"/>\r\n     <use x=\"63.623047\" xlink:href=\"#DejaVuSans-57\"/>\r\n     <use x=\"127.246094\" xlink:href=\"#DejaVuSans-54\"/>\r\n    </g>\r\n   </g>\r\n   <g id=\"text_2\">\r\n    <!-- is the mean approx cost -->\r\n    <g transform=\"translate(705.959687 429.289412)scale(0.12 -0.12)\">\r\n     <defs>\r\n      <path d=\"M 9.421875 54.6875 \r\nL 18.40625 54.6875 \r\nL 18.40625 0 \r\nL 9.421875 0 \r\nz\r\nM 9.421875 75.984375 \r\nL 18.40625 75.984375 \r\nL 18.40625 64.59375 \r\nL 9.421875 64.59375 \r\nz\r\n\" id=\"DejaVuSans-105\"/>\r\n      <path d=\"M 44.28125 53.078125 \r\nL 44.28125 44.578125 \r\nQ 40.484375 46.53125 36.375 47.5 \r\nQ 32.28125 48.484375 27.875 48.484375 \r\nQ 21.1875 48.484375 17.84375 46.4375 \r\nQ 14.5 44.390625 14.5 40.28125 \r\nQ 14.5 37.15625 16.890625 35.375 \r\nQ 19.28125 33.59375 26.515625 31.984375 \r\nL 29.59375 31.296875 \r\nQ 39.15625 29.25 43.1875 25.515625 \r\nQ 47.21875 21.78125 47.21875 15.09375 \r\nQ 47.21875 7.46875 41.1875 3.015625 \r\nQ 35.15625 -1.421875 24.609375 -1.421875 \r\nQ 20.21875 -1.421875 15.453125 -0.5625 \r\nQ 10.6875 0.296875 5.421875 2 \r\nL 5.421875 11.28125 \r\nQ 10.40625 8.6875 15.234375 7.390625 \r\nQ 20.0625 6.109375 24.8125 6.109375 \r\nQ 31.15625 6.109375 34.5625 8.28125 \r\nQ 37.984375 10.453125 37.984375 14.40625 \r\nQ 37.984375 18.0625 35.515625 20.015625 \r\nQ 33.0625 21.96875 24.703125 23.78125 \r\nL 21.578125 24.515625 \r\nQ 13.234375 26.265625 9.515625 29.90625 \r\nQ 5.8125 33.546875 5.8125 39.890625 \r\nQ 5.8125 47.609375 11.28125 51.796875 \r\nQ 16.75 56 26.8125 56 \r\nQ 31.78125 56 36.171875 55.265625 \r\nQ 40.578125 54.546875 44.28125 53.078125 \r\nz\r\n\" id=\"DejaVuSans-115\"/>\r\n      <path id=\"DejaVuSans-32\"/>\r\n      <path d=\"M 18.3125 70.21875 \r\nL 18.3125 54.6875 \r\nL 36.8125 54.6875 \r\nL 36.8125 47.703125 \r\nL 18.3125 47.703125 \r\nL 18.3125 18.015625 \r\nQ 18.3125 11.328125 20.140625 9.421875 \r\nQ 21.96875 7.515625 27.59375 7.515625 \r\nL 36.8125 7.515625 \r\nL 36.8125 0 \r\nL 27.59375 0 \r\nQ 17.1875 0 13.234375 3.875 \r\nQ 9.28125 7.765625 9.28125 18.015625 \r\nL 9.28125 47.703125 \r\nL 2.6875 47.703125 \r\nL 2.6875 54.6875 \r\nL 9.28125 54.6875 \r\nL 9.28125 70.21875 \r\nz\r\n\" id=\"DejaVuSans-116\"/>\r\n      <path d=\"M 54.890625 33.015625 \r\nL 54.890625 0 \r\nL 45.90625 0 \r\nL 45.90625 32.71875 \r\nQ 45.90625 40.484375 42.875 44.328125 \r\nQ 39.84375 48.1875 33.796875 48.1875 \r\nQ 26.515625 48.1875 22.3125 43.546875 \r\nQ 18.109375 38.921875 18.109375 30.90625 \r\nL 18.109375 0 \r\nL 9.078125 0 \r\nL 9.078125 75.984375 \r\nL 18.109375 75.984375 \r\nL 18.109375 46.1875 \r\nQ 21.34375 51.125 25.703125 53.5625 \r\nQ 30.078125 56 35.796875 56 \r\nQ 45.21875 56 50.046875 50.171875 \r\nQ 54.890625 44.34375 54.890625 33.015625 \r\nz\r\n\" id=\"DejaVuSans-104\"/>\r\n      <path d=\"M 56.203125 29.59375 \r\nL 56.203125 25.203125 \r\nL 14.890625 25.203125 \r\nQ 15.484375 15.921875 20.484375 11.0625 \r\nQ 25.484375 6.203125 34.421875 6.203125 \r\nQ 39.59375 6.203125 44.453125 7.46875 \r\nQ 49.3125 8.734375 54.109375 11.28125 \r\nL 54.109375 2.78125 \r\nQ 49.265625 0.734375 44.1875 -0.34375 \r\nQ 39.109375 -1.421875 33.890625 -1.421875 \r\nQ 20.796875 -1.421875 13.15625 6.1875 \r\nQ 5.515625 13.8125 5.515625 26.8125 \r\nQ 5.515625 40.234375 12.765625 48.109375 \r\nQ 20.015625 56 32.328125 56 \r\nQ 43.359375 56 49.78125 48.890625 \r\nQ 56.203125 41.796875 56.203125 29.59375 \r\nz\r\nM 47.21875 32.234375 \r\nQ 47.125 39.59375 43.09375 43.984375 \r\nQ 39.0625 48.390625 32.421875 48.390625 \r\nQ 24.90625 48.390625 20.390625 44.140625 \r\nQ 15.875 39.890625 15.1875 32.171875 \r\nz\r\n\" id=\"DejaVuSans-101\"/>\r\n      <path d=\"M 52 44.1875 \r\nQ 55.375 50.25 60.0625 53.125 \r\nQ 64.75 56 71.09375 56 \r\nQ 79.640625 56 84.28125 50.015625 \r\nQ 88.921875 44.046875 88.921875 33.015625 \r\nL 88.921875 0 \r\nL 79.890625 0 \r\nL 79.890625 32.71875 \r\nQ 79.890625 40.578125 77.09375 44.375 \r\nQ 74.3125 48.1875 68.609375 48.1875 \r\nQ 61.625 48.1875 57.5625 43.546875 \r\nQ 53.515625 38.921875 53.515625 30.90625 \r\nL 53.515625 0 \r\nL 44.484375 0 \r\nL 44.484375 32.71875 \r\nQ 44.484375 40.625 41.703125 44.40625 \r\nQ 38.921875 48.1875 33.109375 48.1875 \r\nQ 26.21875 48.1875 22.15625 43.53125 \r\nQ 18.109375 38.875 18.109375 30.90625 \r\nL 18.109375 0 \r\nL 9.078125 0 \r\nL 9.078125 54.6875 \r\nL 18.109375 54.6875 \r\nL 18.109375 46.1875 \r\nQ 21.1875 51.21875 25.484375 53.609375 \r\nQ 29.78125 56 35.6875 56 \r\nQ 41.65625 56 45.828125 52.96875 \r\nQ 50 49.953125 52 44.1875 \r\nz\r\n\" id=\"DejaVuSans-109\"/>\r\n      <path d=\"M 34.28125 27.484375 \r\nQ 23.390625 27.484375 19.1875 25 \r\nQ 14.984375 22.515625 14.984375 16.5 \r\nQ 14.984375 11.71875 18.140625 8.90625 \r\nQ 21.296875 6.109375 26.703125 6.109375 \r\nQ 34.1875 6.109375 38.703125 11.40625 \r\nQ 43.21875 16.703125 43.21875 25.484375 \r\nL 43.21875 27.484375 \r\nz\r\nM 52.203125 31.203125 \r\nL 52.203125 0 \r\nL 43.21875 0 \r\nL 43.21875 8.296875 \r\nQ 40.140625 3.328125 35.546875 0.953125 \r\nQ 30.953125 -1.421875 24.3125 -1.421875 \r\nQ 15.921875 -1.421875 10.953125 3.296875 \r\nQ 6 8.015625 6 15.921875 \r\nQ 6 25.140625 12.171875 29.828125 \r\nQ 18.359375 34.515625 30.609375 34.515625 \r\nL 43.21875 34.515625 \r\nL 43.21875 35.40625 \r\nQ 43.21875 41.609375 39.140625 45 \r\nQ 35.0625 48.390625 27.6875 48.390625 \r\nQ 23 48.390625 18.546875 47.265625 \r\nQ 14.109375 46.140625 10.015625 43.890625 \r\nL 10.015625 52.203125 \r\nQ 14.9375 54.109375 19.578125 55.046875 \r\nQ 24.21875 56 28.609375 56 \r\nQ 40.484375 56 46.34375 49.84375 \r\nQ 52.203125 43.703125 52.203125 31.203125 \r\nz\r\n\" id=\"DejaVuSans-97\"/>\r\n      <path d=\"M 54.890625 33.015625 \r\nL 54.890625 0 \r\nL 45.90625 0 \r\nL 45.90625 32.71875 \r\nQ 45.90625 40.484375 42.875 44.328125 \r\nQ 39.84375 48.1875 33.796875 48.1875 \r\nQ 26.515625 48.1875 22.3125 43.546875 \r\nQ 18.109375 38.921875 18.109375 30.90625 \r\nL 18.109375 0 \r\nL 9.078125 0 \r\nL 9.078125 54.6875 \r\nL 18.109375 54.6875 \r\nL 18.109375 46.1875 \r\nQ 21.34375 51.125 25.703125 53.5625 \r\nQ 30.078125 56 35.796875 56 \r\nQ 45.21875 56 50.046875 50.171875 \r\nQ 54.890625 44.34375 54.890625 33.015625 \r\nz\r\n\" id=\"DejaVuSans-110\"/>\r\n      <path d=\"M 18.109375 8.203125 \r\nL 18.109375 -20.796875 \r\nL 9.078125 -20.796875 \r\nL 9.078125 54.6875 \r\nL 18.109375 54.6875 \r\nL 18.109375 46.390625 \r\nQ 20.953125 51.265625 25.265625 53.625 \r\nQ 29.59375 56 35.59375 56 \r\nQ 45.5625 56 51.78125 48.09375 \r\nQ 58.015625 40.1875 58.015625 27.296875 \r\nQ 58.015625 14.40625 51.78125 6.484375 \r\nQ 45.5625 -1.421875 35.59375 -1.421875 \r\nQ 29.59375 -1.421875 25.265625 0.953125 \r\nQ 20.953125 3.328125 18.109375 8.203125 \r\nz\r\nM 48.6875 27.296875 \r\nQ 48.6875 37.203125 44.609375 42.84375 \r\nQ 40.53125 48.484375 33.40625 48.484375 \r\nQ 26.265625 48.484375 22.1875 42.84375 \r\nQ 18.109375 37.203125 18.109375 27.296875 \r\nQ 18.109375 17.390625 22.1875 11.75 \r\nQ 26.265625 6.109375 33.40625 6.109375 \r\nQ 40.53125 6.109375 44.609375 11.75 \r\nQ 48.6875 17.390625 48.6875 27.296875 \r\nz\r\n\" id=\"DejaVuSans-112\"/>\r\n      <path d=\"M 41.109375 46.296875 \r\nQ 39.59375 47.171875 37.8125 47.578125 \r\nQ 36.03125 48 33.890625 48 \r\nQ 26.265625 48 22.1875 43.046875 \r\nQ 18.109375 38.09375 18.109375 28.8125 \r\nL 18.109375 0 \r\nL 9.078125 0 \r\nL 9.078125 54.6875 \r\nL 18.109375 54.6875 \r\nL 18.109375 46.1875 \r\nQ 20.953125 51.171875 25.484375 53.578125 \r\nQ 30.03125 56 36.53125 56 \r\nQ 37.453125 56 38.578125 55.875 \r\nQ 39.703125 55.765625 41.0625 55.515625 \r\nz\r\n\" id=\"DejaVuSans-114\"/>\r\n      <path d=\"M 30.609375 48.390625 \r\nQ 23.390625 48.390625 19.1875 42.75 \r\nQ 14.984375 37.109375 14.984375 27.296875 \r\nQ 14.984375 17.484375 19.15625 11.84375 \r\nQ 23.34375 6.203125 30.609375 6.203125 \r\nQ 37.796875 6.203125 41.984375 11.859375 \r\nQ 46.1875 17.53125 46.1875 27.296875 \r\nQ 46.1875 37.015625 41.984375 42.703125 \r\nQ 37.796875 48.390625 30.609375 48.390625 \r\nz\r\nM 30.609375 56 \r\nQ 42.328125 56 49.015625 48.375 \r\nQ 55.71875 40.765625 55.71875 27.296875 \r\nQ 55.71875 13.875 49.015625 6.21875 \r\nQ 42.328125 -1.421875 30.609375 -1.421875 \r\nQ 18.84375 -1.421875 12.171875 6.21875 \r\nQ 5.515625 13.875 5.515625 27.296875 \r\nQ 5.515625 40.765625 12.171875 48.375 \r\nQ 18.84375 56 30.609375 56 \r\nz\r\n\" id=\"DejaVuSans-111\"/>\r\n      <path d=\"M 54.890625 54.6875 \r\nL 35.109375 28.078125 \r\nL 55.90625 0 \r\nL 45.3125 0 \r\nL 29.390625 21.484375 \r\nL 13.484375 0 \r\nL 2.875 0 \r\nL 24.125 28.609375 \r\nL 4.6875 54.6875 \r\nL 15.28125 54.6875 \r\nL 29.78125 35.203125 \r\nL 44.28125 54.6875 \r\nz\r\n\" id=\"DejaVuSans-120\"/>\r\n      <path d=\"M 48.78125 52.59375 \r\nL 48.78125 44.1875 \r\nQ 44.96875 46.296875 41.140625 47.34375 \r\nQ 37.3125 48.390625 33.40625 48.390625 \r\nQ 24.65625 48.390625 19.8125 42.84375 \r\nQ 14.984375 37.3125 14.984375 27.296875 \r\nQ 14.984375 17.28125 19.8125 11.734375 \r\nQ 24.65625 6.203125 33.40625 6.203125 \r\nQ 37.3125 6.203125 41.140625 7.25 \r\nQ 44.96875 8.296875 48.78125 10.40625 \r\nL 48.78125 2.09375 \r\nQ 45.015625 0.34375 40.984375 -0.53125 \r\nQ 36.96875 -1.421875 32.421875 -1.421875 \r\nQ 20.0625 -1.421875 12.78125 6.34375 \r\nQ 5.515625 14.109375 5.515625 27.296875 \r\nQ 5.515625 40.671875 12.859375 48.328125 \r\nQ 20.21875 56 33.015625 56 \r\nQ 37.15625 56 41.109375 55.140625 \r\nQ 45.0625 54.296875 48.78125 52.59375 \r\nz\r\n\" id=\"DejaVuSans-99\"/>\r\n     </defs>\r\n     <use xlink:href=\"#DejaVuSans-105\"/>\r\n     <use x=\"27.783203\" xlink:href=\"#DejaVuSans-115\"/>\r\n     <use x=\"79.882812\" xlink:href=\"#DejaVuSans-32\"/>\r\n     <use x=\"111.669922\" xlink:href=\"#DejaVuSans-116\"/>\r\n     <use x=\"150.878906\" xlink:href=\"#DejaVuSans-104\"/>\r\n     <use x=\"214.257812\" xlink:href=\"#DejaVuSans-101\"/>\r\n     <use x=\"275.78125\" xlink:href=\"#DejaVuSans-32\"/>\r\n     <use x=\"307.568359\" xlink:href=\"#DejaVuSans-109\"/>\r\n     <use x=\"404.980469\" xlink:href=\"#DejaVuSans-101\"/>\r\n     <use x=\"466.503906\" xlink:href=\"#DejaVuSans-97\"/>\r\n     <use x=\"527.783203\" xlink:href=\"#DejaVuSans-110\"/>\r\n     <use x=\"591.162109\" xlink:href=\"#DejaVuSans-32\"/>\r\n     <use x=\"622.949219\" xlink:href=\"#DejaVuSans-97\"/>\r\n     <use x=\"684.228516\" xlink:href=\"#DejaVuSans-112\"/>\r\n     <use x=\"747.705078\" xlink:href=\"#DejaVuSans-112\"/>\r\n     <use x=\"811.181641\" xlink:href=\"#DejaVuSans-114\"/>\r\n     <use x=\"850.044922\" xlink:href=\"#DejaVuSans-111\"/>\r\n     <use x=\"908.101562\" xlink:href=\"#DejaVuSans-120\"/>\r\n     <use x=\"967.28125\" xlink:href=\"#DejaVuSans-32\"/>\r\n     <use x=\"999.068359\" xlink:href=\"#DejaVuSans-99\"/>\r\n     <use x=\"1054.048828\" xlink:href=\"#DejaVuSans-111\"/>\r\n     <use x=\"1115.230469\" xlink:href=\"#DejaVuSans-115\"/>\r\n     <use x=\"1167.330078\" xlink:href=\"#DejaVuSans-116\"/>\r\n    </g>\r\n   </g>\r\n   <g id=\"text_3\">\r\n    <!-- for benguluru restraunts -->\r\n    <g transform=\"translate(704.906875 486.847059)scale(0.12 -0.12)\">\r\n     <defs>\r\n      <path d=\"M 37.109375 75.984375 \r\nL 37.109375 68.5 \r\nL 28.515625 68.5 \r\nQ 23.6875 68.5 21.796875 66.546875 \r\nQ 19.921875 64.59375 19.921875 59.515625 \r\nL 19.921875 54.6875 \r\nL 34.71875 54.6875 \r\nL 34.71875 47.703125 \r\nL 19.921875 47.703125 \r\nL 19.921875 0 \r\nL 10.890625 0 \r\nL 10.890625 47.703125 \r\nL 2.296875 47.703125 \r\nL 2.296875 54.6875 \r\nL 10.890625 54.6875 \r\nL 10.890625 58.5 \r\nQ 10.890625 67.625 15.140625 71.796875 \r\nQ 19.390625 75.984375 28.609375 75.984375 \r\nz\r\n\" id=\"DejaVuSans-102\"/>\r\n      <path d=\"M 48.6875 27.296875 \r\nQ 48.6875 37.203125 44.609375 42.84375 \r\nQ 40.53125 48.484375 33.40625 48.484375 \r\nQ 26.265625 48.484375 22.1875 42.84375 \r\nQ 18.109375 37.203125 18.109375 27.296875 \r\nQ 18.109375 17.390625 22.1875 11.75 \r\nQ 26.265625 6.109375 33.40625 6.109375 \r\nQ 40.53125 6.109375 44.609375 11.75 \r\nQ 48.6875 17.390625 48.6875 27.296875 \r\nz\r\nM 18.109375 46.390625 \r\nQ 20.953125 51.265625 25.265625 53.625 \r\nQ 29.59375 56 35.59375 56 \r\nQ 45.5625 56 51.78125 48.09375 \r\nQ 58.015625 40.1875 58.015625 27.296875 \r\nQ 58.015625 14.40625 51.78125 6.484375 \r\nQ 45.5625 -1.421875 35.59375 -1.421875 \r\nQ 29.59375 -1.421875 25.265625 0.953125 \r\nQ 20.953125 3.328125 18.109375 8.203125 \r\nL 18.109375 0 \r\nL 9.078125 0 \r\nL 9.078125 75.984375 \r\nL 18.109375 75.984375 \r\nz\r\n\" id=\"DejaVuSans-98\"/>\r\n      <path d=\"M 45.40625 27.984375 \r\nQ 45.40625 37.75 41.375 43.109375 \r\nQ 37.359375 48.484375 30.078125 48.484375 \r\nQ 22.859375 48.484375 18.828125 43.109375 \r\nQ 14.796875 37.75 14.796875 27.984375 \r\nQ 14.796875 18.265625 18.828125 12.890625 \r\nQ 22.859375 7.515625 30.078125 7.515625 \r\nQ 37.359375 7.515625 41.375 12.890625 \r\nQ 45.40625 18.265625 45.40625 27.984375 \r\nz\r\nM 54.390625 6.78125 \r\nQ 54.390625 -7.171875 48.1875 -13.984375 \r\nQ 42 -20.796875 29.203125 -20.796875 \r\nQ 24.46875 -20.796875 20.265625 -20.09375 \r\nQ 16.0625 -19.390625 12.109375 -17.921875 \r\nL 12.109375 -9.1875 \r\nQ 16.0625 -11.328125 19.921875 -12.34375 \r\nQ 23.78125 -13.375 27.78125 -13.375 \r\nQ 36.625 -13.375 41.015625 -8.765625 \r\nQ 45.40625 -4.15625 45.40625 5.171875 \r\nL 45.40625 9.625 \r\nQ 42.625 4.78125 38.28125 2.390625 \r\nQ 33.9375 0 27.875 0 \r\nQ 17.828125 0 11.671875 7.65625 \r\nQ 5.515625 15.328125 5.515625 27.984375 \r\nQ 5.515625 40.671875 11.671875 48.328125 \r\nQ 17.828125 56 27.875 56 \r\nQ 33.9375 56 38.28125 53.609375 \r\nQ 42.625 51.21875 45.40625 46.390625 \r\nL 45.40625 54.6875 \r\nL 54.390625 54.6875 \r\nz\r\n\" id=\"DejaVuSans-103\"/>\r\n      <path d=\"M 8.5 21.578125 \r\nL 8.5 54.6875 \r\nL 17.484375 54.6875 \r\nL 17.484375 21.921875 \r\nQ 17.484375 14.15625 20.5 10.265625 \r\nQ 23.53125 6.390625 29.59375 6.390625 \r\nQ 36.859375 6.390625 41.078125 11.03125 \r\nQ 45.3125 15.671875 45.3125 23.6875 \r\nL 45.3125 54.6875 \r\nL 54.296875 54.6875 \r\nL 54.296875 0 \r\nL 45.3125 0 \r\nL 45.3125 8.40625 \r\nQ 42.046875 3.421875 37.71875 1 \r\nQ 33.40625 -1.421875 27.6875 -1.421875 \r\nQ 18.265625 -1.421875 13.375 4.4375 \r\nQ 8.5 10.296875 8.5 21.578125 \r\nz\r\nM 31.109375 56 \r\nz\r\n\" id=\"DejaVuSans-117\"/>\r\n      <path d=\"M 9.421875 75.984375 \r\nL 18.40625 75.984375 \r\nL 18.40625 0 \r\nL 9.421875 0 \r\nz\r\n\" id=\"DejaVuSans-108\"/>\r\n     </defs>\r\n     <use xlink:href=\"#DejaVuSans-102\"/>\r\n     <use x=\"35.205078\" xlink:href=\"#DejaVuSans-111\"/>\r\n     <use x=\"96.386719\" xlink:href=\"#DejaVuSans-114\"/>\r\n     <use x=\"137.5\" xlink:href=\"#DejaVuSans-32\"/>\r\n     <use x=\"169.287109\" xlink:href=\"#DejaVuSans-98\"/>\r\n     <use x=\"232.763672\" xlink:href=\"#DejaVuSans-101\"/>\r\n     <use x=\"294.287109\" xlink:href=\"#DejaVuSans-110\"/>\r\n     <use x=\"357.666016\" xlink:href=\"#DejaVuSans-103\"/>\r\n     <use x=\"421.142578\" xlink:href=\"#DejaVuSans-117\"/>\r\n     <use x=\"484.521484\" xlink:href=\"#DejaVuSans-108\"/>\r\n     <use x=\"512.304688\" xlink:href=\"#DejaVuSans-117\"/>\r\n     <use x=\"575.683594\" xlink:href=\"#DejaVuSans-114\"/>\r\n     <use x=\"616.796875\" xlink:href=\"#DejaVuSans-117\"/>\r\n     <use x=\"680.175781\" xlink:href=\"#DejaVuSans-32\"/>\r\n     <use x=\"711.962891\" xlink:href=\"#DejaVuSans-114\"/>\r\n     <use x=\"750.826172\" xlink:href=\"#DejaVuSans-101\"/>\r\n     <use x=\"812.349609\" xlink:href=\"#DejaVuSans-115\"/>\r\n     <use x=\"864.449219\" xlink:href=\"#DejaVuSans-116\"/>\r\n     <use x=\"903.658203\" xlink:href=\"#DejaVuSans-114\"/>\r\n     <use x=\"944.771484\" xlink:href=\"#DejaVuSans-97\"/>\r\n     <use x=\"1006.050781\" xlink:href=\"#DejaVuSans-117\"/>\r\n     <use x=\"1069.429688\" xlink:href=\"#DejaVuSans-110\"/>\r\n     <use x=\"1132.808594\" xlink:href=\"#DejaVuSans-116\"/>\r\n     <use x=\"1172.017578\" xlink:href=\"#DejaVuSans-115\"/>\r\n    </g>\r\n   </g>\r\n  </g>\r\n  <g id=\"axes_2\">\r\n   <g id=\"patch_2\">\r\n    <path d=\"M 220.351562 1062.423529 \r\nL 1336.351562 1062.423529 \r\nL 1336.351562 582.776471 \r\nL 220.351562 582.776471 \r\nz\r\n\" style=\"fill:#ffffff;\"/>\r\n   </g>\r\n   <g id=\"patch_3\">\r\n    <path clip-path=\"url(#p5252863654)\" d=\"M 220.351562 592.369412 \r\nL 1283.208705 592.369412 \r\nL 1283.208705 669.112941 \r\nL 220.351562 669.112941 \r\nz\r\n\" style=\"fill:#5a1591;\"/>\r\n   </g>\r\n   <g id=\"patch_4\">\r\n    <path clip-path=\"url(#p5252863654)\" d=\"M 220.351562 688.298824 \r\nL 1106.065848 688.298824 \r\nL 1106.065848 765.042353 \r\nL 220.351562 765.042353 \r\nz\r\n\" style=\"fill:#8b288d;\"/>\r\n   </g>\r\n   <g id=\"patch_5\">\r\n    <path clip-path=\"url(#p5252863654)\" d=\"M 220.351562 784.228235 \r\nL 1017.49442 784.228235 \r\nL 1017.49442 860.971765 \r\nL 220.351562 860.971765 \r\nz\r\n\" style=\"fill:#bb587c;\"/>\r\n   </g>\r\n   <g id=\"patch_6\">\r\n    <path clip-path=\"url(#p5252863654)\" d=\"M 220.351562 880.157647 \r\nL 946.637277 880.157647 \r\nL 946.637277 956.901176 \r\nL 220.351562 956.901176 \r\nz\r\n\" style=\"fill:#da8266;\"/>\r\n   </g>\r\n   <g id=\"patch_7\">\r\n    <path clip-path=\"url(#p5252863654)\" d=\"M 220.351562 976.087059 \r\nL 928.922991 976.087059 \r\nL 928.922991 1052.830588 \r\nL 220.351562 1052.830588 \r\nz\r\n\" style=\"fill:#e4ac49;\"/>\r\n   </g>\r\n   <g id=\"matplotlib.axis_1\">\r\n    <g id=\"xtick_1\">\r\n     <g id=\"line2d_1\">\r\n      <defs>\r\n       <path d=\"M 0 0 \r\nL 0 3.5 \r\n\" id=\"m91f5111545\" style=\"stroke:#000000;stroke-width:0.8;\"/>\r\n      </defs>\r\n      <g>\r\n       <use style=\"stroke:#000000;stroke-width:0.8;\" x=\"220.351562\" xlink:href=\"#m91f5111545\" y=\"1062.423529\"/>\r\n      </g>\r\n     </g>\r\n     <g id=\"text_4\">\r\n      <!-- 0 -->\r\n      <g transform=\"translate(217.170312 1077.021967)scale(0.1 -0.1)\">\r\n       <defs>\r\n        <path d=\"M 31.78125 66.40625 \r\nQ 24.171875 66.40625 20.328125 58.90625 \r\nQ 16.5 51.421875 16.5 36.375 \r\nQ 16.5 21.390625 20.328125 13.890625 \r\nQ 24.171875 6.390625 31.78125 6.390625 \r\nQ 39.453125 6.390625 43.28125 13.890625 \r\nQ 47.125 21.390625 47.125 36.375 \r\nQ 47.125 51.421875 43.28125 58.90625 \r\nQ 39.453125 66.40625 31.78125 66.40625 \r\nz\r\nM 31.78125 74.21875 \r\nQ 44.046875 74.21875 50.515625 64.515625 \r\nQ 56.984375 54.828125 56.984375 36.375 \r\nQ 56.984375 17.96875 50.515625 8.265625 \r\nQ 44.046875 -1.421875 31.78125 -1.421875 \r\nQ 19.53125 -1.421875 13.0625 8.265625 \r\nQ 6.59375 17.96875 6.59375 36.375 \r\nQ 6.59375 54.828125 13.0625 64.515625 \r\nQ 19.53125 74.21875 31.78125 74.21875 \r\nz\r\n\" id=\"DejaVuSans-48\"/>\r\n       </defs>\r\n       <use xlink:href=\"#DejaVuSans-48\"/>\r\n      </g>\r\n     </g>\r\n    </g>\r\n    <g id=\"xtick_2\">\r\n     <g id=\"line2d_2\">\r\n      <g>\r\n       <use style=\"stroke:#000000;stroke-width:0.8;\" x=\"397.49442\" xlink:href=\"#m91f5111545\" y=\"1062.423529\"/>\r\n      </g>\r\n     </g>\r\n     <g id=\"text_5\">\r\n      <!-- 1000 -->\r\n      <g transform=\"translate(384.76942 1077.021967)scale(0.1 -0.1)\">\r\n       <defs>\r\n        <path d=\"M 12.40625 8.296875 \r\nL 28.515625 8.296875 \r\nL 28.515625 63.921875 \r\nL 10.984375 60.40625 \r\nL 10.984375 69.390625 \r\nL 28.421875 72.90625 \r\nL 38.28125 72.90625 \r\nL 38.28125 8.296875 \r\nL 54.390625 8.296875 \r\nL 54.390625 0 \r\nL 12.40625 0 \r\nz\r\n\" id=\"DejaVuSans-49\"/>\r\n       </defs>\r\n       <use xlink:href=\"#DejaVuSans-49\"/>\r\n       <use x=\"63.623047\" xlink:href=\"#DejaVuSans-48\"/>\r\n       <use x=\"127.246094\" xlink:href=\"#DejaVuSans-48\"/>\r\n       <use x=\"190.869141\" xlink:href=\"#DejaVuSans-48\"/>\r\n      </g>\r\n     </g>\r\n    </g>\r\n    <g id=\"xtick_3\">\r\n     <g id=\"line2d_3\">\r\n      <g>\r\n       <use style=\"stroke:#000000;stroke-width:0.8;\" x=\"574.637277\" xlink:href=\"#m91f5111545\" y=\"1062.423529\"/>\r\n      </g>\r\n     </g>\r\n     <g id=\"text_6\">\r\n      <!-- 2000 -->\r\n      <g transform=\"translate(561.912277 1077.021967)scale(0.1 -0.1)\">\r\n       <defs>\r\n        <path d=\"M 19.1875 8.296875 \r\nL 53.609375 8.296875 \r\nL 53.609375 0 \r\nL 7.328125 0 \r\nL 7.328125 8.296875 \r\nQ 12.9375 14.109375 22.625 23.890625 \r\nQ 32.328125 33.6875 34.8125 36.53125 \r\nQ 39.546875 41.84375 41.421875 45.53125 \r\nQ 43.3125 49.21875 43.3125 52.78125 \r\nQ 43.3125 58.59375 39.234375 62.25 \r\nQ 35.15625 65.921875 28.609375 65.921875 \r\nQ 23.96875 65.921875 18.8125 64.3125 \r\nQ 13.671875 62.703125 7.8125 59.421875 \r\nL 7.8125 69.390625 \r\nQ 13.765625 71.78125 18.9375 73 \r\nQ 24.125 74.21875 28.421875 74.21875 \r\nQ 39.75 74.21875 46.484375 68.546875 \r\nQ 53.21875 62.890625 53.21875 53.421875 \r\nQ 53.21875 48.921875 51.53125 44.890625 \r\nQ 49.859375 40.875 45.40625 35.40625 \r\nQ 44.1875 33.984375 37.640625 27.21875 \r\nQ 31.109375 20.453125 19.1875 8.296875 \r\nz\r\n\" id=\"DejaVuSans-50\"/>\r\n       </defs>\r\n       <use xlink:href=\"#DejaVuSans-50\"/>\r\n       <use x=\"63.623047\" xlink:href=\"#DejaVuSans-48\"/>\r\n       <use x=\"127.246094\" xlink:href=\"#DejaVuSans-48\"/>\r\n       <use x=\"190.869141\" xlink:href=\"#DejaVuSans-48\"/>\r\n      </g>\r\n     </g>\r\n    </g>\r\n    <g id=\"xtick_4\">\r\n     <g id=\"line2d_4\">\r\n      <g>\r\n       <use style=\"stroke:#000000;stroke-width:0.8;\" x=\"751.780134\" xlink:href=\"#m91f5111545\" y=\"1062.423529\"/>\r\n      </g>\r\n     </g>\r\n     <g id=\"text_7\">\r\n      <!-- 3000 -->\r\n      <g transform=\"translate(739.055134 1077.021967)scale(0.1 -0.1)\">\r\n       <defs>\r\n        <path d=\"M 40.578125 39.3125 \r\nQ 47.65625 37.796875 51.625 33 \r\nQ 55.609375 28.21875 55.609375 21.1875 \r\nQ 55.609375 10.40625 48.1875 4.484375 \r\nQ 40.765625 -1.421875 27.09375 -1.421875 \r\nQ 22.515625 -1.421875 17.65625 -0.515625 \r\nQ 12.796875 0.390625 7.625 2.203125 \r\nL 7.625 11.71875 \r\nQ 11.71875 9.328125 16.59375 8.109375 \r\nQ 21.484375 6.890625 26.8125 6.890625 \r\nQ 36.078125 6.890625 40.9375 10.546875 \r\nQ 45.796875 14.203125 45.796875 21.1875 \r\nQ 45.796875 27.640625 41.28125 31.265625 \r\nQ 36.765625 34.90625 28.71875 34.90625 \r\nL 20.21875 34.90625 \r\nL 20.21875 43.015625 \r\nL 29.109375 43.015625 \r\nQ 36.375 43.015625 40.234375 45.921875 \r\nQ 44.09375 48.828125 44.09375 54.296875 \r\nQ 44.09375 59.90625 40.109375 62.90625 \r\nQ 36.140625 65.921875 28.71875 65.921875 \r\nQ 24.65625 65.921875 20.015625 65.03125 \r\nQ 15.375 64.15625 9.8125 62.3125 \r\nL 9.8125 71.09375 \r\nQ 15.4375 72.65625 20.34375 73.4375 \r\nQ 25.25 74.21875 29.59375 74.21875 \r\nQ 40.828125 74.21875 47.359375 69.109375 \r\nQ 53.90625 64.015625 53.90625 55.328125 \r\nQ 53.90625 49.265625 50.4375 45.09375 \r\nQ 46.96875 40.921875 40.578125 39.3125 \r\nz\r\n\" id=\"DejaVuSans-51\"/>\r\n       </defs>\r\n       <use xlink:href=\"#DejaVuSans-51\"/>\r\n       <use x=\"63.623047\" xlink:href=\"#DejaVuSans-48\"/>\r\n       <use x=\"127.246094\" xlink:href=\"#DejaVuSans-48\"/>\r\n       <use x=\"190.869141\" xlink:href=\"#DejaVuSans-48\"/>\r\n      </g>\r\n     </g>\r\n    </g>\r\n    <g id=\"xtick_5\">\r\n     <g id=\"line2d_5\">\r\n      <g>\r\n       <use style=\"stroke:#000000;stroke-width:0.8;\" x=\"928.922991\" xlink:href=\"#m91f5111545\" y=\"1062.423529\"/>\r\n      </g>\r\n     </g>\r\n     <g id=\"text_8\">\r\n      <!-- 4000 -->\r\n      <g transform=\"translate(916.197991 1077.021967)scale(0.1 -0.1)\">\r\n       <use xlink:href=\"#DejaVuSans-52\"/>\r\n       <use x=\"63.623047\" xlink:href=\"#DejaVuSans-48\"/>\r\n       <use x=\"127.246094\" xlink:href=\"#DejaVuSans-48\"/>\r\n       <use x=\"190.869141\" xlink:href=\"#DejaVuSans-48\"/>\r\n      </g>\r\n     </g>\r\n    </g>\r\n    <g id=\"xtick_6\">\r\n     <g id=\"line2d_6\">\r\n      <g>\r\n       <use style=\"stroke:#000000;stroke-width:0.8;\" x=\"1106.065848\" xlink:href=\"#m91f5111545\" y=\"1062.423529\"/>\r\n      </g>\r\n     </g>\r\n     <g id=\"text_9\">\r\n      <!-- 5000 -->\r\n      <g transform=\"translate(1093.340848 1077.021967)scale(0.1 -0.1)\">\r\n       <defs>\r\n        <path d=\"M 10.796875 72.90625 \r\nL 49.515625 72.90625 \r\nL 49.515625 64.59375 \r\nL 19.828125 64.59375 \r\nL 19.828125 46.734375 \r\nQ 21.96875 47.46875 24.109375 47.828125 \r\nQ 26.265625 48.1875 28.421875 48.1875 \r\nQ 40.625 48.1875 47.75 41.5 \r\nQ 54.890625 34.8125 54.890625 23.390625 \r\nQ 54.890625 11.625 47.5625 5.09375 \r\nQ 40.234375 -1.421875 26.90625 -1.421875 \r\nQ 22.3125 -1.421875 17.546875 -0.640625 \r\nQ 12.796875 0.140625 7.71875 1.703125 \r\nL 7.71875 11.625 \r\nQ 12.109375 9.234375 16.796875 8.0625 \r\nQ 21.484375 6.890625 26.703125 6.890625 \r\nQ 35.15625 6.890625 40.078125 11.328125 \r\nQ 45.015625 15.765625 45.015625 23.390625 \r\nQ 45.015625 31 40.078125 35.4375 \r\nQ 35.15625 39.890625 26.703125 39.890625 \r\nQ 22.75 39.890625 18.8125 39.015625 \r\nQ 14.890625 38.140625 10.796875 36.28125 \r\nz\r\n\" id=\"DejaVuSans-53\"/>\r\n       </defs>\r\n       <use xlink:href=\"#DejaVuSans-53\"/>\r\n       <use x=\"63.623047\" xlink:href=\"#DejaVuSans-48\"/>\r\n       <use x=\"127.246094\" xlink:href=\"#DejaVuSans-48\"/>\r\n       <use x=\"190.869141\" xlink:href=\"#DejaVuSans-48\"/>\r\n      </g>\r\n     </g>\r\n    </g>\r\n    <g id=\"xtick_7\">\r\n     <g id=\"line2d_7\">\r\n      <g>\r\n       <use style=\"stroke:#000000;stroke-width:0.8;\" x=\"1283.208705\" xlink:href=\"#m91f5111545\" y=\"1062.423529\"/>\r\n      </g>\r\n     </g>\r\n     <g id=\"text_10\">\r\n      <!-- 6000 -->\r\n      <g transform=\"translate(1270.483705 1077.021967)scale(0.1 -0.1)\">\r\n       <use xlink:href=\"#DejaVuSans-54\"/>\r\n       <use x=\"63.623047\" xlink:href=\"#DejaVuSans-48\"/>\r\n       <use x=\"127.246094\" xlink:href=\"#DejaVuSans-48\"/>\r\n       <use x=\"190.869141\" xlink:href=\"#DejaVuSans-48\"/>\r\n      </g>\r\n     </g>\r\n    </g>\r\n    <g id=\"text_11\">\r\n     <!-- averageApproxCost -->\r\n     <g transform=\"translate(729.191406 1090.700092)scale(0.1 -0.1)\">\r\n      <defs>\r\n       <path d=\"M 2.984375 54.6875 \r\nL 12.5 54.6875 \r\nL 29.59375 8.796875 \r\nL 46.6875 54.6875 \r\nL 56.203125 54.6875 \r\nL 35.6875 0 \r\nL 23.484375 0 \r\nz\r\n\" id=\"DejaVuSans-118\"/>\r\n       <path d=\"M 34.1875 63.1875 \r\nL 20.796875 26.90625 \r\nL 47.609375 26.90625 \r\nz\r\nM 28.609375 72.90625 \r\nL 39.796875 72.90625 \r\nL 67.578125 0 \r\nL 57.328125 0 \r\nL 50.6875 18.703125 \r\nL 17.828125 18.703125 \r\nL 11.1875 0 \r\nL 0.78125 0 \r\nz\r\n\" id=\"DejaVuSans-65\"/>\r\n       <path d=\"M 64.40625 67.28125 \r\nL 64.40625 56.890625 \r\nQ 59.421875 61.53125 53.78125 63.8125 \r\nQ 48.140625 66.109375 41.796875 66.109375 \r\nQ 29.296875 66.109375 22.65625 58.46875 \r\nQ 16.015625 50.828125 16.015625 36.375 \r\nQ 16.015625 21.96875 22.65625 14.328125 \r\nQ 29.296875 6.6875 41.796875 6.6875 \r\nQ 48.140625 6.6875 53.78125 8.984375 \r\nQ 59.421875 11.28125 64.40625 15.921875 \r\nL 64.40625 5.609375 \r\nQ 59.234375 2.09375 53.4375 0.328125 \r\nQ 47.65625 -1.421875 41.21875 -1.421875 \r\nQ 24.65625 -1.421875 15.125 8.703125 \r\nQ 5.609375 18.84375 5.609375 36.375 \r\nQ 5.609375 53.953125 15.125 64.078125 \r\nQ 24.65625 74.21875 41.21875 74.21875 \r\nQ 47.75 74.21875 53.53125 72.484375 \r\nQ 59.328125 70.75 64.40625 67.28125 \r\nz\r\n\" id=\"DejaVuSans-67\"/>\r\n      </defs>\r\n      <use xlink:href=\"#DejaVuSans-97\"/>\r\n      <use x=\"61.279297\" xlink:href=\"#DejaVuSans-118\"/>\r\n      <use x=\"120.458984\" xlink:href=\"#DejaVuSans-101\"/>\r\n      <use x=\"181.982422\" xlink:href=\"#DejaVuSans-114\"/>\r\n      <use x=\"223.095703\" xlink:href=\"#DejaVuSans-97\"/>\r\n      <use x=\"284.375\" xlink:href=\"#DejaVuSans-103\"/>\r\n      <use x=\"347.851562\" xlink:href=\"#DejaVuSans-101\"/>\r\n      <use x=\"409.375\" xlink:href=\"#DejaVuSans-65\"/>\r\n      <use x=\"477.783203\" xlink:href=\"#DejaVuSans-112\"/>\r\n      <use x=\"541.259766\" xlink:href=\"#DejaVuSans-112\"/>\r\n      <use x=\"604.736328\" xlink:href=\"#DejaVuSans-114\"/>\r\n      <use x=\"643.599609\" xlink:href=\"#DejaVuSans-111\"/>\r\n      <use x=\"701.65625\" xlink:href=\"#DejaVuSans-120\"/>\r\n      <use x=\"760.835938\" xlink:href=\"#DejaVuSans-67\"/>\r\n      <use x=\"830.660156\" xlink:href=\"#DejaVuSans-111\"/>\r\n      <use x=\"891.841797\" xlink:href=\"#DejaVuSans-115\"/>\r\n      <use x=\"943.941406\" xlink:href=\"#DejaVuSans-116\"/>\r\n     </g>\r\n    </g>\r\n   </g>\r\n   <g id=\"matplotlib.axis_2\">\r\n    <g id=\"ytick_1\">\r\n     <g id=\"line2d_8\">\r\n      <defs>\r\n       <path d=\"M 0 0 \r\nL -3.5 0 \r\n\" id=\"m85b45efa74\" style=\"stroke:#000000;stroke-width:0.8;\"/>\r\n      </defs>\r\n      <g>\r\n       <use style=\"stroke:#000000;stroke-width:0.8;\" x=\"220.351562\" xlink:href=\"#m85b45efa74\" y=\"630.741176\"/>\r\n      </g>\r\n     </g>\r\n     <g id=\"text_12\">\r\n      <!-- Le Cirque Signature - The Leela Palace -->\r\n      <g transform=\"translate(20.878125 634.540395)scale(0.1 -0.1)\">\r\n       <defs>\r\n        <path d=\"M 9.8125 72.90625 \r\nL 19.671875 72.90625 \r\nL 19.671875 8.296875 \r\nL 55.171875 8.296875 \r\nL 55.171875 0 \r\nL 9.8125 0 \r\nz\r\n\" id=\"DejaVuSans-76\"/>\r\n        <path d=\"M 14.796875 27.296875 \r\nQ 14.796875 17.390625 18.875 11.75 \r\nQ 22.953125 6.109375 30.078125 6.109375 \r\nQ 37.203125 6.109375 41.296875 11.75 \r\nQ 45.40625 17.390625 45.40625 27.296875 \r\nQ 45.40625 37.203125 41.296875 42.84375 \r\nQ 37.203125 48.484375 30.078125 48.484375 \r\nQ 22.953125 48.484375 18.875 42.84375 \r\nQ 14.796875 37.203125 14.796875 27.296875 \r\nz\r\nM 45.40625 8.203125 \r\nQ 42.578125 3.328125 38.25 0.953125 \r\nQ 33.9375 -1.421875 27.875 -1.421875 \r\nQ 17.96875 -1.421875 11.734375 6.484375 \r\nQ 5.515625 14.40625 5.515625 27.296875 \r\nQ 5.515625 40.1875 11.734375 48.09375 \r\nQ 17.96875 56 27.875 56 \r\nQ 33.9375 56 38.25 53.625 \r\nQ 42.578125 51.265625 45.40625 46.390625 \r\nL 45.40625 54.6875 \r\nL 54.390625 54.6875 \r\nL 54.390625 -20.796875 \r\nL 45.40625 -20.796875 \r\nz\r\n\" id=\"DejaVuSans-113\"/>\r\n        <path d=\"M 53.515625 70.515625 \r\nL 53.515625 60.890625 \r\nQ 47.90625 63.578125 42.921875 64.890625 \r\nQ 37.9375 66.21875 33.296875 66.21875 \r\nQ 25.25 66.21875 20.875 63.09375 \r\nQ 16.5 59.96875 16.5 54.203125 \r\nQ 16.5 49.359375 19.40625 46.890625 \r\nQ 22.3125 44.4375 30.421875 42.921875 \r\nL 36.375 41.703125 \r\nQ 47.40625 39.59375 52.65625 34.296875 \r\nQ 57.90625 29 57.90625 20.125 \r\nQ 57.90625 9.515625 50.796875 4.046875 \r\nQ 43.703125 -1.421875 29.984375 -1.421875 \r\nQ 24.8125 -1.421875 18.96875 -0.25 \r\nQ 13.140625 0.921875 6.890625 3.21875 \r\nL 6.890625 13.375 \r\nQ 12.890625 10.015625 18.65625 8.296875 \r\nQ 24.421875 6.59375 29.984375 6.59375 \r\nQ 38.421875 6.59375 43.015625 9.90625 \r\nQ 47.609375 13.234375 47.609375 19.390625 \r\nQ 47.609375 24.75 44.3125 27.78125 \r\nQ 41.015625 30.8125 33.5 32.328125 \r\nL 27.484375 33.5 \r\nQ 16.453125 35.6875 11.515625 40.375 \r\nQ 6.59375 45.0625 6.59375 53.421875 \r\nQ 6.59375 63.09375 13.40625 68.65625 \r\nQ 20.21875 74.21875 32.171875 74.21875 \r\nQ 37.3125 74.21875 42.625 73.28125 \r\nQ 47.953125 72.359375 53.515625 70.515625 \r\nz\r\n\" id=\"DejaVuSans-83\"/>\r\n        <path d=\"M 4.890625 31.390625 \r\nL 31.203125 31.390625 \r\nL 31.203125 23.390625 \r\nL 4.890625 23.390625 \r\nz\r\n\" id=\"DejaVuSans-45\"/>\r\n        <path d=\"M -0.296875 72.90625 \r\nL 61.375 72.90625 \r\nL 61.375 64.59375 \r\nL 35.5 64.59375 \r\nL 35.5 0 \r\nL 25.59375 0 \r\nL 25.59375 64.59375 \r\nL -0.296875 64.59375 \r\nz\r\n\" id=\"DejaVuSans-84\"/>\r\n        <path d=\"M 19.671875 64.796875 \r\nL 19.671875 37.40625 \r\nL 32.078125 37.40625 \r\nQ 38.96875 37.40625 42.71875 40.96875 \r\nQ 46.484375 44.53125 46.484375 51.125 \r\nQ 46.484375 57.671875 42.71875 61.234375 \r\nQ 38.96875 64.796875 32.078125 64.796875 \r\nz\r\nM 9.8125 72.90625 \r\nL 32.078125 72.90625 \r\nQ 44.34375 72.90625 50.609375 67.359375 \r\nQ 56.890625 61.8125 56.890625 51.125 \r\nQ 56.890625 40.328125 50.609375 34.8125 \r\nQ 44.34375 29.296875 32.078125 29.296875 \r\nL 19.671875 29.296875 \r\nL 19.671875 0 \r\nL 9.8125 0 \r\nz\r\n\" id=\"DejaVuSans-80\"/>\r\n       </defs>\r\n       <use xlink:href=\"#DejaVuSans-76\"/>\r\n       <use x=\"53.962891\" xlink:href=\"#DejaVuSans-101\"/>\r\n       <use x=\"115.486328\" xlink:href=\"#DejaVuSans-32\"/>\r\n       <use x=\"147.273438\" xlink:href=\"#DejaVuSans-67\"/>\r\n       <use x=\"217.097656\" xlink:href=\"#DejaVuSans-105\"/>\r\n       <use x=\"244.880859\" xlink:href=\"#DejaVuSans-114\"/>\r\n       <use x=\"284.244141\" xlink:href=\"#DejaVuSans-113\"/>\r\n       <use x=\"347.720703\" xlink:href=\"#DejaVuSans-117\"/>\r\n       <use x=\"411.099609\" xlink:href=\"#DejaVuSans-101\"/>\r\n       <use x=\"472.623047\" xlink:href=\"#DejaVuSans-32\"/>\r\n       <use x=\"504.410156\" xlink:href=\"#DejaVuSans-83\"/>\r\n       <use x=\"567.886719\" xlink:href=\"#DejaVuSans-105\"/>\r\n       <use x=\"595.669922\" xlink:href=\"#DejaVuSans-103\"/>\r\n       <use x=\"659.146484\" xlink:href=\"#DejaVuSans-110\"/>\r\n       <use x=\"722.525391\" xlink:href=\"#DejaVuSans-97\"/>\r\n       <use x=\"783.804688\" xlink:href=\"#DejaVuSans-116\"/>\r\n       <use x=\"823.013672\" xlink:href=\"#DejaVuSans-117\"/>\r\n       <use x=\"886.392578\" xlink:href=\"#DejaVuSans-114\"/>\r\n       <use x=\"925.255859\" xlink:href=\"#DejaVuSans-101\"/>\r\n       <use x=\"986.779297\" xlink:href=\"#DejaVuSans-32\"/>\r\n       <use x=\"1018.566406\" xlink:href=\"#DejaVuSans-45\"/>\r\n       <use x=\"1054.650391\" xlink:href=\"#DejaVuSans-32\"/>\r\n       <use x=\"1086.4375\" xlink:href=\"#DejaVuSans-84\"/>\r\n       <use x=\"1147.521484\" xlink:href=\"#DejaVuSans-104\"/>\r\n       <use x=\"1210.900391\" xlink:href=\"#DejaVuSans-101\"/>\r\n       <use x=\"1272.423828\" xlink:href=\"#DejaVuSans-32\"/>\r\n       <use x=\"1304.210938\" xlink:href=\"#DejaVuSans-76\"/>\r\n       <use x=\"1358.173828\" xlink:href=\"#DejaVuSans-101\"/>\r\n       <use x=\"1419.697266\" xlink:href=\"#DejaVuSans-101\"/>\r\n       <use x=\"1481.220703\" xlink:href=\"#DejaVuSans-108\"/>\r\n       <use x=\"1509.003906\" xlink:href=\"#DejaVuSans-97\"/>\r\n       <use x=\"1570.283203\" xlink:href=\"#DejaVuSans-32\"/>\r\n       <use x=\"1602.070312\" xlink:href=\"#DejaVuSans-80\"/>\r\n       <use x=\"1657.873047\" xlink:href=\"#DejaVuSans-97\"/>\r\n       <use x=\"1719.152344\" xlink:href=\"#DejaVuSans-108\"/>\r\n       <use x=\"1746.935547\" xlink:href=\"#DejaVuSans-97\"/>\r\n       <use x=\"1808.214844\" xlink:href=\"#DejaVuSans-99\"/>\r\n       <use x=\"1863.195312\" xlink:href=\"#DejaVuSans-101\"/>\r\n      </g>\r\n     </g>\r\n    </g>\r\n    <g id=\"ytick_2\">\r\n     <g id=\"line2d_9\">\r\n      <g>\r\n       <use style=\"stroke:#000000;stroke-width:0.8;\" x=\"220.351562\" xlink:href=\"#m85b45efa74\" y=\"726.670588\"/>\r\n      </g>\r\n     </g>\r\n     <g id=\"text_13\">\r\n      <!-- Royal Afghan - ITC Windsor -->\r\n      <g transform=\"translate(78.420312 730.469807)scale(0.1 -0.1)\">\r\n       <defs>\r\n        <path d=\"M 44.390625 34.1875 \r\nQ 47.5625 33.109375 50.5625 29.59375 \r\nQ 53.5625 26.078125 56.59375 19.921875 \r\nL 66.609375 0 \r\nL 56 0 \r\nL 46.6875 18.703125 \r\nQ 43.0625 26.03125 39.671875 28.421875 \r\nQ 36.28125 30.8125 30.421875 30.8125 \r\nL 19.671875 30.8125 \r\nL 19.671875 0 \r\nL 9.8125 0 \r\nL 9.8125 72.90625 \r\nL 32.078125 72.90625 \r\nQ 44.578125 72.90625 50.734375 67.671875 \r\nQ 56.890625 62.453125 56.890625 51.90625 \r\nQ 56.890625 45.015625 53.6875 40.46875 \r\nQ 50.484375 35.9375 44.390625 34.1875 \r\nz\r\nM 19.671875 64.796875 \r\nL 19.671875 38.921875 \r\nL 32.078125 38.921875 \r\nQ 39.203125 38.921875 42.84375 42.21875 \r\nQ 46.484375 45.515625 46.484375 51.90625 \r\nQ 46.484375 58.296875 42.84375 61.546875 \r\nQ 39.203125 64.796875 32.078125 64.796875 \r\nz\r\n\" id=\"DejaVuSans-82\"/>\r\n        <path d=\"M 32.171875 -5.078125 \r\nQ 28.375 -14.84375 24.75 -17.8125 \r\nQ 21.140625 -20.796875 15.09375 -20.796875 \r\nL 7.90625 -20.796875 \r\nL 7.90625 -13.28125 \r\nL 13.1875 -13.28125 \r\nQ 16.890625 -13.28125 18.9375 -11.515625 \r\nQ 21 -9.765625 23.484375 -3.21875 \r\nL 25.09375 0.875 \r\nL 2.984375 54.6875 \r\nL 12.5 54.6875 \r\nL 29.59375 11.921875 \r\nL 46.6875 54.6875 \r\nL 56.203125 54.6875 \r\nz\r\n\" id=\"DejaVuSans-121\"/>\r\n        <path d=\"M 9.8125 72.90625 \r\nL 19.671875 72.90625 \r\nL 19.671875 0 \r\nL 9.8125 0 \r\nz\r\n\" id=\"DejaVuSans-73\"/>\r\n        <path d=\"M 3.328125 72.90625 \r\nL 13.28125 72.90625 \r\nL 28.609375 11.28125 \r\nL 43.890625 72.90625 \r\nL 54.984375 72.90625 \r\nL 70.3125 11.28125 \r\nL 85.59375 72.90625 \r\nL 95.609375 72.90625 \r\nL 77.296875 0 \r\nL 64.890625 0 \r\nL 49.515625 63.28125 \r\nL 33.984375 0 \r\nL 21.578125 0 \r\nz\r\n\" id=\"DejaVuSans-87\"/>\r\n        <path d=\"M 45.40625 46.390625 \r\nL 45.40625 75.984375 \r\nL 54.390625 75.984375 \r\nL 54.390625 0 \r\nL 45.40625 0 \r\nL 45.40625 8.203125 \r\nQ 42.578125 3.328125 38.25 0.953125 \r\nQ 33.9375 -1.421875 27.875 -1.421875 \r\nQ 17.96875 -1.421875 11.734375 6.484375 \r\nQ 5.515625 14.40625 5.515625 27.296875 \r\nQ 5.515625 40.1875 11.734375 48.09375 \r\nQ 17.96875 56 27.875 56 \r\nQ 33.9375 56 38.25 53.625 \r\nQ 42.578125 51.265625 45.40625 46.390625 \r\nz\r\nM 14.796875 27.296875 \r\nQ 14.796875 17.390625 18.875 11.75 \r\nQ 22.953125 6.109375 30.078125 6.109375 \r\nQ 37.203125 6.109375 41.296875 11.75 \r\nQ 45.40625 17.390625 45.40625 27.296875 \r\nQ 45.40625 37.203125 41.296875 42.84375 \r\nQ 37.203125 48.484375 30.078125 48.484375 \r\nQ 22.953125 48.484375 18.875 42.84375 \r\nQ 14.796875 37.203125 14.796875 27.296875 \r\nz\r\n\" id=\"DejaVuSans-100\"/>\r\n       </defs>\r\n       <use xlink:href=\"#DejaVuSans-82\"/>\r\n       <use x=\"64.982422\" xlink:href=\"#DejaVuSans-111\"/>\r\n       <use x=\"126.164062\" xlink:href=\"#DejaVuSans-121\"/>\r\n       <use x=\"185.34375\" xlink:href=\"#DejaVuSans-97\"/>\r\n       <use x=\"246.623047\" xlink:href=\"#DejaVuSans-108\"/>\r\n       <use x=\"274.40625\" xlink:href=\"#DejaVuSans-32\"/>\r\n       <use x=\"306.193359\" xlink:href=\"#DejaVuSans-65\"/>\r\n       <use x=\"370.976562\" xlink:href=\"#DejaVuSans-102\"/>\r\n       <use x=\"406.181641\" xlink:href=\"#DejaVuSans-103\"/>\r\n       <use x=\"469.658203\" xlink:href=\"#DejaVuSans-104\"/>\r\n       <use x=\"533.037109\" xlink:href=\"#DejaVuSans-97\"/>\r\n       <use x=\"594.316406\" xlink:href=\"#DejaVuSans-110\"/>\r\n       <use x=\"657.695312\" xlink:href=\"#DejaVuSans-32\"/>\r\n       <use x=\"689.482422\" xlink:href=\"#DejaVuSans-45\"/>\r\n       <use x=\"725.566406\" xlink:href=\"#DejaVuSans-32\"/>\r\n       <use x=\"757.353516\" xlink:href=\"#DejaVuSans-73\"/>\r\n       <use x=\"786.845703\" xlink:href=\"#DejaVuSans-84\"/>\r\n       <use x=\"842.054688\" xlink:href=\"#DejaVuSans-67\"/>\r\n       <use x=\"911.878906\" xlink:href=\"#DejaVuSans-32\"/>\r\n       <use x=\"943.666016\" xlink:href=\"#DejaVuSans-87\"/>\r\n       <use x=\"1040.292969\" xlink:href=\"#DejaVuSans-105\"/>\r\n       <use x=\"1068.076172\" xlink:href=\"#DejaVuSans-110\"/>\r\n       <use x=\"1131.455078\" xlink:href=\"#DejaVuSans-100\"/>\r\n       <use x=\"1194.931641\" xlink:href=\"#DejaVuSans-115\"/>\r\n       <use x=\"1247.03125\" xlink:href=\"#DejaVuSans-111\"/>\r\n       <use x=\"1308.212891\" xlink:href=\"#DejaVuSans-114\"/>\r\n      </g>\r\n     </g>\r\n    </g>\r\n    <g id=\"ytick_3\">\r\n     <g id=\"line2d_10\">\r\n      <g>\r\n       <use style=\"stroke:#000000;stroke-width:0.8;\" x=\"220.351562\" xlink:href=\"#m85b45efa74\" y=\"822.6\"/>\r\n      </g>\r\n     </g>\r\n     <g id=\"text_14\">\r\n      <!-- Malties - Radisson Blu -->\r\n      <g transform=\"translate(103.784375 826.399219)scale(0.1 -0.1)\">\r\n       <defs>\r\n        <path d=\"M 9.8125 72.90625 \r\nL 24.515625 72.90625 \r\nL 43.109375 23.296875 \r\nL 61.8125 72.90625 \r\nL 76.515625 72.90625 \r\nL 76.515625 0 \r\nL 66.890625 0 \r\nL 66.890625 64.015625 \r\nL 48.09375 14.015625 \r\nL 38.1875 14.015625 \r\nL 19.390625 64.015625 \r\nL 19.390625 0 \r\nL 9.8125 0 \r\nz\r\n\" id=\"DejaVuSans-77\"/>\r\n        <path d=\"M 19.671875 34.8125 \r\nL 19.671875 8.109375 \r\nL 35.5 8.109375 \r\nQ 43.453125 8.109375 47.28125 11.40625 \r\nQ 51.125 14.703125 51.125 21.484375 \r\nQ 51.125 28.328125 47.28125 31.5625 \r\nQ 43.453125 34.8125 35.5 34.8125 \r\nz\r\nM 19.671875 64.796875 \r\nL 19.671875 42.828125 \r\nL 34.28125 42.828125 \r\nQ 41.5 42.828125 45.03125 45.53125 \r\nQ 48.578125 48.25 48.578125 53.8125 \r\nQ 48.578125 59.328125 45.03125 62.0625 \r\nQ 41.5 64.796875 34.28125 64.796875 \r\nz\r\nM 9.8125 72.90625 \r\nL 35.015625 72.90625 \r\nQ 46.296875 72.90625 52.390625 68.21875 \r\nQ 58.5 63.53125 58.5 54.890625 \r\nQ 58.5 48.1875 55.375 44.234375 \r\nQ 52.25 40.28125 46.1875 39.3125 \r\nQ 53.46875 37.75 57.5 32.78125 \r\nQ 61.53125 27.828125 61.53125 20.40625 \r\nQ 61.53125 10.640625 54.890625 5.3125 \r\nQ 48.25 0 35.984375 0 \r\nL 9.8125 0 \r\nz\r\n\" id=\"DejaVuSans-66\"/>\r\n       </defs>\r\n       <use xlink:href=\"#DejaVuSans-77\"/>\r\n       <use x=\"86.279297\" xlink:href=\"#DejaVuSans-97\"/>\r\n       <use x=\"147.558594\" xlink:href=\"#DejaVuSans-108\"/>\r\n       <use x=\"175.341797\" xlink:href=\"#DejaVuSans-116\"/>\r\n       <use x=\"214.550781\" xlink:href=\"#DejaVuSans-105\"/>\r\n       <use x=\"242.333984\" xlink:href=\"#DejaVuSans-101\"/>\r\n       <use x=\"303.857422\" xlink:href=\"#DejaVuSans-115\"/>\r\n       <use x=\"355.957031\" xlink:href=\"#DejaVuSans-32\"/>\r\n       <use x=\"387.744141\" xlink:href=\"#DejaVuSans-45\"/>\r\n       <use x=\"423.828125\" xlink:href=\"#DejaVuSans-32\"/>\r\n       <use x=\"455.615234\" xlink:href=\"#DejaVuSans-82\"/>\r\n       <use x=\"522.847656\" xlink:href=\"#DejaVuSans-97\"/>\r\n       <use x=\"584.126953\" xlink:href=\"#DejaVuSans-100\"/>\r\n       <use x=\"647.603516\" xlink:href=\"#DejaVuSans-105\"/>\r\n       <use x=\"675.386719\" xlink:href=\"#DejaVuSans-115\"/>\r\n       <use x=\"727.486328\" xlink:href=\"#DejaVuSans-115\"/>\r\n       <use x=\"779.585938\" xlink:href=\"#DejaVuSans-111\"/>\r\n       <use x=\"840.767578\" xlink:href=\"#DejaVuSans-110\"/>\r\n       <use x=\"904.146484\" xlink:href=\"#DejaVuSans-32\"/>\r\n       <use x=\"935.933594\" xlink:href=\"#DejaVuSans-66\"/>\r\n       <use x=\"1004.537109\" xlink:href=\"#DejaVuSans-108\"/>\r\n       <use x=\"1032.320312\" xlink:href=\"#DejaVuSans-117\"/>\r\n      </g>\r\n     </g>\r\n    </g>\r\n    <g id=\"ytick_4\">\r\n     <g id=\"line2d_11\">\r\n      <g>\r\n       <use style=\"stroke:#000000;stroke-width:0.8;\" x=\"220.351562\" xlink:href=\"#m85b45efa74\" y=\"918.529412\"/>\r\n      </g>\r\n     </g>\r\n     <g id=\"text_15\">\r\n      <!-- La Brasserie - Le Meridien -->\r\n      <g transform=\"translate(83.779687 922.328631)scale(0.1 -0.1)\">\r\n       <use xlink:href=\"#DejaVuSans-76\"/>\r\n       <use x=\"55.712891\" xlink:href=\"#DejaVuSans-97\"/>\r\n       <use x=\"116.992188\" xlink:href=\"#DejaVuSans-32\"/>\r\n       <use x=\"148.779297\" xlink:href=\"#DejaVuSans-66\"/>\r\n       <use x=\"217.382812\" xlink:href=\"#DejaVuSans-114\"/>\r\n       <use x=\"258.496094\" xlink:href=\"#DejaVuSans-97\"/>\r\n       <use x=\"319.775391\" xlink:href=\"#DejaVuSans-115\"/>\r\n       <use x=\"371.875\" xlink:href=\"#DejaVuSans-115\"/>\r\n       <use x=\"423.974609\" xlink:href=\"#DejaVuSans-101\"/>\r\n       <use x=\"485.498047\" xlink:href=\"#DejaVuSans-114\"/>\r\n       <use x=\"526.611328\" xlink:href=\"#DejaVuSans-105\"/>\r\n       <use x=\"554.394531\" xlink:href=\"#DejaVuSans-101\"/>\r\n       <use x=\"615.917969\" xlink:href=\"#DejaVuSans-32\"/>\r\n       <use x=\"647.705078\" xlink:href=\"#DejaVuSans-45\"/>\r\n       <use x=\"683.789062\" xlink:href=\"#DejaVuSans-32\"/>\r\n       <use x=\"715.576172\" xlink:href=\"#DejaVuSans-76\"/>\r\n       <use x=\"769.539062\" xlink:href=\"#DejaVuSans-101\"/>\r\n       <use x=\"831.0625\" xlink:href=\"#DejaVuSans-32\"/>\r\n       <use x=\"862.849609\" xlink:href=\"#DejaVuSans-77\"/>\r\n       <use x=\"949.128906\" xlink:href=\"#DejaVuSans-101\"/>\r\n       <use x=\"1010.652344\" xlink:href=\"#DejaVuSans-114\"/>\r\n       <use x=\"1051.765625\" xlink:href=\"#DejaVuSans-105\"/>\r\n       <use x=\"1079.548828\" xlink:href=\"#DejaVuSans-100\"/>\r\n       <use x=\"1143.025391\" xlink:href=\"#DejaVuSans-105\"/>\r\n       <use x=\"1170.808594\" xlink:href=\"#DejaVuSans-101\"/>\r\n       <use x=\"1232.332031\" xlink:href=\"#DejaVuSans-110\"/>\r\n      </g>\r\n     </g>\r\n    </g>\r\n    <g id=\"ytick_5\">\r\n     <g id=\"line2d_12\">\r\n      <g>\r\n       <use style=\"stroke:#000000;stroke-width:0.8;\" x=\"220.351562\" xlink:href=\"#m85b45efa74\" y=\"1014.458824\"/>\r\n      </g>\r\n     </g>\r\n     <g id=\"text_16\">\r\n      <!-- Dum Pukht Jolly Nabobs - ITC Windsor -->\r\n      <g transform=\"translate(24.459375 1018.258042)scale(0.1 -0.1)\">\r\n       <defs>\r\n        <path d=\"M 19.671875 64.796875 \r\nL 19.671875 8.109375 \r\nL 31.59375 8.109375 \r\nQ 46.6875 8.109375 53.6875 14.9375 \r\nQ 60.6875 21.78125 60.6875 36.53125 \r\nQ 60.6875 51.171875 53.6875 57.984375 \r\nQ 46.6875 64.796875 31.59375 64.796875 \r\nz\r\nM 9.8125 72.90625 \r\nL 30.078125 72.90625 \r\nQ 51.265625 72.90625 61.171875 64.09375 \r\nQ 71.09375 55.28125 71.09375 36.53125 \r\nQ 71.09375 17.671875 61.125 8.828125 \r\nQ 51.171875 0 30.078125 0 \r\nL 9.8125 0 \r\nz\r\n\" id=\"DejaVuSans-68\"/>\r\n        <path d=\"M 9.078125 75.984375 \r\nL 18.109375 75.984375 \r\nL 18.109375 31.109375 \r\nL 44.921875 54.6875 \r\nL 56.390625 54.6875 \r\nL 27.390625 29.109375 \r\nL 57.625 0 \r\nL 45.90625 0 \r\nL 18.109375 26.703125 \r\nL 18.109375 0 \r\nL 9.078125 0 \r\nz\r\n\" id=\"DejaVuSans-107\"/>\r\n        <path d=\"M 9.8125 72.90625 \r\nL 19.671875 72.90625 \r\nL 19.671875 5.078125 \r\nQ 19.671875 -8.109375 14.671875 -14.0625 \r\nQ 9.671875 -20.015625 -1.421875 -20.015625 \r\nL -5.171875 -20.015625 \r\nL -5.171875 -11.71875 \r\nL -2.09375 -11.71875 \r\nQ 4.4375 -11.71875 7.125 -8.046875 \r\nQ 9.8125 -4.390625 9.8125 5.078125 \r\nz\r\n\" id=\"DejaVuSans-74\"/>\r\n        <path d=\"M 9.8125 72.90625 \r\nL 23.09375 72.90625 \r\nL 55.421875 11.921875 \r\nL 55.421875 72.90625 \r\nL 64.984375 72.90625 \r\nL 64.984375 0 \r\nL 51.703125 0 \r\nL 19.390625 60.984375 \r\nL 19.390625 0 \r\nL 9.8125 0 \r\nz\r\n\" id=\"DejaVuSans-78\"/>\r\n       </defs>\r\n       <use xlink:href=\"#DejaVuSans-68\"/>\r\n       <use x=\"77.001953\" xlink:href=\"#DejaVuSans-117\"/>\r\n       <use x=\"140.380859\" xlink:href=\"#DejaVuSans-109\"/>\r\n       <use x=\"237.792969\" xlink:href=\"#DejaVuSans-32\"/>\r\n       <use x=\"269.580078\" xlink:href=\"#DejaVuSans-80\"/>\r\n       <use x=\"328.132812\" xlink:href=\"#DejaVuSans-117\"/>\r\n       <use x=\"391.511719\" xlink:href=\"#DejaVuSans-107\"/>\r\n       <use x=\"449.421875\" xlink:href=\"#DejaVuSans-104\"/>\r\n       <use x=\"512.800781\" xlink:href=\"#DejaVuSans-116\"/>\r\n       <use x=\"552.009766\" xlink:href=\"#DejaVuSans-32\"/>\r\n       <use x=\"583.796875\" xlink:href=\"#DejaVuSans-74\"/>\r\n       <use x=\"613.289062\" xlink:href=\"#DejaVuSans-111\"/>\r\n       <use x=\"674.470703\" xlink:href=\"#DejaVuSans-108\"/>\r\n       <use x=\"702.253906\" xlink:href=\"#DejaVuSans-108\"/>\r\n       <use x=\"730.037109\" xlink:href=\"#DejaVuSans-121\"/>\r\n       <use x=\"789.216797\" xlink:href=\"#DejaVuSans-32\"/>\r\n       <use x=\"821.003906\" xlink:href=\"#DejaVuSans-78\"/>\r\n       <use x=\"895.808594\" xlink:href=\"#DejaVuSans-97\"/>\r\n       <use x=\"957.087891\" xlink:href=\"#DejaVuSans-98\"/>\r\n       <use x=\"1020.564453\" xlink:href=\"#DejaVuSans-111\"/>\r\n       <use x=\"1081.746094\" xlink:href=\"#DejaVuSans-98\"/>\r\n       <use x=\"1145.222656\" xlink:href=\"#DejaVuSans-115\"/>\r\n       <use x=\"1197.322266\" xlink:href=\"#DejaVuSans-32\"/>\r\n       <use x=\"1229.109375\" xlink:href=\"#DejaVuSans-45\"/>\r\n       <use x=\"1265.193359\" xlink:href=\"#DejaVuSans-32\"/>\r\n       <use x=\"1296.980469\" xlink:href=\"#DejaVuSans-73\"/>\r\n       <use x=\"1326.472656\" xlink:href=\"#DejaVuSans-84\"/>\r\n       <use x=\"1381.681641\" xlink:href=\"#DejaVuSans-67\"/>\r\n       <use x=\"1451.505859\" xlink:href=\"#DejaVuSans-32\"/>\r\n       <use x=\"1483.292969\" xlink:href=\"#DejaVuSans-87\"/>\r\n       <use x=\"1579.919922\" xlink:href=\"#DejaVuSans-105\"/>\r\n       <use x=\"1607.703125\" xlink:href=\"#DejaVuSans-110\"/>\r\n       <use x=\"1671.082031\" xlink:href=\"#DejaVuSans-100\"/>\r\n       <use x=\"1734.558594\" xlink:href=\"#DejaVuSans-115\"/>\r\n       <use x=\"1786.658203\" xlink:href=\"#DejaVuSans-111\"/>\r\n       <use x=\"1847.839844\" xlink:href=\"#DejaVuSans-114\"/>\r\n      </g>\r\n     </g>\r\n    </g>\r\n    <g id=\"text_17\">\r\n     <!-- name -->\r\n     <g transform=\"translate(14.798437 836.779688)rotate(-90)scale(0.1 -0.1)\">\r\n      <use xlink:href=\"#DejaVuSans-110\"/>\r\n      <use x=\"63.378906\" xlink:href=\"#DejaVuSans-97\"/>\r\n      <use x=\"124.658203\" xlink:href=\"#DejaVuSans-109\"/>\r\n      <use x=\"222.070312\" xlink:href=\"#DejaVuSans-101\"/>\r\n     </g>\r\n    </g>\r\n   </g>\r\n   <g id=\"line2d_13\">\r\n    <path clip-path=\"url(#p5252863654)\" d=\"M 0 0 \r\n\" style=\"fill:none;stroke:#424242;stroke-linecap:square;stroke-width:2.7;\"/>\r\n   </g>\r\n   <g id=\"line2d_14\">\r\n    <path clip-path=\"url(#p5252863654)\" d=\"M 0 0 \r\n\" style=\"fill:none;stroke:#424242;stroke-linecap:square;stroke-width:2.7;\"/>\r\n   </g>\r\n   <g id=\"line2d_15\">\r\n    <path clip-path=\"url(#p5252863654)\" d=\"M 0 0 \r\n\" style=\"fill:none;stroke:#424242;stroke-linecap:square;stroke-width:2.7;\"/>\r\n   </g>\r\n   <g id=\"line2d_16\">\r\n    <path clip-path=\"url(#p5252863654)\" d=\"M 0 0 \r\n\" style=\"fill:none;stroke:#424242;stroke-linecap:square;stroke-width:2.7;\"/>\r\n   </g>\r\n   <g id=\"line2d_17\">\r\n    <path clip-path=\"url(#p5252863654)\" d=\"M 0 0 \r\n\" style=\"fill:none;stroke:#424242;stroke-linecap:square;stroke-width:2.7;\"/>\r\n   </g>\r\n   <g id=\"patch_8\">\r\n    <path d=\"M 220.351562 1062.423529 \r\nL 220.351562 582.776471 \r\n\" style=\"fill:none;stroke:#000000;stroke-linecap:square;stroke-linejoin:miter;stroke-width:0.8;\"/>\r\n   </g>\r\n   <g id=\"patch_9\">\r\n    <path d=\"M 1336.351562 1062.423529 \r\nL 1336.351562 582.776471 \r\n\" style=\"fill:none;stroke:#000000;stroke-linecap:square;stroke-linejoin:miter;stroke-width:0.8;\"/>\r\n   </g>\r\n   <g id=\"patch_10\">\r\n    <path d=\"M 220.351562 1062.423529 \r\nL 1336.351562 1062.423529 \r\n\" style=\"fill:none;stroke:#000000;stroke-linecap:square;stroke-linejoin:miter;stroke-width:0.8;\"/>\r\n   </g>\r\n   <g id=\"patch_11\">\r\n    <path d=\"M 220.351562 582.776471 \r\nL 1336.351562 582.776471 \r\n\" style=\"fill:none;stroke:#000000;stroke-linecap:square;stroke-linejoin:miter;stroke-width:0.8;\"/>\r\n   </g>\r\n   <g id=\"text_18\">\r\n    <!-- Top 5 most expensive restaurants -->\r\n    <g transform=\"translate(676.906563 576.776471)scale(0.12 -0.12)\">\r\n     <use xlink:href=\"#DejaVuSans-84\"/>\r\n     <use x=\"44.083984\" xlink:href=\"#DejaVuSans-111\"/>\r\n     <use x=\"105.265625\" xlink:href=\"#DejaVuSans-112\"/>\r\n     <use x=\"168.742188\" xlink:href=\"#DejaVuSans-32\"/>\r\n     <use x=\"200.529297\" xlink:href=\"#DejaVuSans-53\"/>\r\n     <use x=\"264.152344\" xlink:href=\"#DejaVuSans-32\"/>\r\n     <use x=\"295.939453\" xlink:href=\"#DejaVuSans-109\"/>\r\n     <use x=\"393.351562\" xlink:href=\"#DejaVuSans-111\"/>\r\n     <use x=\"454.533203\" xlink:href=\"#DejaVuSans-115\"/>\r\n     <use x=\"506.632812\" xlink:href=\"#DejaVuSans-116\"/>\r\n     <use x=\"545.841797\" xlink:href=\"#DejaVuSans-32\"/>\r\n     <use x=\"577.628906\" xlink:href=\"#DejaVuSans-101\"/>\r\n     <use x=\"637.402344\" xlink:href=\"#DejaVuSans-120\"/>\r\n     <use x=\"696.582031\" xlink:href=\"#DejaVuSans-112\"/>\r\n     <use x=\"760.058594\" xlink:href=\"#DejaVuSans-101\"/>\r\n     <use x=\"821.582031\" xlink:href=\"#DejaVuSans-110\"/>\r\n     <use x=\"884.960938\" xlink:href=\"#DejaVuSans-115\"/>\r\n     <use x=\"937.060547\" xlink:href=\"#DejaVuSans-105\"/>\r\n     <use x=\"964.84375\" xlink:href=\"#DejaVuSans-118\"/>\r\n     <use x=\"1024.023438\" xlink:href=\"#DejaVuSans-101\"/>\r\n     <use x=\"1085.546875\" xlink:href=\"#DejaVuSans-32\"/>\r\n     <use x=\"1117.333984\" xlink:href=\"#DejaVuSans-114\"/>\r\n     <use x=\"1156.197266\" xlink:href=\"#DejaVuSans-101\"/>\r\n     <use x=\"1217.720703\" xlink:href=\"#DejaVuSans-115\"/>\r\n     <use x=\"1269.820312\" xlink:href=\"#DejaVuSans-116\"/>\r\n     <use x=\"1309.029297\" xlink:href=\"#DejaVuSans-97\"/>\r\n     <use x=\"1370.308594\" xlink:href=\"#DejaVuSans-117\"/>\r\n     <use x=\"1433.6875\" xlink:href=\"#DejaVuSans-114\"/>\r\n     <use x=\"1474.800781\" xlink:href=\"#DejaVuSans-97\"/>\r\n     <use x=\"1536.080078\" xlink:href=\"#DejaVuSans-110\"/>\r\n     <use x=\"1599.458984\" xlink:href=\"#DejaVuSans-116\"/>\r\n     <use x=\"1638.667969\" xlink:href=\"#DejaVuSans-115\"/>\r\n    </g>\r\n   </g>\r\n  </g>\r\n  <g id=\"axes_3\">\r\n   <g id=\"patch_12\">\r\n    <path d=\"M 220.351562 1638 \r\nL 1336.351562 1638 \r\nL 1336.351562 1158.352941 \r\nL 220.351562 1158.352941 \r\nz\r\n\" style=\"fill:#ffffff;\"/>\r\n   </g>\r\n   <g id=\"patch_13\">\r\n    <path clip-path=\"url(#pd0cc70a551)\" d=\"M 220.351562 1167.945882 \r\nL 1283.208705 1167.945882 \r\nL 1283.208705 1244.689412 \r\nL 220.351562 1244.689412 \r\nz\r\n\" style=\"fill:#3274a1;\"/>\r\n   </g>\r\n   <g id=\"patch_14\">\r\n    <path clip-path=\"url(#pd0cc70a551)\" d=\"M 220.351562 1263.875294 \r\nL 1283.208705 1263.875294 \r\nL 1283.208705 1340.618824 \r\nL 220.351562 1340.618824 \r\nz\r\n\" style=\"fill:#e1812c;\"/>\r\n   </g>\r\n   <g id=\"patch_15\">\r\n    <path clip-path=\"url(#pd0cc70a551)\" d=\"M 220.351562 1359.804706 \r\nL 1131.371971 1359.804706 \r\nL 1131.371971 1436.548235 \r\nL 220.351562 1436.548235 \r\nz\r\n\" style=\"fill:#3a923a;\"/>\r\n   </g>\r\n   <g id=\"patch_16\">\r\n    <path clip-path=\"url(#pd0cc70a551)\" d=\"M 220.351562 1455.734118 \r\nL 979.535236 1455.734118 \r\nL 979.535236 1532.477647 \r\nL 220.351562 1532.477647 \r\nz\r\n\" style=\"fill:#c03d3e;\"/>\r\n   </g>\r\n   <g id=\"patch_17\">\r\n    <path clip-path=\"url(#pd0cc70a551)\" d=\"M 220.351562 1551.663529 \r\nL 827.698501 1551.663529 \r\nL 827.698501 1628.407059 \r\nL 220.351562 1628.407059 \r\nz\r\n\" style=\"fill:#9372b2;\"/>\r\n   </g>\r\n   <g id=\"matplotlib.axis_3\">\r\n    <g id=\"xtick_8\">\r\n     <g id=\"line2d_18\">\r\n      <g>\r\n       <use style=\"stroke:#000000;stroke-width:0.8;\" x=\"220.351562\" xlink:href=\"#m91f5111545\" y=\"1638\"/>\r\n      </g>\r\n     </g>\r\n     <g id=\"text_19\">\r\n      <!-- 0 -->\r\n      <g transform=\"translate(217.170312 1652.598438)scale(0.1 -0.1)\">\r\n       <use xlink:href=\"#DejaVuSans-48\"/>\r\n      </g>\r\n     </g>\r\n    </g>\r\n    <g id=\"xtick_9\">\r\n     <g id=\"line2d_19\">\r\n      <g>\r\n       <use style=\"stroke:#000000;stroke-width:0.8;\" x=\"372.188297\" xlink:href=\"#m91f5111545\" y=\"1638\"/>\r\n      </g>\r\n     </g>\r\n     <g id=\"text_20\">\r\n      <!-- 10 -->\r\n      <g transform=\"translate(365.825797 1652.598438)scale(0.1 -0.1)\">\r\n       <use xlink:href=\"#DejaVuSans-49\"/>\r\n       <use x=\"63.623047\" xlink:href=\"#DejaVuSans-48\"/>\r\n      </g>\r\n     </g>\r\n    </g>\r\n    <g id=\"xtick_10\">\r\n     <g id=\"line2d_20\">\r\n      <g>\r\n       <use style=\"stroke:#000000;stroke-width:0.8;\" x=\"524.025032\" xlink:href=\"#m91f5111545\" y=\"1638\"/>\r\n      </g>\r\n     </g>\r\n     <g id=\"text_21\">\r\n      <!-- 20 -->\r\n      <g transform=\"translate(517.662532 1652.598438)scale(0.1 -0.1)\">\r\n       <use xlink:href=\"#DejaVuSans-50\"/>\r\n       <use x=\"63.623047\" xlink:href=\"#DejaVuSans-48\"/>\r\n      </g>\r\n     </g>\r\n    </g>\r\n    <g id=\"xtick_11\">\r\n     <g id=\"line2d_21\">\r\n      <g>\r\n       <use style=\"stroke:#000000;stroke-width:0.8;\" x=\"675.861767\" xlink:href=\"#m91f5111545\" y=\"1638\"/>\r\n      </g>\r\n     </g>\r\n     <g id=\"text_22\">\r\n      <!-- 30 -->\r\n      <g transform=\"translate(669.499267 1652.598438)scale(0.1 -0.1)\">\r\n       <use xlink:href=\"#DejaVuSans-51\"/>\r\n       <use x=\"63.623047\" xlink:href=\"#DejaVuSans-48\"/>\r\n      </g>\r\n     </g>\r\n    </g>\r\n    <g id=\"xtick_12\">\r\n     <g id=\"line2d_22\">\r\n      <g>\r\n       <use style=\"stroke:#000000;stroke-width:0.8;\" x=\"827.698501\" xlink:href=\"#m91f5111545\" y=\"1638\"/>\r\n      </g>\r\n     </g>\r\n     <g id=\"text_23\">\r\n      <!-- 40 -->\r\n      <g transform=\"translate(821.336001 1652.598438)scale(0.1 -0.1)\">\r\n       <use xlink:href=\"#DejaVuSans-52\"/>\r\n       <use x=\"63.623047\" xlink:href=\"#DejaVuSans-48\"/>\r\n      </g>\r\n     </g>\r\n    </g>\r\n    <g id=\"xtick_13\">\r\n     <g id=\"line2d_23\">\r\n      <g>\r\n       <use style=\"stroke:#000000;stroke-width:0.8;\" x=\"979.535236\" xlink:href=\"#m91f5111545\" y=\"1638\"/>\r\n      </g>\r\n     </g>\r\n     <g id=\"text_24\">\r\n      <!-- 50 -->\r\n      <g transform=\"translate(973.172736 1652.598438)scale(0.1 -0.1)\">\r\n       <use xlink:href=\"#DejaVuSans-53\"/>\r\n       <use x=\"63.623047\" xlink:href=\"#DejaVuSans-48\"/>\r\n      </g>\r\n     </g>\r\n    </g>\r\n    <g id=\"xtick_14\">\r\n     <g id=\"line2d_24\">\r\n      <g>\r\n       <use style=\"stroke:#000000;stroke-width:0.8;\" x=\"1131.371971\" xlink:href=\"#m91f5111545\" y=\"1638\"/>\r\n      </g>\r\n     </g>\r\n     <g id=\"text_25\">\r\n      <!-- 60 -->\r\n      <g transform=\"translate(1125.009471 1652.598438)scale(0.1 -0.1)\">\r\n       <use xlink:href=\"#DejaVuSans-54\"/>\r\n       <use x=\"63.623047\" xlink:href=\"#DejaVuSans-48\"/>\r\n      </g>\r\n     </g>\r\n    </g>\r\n    <g id=\"xtick_15\">\r\n     <g id=\"line2d_25\">\r\n      <g>\r\n       <use style=\"stroke:#000000;stroke-width:0.8;\" x=\"1283.208705\" xlink:href=\"#m91f5111545\" y=\"1638\"/>\r\n      </g>\r\n     </g>\r\n     <g id=\"text_26\">\r\n      <!-- 70 -->\r\n      <g transform=\"translate(1276.846205 1652.598438)scale(0.1 -0.1)\">\r\n       <defs>\r\n        <path d=\"M 8.203125 72.90625 \r\nL 55.078125 72.90625 \r\nL 55.078125 68.703125 \r\nL 28.609375 0 \r\nL 18.3125 0 \r\nL 43.21875 64.59375 \r\nL 8.203125 64.59375 \r\nz\r\n\" id=\"DejaVuSans-55\"/>\r\n       </defs>\r\n       <use xlink:href=\"#DejaVuSans-55\"/>\r\n       <use x=\"63.623047\" xlink:href=\"#DejaVuSans-48\"/>\r\n      </g>\r\n     </g>\r\n    </g>\r\n    <g id=\"text_27\">\r\n     <!-- averageApproxCost -->\r\n     <g transform=\"translate(729.191406 1666.276562)scale(0.1 -0.1)\">\r\n      <use xlink:href=\"#DejaVuSans-97\"/>\r\n      <use x=\"61.279297\" xlink:href=\"#DejaVuSans-118\"/>\r\n      <use x=\"120.458984\" xlink:href=\"#DejaVuSans-101\"/>\r\n      <use x=\"181.982422\" xlink:href=\"#DejaVuSans-114\"/>\r\n      <use x=\"223.095703\" xlink:href=\"#DejaVuSans-97\"/>\r\n      <use x=\"284.375\" xlink:href=\"#DejaVuSans-103\"/>\r\n      <use x=\"347.851562\" xlink:href=\"#DejaVuSans-101\"/>\r\n      <use x=\"409.375\" xlink:href=\"#DejaVuSans-65\"/>\r\n      <use x=\"477.783203\" xlink:href=\"#DejaVuSans-112\"/>\r\n      <use x=\"541.259766\" xlink:href=\"#DejaVuSans-112\"/>\r\n      <use x=\"604.736328\" xlink:href=\"#DejaVuSans-114\"/>\r\n      <use x=\"643.599609\" xlink:href=\"#DejaVuSans-111\"/>\r\n      <use x=\"701.65625\" xlink:href=\"#DejaVuSans-120\"/>\r\n      <use x=\"760.835938\" xlink:href=\"#DejaVuSans-67\"/>\r\n      <use x=\"830.660156\" xlink:href=\"#DejaVuSans-111\"/>\r\n      <use x=\"891.841797\" xlink:href=\"#DejaVuSans-115\"/>\r\n      <use x=\"943.941406\" xlink:href=\"#DejaVuSans-116\"/>\r\n     </g>\r\n    </g>\r\n   </g>\r\n   <g id=\"matplotlib.axis_4\">\r\n    <g id=\"ytick_6\">\r\n     <g id=\"line2d_26\">\r\n      <g>\r\n       <use style=\"stroke:#000000;stroke-width:0.8;\" x=\"220.351562\" xlink:href=\"#m85b45efa74\" y=\"1206.317647\"/>\r\n      </g>\r\n     </g>\r\n     <g id=\"text_28\">\r\n      <!-- Nellore Dosa Camp -->\r\n      <g transform=\"translate(117.290625 1210.116866)scale(0.1 -0.1)\">\r\n       <use xlink:href=\"#DejaVuSans-78\"/>\r\n       <use x=\"74.804688\" xlink:href=\"#DejaVuSans-101\"/>\r\n       <use x=\"136.328125\" xlink:href=\"#DejaVuSans-108\"/>\r\n       <use x=\"164.111328\" xlink:href=\"#DejaVuSans-108\"/>\r\n       <use x=\"191.894531\" xlink:href=\"#DejaVuSans-111\"/>\r\n       <use x=\"253.076172\" xlink:href=\"#DejaVuSans-114\"/>\r\n       <use x=\"291.939453\" xlink:href=\"#DejaVuSans-101\"/>\r\n       <use x=\"353.462891\" xlink:href=\"#DejaVuSans-32\"/>\r\n       <use x=\"385.25\" xlink:href=\"#DejaVuSans-68\"/>\r\n       <use x=\"462.251953\" xlink:href=\"#DejaVuSans-111\"/>\r\n       <use x=\"523.433594\" xlink:href=\"#DejaVuSans-115\"/>\r\n       <use x=\"575.533203\" xlink:href=\"#DejaVuSans-97\"/>\r\n       <use x=\"636.8125\" xlink:href=\"#DejaVuSans-32\"/>\r\n       <use x=\"668.599609\" xlink:href=\"#DejaVuSans-67\"/>\r\n       <use x=\"738.423828\" xlink:href=\"#DejaVuSans-97\"/>\r\n       <use x=\"799.703125\" xlink:href=\"#DejaVuSans-109\"/>\r\n       <use x=\"897.115234\" xlink:href=\"#DejaVuSans-112\"/>\r\n      </g>\r\n     </g>\r\n    </g>\r\n    <g id=\"ytick_7\">\r\n     <g id=\"line2d_27\">\r\n      <g>\r\n       <use style=\"stroke:#000000;stroke-width:0.8;\" x=\"220.351562\" xlink:href=\"#m85b45efa74\" y=\"1302.247059\"/>\r\n      </g>\r\n     </g>\r\n     <g id=\"text_29\">\r\n      <!-- Namaste -->\r\n      <g transform=\"translate(168.590625 1306.046278)scale(0.1 -0.1)\">\r\n       <use xlink:href=\"#DejaVuSans-78\"/>\r\n       <use x=\"74.804688\" xlink:href=\"#DejaVuSans-97\"/>\r\n       <use x=\"136.083984\" xlink:href=\"#DejaVuSans-109\"/>\r\n       <use x=\"233.496094\" xlink:href=\"#DejaVuSans-97\"/>\r\n       <use x=\"294.775391\" xlink:href=\"#DejaVuSans-115\"/>\r\n       <use x=\"346.875\" xlink:href=\"#DejaVuSans-116\"/>\r\n       <use x=\"386.083984\" xlink:href=\"#DejaVuSans-101\"/>\r\n      </g>\r\n     </g>\r\n    </g>\r\n    <g id=\"ytick_8\">\r\n     <g id=\"line2d_28\">\r\n      <g>\r\n       <use style=\"stroke:#000000;stroke-width:0.8;\" x=\"220.351562\" xlink:href=\"#m85b45efa74\" y=\"1398.176471\"/>\r\n      </g>\r\n     </g>\r\n     <g id=\"text_30\">\r\n      <!-- Funky Food -->\r\n      <g transform=\"translate(156.975 1401.975689)scale(0.1 -0.1)\">\r\n       <defs>\r\n        <path d=\"M 9.8125 72.90625 \r\nL 51.703125 72.90625 \r\nL 51.703125 64.59375 \r\nL 19.671875 64.59375 \r\nL 19.671875 43.109375 \r\nL 48.578125 43.109375 \r\nL 48.578125 34.8125 \r\nL 19.671875 34.8125 \r\nL 19.671875 0 \r\nL 9.8125 0 \r\nz\r\n\" id=\"DejaVuSans-70\"/>\r\n       </defs>\r\n       <use xlink:href=\"#DejaVuSans-70\"/>\r\n       <use x=\"52.019531\" xlink:href=\"#DejaVuSans-117\"/>\r\n       <use x=\"115.398438\" xlink:href=\"#DejaVuSans-110\"/>\r\n       <use x=\"178.777344\" xlink:href=\"#DejaVuSans-107\"/>\r\n       <use x=\"233.0625\" xlink:href=\"#DejaVuSans-121\"/>\r\n       <use x=\"292.242188\" xlink:href=\"#DejaVuSans-32\"/>\r\n       <use x=\"324.029297\" xlink:href=\"#DejaVuSans-70\"/>\r\n       <use x=\"377.923828\" xlink:href=\"#DejaVuSans-111\"/>\r\n       <use x=\"439.105469\" xlink:href=\"#DejaVuSans-111\"/>\r\n       <use x=\"500.287109\" xlink:href=\"#DejaVuSans-100\"/>\r\n      </g>\r\n     </g>\r\n    </g>\r\n    <g id=\"ytick_9\">\r\n     <g id=\"line2d_29\">\r\n      <g>\r\n       <use style=\"stroke:#000000;stroke-width:0.8;\" x=\"220.351562\" xlink:href=\"#m85b45efa74\" y=\"1494.105882\"/>\r\n      </g>\r\n     </g>\r\n     <g id=\"text_31\">\r\n      <!-- Bread &amp; Better -->\r\n      <g transform=\"translate(138.701562 1497.905101)scale(0.1 -0.1)\">\r\n       <defs>\r\n        <path d=\"M 24.3125 39.203125 \r\nQ 19.875 35.25 17.796875 31.3125 \r\nQ 15.71875 27.390625 15.71875 23.09375 \r\nQ 15.71875 15.96875 20.890625 11.234375 \r\nQ 26.078125 6.5 33.890625 6.5 \r\nQ 38.53125 6.5 42.578125 8.03125 \r\nQ 46.625 9.578125 50.203125 12.703125 \r\nz\r\nM 31.203125 44.671875 \r\nL 56 19.28125 \r\nQ 58.890625 23.640625 60.5 28.59375 \r\nQ 62.109375 33.546875 62.40625 39.109375 \r\nL 71.484375 39.109375 \r\nQ 70.90625 32.671875 68.359375 26.359375 \r\nQ 65.828125 20.0625 61.28125 13.921875 \r\nL 74.90625 0 \r\nL 62.59375 0 \r\nL 55.609375 7.171875 \r\nQ 50.53125 2.828125 44.96875 0.703125 \r\nQ 39.40625 -1.421875 33.015625 -1.421875 \r\nQ 21.234375 -1.421875 13.765625 5.296875 \r\nQ 6.296875 12.015625 6.296875 22.515625 \r\nQ 6.296875 28.765625 9.5625 34.25 \r\nQ 12.84375 39.75 19.390625 44.578125 \r\nQ 17.046875 47.65625 15.8125 50.703125 \r\nQ 14.59375 53.765625 14.59375 56.6875 \r\nQ 14.59375 64.59375 20.015625 69.40625 \r\nQ 25.4375 74.21875 34.421875 74.21875 \r\nQ 38.484375 74.21875 42.5 73.34375 \r\nQ 46.53125 72.46875 50.6875 70.703125 \r\nL 50.6875 61.8125 \r\nQ 46.4375 64.109375 42.578125 65.296875 \r\nQ 38.71875 66.5 35.40625 66.5 \r\nQ 30.28125 66.5 27.078125 63.78125 \r\nQ 23.875 61.078125 23.875 56.78125 \r\nQ 23.875 54.296875 25.3125 51.78125 \r\nQ 26.765625 49.265625 31.203125 44.671875 \r\nz\r\n\" id=\"DejaVuSans-38\"/>\r\n       </defs>\r\n       <use xlink:href=\"#DejaVuSans-66\"/>\r\n       <use x=\"68.603516\" xlink:href=\"#DejaVuSans-114\"/>\r\n       <use x=\"107.466797\" xlink:href=\"#DejaVuSans-101\"/>\r\n       <use x=\"168.990234\" xlink:href=\"#DejaVuSans-97\"/>\r\n       <use x=\"230.269531\" xlink:href=\"#DejaVuSans-100\"/>\r\n       <use x=\"293.746094\" xlink:href=\"#DejaVuSans-32\"/>\r\n       <use x=\"325.533203\" xlink:href=\"#DejaVuSans-38\"/>\r\n       <use x=\"403.511719\" xlink:href=\"#DejaVuSans-32\"/>\r\n       <use x=\"435.298828\" xlink:href=\"#DejaVuSans-66\"/>\r\n       <use x=\"503.902344\" xlink:href=\"#DejaVuSans-101\"/>\r\n       <use x=\"565.425781\" xlink:href=\"#DejaVuSans-116\"/>\r\n       <use x=\"604.634766\" xlink:href=\"#DejaVuSans-116\"/>\r\n       <use x=\"643.84375\" xlink:href=\"#DejaVuSans-101\"/>\r\n       <use x=\"705.367188\" xlink:href=\"#DejaVuSans-114\"/>\r\n      </g>\r\n     </g>\r\n    </g>\r\n    <g id=\"ytick_10\">\r\n     <g id=\"line2d_30\">\r\n      <g>\r\n       <use style=\"stroke:#000000;stroke-width:0.8;\" x=\"220.351562\" xlink:href=\"#m85b45efa74\" y=\"1590.035294\"/>\r\n      </g>\r\n     </g>\r\n     <g id=\"text_32\">\r\n      <!-- Srinidhi Sagar Deluxe -->\r\n      <g transform=\"translate(105.385937 1593.834513)scale(0.1 -0.1)\">\r\n       <use xlink:href=\"#DejaVuSans-83\"/>\r\n       <use x=\"63.476562\" xlink:href=\"#DejaVuSans-114\"/>\r\n       <use x=\"104.589844\" xlink:href=\"#DejaVuSans-105\"/>\r\n       <use x=\"132.373047\" xlink:href=\"#DejaVuSans-110\"/>\r\n       <use x=\"195.751953\" xlink:href=\"#DejaVuSans-105\"/>\r\n       <use x=\"223.535156\" xlink:href=\"#DejaVuSans-100\"/>\r\n       <use x=\"287.011719\" xlink:href=\"#DejaVuSans-104\"/>\r\n       <use x=\"350.390625\" xlink:href=\"#DejaVuSans-105\"/>\r\n       <use x=\"378.173828\" xlink:href=\"#DejaVuSans-32\"/>\r\n       <use x=\"409.960938\" xlink:href=\"#DejaVuSans-83\"/>\r\n       <use x=\"473.4375\" xlink:href=\"#DejaVuSans-97\"/>\r\n       <use x=\"534.716797\" xlink:href=\"#DejaVuSans-103\"/>\r\n       <use x=\"598.193359\" xlink:href=\"#DejaVuSans-97\"/>\r\n       <use x=\"659.472656\" xlink:href=\"#DejaVuSans-114\"/>\r\n       <use x=\"700.585938\" xlink:href=\"#DejaVuSans-32\"/>\r\n       <use x=\"732.373047\" xlink:href=\"#DejaVuSans-68\"/>\r\n       <use x=\"809.375\" xlink:href=\"#DejaVuSans-101\"/>\r\n       <use x=\"870.898438\" xlink:href=\"#DejaVuSans-108\"/>\r\n       <use x=\"898.681641\" xlink:href=\"#DejaVuSans-117\"/>\r\n       <use x=\"962.060547\" xlink:href=\"#DejaVuSans-120\"/>\r\n       <use x=\"1018.115234\" xlink:href=\"#DejaVuSans-101\"/>\r\n      </g>\r\n     </g>\r\n    </g>\r\n    <g id=\"text_33\">\r\n     <!-- name -->\r\n     <g transform=\"translate(99.30625 1412.356158)rotate(-90)scale(0.1 -0.1)\">\r\n      <use xlink:href=\"#DejaVuSans-110\"/>\r\n      <use x=\"63.378906\" xlink:href=\"#DejaVuSans-97\"/>\r\n      <use x=\"124.658203\" xlink:href=\"#DejaVuSans-109\"/>\r\n      <use x=\"222.070312\" xlink:href=\"#DejaVuSans-101\"/>\r\n     </g>\r\n    </g>\r\n   </g>\r\n   <g id=\"line2d_31\">\r\n    <path clip-path=\"url(#pd0cc70a551)\" d=\"M 0 0 \r\n\" style=\"fill:none;stroke:#424242;stroke-linecap:square;stroke-width:2.7;\"/>\r\n   </g>\r\n   <g id=\"line2d_32\">\r\n    <path clip-path=\"url(#pd0cc70a551)\" d=\"M 0 0 \r\n\" style=\"fill:none;stroke:#424242;stroke-linecap:square;stroke-width:2.7;\"/>\r\n   </g>\r\n   <g id=\"line2d_33\">\r\n    <path clip-path=\"url(#pd0cc70a551)\" d=\"M 0 0 \r\n\" style=\"fill:none;stroke:#424242;stroke-linecap:square;stroke-width:2.7;\"/>\r\n   </g>\r\n   <g id=\"line2d_34\">\r\n    <path clip-path=\"url(#pd0cc70a551)\" d=\"M 0 0 \r\n\" style=\"fill:none;stroke:#424242;stroke-linecap:square;stroke-width:2.7;\"/>\r\n   </g>\r\n   <g id=\"line2d_35\">\r\n    <path clip-path=\"url(#pd0cc70a551)\" d=\"M 0 0 \r\n\" style=\"fill:none;stroke:#424242;stroke-linecap:square;stroke-width:2.7;\"/>\r\n   </g>\r\n   <g id=\"patch_18\">\r\n    <path d=\"M 220.351562 1638 \r\nL 220.351562 1158.352941 \r\n\" style=\"fill:none;stroke:#000000;stroke-linecap:square;stroke-linejoin:miter;stroke-width:0.8;\"/>\r\n   </g>\r\n   <g id=\"patch_19\">\r\n    <path d=\"M 1336.351562 1638 \r\nL 1336.351562 1158.352941 \r\n\" style=\"fill:none;stroke:#000000;stroke-linecap:square;stroke-linejoin:miter;stroke-width:0.8;\"/>\r\n   </g>\r\n   <g id=\"patch_20\">\r\n    <path d=\"M 220.351562 1638 \r\nL 1336.351562 1638 \r\n\" style=\"fill:none;stroke:#000000;stroke-linecap:square;stroke-linejoin:miter;stroke-width:0.8;\"/>\r\n   </g>\r\n   <g id=\"patch_21\">\r\n    <path d=\"M 220.351562 1158.352941 \r\nL 1336.351562 1158.352941 \r\n\" style=\"fill:none;stroke:#000000;stroke-linecap:square;stroke-linejoin:miter;stroke-width:0.8;\"/>\r\n   </g>\r\n   <g id=\"text_34\">\r\n    <!-- Top 5 cheapest restaurants -->\r\n    <g transform=\"translate(696.835 1152.352941)scale(0.12 -0.12)\">\r\n     <use xlink:href=\"#DejaVuSans-84\"/>\r\n     <use x=\"44.083984\" xlink:href=\"#DejaVuSans-111\"/>\r\n     <use x=\"105.265625\" xlink:href=\"#DejaVuSans-112\"/>\r\n     <use x=\"168.742188\" xlink:href=\"#DejaVuSans-32\"/>\r\n     <use x=\"200.529297\" xlink:href=\"#DejaVuSans-53\"/>\r\n     <use x=\"264.152344\" xlink:href=\"#DejaVuSans-32\"/>\r\n     <use x=\"295.939453\" xlink:href=\"#DejaVuSans-99\"/>\r\n     <use x=\"350.919922\" xlink:href=\"#DejaVuSans-104\"/>\r\n     <use x=\"414.298828\" xlink:href=\"#DejaVuSans-101\"/>\r\n     <use x=\"475.822266\" xlink:href=\"#DejaVuSans-97\"/>\r\n     <use x=\"537.101562\" xlink:href=\"#DejaVuSans-112\"/>\r\n     <use x=\"600.578125\" xlink:href=\"#DejaVuSans-101\"/>\r\n     <use x=\"662.101562\" xlink:href=\"#DejaVuSans-115\"/>\r\n     <use x=\"714.201172\" xlink:href=\"#DejaVuSans-116\"/>\r\n     <use x=\"753.410156\" xlink:href=\"#DejaVuSans-32\"/>\r\n     <use x=\"785.197266\" xlink:href=\"#DejaVuSans-114\"/>\r\n     <use x=\"824.060547\" xlink:href=\"#DejaVuSans-101\"/>\r\n     <use x=\"885.583984\" xlink:href=\"#DejaVuSans-115\"/>\r\n     <use x=\"937.683594\" xlink:href=\"#DejaVuSans-116\"/>\r\n     <use x=\"976.892578\" xlink:href=\"#DejaVuSans-97\"/>\r\n     <use x=\"1038.171875\" xlink:href=\"#DejaVuSans-117\"/>\r\n     <use x=\"1101.550781\" xlink:href=\"#DejaVuSans-114\"/>\r\n     <use x=\"1142.664062\" xlink:href=\"#DejaVuSans-97\"/>\r\n     <use x=\"1203.943359\" xlink:href=\"#DejaVuSans-110\"/>\r\n     <use x=\"1267.322266\" xlink:href=\"#DejaVuSans-116\"/>\r\n     <use x=\"1306.53125\" xlink:href=\"#DejaVuSans-115\"/>\r\n    </g>\r\n   </g>\r\n  </g>\r\n </g>\r\n <defs>\r\n  <clipPath id=\"p5252863654\">\r\n   <rect height=\"479.647059\" width=\"1116\" x=\"220.351562\" y=\"582.776471\"/>\r\n  </clipPath>\r\n  <clipPath id=\"pd0cc70a551\">\r\n   <rect height=\"479.647059\" width=\"1116\" x=\"220.351562\" y=\"1158.352941\"/>\r\n  </clipPath>\r\n </defs>\r\n</svg>\r\n",
      "image/png": "[encoded data removed]"
     },
     "metadata": {
      "needs_background": "light"
     }
    }
   ],
   "source": [
    "fig,(ax1,ax2,ax3)=plt.subplots(3,1,figsize=(20,30))\n",
    "ax1.text(0.5,0.3,int(popular['averageApproxCost'].mean()),fontsize=45,ha='center')\n",
    "ax1.text(0.5,0.12,'is the mean approx cost',fontsize=12,ha='center')\n",
    "ax1.text(0.5,0.0,'for benguluru restraunts',fontsize=12,ha='center')\n",
    "ax1.axis('off')\n",
    "sns.barplot(x='averageApproxCost',y='name',data=popular.sort_values(by='averageApproxCost',ascending=False).query('averageApproxCost>0').head(5),ax=ax2,palette='plasma')\n",
    "ax2.set_title('Top 5 most expensive restaurants')\n",
    "sns.barplot(x='averageApproxCost',y='name',data=popular.sort_values(by='averageApproxCost',ascending=False).query('averageApproxCost>0').tail(5),ax=ax3)\n",
    "ax3.set_title('Top 5 cheapest restaurants')\n"
   ]
  },
  {
   "cell_type": "code",
   "execution_count": 40,
   "metadata": {},
   "outputs": [],
   "source": [
    "x=df.book_table.value_counts()\n",
    "labels=['not book','book']"
   ]
  },
  {
   "cell_type": "code",
   "execution_count": 41,
   "metadata": {},
   "outputs": [],
   "source": [
    "import plotly.graph_objs as go\n",
    "from plotly.offline import iplot"
   ]
  },
  {
   "cell_type": "code",
   "execution_count": 42,
   "metadata": {
    "tags": []
   },
   "outputs": [
    {
     "output_type": "display_data",
     "data": {
      "application/vnd.plotly.v1+json": {
       "config": {
        "linkText": "Export to plot.ly",
        "plotlyServerURL": "https://plot.ly",
        "showLink": false
       },
       "data": [
        {
         "hoverinfo": "label+percent",
         "labels": [
          "not book",
          "book"
         ],
         "textinfo": "percent",
         "type": "pie",
         "values": [
          45268,
          6449
         ]
        }
       ],
       "layout": {
        "template": {
         "data": {
          "bar": [
           {
            "error_x": {
             "color": "#2a3f5f"
            },
            "error_y": {
             "color": "#2a3f5f"
            },
            "marker": {
             "line": {
              "color": "#E5ECF6",
              "width": 0.5
             }
            },
            "type": "bar"
           }
          ],
          "barpolar": [
           {
            "marker": {
             "line": {
              "color": "#E5ECF6",
              "width": 0.5
             }
            },
            "type": "barpolar"
           }
          ],
          "carpet": [
           {
            "aaxis": {
             "endlinecolor": "#2a3f5f",
             "gridcolor": "white",
             "linecolor": "white",
             "minorgridcolor": "white",
             "startlinecolor": "#2a3f5f"
            },
            "baxis": {
             "endlinecolor": "#2a3f5f",
             "gridcolor": "white",
             "linecolor": "white",
             "minorgridcolor": "white",
             "startlinecolor": "#2a3f5f"
            },
            "type": "carpet"
           }
          ],
          "choropleth": [
           {
            "colorbar": {
             "outlinewidth": 0,
             "ticks": ""
            },
            "type": "choropleth"
           }
          ],
          "contour": [
           {
            "colorbar": {
             "outlinewidth": 0,
             "ticks": ""
            },
            "colorscale": [
             [
              0,
              "#0d0887"
             ],
             [
              0.1111111111111111,
              "#46039f"
             ],
             [
              0.2222222222222222,
              "#7201a8"
             ],
             [
              0.3333333333333333,
              "#9c179e"
             ],
             [
              0.4444444444444444,
              "#bd3786"
             ],
             [
              0.5555555555555556,
              "#d8576b"
             ],
             [
              0.6666666666666666,
              "#ed7953"
             ],
             [
              0.7777777777777778,
              "#fb9f3a"
             ],
             [
              0.8888888888888888,
              "#fdca26"
             ],
             [
              1,
              "#f0f921"
             ]
            ],
            "type": "contour"
           }
          ],
          "contourcarpet": [
           {
            "colorbar": {
             "outlinewidth": 0,
             "ticks": ""
            },
            "type": "contourcarpet"
           }
          ],
          "heatmap": [
           {
            "colorbar": {
             "outlinewidth": 0,
             "ticks": ""
            },
            "colorscale": [
             [
              0,
              "#0d0887"
             ],
             [
              0.1111111111111111,
              "#46039f"
             ],
             [
              0.2222222222222222,
              "#7201a8"
             ],
             [
              0.3333333333333333,
              "#9c179e"
             ],
             [
              0.4444444444444444,
              "#bd3786"
             ],
             [
              0.5555555555555556,
              "#d8576b"
             ],
             [
              0.6666666666666666,
              "#ed7953"
             ],
             [
              0.7777777777777778,
              "#fb9f3a"
             ],
             [
              0.8888888888888888,
              "#fdca26"
             ],
             [
              1,
              "#f0f921"
             ]
            ],
            "type": "heatmap"
           }
          ],
          "heatmapgl": [
           {
            "colorbar": {
             "outlinewidth": 0,
             "ticks": ""
            },
            "colorscale": [
             [
              0,
              "#0d0887"
             ],
             [
              0.1111111111111111,
              "#46039f"
             ],
             [
              0.2222222222222222,
              "#7201a8"
             ],
             [
              0.3333333333333333,
              "#9c179e"
             ],
             [
              0.4444444444444444,
              "#bd3786"
             ],
             [
              0.5555555555555556,
              "#d8576b"
             ],
             [
              0.6666666666666666,
              "#ed7953"
             ],
             [
              0.7777777777777778,
              "#fb9f3a"
             ],
             [
              0.8888888888888888,
              "#fdca26"
             ],
             [
              1,
              "#f0f921"
             ]
            ],
            "type": "heatmapgl"
           }
          ],
          "histogram": [
           {
            "marker": {
             "colorbar": {
              "outlinewidth": 0,
              "ticks": ""
             }
            },
            "type": "histogram"
           }
          ],
          "histogram2d": [
           {
            "colorbar": {
             "outlinewidth": 0,
             "ticks": ""
            },
            "colorscale": [
             [
              0,
              "#0d0887"
             ],
             [
              0.1111111111111111,
              "#46039f"
             ],
             [
              0.2222222222222222,
              "#7201a8"
             ],
             [
              0.3333333333333333,
              "#9c179e"
             ],
             [
              0.4444444444444444,
              "#bd3786"
             ],
             [
              0.5555555555555556,
              "#d8576b"
             ],
             [
              0.6666666666666666,
              "#ed7953"
             ],
             [
              0.7777777777777778,
              "#fb9f3a"
             ],
             [
              0.8888888888888888,
              "#fdca26"
             ],
             [
              1,
              "#f0f921"
             ]
            ],
            "type": "histogram2d"
           }
          ],
          "histogram2dcontour": [
           {
            "colorbar": {
             "outlinewidth": 0,
             "ticks": ""
            },
            "colorscale": [
             [
              0,
              "#0d0887"
             ],
             [
              0.1111111111111111,
              "#46039f"
             ],
             [
              0.2222222222222222,
              "#7201a8"
             ],
             [
              0.3333333333333333,
              "#9c179e"
             ],
             [
              0.4444444444444444,
              "#bd3786"
             ],
             [
              0.5555555555555556,
              "#d8576b"
             ],
             [
              0.6666666666666666,
              "#ed7953"
             ],
             [
              0.7777777777777778,
              "#fb9f3a"
             ],
             [
              0.8888888888888888,
              "#fdca26"
             ],
             [
              1,
              "#f0f921"
             ]
            ],
            "type": "histogram2dcontour"
           }
          ],
          "mesh3d": [
           {
            "colorbar": {
             "outlinewidth": 0,
             "ticks": ""
            },
            "type": "mesh3d"
           }
          ],
          "parcoords": [
           {
            "line": {
             "colorbar": {
              "outlinewidth": 0,
              "ticks": ""
             }
            },
            "type": "parcoords"
           }
          ],
          "pie": [
           {
            "automargin": true,
            "type": "pie"
           }
          ],
          "scatter": [
           {
            "marker": {
             "colorbar": {
              "outlinewidth": 0,
              "ticks": ""
             }
            },
            "type": "scatter"
           }
          ],
          "scatter3d": [
           {
            "line": {
             "colorbar": {
              "outlinewidth": 0,
              "ticks": ""
             }
            },
            "marker": {
             "colorbar": {
              "outlinewidth": 0,
              "ticks": ""
             }
            },
            "type": "scatter3d"
           }
          ],
          "scattercarpet": [
           {
            "marker": {
             "colorbar": {
              "outlinewidth": 0,
              "ticks": ""
             }
            },
            "type": "scattercarpet"
           }
          ],
          "scattergeo": [
           {
            "marker": {
             "colorbar": {
              "outlinewidth": 0,
              "ticks": ""
             }
            },
            "type": "scattergeo"
           }
          ],
          "scattergl": [
           {
            "marker": {
             "colorbar": {
              "outlinewidth": 0,
              "ticks": ""
             }
            },
            "type": "scattergl"
           }
          ],
          "scattermapbox": [
           {
            "marker": {
             "colorbar": {
              "outlinewidth": 0,
              "ticks": ""
             }
            },
            "type": "scattermapbox"
           }
          ],
          "scatterpolar": [
           {
            "marker": {
             "colorbar": {
              "outlinewidth": 0,
              "ticks": ""
             }
            },
            "type": "scatterpolar"
           }
          ],
          "scatterpolargl": [
           {
            "marker": {
             "colorbar": {
              "outlinewidth": 0,
              "ticks": ""
             }
            },
            "type": "scatterpolargl"
           }
          ],
          "scatterternary": [
           {
            "marker": {
             "colorbar": {
              "outlinewidth": 0,
              "ticks": ""
             }
            },
            "type": "scatterternary"
           }
          ],
          "surface": [
           {
            "colorbar": {
             "outlinewidth": 0,
             "ticks": ""
            },
            "colorscale": [
             [
              0,
              "#0d0887"
             ],
             [
              0.1111111111111111,
              "#46039f"
             ],
             [
              0.2222222222222222,
              "#7201a8"
             ],
             [
              0.3333333333333333,
              "#9c179e"
             ],
             [
              0.4444444444444444,
              "#bd3786"
             ],
             [
              0.5555555555555556,
              "#d8576b"
             ],
             [
              0.6666666666666666,
              "#ed7953"
             ],
             [
              0.7777777777777778,
              "#fb9f3a"
             ],
             [
              0.8888888888888888,
              "#fdca26"
             ],
             [
              1,
              "#f0f921"
             ]
            ],
            "type": "surface"
           }
          ],
          "table": [
           {
            "cells": {
             "fill": {
              "color": "#EBF0F8"
             },
             "line": {
              "color": "white"
             }
            },
            "header": {
             "fill": {
              "color": "#C8D4E3"
             },
             "line": {
              "color": "white"
             }
            },
            "type": "table"
           }
          ]
         },
         "layout": {
          "annotationdefaults": {
           "arrowcolor": "#2a3f5f",
           "arrowhead": 0,
           "arrowwidth": 1
          },
          "autotypenumbers": "strict",
          "coloraxis": {
           "colorbar": {
            "outlinewidth": 0,
            "ticks": ""
           }
          },
          "colorscale": {
           "diverging": [
            [
             0,
             "#8e0152"
            ],
            [
             0.1,
             "#c51b7d"
            ],
            [
             0.2,
             "#de77ae"
            ],
            [
             0.3,
             "#f1b6da"
            ],
            [
             0.4,
             "#fde0ef"
            ],
            [
             0.5,
             "#f7f7f7"
            ],
            [
             0.6,
             "#e6f5d0"
            ],
            [
             0.7,
             "#b8e186"
            ],
            [
             0.8,
             "#7fbc41"
            ],
            [
             0.9,
             "#4d9221"
            ],
            [
             1,
             "#276419"
            ]
           ],
           "sequential": [
            [
             0,
             "#0d0887"
            ],
            [
             0.1111111111111111,
             "#46039f"
            ],
            [
             0.2222222222222222,
             "#7201a8"
            ],
            [
             0.3333333333333333,
             "#9c179e"
            ],
            [
             0.4444444444444444,
             "#bd3786"
            ],
            [
             0.5555555555555556,
             "#d8576b"
            ],
            [
             0.6666666666666666,
             "#ed7953"
            ],
            [
             0.7777777777777778,
             "#fb9f3a"
            ],
            [
             0.8888888888888888,
             "#fdca26"
            ],
            [
             1,
             "#f0f921"
            ]
           ],
           "sequentialminus": [
            [
             0,
             "#0d0887"
            ],
            [
             0.1111111111111111,
             "#46039f"
            ],
            [
             0.2222222222222222,
             "#7201a8"
            ],
            [
             0.3333333333333333,
             "#9c179e"
            ],
            [
             0.4444444444444444,
             "#bd3786"
            ],
            [
             0.5555555555555556,
             "#d8576b"
            ],
            [
             0.6666666666666666,
             "#ed7953"
            ],
            [
             0.7777777777777778,
             "#fb9f3a"
            ],
            [
             0.8888888888888888,
             "#fdca26"
            ],
            [
             1,
             "#f0f921"
            ]
           ]
          },
          "colorway": [
           "#636efa",
           "#EF553B",
           "#00cc96",
           "#ab63fa",
           "#FFA15A",
           "#19d3f3",
           "#FF6692",
           "#B6E880",
           "#FF97FF",
           "#FECB52"
          ],
          "font": {
           "color": "#2a3f5f"
          },
          "geo": {
           "bgcolor": "white",
           "lakecolor": "white",
           "landcolor": "#E5ECF6",
           "showlakes": true,
           "showland": true,
           "subunitcolor": "white"
          },
          "hoverlabel": {
           "align": "left"
          },
          "hovermode": "closest",
          "mapbox": {
           "style": "light"
          },
          "paper_bgcolor": "white",
          "plot_bgcolor": "#E5ECF6",
          "polar": {
           "angularaxis": {
            "gridcolor": "white",
            "linecolor": "white",
            "ticks": ""
           },
           "bgcolor": "#E5ECF6",
           "radialaxis": {
            "gridcolor": "white",
            "linecolor": "white",
            "ticks": ""
           }
          },
          "scene": {
           "xaxis": {
            "backgroundcolor": "#E5ECF6",
            "gridcolor": "white",
            "gridwidth": 2,
            "linecolor": "white",
            "showbackground": true,
            "ticks": "",
            "zerolinecolor": "white"
           },
           "yaxis": {
            "backgroundcolor": "#E5ECF6",
            "gridcolor": "white",
            "gridwidth": 2,
            "linecolor": "white",
            "showbackground": true,
            "ticks": "",
            "zerolinecolor": "white"
           },
           "zaxis": {
            "backgroundcolor": "#E5ECF6",
            "gridcolor": "white",
            "gridwidth": 2,
            "linecolor": "white",
            "showbackground": true,
            "ticks": "",
            "zerolinecolor": "white"
           }
          },
          "shapedefaults": {
           "line": {
            "color": "#2a3f5f"
           }
          },
          "ternary": {
           "aaxis": {
            "gridcolor": "white",
            "linecolor": "white",
            "ticks": ""
           },
           "baxis": {
            "gridcolor": "white",
            "linecolor": "white",
            "ticks": ""
           },
           "bgcolor": "#E5ECF6",
           "caxis": {
            "gridcolor": "white",
            "linecolor": "white",
            "ticks": ""
           }
          },
          "title": {
           "x": 0.05
          },
          "xaxis": {
           "automargin": true,
           "gridcolor": "white",
           "linecolor": "white",
           "ticks": "",
           "title": {
            "standoff": 15
           },
           "zerolinecolor": "white",
           "zerolinewidth": 2
          },
          "yaxis": {
           "automargin": true,
           "gridcolor": "white",
           "linecolor": "white",
           "ticks": "",
           "title": {
            "standoff": 15
           },
           "zerolinecolor": "white",
           "zerolinewidth": 2
          }
         }
        }
       }
      }
     },
     "metadata": {}
    }
   ],
   "source": [
    "trace = go.Pie(labels=labels,values=x,hoverinfo='label+percent',textinfo='percent')\n",
    "iplot([trace])"
   ]
  },
  {
   "cell_type": "code",
   "execution_count": 43,
   "metadata": {},
   "outputs": [
    {
     "output_type": "display_data",
     "data": {
      "application/vnd.plotly.v1+json": {
       "config": {
        "plotlyServerURL": "https://plot.ly"
       },
       "data": [
        {
         "domain": {
          "x": [
           0,
           1
          ],
          "y": [
           0,
           1
          ]
         },
         "hovertemplate": "label=%{label}<br>value=%{value}<extra></extra>",
         "labels": [
          "accepted",
          "not accepted"
         ],
         "legendgroup": "",
         "name": "",
         "showlegend": true,
         "type": "pie",
         "values": [
          30444,
          21273
         ]
        }
       ],
       "layout": {
        "legend": {
         "tracegroupgap": 0
        },
        "template": {
         "data": {
          "bar": [
           {
            "error_x": {
             "color": "#2a3f5f"
            },
            "error_y": {
             "color": "#2a3f5f"
            },
            "marker": {
             "line": {
              "color": "#E5ECF6",
              "width": 0.5
             }
            },
            "type": "bar"
           }
          ],
          "barpolar": [
           {
            "marker": {
             "line": {
              "color": "#E5ECF6",
              "width": 0.5
             }
            },
            "type": "barpolar"
           }
          ],
          "carpet": [
           {
            "aaxis": {
             "endlinecolor": "#2a3f5f",
             "gridcolor": "white",
             "linecolor": "white",
             "minorgridcolor": "white",
             "startlinecolor": "#2a3f5f"
            },
            "baxis": {
             "endlinecolor": "#2a3f5f",
             "gridcolor": "white",
             "linecolor": "white",
             "minorgridcolor": "white",
             "startlinecolor": "#2a3f5f"
            },
            "type": "carpet"
           }
          ],
          "choropleth": [
           {
            "colorbar": {
             "outlinewidth": 0,
             "ticks": ""
            },
            "type": "choropleth"
           }
          ],
          "contour": [
           {
            "colorbar": {
             "outlinewidth": 0,
             "ticks": ""
            },
            "colorscale": [
             [
              0,
              "#0d0887"
             ],
             [
              0.1111111111111111,
              "#46039f"
             ],
             [
              0.2222222222222222,
              "#7201a8"
             ],
             [
              0.3333333333333333,
              "#9c179e"
             ],
             [
              0.4444444444444444,
              "#bd3786"
             ],
             [
              0.5555555555555556,
              "#d8576b"
             ],
             [
              0.6666666666666666,
              "#ed7953"
             ],
             [
              0.7777777777777778,
              "#fb9f3a"
             ],
             [
              0.8888888888888888,
              "#fdca26"
             ],
             [
              1,
              "#f0f921"
             ]
            ],
            "type": "contour"
           }
          ],
          "contourcarpet": [
           {
            "colorbar": {
             "outlinewidth": 0,
             "ticks": ""
            },
            "type": "contourcarpet"
           }
          ],
          "heatmap": [
           {
            "colorbar": {
             "outlinewidth": 0,
             "ticks": ""
            },
            "colorscale": [
             [
              0,
              "#0d0887"
             ],
             [
              0.1111111111111111,
              "#46039f"
             ],
             [
              0.2222222222222222,
              "#7201a8"
             ],
             [
              0.3333333333333333,
              "#9c179e"
             ],
             [
              0.4444444444444444,
              "#bd3786"
             ],
             [
              0.5555555555555556,
              "#d8576b"
             ],
             [
              0.6666666666666666,
              "#ed7953"
             ],
             [
              0.7777777777777778,
              "#fb9f3a"
             ],
             [
              0.8888888888888888,
              "#fdca26"
             ],
             [
              1,
              "#f0f921"
             ]
            ],
            "type": "heatmap"
           }
          ],
          "heatmapgl": [
           {
            "colorbar": {
             "outlinewidth": 0,
             "ticks": ""
            },
            "colorscale": [
             [
              0,
              "#0d0887"
             ],
             [
              0.1111111111111111,
              "#46039f"
             ],
             [
              0.2222222222222222,
              "#7201a8"
             ],
             [
              0.3333333333333333,
              "#9c179e"
             ],
             [
              0.4444444444444444,
              "#bd3786"
             ],
             [
              0.5555555555555556,
              "#d8576b"
             ],
             [
              0.6666666666666666,
              "#ed7953"
             ],
             [
              0.7777777777777778,
              "#fb9f3a"
             ],
             [
              0.8888888888888888,
              "#fdca26"
             ],
             [
              1,
              "#f0f921"
             ]
            ],
            "type": "heatmapgl"
           }
          ],
          "histogram": [
           {
            "marker": {
             "colorbar": {
              "outlinewidth": 0,
              "ticks": ""
             }
            },
            "type": "histogram"
           }
          ],
          "histogram2d": [
           {
            "colorbar": {
             "outlinewidth": 0,
             "ticks": ""
            },
            "colorscale": [
             [
              0,
              "#0d0887"
             ],
             [
              0.1111111111111111,
              "#46039f"
             ],
             [
              0.2222222222222222,
              "#7201a8"
             ],
             [
              0.3333333333333333,
              "#9c179e"
             ],
             [
              0.4444444444444444,
              "#bd3786"
             ],
             [
              0.5555555555555556,
              "#d8576b"
             ],
             [
              0.6666666666666666,
              "#ed7953"
             ],
             [
              0.7777777777777778,
              "#fb9f3a"
             ],
             [
              0.8888888888888888,
              "#fdca26"
             ],
             [
              1,
              "#f0f921"
             ]
            ],
            "type": "histogram2d"
           }
          ],
          "histogram2dcontour": [
           {
            "colorbar": {
             "outlinewidth": 0,
             "ticks": ""
            },
            "colorscale": [
             [
              0,
              "#0d0887"
             ],
             [
              0.1111111111111111,
              "#46039f"
             ],
             [
              0.2222222222222222,
              "#7201a8"
             ],
             [
              0.3333333333333333,
              "#9c179e"
             ],
             [
              0.4444444444444444,
              "#bd3786"
             ],
             [
              0.5555555555555556,
              "#d8576b"
             ],
             [
              0.6666666666666666,
              "#ed7953"
             ],
             [
              0.7777777777777778,
              "#fb9f3a"
             ],
             [
              0.8888888888888888,
              "#fdca26"
             ],
             [
              1,
              "#f0f921"
             ]
            ],
            "type": "histogram2dcontour"
           }
          ],
          "mesh3d": [
           {
            "colorbar": {
             "outlinewidth": 0,
             "ticks": ""
            },
            "type": "mesh3d"
           }
          ],
          "parcoords": [
           {
            "line": {
             "colorbar": {
              "outlinewidth": 0,
              "ticks": ""
             }
            },
            "type": "parcoords"
           }
          ],
          "pie": [
           {
            "automargin": true,
            "type": "pie"
           }
          ],
          "scatter": [
           {
            "marker": {
             "colorbar": {
              "outlinewidth": 0,
              "ticks": ""
             }
            },
            "type": "scatter"
           }
          ],
          "scatter3d": [
           {
            "line": {
             "colorbar": {
              "outlinewidth": 0,
              "ticks": ""
             }
            },
            "marker": {
             "colorbar": {
              "outlinewidth": 0,
              "ticks": ""
             }
            },
            "type": "scatter3d"
           }
          ],
          "scattercarpet": [
           {
            "marker": {
             "colorbar": {
              "outlinewidth": 0,
              "ticks": ""
             }
            },
            "type": "scattercarpet"
           }
          ],
          "scattergeo": [
           {
            "marker": {
             "colorbar": {
              "outlinewidth": 0,
              "ticks": ""
             }
            },
            "type": "scattergeo"
           }
          ],
          "scattergl": [
           {
            "marker": {
             "colorbar": {
              "outlinewidth": 0,
              "ticks": ""
             }
            },
            "type": "scattergl"
           }
          ],
          "scattermapbox": [
           {
            "marker": {
             "colorbar": {
              "outlinewidth": 0,
              "ticks": ""
             }
            },
            "type": "scattermapbox"
           }
          ],
          "scatterpolar": [
           {
            "marker": {
             "colorbar": {
              "outlinewidth": 0,
              "ticks": ""
             }
            },
            "type": "scatterpolar"
           }
          ],
          "scatterpolargl": [
           {
            "marker": {
             "colorbar": {
              "outlinewidth": 0,
              "ticks": ""
             }
            },
            "type": "scatterpolargl"
           }
          ],
          "scatterternary": [
           {
            "marker": {
             "colorbar": {
              "outlinewidth": 0,
              "ticks": ""
             }
            },
            "type": "scatterternary"
           }
          ],
          "surface": [
           {
            "colorbar": {
             "outlinewidth": 0,
             "ticks": ""
            },
            "colorscale": [
             [
              0,
              "#0d0887"
             ],
             [
              0.1111111111111111,
              "#46039f"
             ],
             [
              0.2222222222222222,
              "#7201a8"
             ],
             [
              0.3333333333333333,
              "#9c179e"
             ],
             [
              0.4444444444444444,
              "#bd3786"
             ],
             [
              0.5555555555555556,
              "#d8576b"
             ],
             [
              0.6666666666666666,
              "#ed7953"
             ],
             [
              0.7777777777777778,
              "#fb9f3a"
             ],
             [
              0.8888888888888888,
              "#fdca26"
             ],
             [
              1,
              "#f0f921"
             ]
            ],
            "type": "surface"
           }
          ],
          "table": [
           {
            "cells": {
             "fill": {
              "color": "#EBF0F8"
             },
             "line": {
              "color": "white"
             }
            },
            "header": {
             "fill": {
              "color": "#C8D4E3"
             },
             "line": {
              "color": "white"
             }
            },
            "type": "table"
           }
          ]
         },
         "layout": {
          "annotationdefaults": {
           "arrowcolor": "#2a3f5f",
           "arrowhead": 0,
           "arrowwidth": 1
          },
          "autotypenumbers": "strict",
          "coloraxis": {
           "colorbar": {
            "outlinewidth": 0,
            "ticks": ""
           }
          },
          "colorscale": {
           "diverging": [
            [
             0,
             "#8e0152"
            ],
            [
             0.1,
             "#c51b7d"
            ],
            [
             0.2,
             "#de77ae"
            ],
            [
             0.3,
             "#f1b6da"
            ],
            [
             0.4,
             "#fde0ef"
            ],
            [
             0.5,
             "#f7f7f7"
            ],
            [
             0.6,
             "#e6f5d0"
            ],
            [
             0.7,
             "#b8e186"
            ],
            [
             0.8,
             "#7fbc41"
            ],
            [
             0.9,
             "#4d9221"
            ],
            [
             1,
             "#276419"
            ]
           ],
           "sequential": [
            [
             0,
             "#0d0887"
            ],
            [
             0.1111111111111111,
             "#46039f"
            ],
            [
             0.2222222222222222,
             "#7201a8"
            ],
            [
             0.3333333333333333,
             "#9c179e"
            ],
            [
             0.4444444444444444,
             "#bd3786"
            ],
            [
             0.5555555555555556,
             "#d8576b"
            ],
            [
             0.6666666666666666,
             "#ed7953"
            ],
            [
             0.7777777777777778,
             "#fb9f3a"
            ],
            [
             0.8888888888888888,
             "#fdca26"
            ],
            [
             1,
             "#f0f921"
            ]
           ],
           "sequentialminus": [
            [
             0,
             "#0d0887"
            ],
            [
             0.1111111111111111,
             "#46039f"
            ],
            [
             0.2222222222222222,
             "#7201a8"
            ],
            [
             0.3333333333333333,
             "#9c179e"
            ],
            [
             0.4444444444444444,
             "#bd3786"
            ],
            [
             0.5555555555555556,
             "#d8576b"
            ],
            [
             0.6666666666666666,
             "#ed7953"
            ],
            [
             0.7777777777777778,
             "#fb9f3a"
            ],
            [
             0.8888888888888888,
             "#fdca26"
            ],
            [
             1,
             "#f0f921"
            ]
           ]
          },
          "colorway": [
           "#636efa",
           "#EF553B",
           "#00cc96",
           "#ab63fa",
           "#FFA15A",
           "#19d3f3",
           "#FF6692",
           "#B6E880",
           "#FF97FF",
           "#FECB52"
          ],
          "font": {
           "color": "#2a3f5f"
          },
          "geo": {
           "bgcolor": "white",
           "lakecolor": "white",
           "landcolor": "#E5ECF6",
           "showlakes": true,
           "showland": true,
           "subunitcolor": "white"
          },
          "hoverlabel": {
           "align": "left"
          },
          "hovermode": "closest",
          "mapbox": {
           "style": "light"
          },
          "paper_bgcolor": "white",
          "plot_bgcolor": "#E5ECF6",
          "polar": {
           "angularaxis": {
            "gridcolor": "white",
            "linecolor": "white",
            "ticks": ""
           },
           "bgcolor": "#E5ECF6",
           "radialaxis": {
            "gridcolor": "white",
            "linecolor": "white",
            "ticks": ""
           }
          },
          "scene": {
           "xaxis": {
            "backgroundcolor": "#E5ECF6",
            "gridcolor": "white",
            "gridwidth": 2,
            "linecolor": "white",
            "showbackground": true,
            "ticks": "",
            "zerolinecolor": "white"
           },
           "yaxis": {
            "backgroundcolor": "#E5ECF6",
            "gridcolor": "white",
            "gridwidth": 2,
            "linecolor": "white",
            "showbackground": true,
            "ticks": "",
            "zerolinecolor": "white"
           },
           "zaxis": {
            "backgroundcolor": "#E5ECF6",
            "gridcolor": "white",
            "gridwidth": 2,
            "linecolor": "white",
            "showbackground": true,
            "ticks": "",
            "zerolinecolor": "white"
           }
          },
          "shapedefaults": {
           "line": {
            "color": "#2a3f5f"
           }
          },
          "ternary": {
           "aaxis": {
            "gridcolor": "white",
            "linecolor": "white",
            "ticks": ""
           },
           "baxis": {
            "gridcolor": "white",
            "linecolor": "white",
            "ticks": ""
           },
           "bgcolor": "#E5ECF6",
           "caxis": {
            "gridcolor": "white",
            "linecolor": "white",
            "ticks": ""
           }
          },
          "title": {
           "x": 0.05
          },
          "xaxis": {
           "automargin": true,
           "gridcolor": "white",
           "linecolor": "white",
           "ticks": "",
           "title": {
            "standoff": 15
           },
           "zerolinecolor": "white",
           "zerolinewidth": 2
          },
          "yaxis": {
           "automargin": true,
           "gridcolor": "white",
           "linecolor": "white",
           "ticks": "",
           "title": {
            "standoff": 15
           },
           "zerolinecolor": "white",
           "zerolinewidth": 2
          }
         }
        },
        "title": {
         "text": "Pie Chart"
        }
       }
      }
     },
     "metadata": {}
    }
   ],
   "source": [
    "x=df.online_order.value_counts()\n",
    "labels=['accepted','not accepted']\n",
    "values=x.values\n",
    "fig=px.pie(df,names=labels,values=values,title='Pie Chart')\n",
    "fig.show()"
   ]
  },
  {
   "cell_type": "code",
   "execution_count": 44,
   "metadata": {},
   "outputs": [],
   "source": [
    "#challange 6\n",
    "# finding best budget restaurant in any location\n",
    "# how to extract latitude and longitude of any place"
   ]
  },
  {
   "cell_type": "code",
   "execution_count": 45,
   "metadata": {},
   "outputs": [
    {
     "output_type": "stream",
     "name": "stdout",
     "text": [
      "                                                    url  \\\n934   https://www.zomato.com/bangalore/swadista-aaha...   \n940   https://www.zomato.com/bangalore/swad-punjab-d...   \n942   https://www.zomato.com/bangalore/roti-wala-btm...   \n954   https://www.zomato.com/bangalore/litti-twist-b...   \n1055  https://www.zomato.com/bangalore/the-shawarma-...   \n\n                                                address               name  \\\n934      947, 16th Main Road, 2nd Stage, BTM, Bangalore     Swadista Aahar   \n940   324, 23rd Main, 3rd Cross, 2nd Stage, BTM, Ban...     Swad Punjab Da   \n942   688, 7th Main, 10th Cross Main Road, 2nd Stage...          Roti Wala   \n954   No 43, 7th Main Road, NS Palaya, BTM 2nd Stage...        Litti Twist   \n1055  688, Opposite IWWA Party Hall, 7th Main, BTM, ...  The Shawarma Shop   \n\n     online_order book_table  rate  votes                               phone  \\\n934           Yes         No   4.1    775  +91 9844006825\\r\\r\\n+91 9844615361   \n940           Yes         No   4.0    126                      +91 8360151853   \n942           Yes         No   4.0    197                      +91 9731100002   \n954           Yes         No   4.1    464                      +91 8884270523   \n1055          Yes         No   4.1    381                      +91 9343665007   \n\n     location    rest_type                                         dish_liked  \\\n934       BTM  Quick Bites  Panneer Butter Masala, Idli, Masala Dosa, Vada...   \n940       BTM  Quick Bites    Lassi, Roti, Veg Thali, Aloo Paratha, Egg Curry   \n942       BTM  Quick Bites  Gulab Jamun, Buttermilk, Egg Bhurji, Sprout Sa...   \n954       BTM  Quick Bites  Litti, Liti Chokha, Lassi, Tea, Paratha, Thali...   \n1055      BTM  Quick Bites  Rumali Roti, Rumali Shawarma, Burgers, Shawarm...   \n\n                                              cuisines  \\\n934   South Indian, North Indian, Chinese, Street Food   \n940                                       North Indian   \n942                                       North Indian   \n954                               North Indian, Bihari   \n1055                                           Arabian   \n\n      approx_cost(for two people)  \\\n934                         300.0   \n940                         150.0   \n942                         300.0   \n954                         300.0   \n1055                        250.0   \n\n                                           reviews_list  \\\n934   [('Rated 3.0', \"RATED\\n  Ordered south Indian ...   \n940   [('Rated 4.0', 'RATED\\n  If you can visit and ...   \n942   [('Rated 5.0', 'RATED\\n  Well, I never had a c...   \n954   [('Rated 4.0', \"RATED\\n  It's a great outlet t...   \n1055  [('Rated 3.0', \"RATED\\n  This place is good if...   \n\n                                              menu_item listed_in(type)  \\\n934                                                  []        Delivery   \n940   ['Dal with Sabji Combo', 'Dal Sabji with 4 Cha...        Delivery   \n942                                                  []        Delivery   \n954                                                  []        Delivery   \n1055  ['Rumali Shawarma', 'Rumali Jumbo Shawarma', '...        Delivery   \n\n        listed_in(city)                    top_types  \n934   Bannerghatta Road  Quick Bites + Casual Dining  \n940   Bannerghatta Road  Quick Bites + Casual Dining  \n942   Bannerghatta Road  Quick Bites + Casual Dining  \n954   Bannerghatta Road  Quick Bites + Casual Dining  \n1055  Bannerghatta Road  Quick Bites + Casual Dining  \n['Swadista Aahar' 'Swad Punjab Da' 'Roti Wala' 'Litti Twist'\n 'The Shawarma Shop' 'Yum In My Tum' 'Nanna Munna Paratha House'\n 'Chaatimes' 'Ilyazsab The House Of Chicken' 'Kannur Food Point'\n 'Hari Super Sandwich' 'The Biriyani Pedia' 'World Of Asia']\n"
     ]
    }
   ],
   "source": [
    "budgetDf=df[(df['approx_cost(for two people)']<400) & (df['location']=='BTM') & (df['rate']>=4) & (df['rest_type']=='Quick Bites')]\n",
    "print(budgetDf.head())\n",
    "print(budgetDf['name'].unique())"
   ]
  },
  {
   "source": [
    "def getbudgetRestraunts(data,location,restaurantType):\n",
    "    filter =  ((data['location']==location) &(data['rest_type']==restaurantType))\n",
    "    budget=data[filter]\n",
    "    return (budget['name'].unique())\n",
    "    # filter=data['location']==location\n",
    "    # if restaurantType is not None:\n",
    "    #     filter = filter & data['rest_type']==restaurantType\n",
    "    # if costMin is not None:\n",
    "    #     filter = filter & data['approx_cost(for two people)']>=costMin\n",
    "    # if costMax is not None:\n",
    "    #     filter = filter & data['approx_cost(for two people)']<=costMax\n",
    "    # if ratingMin is not None:\n",
    "    #     filter = filter & data['rate']>=ratingMin\n",
    "    # if ratingMax is not None:\n",
    "    #     filter = filter & data['rate']<=ratingMax\n",
    "    # if filter is not None:\n",
    "    #     budgetDf=data.where(filter,inplace=True)\n",
    "    #     return budgetDf\n",
    "    # return data\n",
    "   "
   ],
   "cell_type": "code",
   "metadata": {},
   "execution_count": 46,
   "outputs": []
  },
  {
   "cell_type": "code",
   "execution_count": 47,
   "metadata": {},
   "outputs": [
    {
     "output_type": "execute_result",
     "data": {
      "text/plain": [
       "array(['Hiyar Majhe Kolkata', 'Sri Lakshmi Dhaba', 'Swadista Aahar',\n",
       "       'YummRajj', 'Swad Punjab Da', 'Roti Wala', 'Midnight Mania',\n",
       "       'Apna Punjab', 'Paratha Junction', 'Kalingas', 'Litti Twist',\n",
       "       'Poha House', 'Bathinda Tandoor', 'Chicken Magic',\n",
       "       'New Mahesh Friends Food Corner', 'Mahesh Friends Food Center',\n",
       "       'Sher-E-Punjab', 'Aramane Donne Biriyani', 'Biriyani Bhatti',\n",
       "       'RSS Donne Biryani', 'Veruthe Oru Thattukada', 'The Shawarma Shop',\n",
       "       'Pathaan Sir', 'Hari Super Sandwich', 'Chokha Chowka', 'Gorbandh',\n",
       "       \"Daniyal's\", 'Yum In My Tum', \"Magix's Parattha Roll\",\n",
       "       'Masale Daan', \"Ahmed's Little Hut\", 'The Bong Palate',\n",
       "       'Crunch Pizzas', 'Manchu Cafe', 'Nanna Munna Paratha House',\n",
       "       'Totus', \"Dev's Gugababa\", 'Delhi Biryani Cafe', 'Tarbouche',\n",
       "       'Appana Restaurant', 'RK Fresh Food', 'The Food Cottage', 'Perch',\n",
       "       'Taste Of Kolkata', 'China Town 07', 'Biryani Magic',\n",
       "       'Smoke Oil Salt', \"Rayaan's BBQ\", 'Miss Momo', 'Funky Punjab',\n",
       "       'Vyanjan', 'Sri Sankara Cafe', 'Chatter Platter',\n",
       "       'Sri Nandi Grand', 'Udupi Thaja Thindi', 'Baba Ka Dhaba',\n",
       "       'The Hungers Zone', 'Hunger2Eat', 'Petoo', 'New South Corner',\n",
       "       'Tandoor Garden', 'RCS Kitchen', 'Joon Restaurant', 'Snack Knack',\n",
       "       'GFC Biryani', 'Armaani Caffe', 'JP Fish Land', 'The Cuboidal',\n",
       "       'Al-Marhaba Restaurant', 'Heaven 2 Oven', 'Limra Hotel',\n",
       "       'Kafe Nook', 'Yummerica Fries', 'Tongue Twisters', 'Chaatimes',\n",
       "       'Hungry Buddies', 'The Chaat Shop', 'Red Chilli', 'Swad Plaza',\n",
       "       'Desi Aahar', \"Joey's\", 'Desi Wok', 'Namana Garden', 'Spice Taj',\n",
       "       'Udupi Thadka', 'Cafe Club Kerala Restaurant',\n",
       "       'Santhrupthi Halli Mane', 'Dhe Chef Cafe', 'Bay Root',\n",
       "       'Sri Krishna Delight', 'Tandoor Nation',\n",
       "       'Indian Kitchen Eateries-IKE', 'The Biriyani Factory',\n",
       "       'Thani Nadan Food', 'Biriyani Angadi', 'Cee Yem', 'Hotel Adhvi',\n",
       "       'Rana Vada Pav', 'The Biriyani Pedia', 'Food And You', 'Grillopia',\n",
       "       'Indori Chatorey', \"David's Kitchen\", 'New Punjabi Hotel',\n",
       "       'Arabian Bites', 'Bake and Juice', 'Green Mango Restaurant',\n",
       "       'Just Sandwiches', 'Sri Srinivas Park Hotel', 'Zaitoon Lassi Cafe',\n",
       "       'Kannur Food Point', 'Chettayees', 'Andhra Kitchen', \"Muthashy's\",\n",
       "       'Royal Biryani Kitchen', 'Dum Biryani Hub', 'Krishna Sagar',\n",
       "       'Ashirvaad Grand', 'Rajveena Kitchen', 'Nammura Donne Biriyani',\n",
       "       'RB Food Point', 'Boston Barista - Kappayum Curriyum', 'Kairali',\n",
       "       'Anda Ka Funda', 'Awesome Foods', 'Pappu Chaiwalla',\n",
       "       'Public Khana', 'Taste Of Malabar', 'Nandanam Family Restaurant',\n",
       "       'Omleterian', 'Cafe Alchemist', 'Sri Krishna Kitchen',\n",
       "       'Indian Paratha Factory', 'Ghee Biryani House', 'Nadan Thattukada',\n",
       "       'Body Temple', 'Nawab-E-Khana', 'Sri Sapana Dhaba',\n",
       "       'World Of Asia', 'Speedbreaker', 'New Tasty Cafeteria',\n",
       "       'The Cake Lair', 'Fillers', 'Falooda Cafe', 'Paratha Plaza',\n",
       "       'Juice 99', 'Ammus Hot N Cool', 'OMG Biriyani', 'HOTEL VKM',\n",
       "       'Samosa Express', 'Gyani Da Punjabi Dhaba',\n",
       "       'King Punjabi Restaurant', 'Afghani Tandoori Hub',\n",
       "       'Thottathil Restaurant', 'Healthy Parathawala', 'Nilu Ki Rasoi',\n",
       "       'Chicken Corner', 'B2D Indori Dhaba', 'Bansuri Sweets',\n",
       "       'Al Hayath', 'Khaja Point', 'Eat N Pack',\n",
       "       'Ilyazsab The House Of Chicken', 'BTM Ghar ka Khana',\n",
       "       'Rolls On Wheels', 'Darshan Paradise Restaurant',\n",
       "       'Friends Chats Adda', \"Amjad Bhai's Star Hotel - Home Food Only\",\n",
       "       'Bisimillah Biriyani', \"Anvar Bhai's\",\n",
       "       \"Tiwari's Ghee Paratha And Chaats\", 'Eat N Drink', 'Prawn Crunch',\n",
       "       'Stop N Joy', \"Mini Adiga's\", 'Ambur Dum Biryani', 'Amaravati',\n",
       "       'Tomago Roast', 'Champaran Spice',\n",
       "       \"Bisimillah Biriyani's & Kebab's\", 'SS Hot Dhum Briyani Point',\n",
       "       'Samosa King', 'Fogg', 'Asgardian Moreover Chai', \"Khan's Biryani\",\n",
       "       'Hotel Vedha', 'Multi Kitchen', 'Hungry Lee',\n",
       "       'Kolakata Biryani Cafe', 'Ammayi Thakkaram',\n",
       "       'Sri Venkateswara Andra Mess', 'Yaduvanshi Hotel', 'Holige Mane',\n",
       "       'Singh Punjabi Dhaba', 'Homely Curries & Pickles',\n",
       "       'Punjabi Daawat', \"Borah's Kitchen\", 'Momo Jojo',\n",
       "       'Sree Food Paradise', 'Ayush Reddy Tiffins & Fast Food Center',\n",
       "       'RK Fast Food', 'Hungry Mates', 'Paradise Food Court',\n",
       "       'Blends Juice Cafe', 'Foodiction', 'Shawarma Corner',\n",
       "       'Royal Dine Family Restaurant', 'Chai Makhan', 'Zed Cafe',\n",
       "       'RGS Ambur briyani', \"Delicious Mom's Kitchen\",\n",
       "       'Chettinad Food House', 'Kaaka T Cafe', 'Food Junction',\n",
       "       'Shaahi Mezbaan Restaurant', 'Bruncherz', 'Snaxup Restaurant',\n",
       "       'Hunger Buds', 'Tummy Delight', 'New Farm Fresh', 'Pothichor',\n",
       "       'Hyderabadi Biryani Corner', 'Amrutha Mess', 'The French Loaf',\n",
       "       'Hyderabad Biriyani House', 'Dine in Restaurant',\n",
       "       'Sri Sharana Basaveshwara Khanavali',\n",
       "       'Top Foam Parantha Roll & Juice Centre', 'Ambur Azad Darbar',\n",
       "       'Amravathi Restaurants & Caterers', 'Shawarma Bae', 'Brew Cafe',\n",
       "       'Chutneys Tiffin Center', 'Five Star New Ambur Biryani',\n",
       "       'Fluffer Nutter', 'Bhoja99', 'Coal Grill & Cafe',\n",
       "       'Murali Military hotel', 'Hyderabadi Biryani House',\n",
       "       'Cafe Sulaimani', 'Tit Bits', 'Desi Urbane',\n",
       "       'Rayalaseema Abhiruchulu', 'GR Foods', 'New Udupi Dharshini',\n",
       "       'Ice N Spice', \"Savandh's Kitchen - Donne Biryani\",\n",
       "       'Y Not Shawarma', 'Foodies Club', 'Homifoo', 'Deepam Tiffins',\n",
       "       \"Uncle's Kitchen\", 'What the Food', 'Around The Corner',\n",
       "       'Tandoor Hub & Golmaal Paratha', \"So-Fat's Dosas\",\n",
       "       'Singh Da Dhaba', 'Two States', 'Adithya Family Restaurant',\n",
       "       'Ambur Biriyani Point', 'Gobi Gate', 'Malnad Military Hotel',\n",
       "       'SM Fast Food', 'Eaternet', 'My Dabeli & My Pizza',\n",
       "       'Mongolian Kitchen', 'Grill N Chill', '2nd Home Restaurant',\n",
       "       'Kallummakkaya', \"Kapoor's Biriyani\", 'Habitts',\n",
       "       'Al Habibi Restaurant', 'Ande Ka Funda', \"Kataria's Home Food\",\n",
       "       'Marunadan Kada', 'Ambur Hot Dum Biryani',\n",
       "       'Pakiza Dilli Darbar Restaurant', 'Sagar Fast Food',\n",
       "       'Naati Biriyani', 'Cafe Longing', 'Desi Vdesi', 'Biryani Spot',\n",
       "       'FoodNite', \"Royal's Biryani\", 'Pan Asian',\n",
       "       'Kesar Sweet Shop and Fast Food', 'Jigarthanda',\n",
       "       'Dribzz Bakes & Cafe', 'S.S Bangali Restaurant', 'Aaharaa',\n",
       "       'MK RESTAURANT', 'Nanna Munna', 'Namaste', 'Ambur Star Briyani',\n",
       "       'KFC', \"Domino's Pizza\", 'Faasos', 'New Limra Hotel',\n",
       "       'Bangalore Star Biriyani', 'Kabab Magic', 'Just Shawarma',\n",
       "       'Zeeshan', 'Hotel Udipi Krishna', 'Biryani Dawat', 'Momo Time',\n",
       "       'New Kabab Zone', \"McDonald's\", 'Udupi Gokul Cafe', 'Namma Kadai',\n",
       "       'Nellore Dosa Camp', 'Sri Saravana Bhavan',\n",
       "       'Gangothri Kabab Corner', 'Thalassery Cafe', 'Cafe 58',\n",
       "       'Five Star Chicken', 'Mangalore Lunch Home', 'Basava Hotel',\n",
       "       \"Nanu's Shawarma\", 'Peshawari Zaika', 'Meat And Eat', 'Subway',\n",
       "       'Sri Vishnupriya', 'Aarya Pork Hotel', 'Sri Krishna Sagar',\n",
       "       'Mast Biryani', 'Apna Odisha Kolkatta Hotel', 'Bihari Food Corner',\n",
       "       'Navaruchi', 'Shawarma Hunt', 'Vibe Club',\n",
       "       'Hotel Sri Kumar Bhavan', 'Mirchi- The Indian Street Food Kitchen',\n",
       "       'SS Hot Dum Briyani Point', 'Salkara Malabar Kitchen',\n",
       "       'Chorum Curryum', 'Hotel Meed Cafe', 'Karavali Lunch Home',\n",
       "       'Sri Udupi Sagar', 'Falafel Bistro', 'Strategic Timeout Cafe',\n",
       "       'Hot Burg', 'Desi Adda', 'Basawa Hotel', 'YummyyDoz',\n",
       "       'Hello Dish Biriyani', 'Fast N Food',\n",
       "       'Swad Now - The Biriyani Factory', \"Friend's Kitchen\",\n",
       "       'Bismillah Restaurant', 'Chatori Zuban', 'Chinese Corner',\n",
       "       'South Side', 'Barkat', 'Sri Sai Restaurant', 'Shawarma Bite',\n",
       "       'Jordan Cafe', 'The Grand Kitchen Restaurant', 'Hotel Mirchi Red',\n",
       "       'New Shetty Lunch Bhavan', 'SGS Non Veg - Gundu Pulav',\n",
       "       'WOW! Momo', 'Malabar Kitchen', 'Chaska Bun', 'KKR Foodies',\n",
       "       'Mojo Pizza - 2X Toppings', 'Hotel Darshan Paradise',\n",
       "       'Maruti Garden', 'Hotel Sekar'], dtype=object)"
      ]
     },
     "metadata": {},
     "execution_count": 47
    }
   ],
   "source": [
    "budgetDf=getbudgetRestraunts(df,'BTM','Quick Bites')\n",
    "budgetDf\n",
    "    # df[(df['approx_cost(for two people)']<400) & (df['location']=='BTM') & (df['rate']>=4) & (df['rest_type']=='Quick Bites')]"
   ]
  },
  {
   "cell_type": "code",
   "execution_count": 48,
   "metadata": {},
   "outputs": [],
   "source": [
    "#geographical analysis for budgeted restraunts\n",
    "#for this lat and longs required"
   ]
  },
  {
   "cell_type": "code",
   "execution_count": 49,
   "metadata": {},
   "outputs": [],
   "source": [
    "from geopy.geocoders import Nominatim"
   ]
  },
  {
   "cell_type": "code",
   "execution_count": 50,
   "metadata": {},
   "outputs": [],
   "source": [
    "geolocator=Nominatim(user_agent='app')"
   ]
  },
  {
   "cell_type": "code",
   "execution_count": 51,
   "metadata": {},
   "outputs": [
    {
     "output_type": "execute_result",
     "data": {
      "text/plain": [
       "'Sri Lakshmi Dhaba'"
      ]
     },
     "metadata": {},
     "execution_count": 51
    }
   ],
   "source": [
    "data=budgetDf[1]\n",
    "data"
   ]
  },
  {
   "cell_type": "code",
   "execution_count": 52,
   "metadata": {},
   "outputs": [],
   "source": [
    "geoLoc=geolocator.geocode(data)"
   ]
  },
  {
   "cell_type": "code",
   "execution_count": 53,
   "metadata": {},
   "outputs": [
    {
     "output_type": "execute_result",
     "data": {
      "text/plain": [
       "(13.3307812, 76.2435407)"
      ]
     },
     "metadata": {},
     "execution_count": 53
    }
   ],
   "source": [
    "geoLoc.latitude,geoLoc.longitude"
   ]
  },
  {
   "cell_type": "code",
   "execution_count": 54,
   "metadata": {},
   "outputs": [
    {
     "output_type": "execute_result",
     "data": {
      "text/plain": [
       "93"
      ]
     },
     "metadata": {},
     "execution_count": 54
    }
   ],
   "source": [
    "#challange 7 \n",
    "#how to extract latitude and longitude of banglore location\n",
    "#perform spatial analysis where most of my restaurants are situated\n",
    "df.location.nunique()"
   ]
  },
  {
   "cell_type": "code",
   "execution_count": 55,
   "metadata": {},
   "outputs": [],
   "source": [
    "locationDf =pd.DataFrame(df.location.unique(),columns=['Name'])\n",
    "latlist=[]\n",
    "longlist=[]\n",
    "for name in locationDf['Name']:\n",
    "    geoLoc=geolocator.geocode(name)\n",
    "    if geoLoc is not None:\n",
    "        latlist.append(geoLoc.latitude)\n",
    "        longlist.append(geoLoc.longitude)\n",
    "    else:\n",
    "        latlist.append(np.nan)\n",
    "        longlist.append(np.nan)\n",
    "locationDf['Latitude']=latlist\n",
    "locationDf['Longitude']=longlist\n"
   ]
  },
  {
   "cell_type": "code",
   "execution_count": 56,
   "metadata": {},
   "outputs": [],
   "source": [
    "rest_locations=df['location'].value_counts().reset_index()\n"
   ]
  },
  {
   "cell_type": "code",
   "execution_count": 57,
   "metadata": {},
   "outputs": [],
   "source": [
    "rest_locations.columns=['Name','Count']"
   ]
  },
  {
   "cell_type": "code",
   "execution_count": 58,
   "metadata": {},
   "outputs": [
    {
     "output_type": "execute_result",
     "data": {
      "text/plain": [
       "                     Name  Count\n",
       "0                     BTM   5124\n",
       "1                     HSR   2523\n",
       "2   Koramangala 5th Block   2504\n",
       "3                JP Nagar   2235\n",
       "4              Whitefield   2144\n",
       "..                    ...    ...\n",
       "88         West Bangalore      6\n",
       "89              Yelahanka      6\n",
       "90                 Jakkur      3\n",
       "91   Rajarajeshwari Nagar      2\n",
       "92                 Peenya      1\n",
       "\n",
       "[93 rows x 2 columns]"
      ],
      "text/html": "<div>\n<style scoped>\n    .dataframe tbody tr th:only-of-type {\n        vertical-align: middle;\n    }\n\n    .dataframe tbody tr th {\n        vertical-align: top;\n    }\n\n    .dataframe thead th {\n        text-align: right;\n    }\n</style>\n<table border=\"1\" class=\"dataframe\">\n  <thead>\n    <tr style=\"text-align: right;\">\n      <th></th>\n      <th>Name</th>\n      <th>Count</th>\n    </tr>\n  </thead>\n  <tbody>\n    <tr>\n      <th>0</th>\n      <td>BTM</td>\n      <td>5124</td>\n    </tr>\n    <tr>\n      <th>1</th>\n      <td>HSR</td>\n      <td>2523</td>\n    </tr>\n    <tr>\n      <th>2</th>\n      <td>Koramangala 5th Block</td>\n      <td>2504</td>\n    </tr>\n    <tr>\n      <th>3</th>\n      <td>JP Nagar</td>\n      <td>2235</td>\n    </tr>\n    <tr>\n      <th>4</th>\n      <td>Whitefield</td>\n      <td>2144</td>\n    </tr>\n    <tr>\n      <th>...</th>\n      <td>...</td>\n      <td>...</td>\n    </tr>\n    <tr>\n      <th>88</th>\n      <td>West Bangalore</td>\n      <td>6</td>\n    </tr>\n    <tr>\n      <th>89</th>\n      <td>Yelahanka</td>\n      <td>6</td>\n    </tr>\n    <tr>\n      <th>90</th>\n      <td>Jakkur</td>\n      <td>3</td>\n    </tr>\n    <tr>\n      <th>91</th>\n      <td>Rajarajeshwari Nagar</td>\n      <td>2</td>\n    </tr>\n    <tr>\n      <th>92</th>\n      <td>Peenya</td>\n      <td>1</td>\n    </tr>\n  </tbody>\n</table>\n<p>93 rows × 2 columns</p>\n</div>"
     },
     "metadata": {},
     "execution_count": 58
    }
   ],
   "source": [
    "rest_locations"
   ]
  },
  {
   "cell_type": "code",
   "execution_count": 59,
   "metadata": {},
   "outputs": [],
   "source": [
    "rest_locations=rest_locations.merge(locationDf,on='Name').dropna()"
   ]
  },
  {
   "cell_type": "code",
   "execution_count": 60,
   "metadata": {},
   "outputs": [
    {
     "output_type": "execute_result",
     "data": {
      "text/plain": [
       "                     Name  Count   Latitude   Longitude\n",
       "0                     BTM   5124  45.954851 -112.496595\n",
       "1                     HSR   2523  18.147500   41.538889\n",
       "2   Koramangala 5th Block   2504  13.005409   74.794607\n",
       "3                JP Nagar   2235  12.265594   76.646540\n",
       "4              Whitefield   2144  44.373058  -71.611858\n",
       "..                    ...    ...        ...         ...\n",
       "88         West Bangalore      6  13.001129   77.632562\n",
       "89              Yelahanka      6  13.100698   77.596345\n",
       "90                 Jakkur      3  13.078474   77.606894\n",
       "91   Rajarajeshwari Nagar      2  12.927441   77.515522\n",
       "92                 Peenya      1  13.032942   77.527325\n",
       "\n",
       "[92 rows x 4 columns]"
      ],
      "text/html": "<div>\n<style scoped>\n    .dataframe tbody tr th:only-of-type {\n        vertical-align: middle;\n    }\n\n    .dataframe tbody tr th {\n        vertical-align: top;\n    }\n\n    .dataframe thead th {\n        text-align: right;\n    }\n</style>\n<table border=\"1\" class=\"dataframe\">\n  <thead>\n    <tr style=\"text-align: right;\">\n      <th></th>\n      <th>Name</th>\n      <th>Count</th>\n      <th>Latitude</th>\n      <th>Longitude</th>\n    </tr>\n  </thead>\n  <tbody>\n    <tr>\n      <th>0</th>\n      <td>BTM</td>\n      <td>5124</td>\n      <td>45.954851</td>\n      <td>-112.496595</td>\n    </tr>\n    <tr>\n      <th>1</th>\n      <td>HSR</td>\n      <td>2523</td>\n      <td>18.147500</td>\n      <td>41.538889</td>\n    </tr>\n    <tr>\n      <th>2</th>\n      <td>Koramangala 5th Block</td>\n      <td>2504</td>\n      <td>13.005409</td>\n      <td>74.794607</td>\n    </tr>\n    <tr>\n      <th>3</th>\n      <td>JP Nagar</td>\n      <td>2235</td>\n      <td>12.265594</td>\n      <td>76.646540</td>\n    </tr>\n    <tr>\n      <th>4</th>\n      <td>Whitefield</td>\n      <td>2144</td>\n      <td>44.373058</td>\n      <td>-71.611858</td>\n    </tr>\n    <tr>\n      <th>...</th>\n      <td>...</td>\n      <td>...</td>\n      <td>...</td>\n      <td>...</td>\n    </tr>\n    <tr>\n      <th>88</th>\n      <td>West Bangalore</td>\n      <td>6</td>\n      <td>13.001129</td>\n      <td>77.632562</td>\n    </tr>\n    <tr>\n      <th>89</th>\n      <td>Yelahanka</td>\n      <td>6</td>\n      <td>13.100698</td>\n      <td>77.596345</td>\n    </tr>\n    <tr>\n      <th>90</th>\n      <td>Jakkur</td>\n      <td>3</td>\n      <td>13.078474</td>\n      <td>77.606894</td>\n    </tr>\n    <tr>\n      <th>91</th>\n      <td>Rajarajeshwari Nagar</td>\n      <td>2</td>\n      <td>12.927441</td>\n      <td>77.515522</td>\n    </tr>\n    <tr>\n      <th>92</th>\n      <td>Peenya</td>\n      <td>1</td>\n      <td>13.032942</td>\n      <td>77.527325</td>\n    </tr>\n  </tbody>\n</table>\n<p>92 rows × 4 columns</p>\n</div>"
     },
     "metadata": {},
     "execution_count": 60
    }
   ],
   "source": [
    "rest_locations"
   ]
  },
  {
   "cell_type": "code",
   "execution_count": 61,
   "metadata": {},
   "outputs": [],
   "source": [
    "import folium\n",
    "from folium.plugins import HeatMap"
   ]
  },
  {
   "cell_type": "code",
   "execution_count": 62,
   "metadata": {},
   "outputs": [
    {
     "output_type": "execute_result",
     "data": {
      "text/plain": [
       "<folium.folium.Map at 0x1265a72ab20>"
      ],
      "text/html": "<div style=\"width:100%;\"><div style=\"position:relative;width:100%;height:0;padding-bottom:60%;\"><span style=\"color:#565656\">Make this Notebook Trusted to load map: File -> Trust Notebook</span><iframe src=\"about:blank\" style=\"position:absolute;width:100%;height:100%;left:0;top:0;border:none !important;\" data-html=%3C%21DOCTYPE%20html%3E%0A%3Chead%3E%20%20%20%20%0A%20%20%20%20%3Cmeta%20http-equiv%3D%22content-type%22%20content%3D%22text/html%3B%20charset%3DUTF-8%22%20/%3E%0A%20%20%20%20%0A%20%20%20%20%20%20%20%20%3Cscript%3E%0A%20%20%20%20%20%20%20%20%20%20%20%20L_NO_TOUCH%20%3D%20false%3B%0A%20%20%20%20%20%20%20%20%20%20%20%20L_DISABLE_3D%20%3D%20false%3B%0A%20%20%20%20%20%20%20%20%3C/script%3E%0A%20%20%20%20%0A%20%20%20%20%3Cstyle%3Ehtml%2C%20body%20%7Bwidth%3A%20100%25%3Bheight%3A%20100%25%3Bmargin%3A%200%3Bpadding%3A%200%3B%7D%3C/style%3E%0A%20%20%20%20%3Cstyle%3E%23map%20%7Bposition%3Aabsolute%3Btop%3A0%3Bbottom%3A0%3Bright%3A0%3Bleft%3A0%3B%7D%3C/style%3E%0A%20%20%20%20%3Cscript%20src%3D%22https%3A//cdn.jsdelivr.net/npm/leaflet%401.6.0/dist/leaflet.js%22%3E%3C/script%3E%0A%20%20%20%20%3Cscript%20src%3D%22https%3A//code.jquery.com/jquery-1.12.4.min.js%22%3E%3C/script%3E%0A%20%20%20%20%3Cscript%20src%3D%22https%3A//maxcdn.bootstrapcdn.com/bootstrap/3.2.0/js/bootstrap.min.js%22%3E%3C/script%3E%0A%20%20%20%20%3Cscript%20src%3D%22https%3A//cdnjs.cloudflare.com/ajax/libs/Leaflet.awesome-markers/2.0.2/leaflet.awesome-markers.js%22%3E%3C/script%3E%0A%20%20%20%20%3Clink%20rel%3D%22stylesheet%22%20href%3D%22https%3A//cdn.jsdelivr.net/npm/leaflet%401.6.0/dist/leaflet.css%22/%3E%0A%20%20%20%20%3Clink%20rel%3D%22stylesheet%22%20href%3D%22https%3A//maxcdn.bootstrapcdn.com/bootstrap/3.2.0/css/bootstrap.min.css%22/%3E%0A%20%20%20%20%3Clink%20rel%3D%22stylesheet%22%20href%3D%22https%3A//maxcdn.bootstrapcdn.com/bootstrap/3.2.0/css/bootstrap-theme.min.css%22/%3E%0A%20%20%20%20%3Clink%20rel%3D%22stylesheet%22%20href%3D%22https%3A//maxcdn.bootstrapcdn.com/font-awesome/4.6.3/css/font-awesome.min.css%22/%3E%0A%20%20%20%20%3Clink%20rel%3D%22stylesheet%22%20href%3D%22https%3A//cdnjs.cloudflare.com/ajax/libs/Leaflet.awesome-markers/2.0.2/leaflet.awesome-markers.css%22/%3E%0A%20%20%20%20%3Clink%20rel%3D%22stylesheet%22%20href%3D%22https%3A//cdn.jsdelivr.net/gh/python-visualization/folium/folium/templates/leaflet.awesome.rotate.min.css%22/%3E%0A%20%20%20%20%0A%20%20%20%20%20%20%20%20%20%20%20%20%3Cmeta%20name%3D%22viewport%22%20content%3D%22width%3Ddevice-width%2C%0A%20%20%20%20%20%20%20%20%20%20%20%20%20%20%20%20initial-scale%3D1.0%2C%20maximum-scale%3D1.0%2C%20user-scalable%3Dno%22%20/%3E%0A%20%20%20%20%20%20%20%20%20%20%20%20%3Cstyle%3E%0A%20%20%20%20%20%20%20%20%20%20%20%20%20%20%20%20%23map_b8a17de24d4c4a7ba1df0c54aeda8c92%20%7B%0A%20%20%20%20%20%20%20%20%20%20%20%20%20%20%20%20%20%20%20%20position%3A%20relative%3B%0A%20%20%20%20%20%20%20%20%20%20%20%20%20%20%20%20%20%20%20%20width%3A%20100.0%25%3B%0A%20%20%20%20%20%20%20%20%20%20%20%20%20%20%20%20%20%20%20%20height%3A%20100.0%25%3B%0A%20%20%20%20%20%20%20%20%20%20%20%20%20%20%20%20%20%20%20%20left%3A%200.0%25%3B%0A%20%20%20%20%20%20%20%20%20%20%20%20%20%20%20%20%20%20%20%20top%3A%200.0%25%3B%0A%20%20%20%20%20%20%20%20%20%20%20%20%20%20%20%20%7D%0A%20%20%20%20%20%20%20%20%20%20%20%20%3C/style%3E%0A%20%20%20%20%20%20%20%20%0A%3C/head%3E%0A%3Cbody%3E%20%20%20%20%0A%20%20%20%20%0A%20%20%20%20%20%20%20%20%20%20%20%20%3Cdiv%20class%3D%22folium-map%22%20id%3D%22map_b8a17de24d4c4a7ba1df0c54aeda8c92%22%20%3E%3C/div%3E%0A%20%20%20%20%20%20%20%20%0A%3C/body%3E%0A%3Cscript%3E%20%20%20%20%0A%20%20%20%20%0A%20%20%20%20%20%20%20%20%20%20%20%20var%20map_b8a17de24d4c4a7ba1df0c54aeda8c92%20%3D%20L.map%28%0A%20%20%20%20%20%20%20%20%20%20%20%20%20%20%20%20%22map_b8a17de24d4c4a7ba1df0c54aeda8c92%22%2C%0A%20%20%20%20%20%20%20%20%20%20%20%20%20%20%20%20%7B%0A%20%20%20%20%20%20%20%20%20%20%20%20%20%20%20%20%20%20%20%20center%3A%20%5B28.7041%2C%2077.1025%5D%2C%0A%20%20%20%20%20%20%20%20%20%20%20%20%20%20%20%20%20%20%20%20crs%3A%20L.CRS.EPSG3857%2C%0A%20%20%20%20%20%20%20%20%20%20%20%20%20%20%20%20%20%20%20%20zoom%3A%2010%2C%0A%20%20%20%20%20%20%20%20%20%20%20%20%20%20%20%20%20%20%20%20zoomControl%3A%20true%2C%0A%20%20%20%20%20%20%20%20%20%20%20%20%20%20%20%20%20%20%20%20preferCanvas%3A%20false%2C%0A%20%20%20%20%20%20%20%20%20%20%20%20%20%20%20%20%7D%0A%20%20%20%20%20%20%20%20%20%20%20%20%29%3B%0A%0A%20%20%20%20%20%20%20%20%20%20%20%20%0A%0A%20%20%20%20%20%20%20%20%0A%20%20%20%20%0A%20%20%20%20%20%20%20%20%20%20%20%20var%20tile_layer_2147640374c24cc4be6a75221c780562%20%3D%20L.tileLayer%28%0A%20%20%20%20%20%20%20%20%20%20%20%20%20%20%20%20%22https%3A//%7Bs%7D.tile.openstreetmap.org/%7Bz%7D/%7Bx%7D/%7By%7D.png%22%2C%0A%20%20%20%20%20%20%20%20%20%20%20%20%20%20%20%20%7B%22attribution%22%3A%20%22Data%20by%20%5Cu0026copy%3B%20%5Cu003ca%20href%3D%5C%22http%3A//openstreetmap.org%5C%22%5Cu003eOpenStreetMap%5Cu003c/a%5Cu003e%2C%20under%20%5Cu003ca%20href%3D%5C%22http%3A//www.openstreetmap.org/copyright%5C%22%5Cu003eODbL%5Cu003c/a%5Cu003e.%22%2C%20%22detectRetina%22%3A%20false%2C%20%22maxNativeZoom%22%3A%2018%2C%20%22maxZoom%22%3A%2018%2C%20%22minZoom%22%3A%200%2C%20%22noWrap%22%3A%20false%2C%20%22opacity%22%3A%201%2C%20%22subdomains%22%3A%20%22abc%22%2C%20%22tms%22%3A%20false%7D%0A%20%20%20%20%20%20%20%20%20%20%20%20%29.addTo%28map_b8a17de24d4c4a7ba1df0c54aeda8c92%29%3B%0A%20%20%20%20%20%20%20%20%0A%3C/script%3E onload=\"this.contentDocument.open();this.contentDocument.write(    decodeURIComponent(this.getAttribute('data-html')));this.contentDocument.close();\" allowfullscreen webkitallowfullscreen mozallowfullscreen></iframe></div></div>"
     },
     "metadata": {},
     "execution_count": 62
    }
   ],
   "source": [
    "basemap=folium.Map(location=[28.7041,77.1025])\n",
    "basemap"
   ]
  },
  {
   "cell_type": "code",
   "execution_count": 63,
   "metadata": {},
   "outputs": [
    {
     "output_type": "execute_result",
     "data": {
      "text/plain": [
       "<folium.plugins.heat_map.HeatMap at 0x1265a74bd60>"
      ]
     },
     "metadata": {},
     "execution_count": 63
    }
   ],
   "source": [
    "HeatMap(data=rest_locations[['Latitude','Longitude','Count']]).add_to(basemap)"
   ]
  },
  {
   "cell_type": "code",
   "execution_count": 64,
   "metadata": {},
   "outputs": [
    {
     "output_type": "execute_result",
     "data": {
      "text/plain": [
       "<folium.folium.Map at 0x1265a72ab20>"
      ],
      "text/html": "<div style=\"width:100%;\"><div style=\"position:relative;width:100%;height:0;padding-bottom:60%;\"><span style=\"color:#565656\">Make this Notebook Trusted to load map: File -> Trust Notebook</span><iframe src=\"about:blank\" style=\"position:absolute;width:100%;height:100%;left:0;top:0;border:none !important;\" data-html=%3C%21DOCTYPE%20html%3E%0A%3Chead%3E%20%20%20%20%0A%20%20%20%20%3Cmeta%20http-equiv%3D%22content-type%22%20content%3D%22text/html%3B%20charset%3DUTF-8%22%20/%3E%0A%20%20%20%20%0A%20%20%20%20%20%20%20%20%3Cscript%3E%0A%20%20%20%20%20%20%20%20%20%20%20%20L_NO_TOUCH%20%3D%20false%3B%0A%20%20%20%20%20%20%20%20%20%20%20%20L_DISABLE_3D%20%3D%20false%3B%0A%20%20%20%20%20%20%20%20%3C/script%3E%0A%20%20%20%20%0A%20%20%20%20%3Cstyle%3Ehtml%2C%20body%20%7Bwidth%3A%20100%25%3Bheight%3A%20100%25%3Bmargin%3A%200%3Bpadding%3A%200%3B%7D%3C/style%3E%0A%20%20%20%20%3Cstyle%3E%23map%20%7Bposition%3Aabsolute%3Btop%3A0%3Bbottom%3A0%3Bright%3A0%3Bleft%3A0%3B%7D%3C/style%3E%0A%20%20%20%20%3Cscript%20src%3D%22https%3A//cdn.jsdelivr.net/npm/leaflet%401.6.0/dist/leaflet.js%22%3E%3C/script%3E%0A%20%20%20%20%3Cscript%20src%3D%22https%3A//code.jquery.com/jquery-1.12.4.min.js%22%3E%3C/script%3E%0A%20%20%20%20%3Cscript%20src%3D%22https%3A//maxcdn.bootstrapcdn.com/bootstrap/3.2.0/js/bootstrap.min.js%22%3E%3C/script%3E%0A%20%20%20%20%3Cscript%20src%3D%22https%3A//cdnjs.cloudflare.com/ajax/libs/Leaflet.awesome-markers/2.0.2/leaflet.awesome-markers.js%22%3E%3C/script%3E%0A%20%20%20%20%3Clink%20rel%3D%22stylesheet%22%20href%3D%22https%3A//cdn.jsdelivr.net/npm/leaflet%401.6.0/dist/leaflet.css%22/%3E%0A%20%20%20%20%3Clink%20rel%3D%22stylesheet%22%20href%3D%22https%3A//maxcdn.bootstrapcdn.com/bootstrap/3.2.0/css/bootstrap.min.css%22/%3E%0A%20%20%20%20%3Clink%20rel%3D%22stylesheet%22%20href%3D%22https%3A//maxcdn.bootstrapcdn.com/bootstrap/3.2.0/css/bootstrap-theme.min.css%22/%3E%0A%20%20%20%20%3Clink%20rel%3D%22stylesheet%22%20href%3D%22https%3A//maxcdn.bootstrapcdn.com/font-awesome/4.6.3/css/font-awesome.min.css%22/%3E%0A%20%20%20%20%3Clink%20rel%3D%22stylesheet%22%20href%3D%22https%3A//cdnjs.cloudflare.com/ajax/libs/Leaflet.awesome-markers/2.0.2/leaflet.awesome-markers.css%22/%3E%0A%20%20%20%20%3Clink%20rel%3D%22stylesheet%22%20href%3D%22https%3A//cdn.jsdelivr.net/gh/python-visualization/folium/folium/templates/leaflet.awesome.rotate.min.css%22/%3E%0A%20%20%20%20%0A%20%20%20%20%20%20%20%20%20%20%20%20%3Cmeta%20name%3D%22viewport%22%20content%3D%22width%3Ddevice-width%2C%0A%20%20%20%20%20%20%20%20%20%20%20%20%20%20%20%20initial-scale%3D1.0%2C%20maximum-scale%3D1.0%2C%20user-scalable%3Dno%22%20/%3E%0A%20%20%20%20%20%20%20%20%20%20%20%20%3Cstyle%3E%0A%20%20%20%20%20%20%20%20%20%20%20%20%20%20%20%20%23map_b8a17de24d4c4a7ba1df0c54aeda8c92%20%7B%0A%20%20%20%20%20%20%20%20%20%20%20%20%20%20%20%20%20%20%20%20position%3A%20relative%3B%0A%20%20%20%20%20%20%20%20%20%20%20%20%20%20%20%20%20%20%20%20width%3A%20100.0%25%3B%0A%20%20%20%20%20%20%20%20%20%20%20%20%20%20%20%20%20%20%20%20height%3A%20100.0%25%3B%0A%20%20%20%20%20%20%20%20%20%20%20%20%20%20%20%20%20%20%20%20left%3A%200.0%25%3B%0A%20%20%20%20%20%20%20%20%20%20%20%20%20%20%20%20%20%20%20%20top%3A%200.0%25%3B%0A%20%20%20%20%20%20%20%20%20%20%20%20%20%20%20%20%7D%0A%20%20%20%20%20%20%20%20%20%20%20%20%3C/style%3E%0A%20%20%20%20%20%20%20%20%0A%20%20%20%20%3Cscript%20src%3D%22https%3A//cdn.jsdelivr.net/gh/python-visualization/folium%40master/folium/templates/leaflet_heat.min.js%22%3E%3C/script%3E%0A%3C/head%3E%0A%3Cbody%3E%20%20%20%20%0A%20%20%20%20%0A%20%20%20%20%20%20%20%20%20%20%20%20%3Cdiv%20class%3D%22folium-map%22%20id%3D%22map_b8a17de24d4c4a7ba1df0c54aeda8c92%22%20%3E%3C/div%3E%0A%20%20%20%20%20%20%20%20%0A%3C/body%3E%0A%3Cscript%3E%20%20%20%20%0A%20%20%20%20%0A%20%20%20%20%20%20%20%20%20%20%20%20var%20map_b8a17de24d4c4a7ba1df0c54aeda8c92%20%3D%20L.map%28%0A%20%20%20%20%20%20%20%20%20%20%20%20%20%20%20%20%22map_b8a17de24d4c4a7ba1df0c54aeda8c92%22%2C%0A%20%20%20%20%20%20%20%20%20%20%20%20%20%20%20%20%7B%0A%20%20%20%20%20%20%20%20%20%20%20%20%20%20%20%20%20%20%20%20center%3A%20%5B28.7041%2C%2077.1025%5D%2C%0A%20%20%20%20%20%20%20%20%20%20%20%20%20%20%20%20%20%20%20%20crs%3A%20L.CRS.EPSG3857%2C%0A%20%20%20%20%20%20%20%20%20%20%20%20%20%20%20%20%20%20%20%20zoom%3A%2010%2C%0A%20%20%20%20%20%20%20%20%20%20%20%20%20%20%20%20%20%20%20%20zoomControl%3A%20true%2C%0A%20%20%20%20%20%20%20%20%20%20%20%20%20%20%20%20%20%20%20%20preferCanvas%3A%20false%2C%0A%20%20%20%20%20%20%20%20%20%20%20%20%20%20%20%20%7D%0A%20%20%20%20%20%20%20%20%20%20%20%20%29%3B%0A%0A%20%20%20%20%20%20%20%20%20%20%20%20%0A%0A%20%20%20%20%20%20%20%20%0A%20%20%20%20%0A%20%20%20%20%20%20%20%20%20%20%20%20var%20tile_layer_2147640374c24cc4be6a75221c780562%20%3D%20L.tileLayer%28%0A%20%20%20%20%20%20%20%20%20%20%20%20%20%20%20%20%22https%3A//%7Bs%7D.tile.openstreetmap.org/%7Bz%7D/%7Bx%7D/%7By%7D.png%22%2C%0A%20%20%20%20%20%20%20%20%20%20%20%20%20%20%20%20%7B%22attribution%22%3A%20%22Data%20by%20%5Cu0026copy%3B%20%5Cu003ca%20href%3D%5C%22http%3A//openstreetmap.org%5C%22%5Cu003eOpenStreetMap%5Cu003c/a%5Cu003e%2C%20under%20%5Cu003ca%20href%3D%5C%22http%3A//www.openstreetmap.org/copyright%5C%22%5Cu003eODbL%5Cu003c/a%5Cu003e.%22%2C%20%22detectRetina%22%3A%20false%2C%20%22maxNativeZoom%22%3A%2018%2C%20%22maxZoom%22%3A%2018%2C%20%22minZoom%22%3A%200%2C%20%22noWrap%22%3A%20false%2C%20%22opacity%22%3A%201%2C%20%22subdomains%22%3A%20%22abc%22%2C%20%22tms%22%3A%20false%7D%0A%20%20%20%20%20%20%20%20%20%20%20%20%29.addTo%28map_b8a17de24d4c4a7ba1df0c54aeda8c92%29%3B%0A%20%20%20%20%20%20%20%20%0A%20%20%20%20%0A%20%20%20%20%20%20%20%20%20%20%20%20var%20heat_map_373434ed6cfa4a938f86a9e2ebed5577%20%3D%20L.heatLayer%28%0A%20%20%20%20%20%20%20%20%20%20%20%20%20%20%20%20%5B%5B45.95485055%2C%20-112.49659530324134%2C%205124.0%5D%2C%20%5B18.1475%2C%2041.538889%2C%202523.0%5D%2C%20%5B13.00540865%2C%2074.79460685941484%2C%202504.0%5D%2C%20%5B12.2655944%2C%2076.6465404%2C%202235.0%5D%2C%20%5B44.3730577%2C%20-71.6118577%2C%202144.0%5D%2C%20%5B12.9732913%2C%2077.6404672%2C%202083.0%5D%2C%20%5B27.64392675%2C%2083.05280519687284%2C%201926.0%5D%2C%20%5B12.9552572%2C%2077.6984163%2C%201846.0%5D%2C%20%5B12.887979%2C%2077.5970812%2C%201630.0%5D%2C%20%5B12.93577245%2C%2077.66676103753434%2C%201286.0%5D%2C%20%5B-6.2659285%2C%20106.7842561%2C%201258.0%5D%2C%20%5B14.5395813%2C%20121.070371%2C%201238.0%5D%2C%20%5B40.28745%2C%20-76.964526%2C%201218.0%5D%2C%20%5B13.0078418%2C%2074.7963208%2C%201181.0%5D%2C%20%5B12.9400321%2C%2077.6203272%2C%201156.0%5D%2C%20%5B12.9242381%2C%2077.6289059%2C%201065.0%5D%2C%20%5B12.9778793%2C%2077.6246697%2C%201023.0%5D%2C%20%5B12.93433385%2C%2077.63040639553275%2C%201017.0%5D%2C%20%5B17.9895618%2C%2079.5967057%2C%20918.0%5D%2C%20%5B15.8876779%2C%2075.7046777%2C%20906.0%5D%2C%20%5B13.0221416%2C%2077.6403368%2C%20853.0%5D%2C%20%5B50.7721586%2C%200.09772783661369303%2C%20812.0%5D%2C%20%5B12.996845%2C%2077.6130165%2C%20727.0%5D%2C%20%5B13.0027353%2C%2077.5703253%2C%20725.0%5D%2C%20%5B12.9417261%2C%2077.5755021%2C%20684.0%5D%2C%20%5B38.7385916%2C%20-77.5275749%2C%20675.0%5D%2C%20%5B13.0141618%2C%2077.6518539%2C%20664.0%5D%2C%20%5B33.5935063%2C%20-79.0345627%2C%20658.0%5D%2C%20%5B13.0346384%2C%2077.5681733%2C%20649.0%5D%2C%20%5B13.0093455%2C%2077.6377094%2C%20648.0%5D%2C%20%5B12.9882338%2C%2077.554883%2C%20591.0%5D%2C%20%5B51.373656%2C%20-0.1042366%2C%20569.0%5D%2C%20%5B40.7652844%2C%20-76.373824%2C%20529.0%5D%2C%20%5B12.9575547%2C%2077.5979099%2C%20511.0%5D%2C%20%5B18.5322493%2C%2073.8499601124847%2C%20499.0%5D%2C%20%5B12.9624669%2C%2077.6381958%2C%20496.0%5D%2C%20%5B31.89376%2C%20-88.066644%2C%20491.0%5D%2C%20%5B-8.9189606%2C%2033.4588989%2C%20446.0%5D%2C%20%5B12.945245%2C%2077.6269144%2C%20439.0%5D%2C%20%5B51.5182611%2C%20-0.0742531%2C%20370.0%5D%2C%20%5B51.5227651%2C%20-0.7354457%2C%20352.0%5D%2C%20%5B12.9417812%2C%2077.6160146%2C%20320.0%5D%2C%20%5B12.988721250000001%2C%2077.58516877601824%2C%20295.0%5D%2C%20%5B12.9678074%2C%2077.6568367%2C%20272.0%5D%2C%20%5B12.9489339%2C%2077.5968273%2C%20246.0%5D%2C%20%5B12.9089453%2C%2077.6239038%2C%20238.0%5D%2C%20%5B12.9271867%2C%2077.6266252%2C%20216.0%5D%2C%20%5B12.9081487%2C%2077.5553179%2C%20195.0%5D%2C%20%5B12.973936%2C%2077.6509982%2C%20194.0%5D%2C%20%5B12.9932739%2C%2077.5388099%2C%20191.0%5D%2C%20%5B13.2227%2C%2078.5541977%2C%20187.0%5D%2C%20%5B12.9931876%2C%2077.5753419%2C%20165.0%5D%2C%20%5B13.0258087%2C%2077.6305067%2C%20161.0%5D%2C%20%5B1.2847055%2C%20103.84320655721689%2C%20155.0%5D%2C%20%5B13.0358698%2C%2077.6323597%2C%20153.0%5D%2C%20%5B34.977289%2C%20-78.974578%2C%20151.0%5D%2C%20%5B55.6094481%2C%20-2.4366231%2C%20139.0%5D%2C%20%5B39.76880625%2C%20-86.15345077251979%2C%20126.0%5D%2C%20%5B13.02383%2C%2077.5529215%2C%20119.0%5D%2C%20%5B12.9414662%2C%2077.7470942%2C%20117.0%5D%2C%20%5B12.967576%2C%2077.7150877%2C%20113.0%5D%2C%20%5B13.0646907%2C%2077.49626895712257%2C%20107.0%5D%2C%20%5B12.773175%2C%2077.7831871%2C%20102.0%5D%2C%20%5B12.9243509%2C%2077.6255562%2C%20102.0%5D%2C%20%5B12.9846713%2C%2077.6790908%2C%20101.0%5D%2C%20%5B17.2510682%2C%2080.1651978%2C%2090.0%5D%2C%20%5B13.0227204%2C%2077.595715%2C%2080.0%5D%2C%20%5B22.8359967%2C%2069.3405962%2C%2080.0%5D%2C%20%5B23.1485712%2C%2081.6048241%2C%2076.0%5D%2C%20%5B15.8782951%2C%2074.5084834%2C%2063.0%5D%2C%20%5B13.0621474%2C%2077.58006135480495%2C%2053.0%5D%2C%20%5B13.2923988%2C%2077.7519261%2C%2048.0%5D%2C%20%5B13.0215466%2C%2077.7640586%2C%2044.0%5D%2C%20%5B11.9917786%2C%2076.5066292%2C%2038.0%5D%2C%20%5B12.945048%2C%2077.263004%2C%2034.0%5D%2C%20%5B12.957998%2C%2077.6037312%2C%2027.0%5D%2C%20%5B38.7801076%2C%20-121.5056438%2C%2027.0%5D%2C%20%5B13.194416%2C%2078.7011301%2C%2022.0%5D%2C%20%5B12.3872141%2C%2076.6669626%2C%2022.0%5D%2C%20%5B12.5607431%2C%2077.4258375%2C%2019.0%5D%2C%20%5B13.007516%2C%2077.695935%2C%2018.0%5D%2C%20%5B12.9055682%2C%2077.5455438%2C%2017.0%5D%2C%20%5B13.0217151%2C%2077.7660547%2C%2014.0%5D%2C%20%5B13.0382184%2C%2077.5919%2C%2014.0%5D%2C%20%5B12.9546741%2C%2077.5121724%2C%209.0%5D%2C%20%5B12.9176571%2C%2077.4837568%2C%209.0%5D%2C%20%5B13.0101286%2C%2077.5548006%2C%208.0%5D%2C%20%5B13.0011289%2C%2077.6325617%2C%206.0%5D%2C%20%5B13.1006982%2C%2077.5963454%2C%206.0%5D%2C%20%5B13.0784743%2C%2077.6068938%2C%203.0%5D%2C%20%5B12.9274413%2C%2077.5155224%2C%202.0%5D%2C%20%5B13.0329419%2C%2077.5273253%2C%201.0%5D%5D%2C%0A%20%20%20%20%20%20%20%20%20%20%20%20%20%20%20%20%7B%22blur%22%3A%2015%2C%20%22maxZoom%22%3A%2018%2C%20%22minOpacity%22%3A%200.5%2C%20%22radius%22%3A%2025%7D%0A%20%20%20%20%20%20%20%20%20%20%20%20%29.addTo%28map_b8a17de24d4c4a7ba1df0c54aeda8c92%29%3B%0A%20%20%20%20%20%20%20%20%0A%3C/script%3E onload=\"this.contentDocument.open();this.contentDocument.write(    decodeURIComponent(this.getAttribute('data-html')));this.contentDocument.close();\" allowfullscreen webkitallowfullscreen mozallowfullscreen></iframe></div></div>"
     },
     "metadata": {},
     "execution_count": 64
    }
   ],
   "source": [
    "basemap"
   ]
  },
  {
   "cell_type": "code",
   "execution_count": 65,
   "metadata": {},
   "outputs": [],
   "source": [
    "#challange 8\n",
    "#Analysing Customer Preferences\n",
    "#Analysing reviews of particular restaurants\n"
   ]
  },
  {
   "cell_type": "code",
   "execution_count": 66,
   "metadata": {},
   "outputs": [],
   "source": [
    "#will use world cloud for challange 8\n",
    "#world cloud - biggger the word means more likes"
   ]
  },
  {
   "cell_type": "code",
   "execution_count": 67,
   "metadata": {},
   "outputs": [],
   "source": [
    "from wordcloud import WordCloud, STOPWORDS"
   ]
  },
  {
   "cell_type": "code",
   "execution_count": 68,
   "metadata": {},
   "outputs": [
    {
     "output_type": "execute_result",
     "data": {
      "text/plain": [
       "                                                  url  \\\n",
       "3   https://www.zomato.com/bangalore/addhuri-udupi...   \n",
       "31  https://www.zomato.com/bangalore/foodiction-1-...   \n",
       "34  https://www.zomato.com/bangalore/faasos-banash...   \n",
       "36  https://www.zomato.com/bangalore/fast-and-fres...   \n",
       "39  https://www.zomato.com/bangalore/maruthi-davan...   \n",
       "\n",
       "                                              address  \\\n",
       "3   1st Floor, Annakuteera, 3rd Stage, Banashankar...   \n",
       "31  2/1, 7th Main, Dwarakangar, Hosakeregalli, Ban...   \n",
       "34  80, BDA Complex, 2nd Stage, Banashankari, Bang...   \n",
       "36  32, 7th Main Road, Dwaraka Nagar,Near PES Coll...   \n",
       "39  556/A, Water Tank Road, 3rd Stage, Banashankar...   \n",
       "\n",
       "                            name online_order book_table  rate  votes  \\\n",
       "3          Addhuri Udupi Bhojana           No         No   3.7     88   \n",
       "31                    Foodiction          Yes         No   2.8    506   \n",
       "34                        Faasos          Yes         No   4.2    415   \n",
       "36                Fast And Fresh          Yes         No   2.8     91   \n",
       "39  Maruthi Davangere Benne Dosa          Yes         No   4.0     17   \n",
       "\n",
       "             phone      location    rest_type  \\\n",
       "3   +91 9620009302  Banashankari  Quick Bites   \n",
       "31  +91 9916107070  Banashankari  Quick Bites   \n",
       "34  +91 7700020020  Banashankari  Quick Bites   \n",
       "36  +91 9742974232  Banashankari  Quick Bites   \n",
       "39  +91 9019563485  Banashankari  Quick Bites   \n",
       "\n",
       "                                           dish_liked  \\\n",
       "3                                         Masala Dosa   \n",
       "31  Burgers, Lassi, Chicken Grill, Naan, Momos, Ch...   \n",
       "34  Rolls, Veggie Wrap, Chocolate Fantasy, Rice Bo...   \n",
       "36                                                NaN   \n",
       "39                                                NaN   \n",
       "\n",
       "                                    cuisines  approx_cost(for two people)  \\\n",
       "3                 South Indian, North Indian                        300.0   \n",
       "31  North Indian, Fast Food, Chinese, Burger                        500.0   \n",
       "34          North Indian, Biryani, Fast Food                        500.0   \n",
       "36          North Indian, Chinese, Fast Food                        400.0   \n",
       "39                              South Indian                        150.0   \n",
       "\n",
       "                                         reviews_list  \\\n",
       "3   [('Rated 4.0', \"RATED\\n  Great food and proper...   \n",
       "31  [('Rated 1.0', \"RATED\\n  Worst restaurant ever...   \n",
       "34  [('Rated 3.0', 'RATED\\n  Not worth for the mon...   \n",
       "36  [('Rated 1.0', 'RATED\\n  Half baked rice in a ...   \n",
       "39  [('Rated 5.0', \"RATED\\n  This restaurant serve...   \n",
       "\n",
       "                                            menu_item listed_in(type)  \\\n",
       "3                                                  []          Buffet   \n",
       "31                                                 []        Delivery   \n",
       "34  ['Chole Kulcha Meal', 'Upvas Aloo Paratha With...        Delivery   \n",
       "36                                                 []        Delivery   \n",
       "39  ['Benne Dosa', 'Benne Masala Dosa', 'Benne Kal...        Delivery   \n",
       "\n",
       "   listed_in(city)                    top_types  \n",
       "3     Banashankari  Quick Bites + Casual Dining  \n",
       "31    Banashankari  Quick Bites + Casual Dining  \n",
       "34    Banashankari  Quick Bites + Casual Dining  \n",
       "36    Banashankari  Quick Bites + Casual Dining  \n",
       "39    Banashankari  Quick Bites + Casual Dining  "
      ],
      "text/html": "<div>\n<style scoped>\n    .dataframe tbody tr th:only-of-type {\n        vertical-align: middle;\n    }\n\n    .dataframe tbody tr th {\n        vertical-align: top;\n    }\n\n    .dataframe thead th {\n        text-align: right;\n    }\n</style>\n<table border=\"1\" class=\"dataframe\">\n  <thead>\n    <tr style=\"text-align: right;\">\n      <th></th>\n      <th>url</th>\n      <th>address</th>\n      <th>name</th>\n      <th>online_order</th>\n      <th>book_table</th>\n      <th>rate</th>\n      <th>votes</th>\n      <th>phone</th>\n      <th>location</th>\n      <th>rest_type</th>\n      <th>dish_liked</th>\n      <th>cuisines</th>\n      <th>approx_cost(for two people)</th>\n      <th>reviews_list</th>\n      <th>menu_item</th>\n      <th>listed_in(type)</th>\n      <th>listed_in(city)</th>\n      <th>top_types</th>\n    </tr>\n  </thead>\n  <tbody>\n    <tr>\n      <th>3</th>\n      <td>https://www.zomato.com/bangalore/addhuri-udupi...</td>\n      <td>1st Floor, Annakuteera, 3rd Stage, Banashankar...</td>\n      <td>Addhuri Udupi Bhojana</td>\n      <td>No</td>\n      <td>No</td>\n      <td>3.7</td>\n      <td>88</td>\n      <td>+91 9620009302</td>\n      <td>Banashankari</td>\n      <td>Quick Bites</td>\n      <td>Masala Dosa</td>\n      <td>South Indian, North Indian</td>\n      <td>300.0</td>\n      <td>[('Rated 4.0', \"RATED\\n  Great food and proper...</td>\n      <td>[]</td>\n      <td>Buffet</td>\n      <td>Banashankari</td>\n      <td>Quick Bites + Casual Dining</td>\n    </tr>\n    <tr>\n      <th>31</th>\n      <td>https://www.zomato.com/bangalore/foodiction-1-...</td>\n      <td>2/1, 7th Main, Dwarakangar, Hosakeregalli, Ban...</td>\n      <td>Foodiction</td>\n      <td>Yes</td>\n      <td>No</td>\n      <td>2.8</td>\n      <td>506</td>\n      <td>+91 9916107070</td>\n      <td>Banashankari</td>\n      <td>Quick Bites</td>\n      <td>Burgers, Lassi, Chicken Grill, Naan, Momos, Ch...</td>\n      <td>North Indian, Fast Food, Chinese, Burger</td>\n      <td>500.0</td>\n      <td>[('Rated 1.0', \"RATED\\n  Worst restaurant ever...</td>\n      <td>[]</td>\n      <td>Delivery</td>\n      <td>Banashankari</td>\n      <td>Quick Bites + Casual Dining</td>\n    </tr>\n    <tr>\n      <th>34</th>\n      <td>https://www.zomato.com/bangalore/faasos-banash...</td>\n      <td>80, BDA Complex, 2nd Stage, Banashankari, Bang...</td>\n      <td>Faasos</td>\n      <td>Yes</td>\n      <td>No</td>\n      <td>4.2</td>\n      <td>415</td>\n      <td>+91 7700020020</td>\n      <td>Banashankari</td>\n      <td>Quick Bites</td>\n      <td>Rolls, Veggie Wrap, Chocolate Fantasy, Rice Bo...</td>\n      <td>North Indian, Biryani, Fast Food</td>\n      <td>500.0</td>\n      <td>[('Rated 3.0', 'RATED\\n  Not worth for the mon...</td>\n      <td>['Chole Kulcha Meal', 'Upvas Aloo Paratha With...</td>\n      <td>Delivery</td>\n      <td>Banashankari</td>\n      <td>Quick Bites + Casual Dining</td>\n    </tr>\n    <tr>\n      <th>36</th>\n      <td>https://www.zomato.com/bangalore/fast-and-fres...</td>\n      <td>32, 7th Main Road, Dwaraka Nagar,Near PES Coll...</td>\n      <td>Fast And Fresh</td>\n      <td>Yes</td>\n      <td>No</td>\n      <td>2.8</td>\n      <td>91</td>\n      <td>+91 9742974232</td>\n      <td>Banashankari</td>\n      <td>Quick Bites</td>\n      <td>NaN</td>\n      <td>North Indian, Chinese, Fast Food</td>\n      <td>400.0</td>\n      <td>[('Rated 1.0', 'RATED\\n  Half baked rice in a ...</td>\n      <td>[]</td>\n      <td>Delivery</td>\n      <td>Banashankari</td>\n      <td>Quick Bites + Casual Dining</td>\n    </tr>\n    <tr>\n      <th>39</th>\n      <td>https://www.zomato.com/bangalore/maruthi-davan...</td>\n      <td>556/A, Water Tank Road, 3rd Stage, Banashankar...</td>\n      <td>Maruthi Davangere Benne Dosa</td>\n      <td>Yes</td>\n      <td>No</td>\n      <td>4.0</td>\n      <td>17</td>\n      <td>+91 9019563485</td>\n      <td>Banashankari</td>\n      <td>Quick Bites</td>\n      <td>NaN</td>\n      <td>South Indian</td>\n      <td>150.0</td>\n      <td>[('Rated 5.0', \"RATED\\n  This restaurant serve...</td>\n      <td>['Benne Dosa', 'Benne Masala Dosa', 'Benne Kal...</td>\n      <td>Delivery</td>\n      <td>Banashankari</td>\n      <td>Quick Bites + Casual Dining</td>\n    </tr>\n  </tbody>\n</table>\n</div>"
     },
     "metadata": {},
     "execution_count": 68
    }
   ],
   "source": [
    "data=df[df['rest_type']=='Quick Bites']\n",
    "data.head()"
   ]
  },
  {
   "cell_type": "code",
   "execution_count": 69,
   "metadata": {},
   "outputs": [],
   "source": [
    "dishes= ''\n",
    "dish_likedsplitted = data['dish_liked'].dropna().str.split()\n",
    "dish_likedsplitted=dish_likedsplitted.apply(lambda x:  [i.lower() for i in x])\n",
    "ld=[]\n",
    "dish_likedsplitted.apply(lambda x: [ld.append(i) for i in x])\n",
    "dishes=dishes+' '.join(ld)+' '\n",
    "dishes"
   ]
  },
  {
   "cell_type": "code",
   "execution_count": 70,
   "metadata": {},
   "outputs": [],
   "source": [
    "stopwords=set(STOPWORDS)"
   ]
  },
  {
   "cell_type": "code",
   "execution_count": 71,
   "metadata": {},
   "outputs": [],
   "source": [
    "wordCloud=WordCloud(stopwords=stopwords,width=1500,height=1500).generate(dishes)"
   ]
  },
  {
   "cell_type": "code",
   "execution_count": 72,
   "metadata": {},
   "outputs": [
    {
     "output_type": "execute_result",
     "data": {
      "text/plain": [
       "(-0.5, 1499.5, 1499.5, -0.5)"
      ]
     },
     "metadata": {},
     "execution_count": 72
    },
    {
     "output_type": "display_data",
     "data": {
      "text/plain": "<Figure size 432x288 with 1 Axes>",
      "image/svg+xml": "<?xml version=\"1.0\" encoding=\"utf-8\" standalone=\"no\"?>\r\n<!DOCTYPE svg PUBLIC \"-//W3C//DTD SVG 1.1//EN\"\r\n  \"http://www.w3.org/Graphics/SVG/1.1/DTD/svg11.dtd\">\r\n<!-- Created with matplotlib (https://matplotlib.org/) -->\r\n<svg height=\"231.84pt\" version=\"1.1\" viewBox=\"0 0 231.84 231.84\" width=\"231.84pt\" xmlns=\"http://www.w3.org/2000/svg\" xmlns:xlink=\"http://www.w3.org/1999/xlink\">\r\n <metadata>\r\n  <rdf:RDF xmlns:cc=\"http://creativecommons.org/ns#\" xmlns:dc=\"http://purl.org/dc/elements/1.1/\" xmlns:rdf=\"http://www.w3.org/1999/02/22-rdf-syntax-ns#\">\r\n   <cc:Work>\r\n    <dc:type rdf:resource=\"http://purl.org/dc/dcmitype/StillImage\"/>\r\n    <dc:date>2021-04-23T19:28:21.565229</dc:date>\r\n    <dc:format>image/svg+xml</dc:format>\r\n    <dc:creator>\r\n     <cc:Agent>\r\n      <dc:title>Matplotlib v3.3.3, https://matplotlib.org/</dc:title>\r\n     </cc:Agent>\r\n    </dc:creator>\r\n   </cc:Work>\r\n  </rdf:RDF>\r\n </metadata>\r\n <defs>\r\n  <style type=\"text/css\">*{stroke-linecap:butt;stroke-linejoin:round;}</style>\r\n </defs>\r\n <g id=\"figure_1\">\r\n  <g id=\"patch_1\">\r\n   <path d=\"M 0 231.84 \r\nL 231.84 231.84 \r\nL 231.84 0 \r\nL 0 0 \r\nz\r\n\" style=\"fill:none;\"/>\r\n  </g>\r\n  <g id=\"axes_1\">\r\n   <g clip-path=\"url(#pd69d369f78)\">\r\n    <image height=\"218\" id=\"imagef392256c6d\" transform=\"scale(1 -1)translate(0 -218)\" width=\"218\" x=\"7.2\" xlink:href=\"data:image/png;base64,\r\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\" y=\"-6.64\"/>\r\n   </g>\r\n  </g>\r\n </g>\r\n <defs>\r\n  <clipPath id=\"pd69d369f78\">\r\n   <rect height=\"217.44\" width=\"217.44\" x=\"7.2\" y=\"7.2\"/>\r\n  </clipPath>\r\n </defs>\r\n</svg>\r\n",
      "image/png": "[encoded data removed]"
     },
     "metadata": {
      "needs_background": "light"
     }
    }
   ],
   "source": [
    "plt.imshow(wordCloud)\n",
    "plt.axis('off')"
   ]
  },
  {
   "cell_type": "code",
   "execution_count": null,
   "metadata": {},
   "outputs": [],
   "source": []
  }
 ]
}